{
 "cells": [
  {
   "cell_type": "markdown",
   "metadata": {
    "id": "R0_JVd0BwbfP"
   },
   "source": [
    "# <center><b>Model Evaluation Techniques Assignment</b></center>"
   ]
  },
  {
   "cell_type": "markdown",
   "metadata": {
    "id": "YdVgr1-aZihs"
   },
   "source": [
    "---\n",
    "# **Table of Contents**\n",
    "---\n",
    "\n",
    "**1.** [**Introduction**](#Section1)<br>\n",
    "**2.** [**Problem Statement**](#Section2)<br>\n",
    "**3.** [**Installing & Importing Libraries**](#Section3)<br>\n",
    "  - **3.1** [**Installing Libraries**](#Section31)\n",
    "  - **3.2** [**Upgrading Libraries**](#Section32)\n",
    "  - **3.3** [**Importing Libraries**](#Section33)\n",
    "\n",
    "**4.** [**Data Acquisition & Description**](#Section4)<br>\n",
    "  - **4.1** [**Data Description**](#Section41)\n",
    "  - **4.2** [**Data Information**](#Section42)\n",
    "\n",
    "**5.** [**Data Pre-processing**](#Section5)<br>\n",
    "  - **5.1** [**Pre-Profiling Report**](#Section51)<br>\n",
    "\n",
    "**6.** [**Exploratory Data Analysis**](#Section6)<br>\n",
    "**7.** [**Data Post-Processing**](#Section7)<br>\n",
    "**8.** [**Model Development & Evaluation**](#Section8)<br>\n",
    "**9.** [**Conclusion**](#Section9)<br>"
   ]
  },
  {
   "cell_type": "markdown",
   "metadata": {
    "id": "LvwK1yHrZ0f5"
   },
   "source": [
    "---\n",
    "<a name = Section1></a>\n",
    "# **1. Introduction**\n",
    "---\n",
    "\n",
    "- **Evaluating** a machine learning model is as **important** as **building** it.\n",
    "\n",
    "- We are creating models to perform on **new, previously unseen data**.\n",
    "\n",
    "- Hence, a **thorough** and **versatile evaluation** is required to create a **robust** model.\n",
    "\n",
    "- When it comes to **classification models**, evaluation process gets somewhat tricky.\n",
    "\n",
    "- The various evaluation metrics that will be used are:\n",
    "\n",
    "  - **Accuracy:** It is a metric that calculates the number of correct predictions divided by the total number of predictions.\n",
    "\n",
    "  - **Precision:** It measures how good our model is when the prediction is positive.\n",
    "\n",
    "  - **Recall:** It measures how good our model is at correctly predicting positive classes.\n",
    "\n",
    "  - **F1-Score:** It is the weighted average of precision and recall.\n",
    "\n",
    "  - **ROC Curve:** It summarizes the performance of the model at different threshold values.\n",
    "\n",
    "  - **Precision Recall Curve:** It shows the tradeoff between precision and recall for different threshold. A high area under the curve represents both high recall and high precision.\n",
    "\n",
    "\n"
   ]
  },
  {
   "cell_type": "markdown",
   "metadata": {
    "id": "z-SF3dcRaV14"
   },
   "source": [
    "---\n",
    "<a name = Section2></a>\n",
    "# **2. Problem Statement**\n",
    "---\n",
    "\n",
    "- A condition in which the tissues in the **kidney** become **inflamed** and have problems filtering waste from the blood.\n",
    "\n",
    "- Nephritis may be caused by **infection**, **inflammatory** conditions, certain **genetic conditions**, and other diseases or conditions.\n",
    "\n",
    "- XYB Diagnostics are **renowned** for their **expertise** in diagnosing nephritis.\n",
    "\n",
    "<center><img src=\"https://us.123rf.com/450wm/alkov/alkov1808/alkov180800012/112010269-illustration-of-the-accute-pyelonephritis-with-the-pus-inside-the-kidney-and-severe-inflammation-nor.jpg?ver=6\" width=30%></center>\n",
    "\n",
    "- They want to go a step ahead and **automate** the process of **detecting nephritis** depending on various criteria.\n",
    "\n",
    "- For this automation, they have hired a data scientist. Let's say it is you.\n",
    "\n",
    "- You are provided with a **historical data of patients** who were suffered from nephritis and some patients who showed similar symptoms to nephritis.\n",
    "\n",
    "- Your task is to **create a model** based on this data so that it can be used in real time to **determine** if a patient is **suffering from nephritis**."
   ]
  },
  {
   "cell_type": "markdown",
   "metadata": {
    "id": "k5T9XBDAaikg"
   },
   "source": [
    "---\n",
    "<a name = Section3></a>\n",
    "# **3. Installing & Importing Libraries**\n",
    "---"
   ]
  },
  {
   "cell_type": "markdown",
   "metadata": {
    "id": "drocKDJ2amBg"
   },
   "source": [
    "<a name = Section31></a>\n",
    "### **3.1 Installing Libraries**"
   ]
  },
  {
   "cell_type": "code",
   "execution_count": null,
   "metadata": {
    "id": "OnkW7DSeZRWB"
   },
   "outputs": [],
   "source": [
    "# !pip install -q datascience                                         # Package that is required by pandas profiling\n",
    "# !pip install -q ydata-profiling                                     # Library to generate basic statistics about data\n",
    "# !pip install -q yellowbrick                                         # Toolbox for Measuring Machine Performance"
   ]
  },
  {
   "cell_type": "markdown",
   "metadata": {
    "id": "3QmMddCSaozh"
   },
   "source": [
    "<a name = Section32></a>\n",
    "### **3.2 Upgrading Libraries**\n",
    "\n",
    "- **After upgrading** the libraries, you need to **restart the runtime** to make the libraries in sync.\n",
    "\n",
    "- Make sure not to execute the cell above (3.1) and below (3.2) again after restarting the runtime."
   ]
  },
  {
   "cell_type": "code",
   "execution_count": null,
   "metadata": {
    "id": "EEv5mic6aop0"
   },
   "outputs": [],
   "source": [
    "# !pip install -q --upgrade ydata-profiling\n",
    "# !pip install -q --upgrade yellowbrick"
   ]
  },
  {
   "cell_type": "markdown",
   "metadata": {
    "id": "2Kfl3PunatnY"
   },
   "source": [
    "<a name = Section33></a>\n",
    "### **3.3 Importing Libraries**"
   ]
  },
  {
   "cell_type": "code",
   "execution_count": 1,
   "metadata": {
    "id": "bl9dW2NRaom8"
   },
   "outputs": [],
   "source": [
    "#-------------------------------------------------------------------------------------------------------------------------------\n",
    "import pandas as pd                                                 # Importing for panel data analysis\n",
    "from ydata_profiling import ProfileReport                           # Import Ydata Profiling (To generate Univariate Analysis)\n",
    "pd.set_option('display.max_columns', None)                          # Unfolding hidden features if the cardinality is high\n",
    "pd.set_option('display.max_colwidth', None)                         # Unfolding the max feature width for better clearity\n",
    "pd.set_option('display.max_rows', None)                             # Unfolding hidden data points if the cardinality is high\n",
    "pd.set_option('mode.chained_assignment', None)                      # Removing restriction over chained assignments operations\n",
    "pd.set_option('display.float_format', lambda x: '%.2f' % x)         # To suppress scientific notation over exponential values\n",
    "#-------------------------------------------------------------------------------------------------------------------------------\n",
    "import numpy as np                                                  # Importing package numpys (For Numerical Python)\n",
    "#-------------------------------------------------------------------------------------------------------------------------------\n",
    "import matplotlib.pyplot as plt                                     # Importing pyplot interface using matplotlib\n",
    "import seaborn as sns                                               # Importin seaborm library for interactive visualization\n",
    "%matplotlib inline\n",
    "#-------------------------------------------------------------------------------------------------------------------------------\n",
    "from sklearn.model_selection import train_test_split                # To split the data into train and test datasets\n",
    "from sklearn.linear_model import LogisticRegression                 # To instantiate a Logistic Regression Model\n",
    "from sklearn.metrics import accuracy_score                          # To calculate the accuracy of a classifier\n",
    "from sklearn.metrics import precision_score                         # To calculate the precision of a classifier\n",
    "from sklearn.metrics import recall_score                            # To calculate the recall of a classifier\n",
    "from sklearn.metrics import f1_score                                # To calculate the f1-score of a classifier\n",
    "from sklearn.metrics import precision_recall_curve                  # To plot the precision-recall curve of a classifier\n",
    "#-------------------------------------------------------------------------------------------------------------------------------\n",
    "import warnings                                                     # Importing warning to disable runtime warnings\n",
    "warnings.filterwarnings(\"ignore\")                                   # Warnings will appear only once"
   ]
  },
  {
   "cell_type": "markdown",
   "metadata": {
    "id": "17HjjOUVa2BR"
   },
   "source": [
    "---\n",
    "<a name = Section4></a>\n",
    "# **4. Data Acquisition & Description**\n",
    "---\n",
    "\n",
    "- The data was created by a **medical expert** as a data set to **help build a system** which will perform the presumptive **diagnosis of nephritis**.\n",
    "\n",
    "</br>\n",
    "\n",
    "| Records | Features | Dataset Size |\n",
    "| :-- | :-- | :-- |\n",
    "| 120 | 8 | 4 KB|\n",
    "\n",
    "</br>\n",
    "\n",
    "| Id | Features | Description |\n",
    "| :-- | :-- | :-- |\n",
    "| 01 | **temperature** | Temperature of patient |\n",
    "| 02 | **nausea** | Occurrence of nausea |\n",
    "| 03 | **lumbar_pain** | Muscle strain is often the cause of back pain from heavy lifting or vigorous exercise |\n",
    "| 04 | **urine_pushing** | Urine pushing (continuous need for urination) |\n",
    "| 05 | **micturition_pain** | Pain while urinating |\n",
    "| 06 | **burning** | Burning of urethra, itch, swelling of urethra outlet |\n",
    "| 07 | **inflamation** | Inflammation of urinary bladder |\n",
    "| 08 | **nephritis** | Nephritis of renal pelvis origin |"
   ]
  },
  {
   "cell_type": "code",
   "execution_count": 2,
   "metadata": {
    "colab": {
     "base_uri": "https://localhost:8080/",
     "height": 224
    },
    "executionInfo": {
     "elapsed": 533,
     "status": "ok",
     "timestamp": 1626676130320,
     "user": {
      "displayName": "Hiren Rupchandani",
      "photoUrl": "https://lh3.googleusercontent.com/a-/AOh14GhgU4n1VRWoxNACyzwiLFFnL3xL6qH1xJchHFekUbI=s64",
      "userId": "16888644812809569435"
     },
     "user_tz": -330
    },
    "id": "cCg5kJuvaokI",
    "outputId": "ed8f2ccc-dc8e-4571-d91f-778c905e5951"
   },
   "outputs": [
    {
     "name": "stdout",
     "output_type": "stream",
     "text": [
      "Data Shape: (120, 8)\n"
     ]
    },
    {
     "data": {
      "text/html": [
       "<div>\n",
       "<style scoped>\n",
       "    .dataframe tbody tr th:only-of-type {\n",
       "        vertical-align: middle;\n",
       "    }\n",
       "\n",
       "    .dataframe tbody tr th {\n",
       "        vertical-align: top;\n",
       "    }\n",
       "\n",
       "    .dataframe thead th {\n",
       "        text-align: right;\n",
       "    }\n",
       "</style>\n",
       "<table border=\"1\" class=\"dataframe\">\n",
       "  <thead>\n",
       "    <tr style=\"text-align: right;\">\n",
       "      <th></th>\n",
       "      <th>temperature</th>\n",
       "      <th>nausea</th>\n",
       "      <th>lumbar_pain</th>\n",
       "      <th>urine_pushing</th>\n",
       "      <th>micturition_pain</th>\n",
       "      <th>burning</th>\n",
       "      <th>inflammation</th>\n",
       "      <th>nephritis</th>\n",
       "    </tr>\n",
       "  </thead>\n",
       "  <tbody>\n",
       "    <tr>\n",
       "      <th>0</th>\n",
       "      <td>35.50</td>\n",
       "      <td>no</td>\n",
       "      <td>yes</td>\n",
       "      <td>no</td>\n",
       "      <td>no</td>\n",
       "      <td>no</td>\n",
       "      <td>no</td>\n",
       "      <td>no</td>\n",
       "    </tr>\n",
       "    <tr>\n",
       "      <th>1</th>\n",
       "      <td>35.90</td>\n",
       "      <td>no</td>\n",
       "      <td>no</td>\n",
       "      <td>yes</td>\n",
       "      <td>yes</td>\n",
       "      <td>yes</td>\n",
       "      <td>yes</td>\n",
       "      <td>no</td>\n",
       "    </tr>\n",
       "    <tr>\n",
       "      <th>2</th>\n",
       "      <td>35.90</td>\n",
       "      <td>no</td>\n",
       "      <td>yes</td>\n",
       "      <td>no</td>\n",
       "      <td>no</td>\n",
       "      <td>no</td>\n",
       "      <td>no</td>\n",
       "      <td>no</td>\n",
       "    </tr>\n",
       "    <tr>\n",
       "      <th>3</th>\n",
       "      <td>36.00</td>\n",
       "      <td>no</td>\n",
       "      <td>no</td>\n",
       "      <td>yes</td>\n",
       "      <td>yes</td>\n",
       "      <td>yes</td>\n",
       "      <td>yes</td>\n",
       "      <td>no</td>\n",
       "    </tr>\n",
       "    <tr>\n",
       "      <th>4</th>\n",
       "      <td>36.00</td>\n",
       "      <td>no</td>\n",
       "      <td>yes</td>\n",
       "      <td>no</td>\n",
       "      <td>no</td>\n",
       "      <td>no</td>\n",
       "      <td>no</td>\n",
       "      <td>no</td>\n",
       "    </tr>\n",
       "  </tbody>\n",
       "</table>\n",
       "</div>"
      ],
      "text/plain": [
       "   temperature nausea lumbar_pain urine_pushing micturition_pain burning   \\\n",
       "0        35.50     no         yes            no               no       no   \n",
       "1        35.90     no          no           yes              yes      yes   \n",
       "2        35.90     no         yes            no               no       no   \n",
       "3        36.00     no          no           yes              yes      yes   \n",
       "4        36.00     no         yes            no               no       no   \n",
       "\n",
       "  inflammation nephritis   \n",
       "0           no         no  \n",
       "1          yes         no  \n",
       "2           no         no  \n",
       "3          yes         no  \n",
       "4           no         no  "
      ]
     },
     "execution_count": 2,
     "metadata": {},
     "output_type": "execute_result"
    }
   ],
   "source": [
    "data = pd.read_csv(filepath_or_buffer='diagnosis.csv', delimiter='\\t')\n",
    "print(f\"Data Shape: {data.shape}\")\n",
    "data.head()"
   ]
  },
  {
   "cell_type": "markdown",
   "metadata": {
    "id": "jTHzKhlGbZN5"
   },
   "source": [
    "<a name = Section41></a>\n",
    "### **4.1 Data Description**\n",
    "\n",
    "- In this section we will get **information about the data** and see some observations."
   ]
  },
  {
   "cell_type": "code",
   "execution_count": 7,
   "metadata": {
    "colab": {
     "base_uri": "https://localhost:8080/",
     "height": 299
    },
    "executionInfo": {
     "elapsed": 10,
     "status": "ok",
     "timestamp": 1626676130321,
     "user": {
      "displayName": "Hiren Rupchandani",
      "photoUrl": "https://lh3.googleusercontent.com/a-/AOh14GhgU4n1VRWoxNACyzwiLFFnL3xL6qH1xJchHFekUbI=s64",
      "userId": "16888644812809569435"
     },
     "user_tz": -330
    },
    "id": "5WOdH51iaobL",
    "outputId": "f3e52c61-9247-41a8-84f7-ce7f6cb68eba"
   },
   "outputs": [
    {
     "data": {
      "text/html": [
       "<div>\n",
       "<style scoped>\n",
       "    .dataframe tbody tr th:only-of-type {\n",
       "        vertical-align: middle;\n",
       "    }\n",
       "\n",
       "    .dataframe tbody tr th {\n",
       "        vertical-align: top;\n",
       "    }\n",
       "\n",
       "    .dataframe thead th {\n",
       "        text-align: right;\n",
       "    }\n",
       "</style>\n",
       "<table border=\"1\" class=\"dataframe\">\n",
       "  <thead>\n",
       "    <tr style=\"text-align: right;\">\n",
       "      <th></th>\n",
       "      <th>temperature</th>\n",
       "    </tr>\n",
       "  </thead>\n",
       "  <tbody>\n",
       "    <tr>\n",
       "      <th>count</th>\n",
       "      <td>120.00</td>\n",
       "    </tr>\n",
       "    <tr>\n",
       "      <th>mean</th>\n",
       "      <td>38.72</td>\n",
       "    </tr>\n",
       "    <tr>\n",
       "      <th>std</th>\n",
       "      <td>1.82</td>\n",
       "    </tr>\n",
       "    <tr>\n",
       "      <th>min</th>\n",
       "      <td>35.50</td>\n",
       "    </tr>\n",
       "    <tr>\n",
       "      <th>25%</th>\n",
       "      <td>37.10</td>\n",
       "    </tr>\n",
       "    <tr>\n",
       "      <th>50%</th>\n",
       "      <td>37.95</td>\n",
       "    </tr>\n",
       "    <tr>\n",
       "      <th>75%</th>\n",
       "      <td>40.60</td>\n",
       "    </tr>\n",
       "    <tr>\n",
       "      <th>max</th>\n",
       "      <td>41.50</td>\n",
       "    </tr>\n",
       "  </tbody>\n",
       "</table>\n",
       "</div>"
      ],
      "text/plain": [
       "       temperature\n",
       "count       120.00\n",
       "mean         38.72\n",
       "std           1.82\n",
       "min          35.50\n",
       "25%          37.10\n",
       "50%          37.95\n",
       "75%          40.60\n",
       "max          41.50"
      ]
     },
     "execution_count": 7,
     "metadata": {},
     "output_type": "execute_result"
    }
   ],
   "source": [
    "data.describe()"
   ]
  },
  {
   "cell_type": "markdown",
   "metadata": {
    "id": "Rtvu33c3beIA"
   },
   "source": [
    "**Observations:**\n",
    "\n",
    "- Body temperature ranges from **35.50°C** upto **41.50°C** averaging around **38.72°C**.\n",
    "\n",
    "- **Majority** patients have temperatures below **40°C**.\n",
    "\n",
    "- The average **normal body temperature** is generally accepted as **37°C**.\n",
    "\n",
    "- A temperature over **38°C** most often means you have a **fever** caused by an **infection** or **illness**."
   ]
  },
  {
   "cell_type": "markdown",
   "metadata": {
    "id": "S5mvRKbpbjSq"
   },
   "source": [
    "<a name = Section42></a>\n",
    "### **4.2 Data Information**\n",
    "\n",
    "- In this section we will see the **information about the types of features**."
   ]
  },
  {
   "cell_type": "code",
   "execution_count": 8,
   "metadata": {
    "colab": {
     "base_uri": "https://localhost:8080/"
    },
    "executionInfo": {
     "elapsed": 9,
     "status": "ok",
     "timestamp": 1626676130321,
     "user": {
      "displayName": "Hiren Rupchandani",
      "photoUrl": "https://lh3.googleusercontent.com/a-/AOh14GhgU4n1VRWoxNACyzwiLFFnL3xL6qH1xJchHFekUbI=s64",
      "userId": "16888644812809569435"
     },
     "user_tz": -330
    },
    "id": "qqCFCElYbaZ7",
    "outputId": "1a9eadad-2157-4adf-c02e-a5e1a82d7aea"
   },
   "outputs": [
    {
     "name": "stdout",
     "output_type": "stream",
     "text": [
      "<class 'pandas.core.frame.DataFrame'>\n",
      "RangeIndex: 120 entries, 0 to 119\n",
      "Data columns (total 8 columns):\n",
      " #   Column            Non-Null Count  Dtype  \n",
      "---  ------            --------------  -----  \n",
      " 0   temperature       120 non-null    float64\n",
      " 1   nausea            120 non-null    object \n",
      " 2   lumbar_pain       120 non-null    object \n",
      " 3   urine_pushing     120 non-null    object \n",
      " 4   micturition_pain  120 non-null    object \n",
      " 5   burning           120 non-null    object \n",
      " 6   inflammation      120 non-null    object \n",
      " 7   nephritis         120 non-null    object \n",
      "dtypes: float64(1), object(7)\n",
      "memory usage: 7.6+ KB\n"
     ]
    }
   ],
   "source": [
    "data.info()"
   ]
  },
  {
   "cell_type": "markdown",
   "metadata": {
    "id": "foPoveMhbkew"
   },
   "source": [
    "**Observations:**\n",
    "\n",
    "- There are **120 rows** with **8 features**.\n",
    "\n",
    "- There are **7 object** datatype features and **one** **float64** datatype which is temperature.\n",
    "\n",
    "- We have to convert some of the features into **appropriate** data types."
   ]
  },
  {
   "cell_type": "markdown",
   "metadata": {
    "id": "RIhLwaKObmSw"
   },
   "source": [
    "<a name = Section5></a>\n",
    "\n",
    "---\n",
    "# **5. Data Pre-Processing**\n",
    "---"
   ]
  },
  {
   "cell_type": "markdown",
   "metadata": {
    "id": "qqPyw_4ubnuh"
   },
   "source": [
    "<a name = Section51></a>\n",
    "### **5.1 Pre Profiling Report**\n",
    "\n",
    "- For **quick analysis** pandas profiling is very handy.\n",
    "\n",
    "- Generates profile reports from a pandas DataFrame.\n",
    "\n",
    "- For each column **statistics** are presented in an interactive HTML report."
   ]
  },
  {
   "cell_type": "code",
   "execution_count": 9,
   "metadata": {
    "id": "ZxzDuAo5baXU"
   },
   "outputs": [
    {
     "data": {
      "application/vnd.jupyter.widget-view+json": {
       "model_id": "7063b1f2b8a14b188ee424829c75fbf4",
       "version_major": 2,
       "version_minor": 0
      },
      "text/plain": [
       "Summarize dataset:   0%|          | 0/5 [00:00<?, ?it/s]"
      ]
     },
     "metadata": {},
     "output_type": "display_data"
    },
    {
     "data": {
      "application/vnd.jupyter.widget-view+json": {
       "model_id": "46a0771db83d4d579c4f55dc3e91a4e8",
       "version_major": 2,
       "version_minor": 0
      },
      "text/plain": [
       "Generate report structure:   0%|          | 0/1 [00:00<?, ?it/s]"
      ]
     },
     "metadata": {},
     "output_type": "display_data"
    },
    {
     "data": {
      "application/vnd.jupyter.widget-view+json": {
       "model_id": "c01ab63457cf43f2aed5c8966bc089b3",
       "version_major": 2,
       "version_minor": 0
      },
      "text/plain": [
       "Render HTML:   0%|          | 0/1 [00:00<?, ?it/s]"
      ]
     },
     "metadata": {},
     "output_type": "display_data"
    },
    {
     "data": {
      "application/vnd.jupyter.widget-view+json": {
       "model_id": "2cb3e6e3255a4eb493a440c79296e1d2",
       "version_major": 2,
       "version_minor": 0
      },
      "text/plain": [
       "Export report to file:   0%|          | 0/1 [00:00<?, ?it/s]"
      ]
     },
     "metadata": {},
     "output_type": "display_data"
    },
    {
     "name": "stdout",
     "output_type": "stream",
     "text": [
      "Accomplished!\n"
     ]
    }
   ],
   "source": [
    "profile = ProfileReport(df=data)\n",
    "profile.to_file(output_file='Pre_Profiling_Report_on_diagnosis_dataset.html')\n",
    "print('Accomplished!')"
   ]
  },
  {
   "cell_type": "markdown",
   "metadata": {
    "id": "ylhgM1C4br1B"
   },
   "source": [
    "**Observations:**\n",
    "\n",
    "- Dataset has **19 (15.8%) duplicate rows**.\n",
    "\n",
    "- There is a slight class **imbalance** present (**50 True:70 False**) but it can be ignored.\n",
    "\n",
    "- There are no missing values present.\n",
    "\n",
    "- **nephritis** is **correlated** to **temperature**, **lumbar_pain** and **nausea**.\n",
    "\n"
   ]
  },
  {
   "cell_type": "markdown",
   "metadata": {
    "id": "9LDQHMs4bw-H"
   },
   "source": [
    "**Performing Operations**"
   ]
  },
  {
   "cell_type": "markdown",
   "metadata": {
    "id": "MsOfbgWbJoOR"
   },
   "source": [
    "\n",
    "---\n",
    "**<h4>Question 1:** Create a function that performs the following cleaning operations on the dataset:</h4>\n",
    "\n",
    "---\n",
    "\n",
    "- Removes the whitespaces from column names.\n",
    "\n",
    "- Removes the duplicate rows from the dataset.\n",
    "\n",
    "- Maps 1 for 'yes' and 0 for 'no' for all categorical variables.\n",
    "\n",
    "<details>\n",
    "\n",
    "**<summary>Hint:</summary>**\n",
    "\n",
    "- You can use `.str.replace(' ', '')` to remove whitespaces from the column names.\n",
    "\n",
    "- You can use `.drop_duplicates` method to remove the duplicates.\n",
    "\n",
    "- You can use `.map` method for the required changes.\n",
    "\n",
    "</details>"
   ]
  },
  {
   "cell_type": "code",
   "execution_count": 10,
   "metadata": {
    "id": "CgdW9cXkJAJh"
   },
   "outputs": [],
   "source": [
    "def clean_data(data=None):\n",
    "  # Removing white spaces from feature names\n",
    "  data.columns = data.columns.str.replace(' ', '')\n",
    "\n",
    "  # Dropping all the duplicate rows\n",
    "  data.drop_duplicates(inplace=True)\n",
    "\n",
    "  # Mapping 1 for 'yes' and 0 for 'no' for all categorical features\n",
    "  for col in data.drop('temperature', axis=1).columns:\n",
    "    data[col] = data[col].map(lambda x: 1 if (x=='yes') else 0)"
   ]
  },
  {
   "cell_type": "code",
   "execution_count": 11,
   "metadata": {
    "colab": {
     "base_uri": "https://localhost:8080/",
     "height": 205
    },
    "executionInfo": {
     "elapsed": 7,
     "status": "ok",
     "timestamp": 1626676130322,
     "user": {
      "displayName": "Hiren Rupchandani",
      "photoUrl": "https://lh3.googleusercontent.com/a-/AOh14GhgU4n1VRWoxNACyzwiLFFnL3xL6qH1xJchHFekUbI=s64",
      "userId": "16888644812809569435"
     },
     "user_tz": -330
    },
    "id": "WSYA-9V1J5m-",
    "outputId": "996784ed-ac14-4400-b1fb-749f8a4f2e8a"
   },
   "outputs": [
    {
     "data": {
      "text/html": [
       "<div>\n",
       "<style scoped>\n",
       "    .dataframe tbody tr th:only-of-type {\n",
       "        vertical-align: middle;\n",
       "    }\n",
       "\n",
       "    .dataframe tbody tr th {\n",
       "        vertical-align: top;\n",
       "    }\n",
       "\n",
       "    .dataframe thead th {\n",
       "        text-align: right;\n",
       "    }\n",
       "</style>\n",
       "<table border=\"1\" class=\"dataframe\">\n",
       "  <thead>\n",
       "    <tr style=\"text-align: right;\">\n",
       "      <th></th>\n",
       "      <th>temperature</th>\n",
       "      <th>nausea</th>\n",
       "      <th>lumbar_pain</th>\n",
       "      <th>urine_pushing</th>\n",
       "      <th>micturition_pain</th>\n",
       "      <th>burning</th>\n",
       "      <th>inflammation</th>\n",
       "      <th>nephritis</th>\n",
       "    </tr>\n",
       "  </thead>\n",
       "  <tbody>\n",
       "    <tr>\n",
       "      <th>0</th>\n",
       "      <td>35.50</td>\n",
       "      <td>0</td>\n",
       "      <td>1</td>\n",
       "      <td>0</td>\n",
       "      <td>0</td>\n",
       "      <td>0</td>\n",
       "      <td>0</td>\n",
       "      <td>0</td>\n",
       "    </tr>\n",
       "    <tr>\n",
       "      <th>1</th>\n",
       "      <td>35.90</td>\n",
       "      <td>0</td>\n",
       "      <td>0</td>\n",
       "      <td>1</td>\n",
       "      <td>1</td>\n",
       "      <td>1</td>\n",
       "      <td>1</td>\n",
       "      <td>0</td>\n",
       "    </tr>\n",
       "    <tr>\n",
       "      <th>2</th>\n",
       "      <td>35.90</td>\n",
       "      <td>0</td>\n",
       "      <td>1</td>\n",
       "      <td>0</td>\n",
       "      <td>0</td>\n",
       "      <td>0</td>\n",
       "      <td>0</td>\n",
       "      <td>0</td>\n",
       "    </tr>\n",
       "    <tr>\n",
       "      <th>3</th>\n",
       "      <td>36.00</td>\n",
       "      <td>0</td>\n",
       "      <td>0</td>\n",
       "      <td>1</td>\n",
       "      <td>1</td>\n",
       "      <td>1</td>\n",
       "      <td>1</td>\n",
       "      <td>0</td>\n",
       "    </tr>\n",
       "    <tr>\n",
       "      <th>4</th>\n",
       "      <td>36.00</td>\n",
       "      <td>0</td>\n",
       "      <td>1</td>\n",
       "      <td>0</td>\n",
       "      <td>0</td>\n",
       "      <td>0</td>\n",
       "      <td>0</td>\n",
       "      <td>0</td>\n",
       "    </tr>\n",
       "  </tbody>\n",
       "</table>\n",
       "</div>"
      ],
      "text/plain": [
       "   temperature  nausea  lumbar_pain  urine_pushing  micturition_pain  burning  \\\n",
       "0        35.50       0            1              0                 0        0   \n",
       "1        35.90       0            0              1                 1        1   \n",
       "2        35.90       0            1              0                 0        0   \n",
       "3        36.00       0            0              1                 1        1   \n",
       "4        36.00       0            1              0                 0        0   \n",
       "\n",
       "   inflammation  nephritis  \n",
       "0             0          0  \n",
       "1             1          0  \n",
       "2             0          0  \n",
       "3             1          0  \n",
       "4             0          0  "
      ]
     },
     "execution_count": 11,
     "metadata": {},
     "output_type": "execute_result"
    }
   ],
   "source": [
    "clean_data(data=data)\n",
    "data.head()"
   ]
  },
  {
   "cell_type": "code",
   "execution_count": 12,
   "metadata": {},
   "outputs": [
    {
     "data": {
      "text/html": [
       "<div>\n",
       "<style scoped>\n",
       "    .dataframe tbody tr th:only-of-type {\n",
       "        vertical-align: middle;\n",
       "    }\n",
       "\n",
       "    .dataframe tbody tr th {\n",
       "        vertical-align: top;\n",
       "    }\n",
       "\n",
       "    .dataframe thead th {\n",
       "        text-align: right;\n",
       "    }\n",
       "</style>\n",
       "<table border=\"1\" class=\"dataframe\">\n",
       "  <thead>\n",
       "    <tr style=\"text-align: right;\">\n",
       "      <th></th>\n",
       "      <th>temperature</th>\n",
       "      <th>nausea</th>\n",
       "      <th>lumbar_pain</th>\n",
       "      <th>urine_pushing</th>\n",
       "      <th>micturition_pain</th>\n",
       "      <th>burning</th>\n",
       "      <th>inflammation</th>\n",
       "      <th>nephritis</th>\n",
       "    </tr>\n",
       "  </thead>\n",
       "  <tbody>\n",
       "    <tr>\n",
       "      <th>count</th>\n",
       "      <td>99.00</td>\n",
       "      <td>99.00</td>\n",
       "      <td>99.00</td>\n",
       "      <td>99.00</td>\n",
       "      <td>99.00</td>\n",
       "      <td>99.00</td>\n",
       "      <td>99.00</td>\n",
       "      <td>99.00</td>\n",
       "    </tr>\n",
       "    <tr>\n",
       "      <th>mean</th>\n",
       "      <td>38.86</td>\n",
       "      <td>0.25</td>\n",
       "      <td>0.61</td>\n",
       "      <td>0.66</td>\n",
       "      <td>0.46</td>\n",
       "      <td>0.42</td>\n",
       "      <td>0.46</td>\n",
       "      <td>0.44</td>\n",
       "    </tr>\n",
       "    <tr>\n",
       "      <th>std</th>\n",
       "      <td>1.83</td>\n",
       "      <td>0.44</td>\n",
       "      <td>0.49</td>\n",
       "      <td>0.48</td>\n",
       "      <td>0.50</td>\n",
       "      <td>0.50</td>\n",
       "      <td>0.50</td>\n",
       "      <td>0.50</td>\n",
       "    </tr>\n",
       "    <tr>\n",
       "      <th>min</th>\n",
       "      <td>35.50</td>\n",
       "      <td>0.00</td>\n",
       "      <td>0.00</td>\n",
       "      <td>0.00</td>\n",
       "      <td>0.00</td>\n",
       "      <td>0.00</td>\n",
       "      <td>0.00</td>\n",
       "      <td>0.00</td>\n",
       "    </tr>\n",
       "    <tr>\n",
       "      <th>25%</th>\n",
       "      <td>37.25</td>\n",
       "      <td>0.00</td>\n",
       "      <td>0.00</td>\n",
       "      <td>0.00</td>\n",
       "      <td>0.00</td>\n",
       "      <td>0.00</td>\n",
       "      <td>0.00</td>\n",
       "      <td>0.00</td>\n",
       "    </tr>\n",
       "    <tr>\n",
       "      <th>50%</th>\n",
       "      <td>38.50</td>\n",
       "      <td>0.00</td>\n",
       "      <td>1.00</td>\n",
       "      <td>1.00</td>\n",
       "      <td>0.00</td>\n",
       "      <td>0.00</td>\n",
       "      <td>0.00</td>\n",
       "      <td>0.00</td>\n",
       "    </tr>\n",
       "    <tr>\n",
       "      <th>75%</th>\n",
       "      <td>40.70</td>\n",
       "      <td>0.50</td>\n",
       "      <td>1.00</td>\n",
       "      <td>1.00</td>\n",
       "      <td>1.00</td>\n",
       "      <td>1.00</td>\n",
       "      <td>1.00</td>\n",
       "      <td>1.00</td>\n",
       "    </tr>\n",
       "    <tr>\n",
       "      <th>max</th>\n",
       "      <td>41.50</td>\n",
       "      <td>1.00</td>\n",
       "      <td>1.00</td>\n",
       "      <td>1.00</td>\n",
       "      <td>1.00</td>\n",
       "      <td>1.00</td>\n",
       "      <td>1.00</td>\n",
       "      <td>1.00</td>\n",
       "    </tr>\n",
       "  </tbody>\n",
       "</table>\n",
       "</div>"
      ],
      "text/plain": [
       "       temperature  nausea  lumbar_pain  urine_pushing  micturition_pain  \\\n",
       "count        99.00   99.00        99.00          99.00             99.00   \n",
       "mean         38.86    0.25         0.61           0.66              0.46   \n",
       "std           1.83    0.44         0.49           0.48              0.50   \n",
       "min          35.50    0.00         0.00           0.00              0.00   \n",
       "25%          37.25    0.00         0.00           0.00              0.00   \n",
       "50%          38.50    0.00         1.00           1.00              0.00   \n",
       "75%          40.70    0.50         1.00           1.00              1.00   \n",
       "max          41.50    1.00         1.00           1.00              1.00   \n",
       "\n",
       "       burning  inflammation  nephritis  \n",
       "count    99.00         99.00      99.00  \n",
       "mean      0.42          0.46       0.44  \n",
       "std       0.50          0.50       0.50  \n",
       "min       0.00          0.00       0.00  \n",
       "25%       0.00          0.00       0.00  \n",
       "50%       0.00          0.00       0.00  \n",
       "75%       1.00          1.00       1.00  \n",
       "max       1.00          1.00       1.00  "
      ]
     },
     "execution_count": 12,
     "metadata": {},
     "output_type": "execute_result"
    }
   ],
   "source": [
    "data.describe()"
   ]
  },
  {
   "cell_type": "code",
   "execution_count": 13,
   "metadata": {},
   "outputs": [
    {
     "name": "stdout",
     "output_type": "stream",
     "text": [
      "<class 'pandas.core.frame.DataFrame'>\n",
      "Int64Index: 99 entries, 0 to 118\n",
      "Data columns (total 8 columns):\n",
      " #   Column            Non-Null Count  Dtype  \n",
      "---  ------            --------------  -----  \n",
      " 0   temperature       99 non-null     float64\n",
      " 1   nausea            99 non-null     int64  \n",
      " 2   lumbar_pain       99 non-null     int64  \n",
      " 3   urine_pushing     99 non-null     int64  \n",
      " 4   micturition_pain  99 non-null     int64  \n",
      " 5   burning           99 non-null     int64  \n",
      " 6   inflammation      99 non-null     int64  \n",
      " 7   nephritis         99 non-null     int64  \n",
      "dtypes: float64(1), int64(7)\n",
      "memory usage: 7.0 KB\n"
     ]
    }
   ],
   "source": [
    "data.info()"
   ]
  },
  {
   "cell_type": "markdown",
   "metadata": {
    "id": "8pjjM512K6-X"
   },
   "source": [
    "<a name = Section52></a>\n",
    "### **5.2 Post Profiling Report**\n",
    "\n",
    "- Since we only mapped some of the features and removed duplicate rows from the dataset, we won't apply profiling to the dataset again."
   ]
  },
  {
   "cell_type": "code",
   "execution_count": 14,
   "metadata": {},
   "outputs": [
    {
     "data": {
      "application/vnd.jupyter.widget-view+json": {
       "model_id": "beda20ed846445d691ba6b921aeeaed6",
       "version_major": 2,
       "version_minor": 0
      },
      "text/plain": [
       "Summarize dataset:   0%|          | 0/5 [00:00<?, ?it/s]"
      ]
     },
     "metadata": {},
     "output_type": "display_data"
    },
    {
     "data": {
      "application/vnd.jupyter.widget-view+json": {
       "model_id": "6922546109e249a9a3bf8a865f2b7eaa",
       "version_major": 2,
       "version_minor": 0
      },
      "text/plain": [
       "Generate report structure:   0%|          | 0/1 [00:00<?, ?it/s]"
      ]
     },
     "metadata": {},
     "output_type": "display_data"
    },
    {
     "data": {
      "application/vnd.jupyter.widget-view+json": {
       "model_id": "2240917f4e0a4e5fbb8a1ea186789a5d",
       "version_major": 2,
       "version_minor": 0
      },
      "text/plain": [
       "Render HTML:   0%|          | 0/1 [00:00<?, ?it/s]"
      ]
     },
     "metadata": {},
     "output_type": "display_data"
    },
    {
     "data": {
      "application/vnd.jupyter.widget-view+json": {
       "model_id": "c95deff6e0604e2a95dc66598e11d83f",
       "version_major": 2,
       "version_minor": 0
      },
      "text/plain": [
       "Export report to file:   0%|          | 0/1 [00:00<?, ?it/s]"
      ]
     },
     "metadata": {},
     "output_type": "display_data"
    },
    {
     "name": "stdout",
     "output_type": "stream",
     "text": [
      "Accomplished!\n"
     ]
    }
   ],
   "source": [
    "profile = ProfileReport(df=data)\n",
    "profile.to_file(output_file='Post_Profiling_Report_on_diagnosis_dataset.html')\n",
    "print('Accomplished!')"
   ]
  },
  {
   "cell_type": "markdown",
   "metadata": {
    "id": "ncoTDlnRb41I"
   },
   "source": [
    "<a name = Section6></a>\n",
    "\n",
    "---\n",
    "# **6. Exploratory Data Analysis**\n",
    "---"
   ]
  },
  {
   "cell_type": "markdown",
   "metadata": {
    "id": "hYNV2qhQKiRT"
   },
   "source": [
    "\n",
    "---\n",
    "**<h4>Question 2:** Create a function that checks patients experienced burning sensation and were diagnosed with nephritis.</h4>\n",
    "\n",
    "---\n",
    "\n",
    "<details>\n",
    "\n",
    "**<summary>Hint:</summary>**\n",
    "\n",
    "- Create a 15x7 inch figure\n",
    "\n",
    "- You can use `sns.counplot` method on burning feature and keep nephritis as hue.\n",
    "\n",
    "- Add cosmetics like grid and title\n",
    "\n",
    "- Keep the tick size as 12, label size as 14 and title size as 16.\n",
    "\n",
    "</details>"
   ]
  },
  {
   "cell_type": "code",
   "execution_count": 15,
   "metadata": {
    "id": "OhqKfF_uK0ie"
   },
   "outputs": [],
   "source": [
    "def burning(data=None):\n",
    "\n",
    "  # Create a 15x7 inch figure\n",
    "  fig = plt.figure(figsize=(15, 7))\n",
    "\n",
    "  # Create a countplot for burning and keep nephritis as hue\n",
    "  sns.countplot(data=data, y='burning', hue='nephritis')\n",
    "\n",
    "  # Add cosmetics\n",
    "  plt.xticks(fontsize=12)\n",
    "  plt.yticks(fontsize=12)\n",
    "  plt.ylabel(ylabel='Burning', fontsize=14)\n",
    "  plt.xlabel(xlabel='Count', fontsize=14)\n",
    "  plt.title(label='Burning in relation to nephritis', fontsize=16)\n",
    "  plt.grid(b=True)\n",
    "\n",
    "  # Display the plot\n",
    "  plt.show()"
   ]
  },
  {
   "cell_type": "code",
   "execution_count": 16,
   "metadata": {
    "colab": {
     "base_uri": "https://localhost:8080/",
     "height": 467
    },
    "executionInfo": {
     "elapsed": 750,
     "status": "ok",
     "timestamp": 1626676131066,
     "user": {
      "displayName": "Hiren Rupchandani",
      "photoUrl": "https://lh3.googleusercontent.com/a-/AOh14GhgU4n1VRWoxNACyzwiLFFnL3xL6qH1xJchHFekUbI=s64",
      "userId": "16888644812809569435"
     },
     "user_tz": -330
    },
    "id": "RJLZmnAgK02Y",
    "outputId": "1647ef13-41e8-44f9-b03d-fae40c332ca8"
   },
   "outputs": [
    {
     "data": {
      "image/png": "[encoded data removed]",
      "text/plain": [
       "<Figure size 1500x700 with 1 Axes>"
      ]
     },
     "metadata": {},
     "output_type": "display_data"
    }
   ],
   "source": [
    "burning(data=data)"
   ]
  },
  {
   "cell_type": "markdown",
   "metadata": {
    "id": "zghUQVw8bzmd"
   },
   "source": [
    "**Observations:**\n",
    "\n",
    "- Patients who **had burning** sensation had a higher chance of **suffering** from **nephritis**.\n",
    "\n",
    "- Meanwhile, **majority** patients **did not** have a **burning** sensation and a large **proportion** of those **weren't diagnosed** with nephritis."
   ]
  },
  {
   "cell_type": "markdown",
   "metadata": {
    "id": "zzJGUQHretA4"
   },
   "source": [
    "\n",
    "---\n",
    "**<h4>Question 3:** Create a function that checks relation between nausea and body temperature.</h4>\n",
    "\n",
    "---\n",
    "\n",
    "<details>\n",
    "\n",
    "**<summary>Hint:</summary>**\n",
    "\n",
    "- Create a 15x7 inch figure\n",
    "\n",
    "- You can use `sns.histplot` method on temperature feature keeping nausea as hue.\n",
    "\n",
    "- Add cosmetics like grid and title\n",
    "\n",
    "- Keep the tick size as 12, label size as 14 and title size as 16.\n",
    "\n",
    "</details>"
   ]
  },
  {
   "cell_type": "code",
   "execution_count": 17,
   "metadata": {
    "id": "QdqU4-7AfDTp"
   },
   "outputs": [],
   "source": [
    "def nausea_n_temp(data=None):\n",
    "\n",
    "  # Create a 15x7 inch figure\n",
    "  fig = plt.figure(figsize=(15, 7))\n",
    "\n",
    "  # Create a histplot for temperature and keep nausea as hue\n",
    "  sns.histplot(data=data, x='temperature', hue='nausea')\n",
    "\n",
    "  # Add cosmetics\n",
    "  plt.xticks(fontsize=12)\n",
    "  plt.yticks(fontsize=12)\n",
    "  plt.xlabel(xlabel='Temperature', fontsize=14)\n",
    "  plt.ylabel(ylabel='Count', fontsize=14)\n",
    "  plt.title(label='Temperature in relation to nausea', fontsize=16)\n",
    "  plt.grid(b=True)\n",
    "\n",
    "  # Display the plot\n",
    "  plt.show()"
   ]
  },
  {
   "cell_type": "code",
   "execution_count": 18,
   "metadata": {
    "colab": {
     "base_uri": "https://localhost:8080/",
     "height": 467
    },
    "executionInfo": {
     "elapsed": 5,
     "status": "ok",
     "timestamp": 1626676131067,
     "user": {
      "displayName": "Hiren Rupchandani",
      "photoUrl": "https://lh3.googleusercontent.com/a-/AOh14GhgU4n1VRWoxNACyzwiLFFnL3xL6qH1xJchHFekUbI=s64",
      "userId": "16888644812809569435"
     },
     "user_tz": -330
    },
    "id": "IizBgPKxfj-e",
    "outputId": "3ed118be-09f0-4d9a-c445-26237ec4779e"
   },
   "outputs": [
    {
     "data": {
      "image/png": "[encoded data removed]",
      "text/plain": [
       "<Figure size 1500x700 with 1 Axes>"
      ]
     },
     "metadata": {},
     "output_type": "display_data"
    }
   ],
   "source": [
    "nausea_n_temp(data=data)"
   ]
  },
  {
   "cell_type": "markdown",
   "metadata": {
    "id": "g7zQUd5rc8zn"
   },
   "source": [
    "**Observations:**\n",
    "\n",
    "- We can observe that patients whose temperautre go **above 40°C** suffer from **nausea**."
   ]
  },
  {
   "cell_type": "markdown",
   "metadata": {
    "id": "cFUqzIhag47i"
   },
   "source": [
    "\n",
    "---\n",
    "**<h4>Question 4:** Create a function that checks relation between nephritis and body temperature.</h4>\n",
    "\n",
    "---\n",
    "\n",
    "<details>\n",
    "\n",
    "**<summary>Hint:</summary>**\n",
    "\n",
    "- Create a 15x7 inch figure\n",
    "\n",
    "- You can use `sns.kdeplot` method on temperature feature keeping nephritis as hue.\n",
    "\n",
    "- Add cosmetics like grid and title\n",
    "\n",
    "- Keep the tick size as 12, label size as 14 and title size as 16.\n",
    "\n",
    "</details>"
   ]
  },
  {
   "cell_type": "code",
   "execution_count": 19,
   "metadata": {
    "id": "jz3DgDZZkxMK"
   },
   "outputs": [],
   "source": [
    "def niphritis_n_temp(data=None):\n",
    "\n",
    "  # Create a 15x7 inch figure\n",
    "  fig = plt.figure(figsize=(15, 7))\n",
    "\n",
    "  # Create a kdeplot for temperature and keep nephritis as hue\n",
    "  sns.kdeplot(data=data, x='temperature', hue='nephritis')\n",
    "\n",
    "  # Add cosmetics\n",
    "  plt.xticks(fontsize=12)\n",
    "  plt.yticks(fontsize=12)\n",
    "  plt.xlabel(xlabel='Temperature', fontsize=14)\n",
    "  plt.ylabel(ylabel='Count', fontsize=14)\n",
    "  plt.title(label='Temperature in relation to nephritis', fontsize=16)\n",
    "  plt.grid(b=True)\n",
    "\n",
    "  # Display the plot\n",
    "  plt.show()"
   ]
  },
  {
   "cell_type": "code",
   "execution_count": 20,
   "metadata": {
    "colab": {
     "base_uri": "https://localhost:8080/",
     "height": 467
    },
    "executionInfo": {
     "elapsed": 1276,
     "status": "ok",
     "timestamp": 1626676132339,
     "user": {
      "displayName": "Hiren Rupchandani",
      "photoUrl": "https://lh3.googleusercontent.com/a-/AOh14GhgU4n1VRWoxNACyzwiLFFnL3xL6qH1xJchHFekUbI=s64",
      "userId": "16888644812809569435"
     },
     "user_tz": -330
    },
    "id": "gsAsFXjBk6B5",
    "outputId": "b07bdbd7-5a9d-4fb7-e911-aec482675637"
   },
   "outputs": [
    {
     "data": {
      "image/png": "[encoded data removed]",
      "text/plain": [
       "<Figure size 1500x700 with 1 Axes>"
      ]
     },
     "metadata": {},
     "output_type": "display_data"
    }
   ],
   "source": [
    "niphritis_n_temp(data=data)"
   ]
  },
  {
   "cell_type": "markdown",
   "metadata": {
    "id": "i0MV8kLvlWCh"
   },
   "source": [
    "**Observations:**\n",
    "\n",
    "- Patients are diagnosed with **nephritis** if their body temperature **exceeds 37°C**.\n",
    "\n",
    "- Patients having temperatures **above 40°C** have a **high chance** of suffering from nephritis."
   ]
  },
  {
   "cell_type": "markdown",
   "metadata": {
    "id": "SDKDzuI_nOYh"
   },
   "source": [
    "\n",
    "---\n",
    "**<h4>Question 5:** Create a function that checks relation between nephritis, nausea and inflammation.</h4>\n",
    "\n",
    "---\n",
    "\n",
    "<details>\n",
    "\n",
    "**<summary>Hint:</summary>**\n",
    "\n",
    "\n",
    "\n",
    "- Create a 15x7 inch figure\n",
    "\n",
    "- You can use `sns.countplot` method on `inflammation` feature keeping hue as `nephritis` and keep `data=data[data['nausea']==0]` or `data=data[data['nausea']==1]`.\n",
    "\n",
    "- Add cosmetics like grid and title\n",
    "\n",
    "- Keep the tick size as 12, label size as 14 and title size as 16.\n",
    "\n",
    "</details>"
   ]
  },
  {
   "cell_type": "code",
   "execution_count": 21,
   "metadata": {
    "id": "nwtwJUS3nj0R"
   },
   "outputs": [],
   "source": [
    "def nausea_n_nephritis(data=None):\n",
    "\n",
    "  # Create a 15x7 inch figure\n",
    "  fig= plt.figure(figsize=(15, 7))\n",
    "\n",
    "  # Create a countplot for burning and keep nephritis as hue\n",
    "  sns.countplot(data=data, y='inflammation', hue='nephritis', palette='rocket')\n",
    "\n",
    "  # Add cosmetics\n",
    "  plt.xticks(fontsize=12)\n",
    "  plt.yticks(fontsize=12)\n",
    "  plt.xlabel(xlabel='Count', fontsize=14)\n",
    "  plt.ylabel(ylabel='Inflammation', fontsize=14)\n",
    "  plt.title(label='Inflammation in relation to nephritis', fontsize=16)\n",
    "  plt.grid(b=True)\n",
    "\n",
    "  # Display the plot\n",
    "  plt.show()"
   ]
  },
  {
   "cell_type": "code",
   "execution_count": 22,
   "metadata": {
    "colab": {
     "base_uri": "https://localhost:8080/",
     "height": 467
    },
    "executionInfo": {
     "elapsed": 14,
     "status": "ok",
     "timestamp": 1626676132340,
     "user": {
      "displayName": "Hiren Rupchandani",
      "photoUrl": "https://lh3.googleusercontent.com/a-/AOh14GhgU4n1VRWoxNACyzwiLFFnL3xL6qH1xJchHFekUbI=s64",
      "userId": "16888644812809569435"
     },
     "user_tz": -330
    },
    "id": "5857Khp3n4yb",
    "outputId": "5481d591-9bb8-470c-b482-d48b2c9d0ad3"
   },
   "outputs": [
    {
     "data": {
      "image/png": "[encoded data removed]",
      "text/plain": [
       "<Figure size 1500x700 with 1 Axes>"
      ]
     },
     "metadata": {},
     "output_type": "display_data"
    }
   ],
   "source": [
    "nausea_n_nephritis(data=data[data['nausea']==0])"
   ]
  },
  {
   "cell_type": "markdown",
   "metadata": {
    "id": "LjsgMpkkpAuX"
   },
   "source": [
    "**Observations:**\n",
    "\n",
    "- People with **inflammation** and **non-nauseous** had a **lower chance** of suffering from nephritis.\n",
    "\n",
    "- Some patients who had **none** of the **symptoms** still **suffered** from **nephritis**.\n",
    "\n",
    "- People who have **nausea** have a **very high chance** of suffering from **nephritis**."
   ]
  },
  {
   "cell_type": "markdown",
   "metadata": {
    "id": "dAcB7RiTcrYf"
   },
   "source": [
    "<a name = Section7></a>\n",
    "\n",
    "---\n",
    "# **7. Data Post-Processing**\n",
    "---"
   ]
  },
  {
   "cell_type": "markdown",
   "metadata": {
    "id": "IQrdHcqBgvHJ"
   },
   "source": [
    "<a name = Section71></a>\n",
    "### **7.1 Feature Extraction**\n",
    "\n",
    "- In this section, we will extract the important features and seperate the independent and dependent variables."
   ]
  },
  {
   "cell_type": "markdown",
   "metadata": {
    "id": "H3ThcctJnrMH"
   },
   "source": [
    "---\n",
    "**<h4>Question 6:** Create a function that creates two dataframes for dependent and independent features.</h4>\n",
    "\n",
    "---\n",
    "\n",
    "<details>\n",
    "\n",
    "**<summary>Hint:</summary>**\n",
    "\n",
    "- Create input dataframe X by dropping only \"nephritis\" feature from axis 1.\n",
    "\n",
    "- Create target series by using \"nephritis\" as value.\n",
    "\n",
    "</details>\n"
   ]
  },
  {
   "cell_type": "code",
   "execution_count": 23,
   "metadata": {
    "id": "NmV_PvKMobxn"
   },
   "outputs": [],
   "source": [
    "def seperate_Xy(data=None):\n",
    "  X = data.drop(labels=['nephritis'], axis=1)\n",
    "  y = data['nephritis']\n",
    "  return X, y"
   ]
  },
  {
   "cell_type": "code",
   "execution_count": 24,
   "metadata": {
    "id": "vHdxyGC2gqvC"
   },
   "outputs": [],
   "source": [
    "X, y = seperate_Xy(data=data)"
   ]
  },
  {
   "cell_type": "markdown",
   "metadata": {
    "id": "aHC_XfX7g_WZ"
   },
   "source": [
    "<a name = Section72></a>\n",
    "### **7.2 Data Preparation**\n",
    "\n",
    "- Now we will **split** our **data** in **training** and **testing** part for further development."
   ]
  },
  {
   "cell_type": "markdown",
   "metadata": {
    "id": "YAysVX6qqHKD"
   },
   "source": [
    "---\n",
    "**<h4>Question 7:** Create a function that splits the data into train and test datasets while keeping random state as 42.</h4>\n",
    "\n",
    "---\n",
    "\n",
    "<details>\n",
    "\n",
    "**<summary>Hint:</summary>**\n",
    "\n",
    "- Use `train_test_split()` to split the dataset.\n",
    "\n",
    "- Use `test_size` of **0.30**\n",
    "\n",
    "- Use `random_state` equal to **42**.\n",
    "\n",
    "- **Stratify** the target variable.\n",
    "\n",
    "</details>"
   ]
  },
  {
   "cell_type": "code",
   "execution_count": 25,
   "metadata": {
    "id": "ATpzPPfsgqrO"
   },
   "outputs": [],
   "source": [
    "def Xy_splitter(X=None, y=None):\n",
    "  X_train, X_test, y_train, y_test = train_test_split(X, y, test_size = 0.3, random_state = 42, stratify = y)\n",
    "\n",
    "  print('Training Data Shape:', X_train.shape, y_train.shape)\n",
    "  print('Testing Data Shape:', X_test.shape, y_test.shape)\n",
    "  return X_train, X_test, y_train, y_test"
   ]
  },
  {
   "cell_type": "code",
   "execution_count": 26,
   "metadata": {
    "colab": {
     "base_uri": "https://localhost:8080/"
    },
    "executionInfo": {
     "elapsed": 14,
     "status": "ok",
     "timestamp": 1626676132341,
     "user": {
      "displayName": "Hiren Rupchandani",
      "photoUrl": "https://lh3.googleusercontent.com/a-/AOh14GhgU4n1VRWoxNACyzwiLFFnL3xL6qH1xJchHFekUbI=s64",
      "userId": "16888644812809569435"
     },
     "user_tz": -330
    },
    "id": "6GV5DEP2p__4",
    "outputId": "a9b77a91-c7db-4bf0-d98c-afb7dc155590"
   },
   "outputs": [
    {
     "name": "stdout",
     "output_type": "stream",
     "text": [
      "Training Data Shape: (69, 7) (69,)\n",
      "Testing Data Shape: (30, 7) (30,)\n"
     ]
    }
   ],
   "source": [
    "X_train, X_test, y_train, y_test = Xy_splitter(X=X, y=y)"
   ]
  },
  {
   "cell_type": "markdown",
   "metadata": {
    "id": "coaGUA33hDGK"
   },
   "source": [
    "<a name = Section8></a>\n",
    "\n",
    "---\n",
    "# **8. Model Development & Evaluation**\n",
    "---\n",
    "\n",
    "- In this section we will develop a Logistic Regression model, check it's performance using different metrics."
   ]
  },
  {
   "cell_type": "markdown",
   "metadata": {
    "id": "TesmlgEubunV"
   },
   "source": [
    "<a name = Section81></a>\n",
    "### **8.1 Model Development & Evaluation**"
   ]
  },
  {
   "cell_type": "markdown",
   "metadata": {
    "id": "Wesgk1UBguEB"
   },
   "source": [
    "---\n",
    "**<h4>Question 8:** Create a function that instantiates a logistic regression model, fits the model on train set, makes predictions on test set and returns those predictions.</h4>\n",
    "\n",
    "---\n",
    "\n",
    "<details>\n",
    "\n",
    "**<summary>Hint:</summary>**\n",
    "\n",
    "- Instantiate a logistic regression model using LogisticRegression().\n",
    "\n",
    "- Use `class_weight = 'balanced'`.\n",
    "\n",
    "- `Fit` the model on training set.\n",
    "\n",
    "- `Predict` the values on the train set and the test set.\n",
    "\n",
    "</details>"
   ]
  },
  {
   "cell_type": "code",
   "execution_count": 27,
   "metadata": {
    "id": "RQbPcrKVsCNd"
   },
   "outputs": [],
   "source": [
    "def train_n_eval():\n",
    "  # Instantiate a logistic regression model\n",
    "  clf = LogisticRegression(random_state=42, class_weight='balanced')\n",
    "\n",
    "  # Extracting model name\n",
    "  model_name = type(clf).__name__\n",
    "\n",
    "  # Fit the model on train data\n",
    "  clf.fit(X_train, y_train)\n",
    "\n",
    "  # Make predictions using train data\n",
    "  y_pred_train = clf.predict(X_train)\n",
    "\n",
    "  # Make predictions using test data\n",
    "  y_pred = clf.predict(X_test)\n",
    "\n",
    "  y_pred_proba = clf.predict_proba(X_test)\n",
    "\n",
    "  y_train_proba = clf.predict_proba(X_train)\n",
    "\n",
    "  return y_pred_train, y_pred, y_pred_proba, y_train_proba"
   ]
  },
  {
   "cell_type": "code",
   "execution_count": 28,
   "metadata": {
    "id": "-lYZi1rAsxNd"
   },
   "outputs": [],
   "source": [
    "y_pred_train, y_pred, y_test_pred_proba, y_train_pred_proba = train_n_eval()"
   ]
  },
  {
   "cell_type": "markdown",
   "metadata": {
    "id": "cT3oFW4dOoK8"
   },
   "source": [
    "\n",
    "---\n",
    "**<h4>Question 9:** Create a function that evaluates the model's training and testing predictions on the given metrics:</h4>\n",
    "\n",
    "---\n",
    "\n",
    "- Accuracy score\n",
    "- Precision score\n",
    "- Recall score\n",
    "- F1 score\n",
    "\n",
    "\n",
    "\n",
    "<details>\n",
    "\n",
    "**<summary>Hint:</summary>**\n",
    "\n",
    "- Evaluate the predictions using the `accuracy_score`, `precision_score`, `recall_score` and `f1_score` on the train set and the test set.\n",
    "\n",
    "</details>"
   ]
  },
  {
   "cell_type": "code",
   "execution_count": 29,
   "metadata": {
    "id": "sVoXwiNgOujd"
   },
   "outputs": [],
   "source": [
    "def calculate_metrics(y_pred=None, y_pred_train=None):\n",
    "\n",
    "  # Calculate accuracy of the model\n",
    "  train_accuracy = accuracy_score(y_train, y_pred_train)\n",
    "  test_accuracy = accuracy_score(y_test, y_pred)\n",
    "\n",
    "  # Calculate precision of the model\n",
    "  train_precision = precision_score(y_train, y_pred_train)\n",
    "  test_precision = precision_score(y_test, y_pred)\n",
    "\n",
    "  # Calculate recall of the model\n",
    "  train_recall = recall_score(y_train, y_pred_train)\n",
    "  test_recall = recall_score(y_test, y_pred)\n",
    "\n",
    "  # Calculate f1 score of the model\n",
    "  train_f1 = f1_score(y_train, y_pred_train)\n",
    "  test_f1 = f1_score(y_test, y_pred)\n",
    "\n",
    "  # Display the accuracy of the model\n",
    "  print('Performance Metric of Logistic Regression Model:')\n",
    "  print('----------------------------------------')\n",
    "  print('[Train Accuracy]:', train_accuracy)\n",
    "  print('[Test Accuracy]:', test_accuracy)\n",
    "  print('----------------------------------------')\n",
    "  print('[Train Precision]:', train_precision)\n",
    "  print('[Test Precision]:', test_precision)\n",
    "  print('----------------------------------------')\n",
    "  print('[Train Recall]:', train_recall)\n",
    "  print('[Test Recall]:', test_recall)\n",
    "  print('----------------------------------------')\n",
    "  print('[Train F1 score]:', train_f1)\n",
    "  print('[Test F1 score]:', test_f1)\n",
    "  print('----------------------------------------')"
   ]
  },
  {
   "cell_type": "code",
   "execution_count": 30,
   "metadata": {
    "colab": {
     "base_uri": "https://localhost:8080/"
    },
    "executionInfo": {
     "elapsed": 10,
     "status": "ok",
     "timestamp": 1626676132342,
     "user": {
      "displayName": "Hiren Rupchandani",
      "photoUrl": "https://lh3.googleusercontent.com/a-/AOh14GhgU4n1VRWoxNACyzwiLFFnL3xL6qH1xJchHFekUbI=s64",
      "userId": "16888644812809569435"
     },
     "user_tz": -330
    },
    "id": "pgX1BFgpUyjH",
    "outputId": "8b539b06-080a-4b6b-8d42-c84259d0c4f1"
   },
   "outputs": [
    {
     "name": "stdout",
     "output_type": "stream",
     "text": [
      "Performance Metric of Logistic Regression Model:\n",
      "----------------------------------------\n",
      "[Train Accuracy]: 1.0\n",
      "[Test Accuracy]: 1.0\n",
      "----------------------------------------\n",
      "[Train Precision]: 1.0\n",
      "[Test Precision]: 1.0\n",
      "----------------------------------------\n",
      "[Train Recall]: 1.0\n",
      "[Test Recall]: 1.0\n",
      "----------------------------------------\n",
      "[Train F1 score]: 1.0\n",
      "[Test F1 score]: 1.0\n",
      "----------------------------------------\n"
     ]
    }
   ],
   "source": [
    "calculate_metrics(y_pred=y_pred, y_pred_train=y_pred_train)"
   ]
  },
  {
   "cell_type": "markdown",
   "metadata": {
    "id": "gM-lhzUWO_Ev"
   },
   "source": [
    "**Observations:**\n",
    "\n",
    "- We observe that all of our metrics have **100% score** on train and test set."
   ]
  },
  {
   "cell_type": "markdown",
   "metadata": {
    "id": "jgUtrseRU-Vr"
   },
   "source": [
    "\n",
    "---\n",
    "**<h4>Question 10:** Create a function that plots the Precision-Recall curve for the predictions on train and test data.</h4>\n",
    "\n",
    "---\n",
    "\n",
    "<details>\n",
    "\n",
    "**<summary>Hint:</summary>**\n",
    "\n",
    "- For plot_precision_recall_builder():\n",
    "\n",
    "  - Calculate the precision and recall values at various thresholds using `precision_recall_curve()` method.\n",
    "\n",
    "  - Calculate the average precision and recall values using `np.mean()`\n",
    "\n",
    "  - Plot the curve using  `sns.lineplot()` and plot the average precision and recall values with respect to `[0, 1]`.\n",
    "\n",
    "  - Add some cosmetics like title, grid and legend.\n",
    "\n",
    "  - Keep label size as 14 and title size as 16.\n",
    "\n",
    "- For plot_precision_recall():\n",
    "\n",
    "  - Create 2 subplots and call the builder function seperately for train predictions and test predictions.\n",
    "\n",
    "  - Add some more cosmetics like super title.\n",
    "\n",
    "</details>"
   ]
  },
  {
   "cell_type": "code",
   "execution_count": 31,
   "metadata": {
    "id": "W3VtR9BaF66h"
   },
   "outputs": [],
   "source": [
    "def plot_precision_recall_builder(y_true, y_pred, train_or_test):\n",
    "  '''\n",
    "  y_true: Acutal values of the target\n",
    "  y_pred: Predicted values of the target. Either predict_proba or decision_function\n",
    "  line_show: Plot average values \"precision\" or \"recall\"\n",
    "  train_or_test: Train Data or Test Data\n",
    "  '''\n",
    "  precisions, recalls, thresholds = precision_recall_curve(y_true = y_true, probas_pred = y_pred)\n",
    "\n",
    "  # Calculate the average precision and recall scores\n",
    "  average_precision = np.mean(precisions)\n",
    "  average_recall = np.mean(recalls)\n",
    "\n",
    "  # Create a lineplot of precision and recall values\n",
    "  sns.lineplot(x = recalls, y = precisions, linewidth = 2, ci = None)\n",
    "  plt.plot([0, 1], [average_precision, average_precision], 'r-')\n",
    "  plt.plot([average_recall, average_recall], [0, 1], 'g-')\n",
    "\n",
    "  # Add cosmetics\n",
    "  plt.xlabel('Recall', fontsize = 14)\n",
    "  plt.xticks(ticks = [0, 0.1, 0.2, 0.3, 0.4, 0.5, 0.6, 0.7, 0.8, 0.9, 1.0])\n",
    "  plt.yticks(ticks = [0, 0.1, 0.2, 0.3, 0.4, 0.5, 0.6, 0.7, 0.8, 0.9, 1.0])\n",
    "  plt.ylabel('Precision', fontsize = 14)\n",
    "  plt.title(train_or_test, fontsize = 16)\n",
    "  plt.legend(labels = ['Binary PR Curve', 'AP {:.2f}'.format(average_precision), 'AR {:.2f}'.format(average_recall)])\n",
    "  plt.grid(b=True)"
   ]
  },
  {
   "cell_type": "code",
   "execution_count": 32,
   "metadata": {
    "id": "p2PqcGpWbhCQ"
   },
   "outputs": [],
   "source": [
    "def plot_precision_recall():\n",
    "  # Create a 20x7 inches figure\n",
    "  figure = plt.figure(figsize = [20, 7])\n",
    "\n",
    "  # Create a subplot\n",
    "  plt.subplot(1, 2, 1)\n",
    "\n",
    "  # Plot the precision-recall curve for the training set\n",
    "  plot_precision_recall_builder(y_true=y_train, y_pred=y_train_pred_proba[:,1], train_or_test='Train Data')\n",
    "\n",
    "  # Create a subplot\n",
    "  plt.subplot(1, 2, 2)\n",
    "\n",
    "  # Plot the precision-recall curve for the test set\n",
    "  plot_precision_recall_builder(y_true=y_test, y_pred=y_test_pred_proba[:, 1], train_or_test='Test Data')\n",
    "\n",
    "  # Add a supertitle\n",
    "  plt.suptitle('Precision & Recall Curve', size = 16)\n",
    "\n",
    "  # Display the output\n",
    "  plt.show()"
   ]
  },
  {
   "cell_type": "code",
   "execution_count": 33,
   "metadata": {
    "colab": {
     "base_uri": "https://localhost:8080/",
     "height": 497
    },
    "executionInfo": {
     "elapsed": 876,
     "status": "ok",
     "timestamp": 1626676133211,
     "user": {
      "displayName": "Hiren Rupchandani",
      "photoUrl": "https://lh3.googleusercontent.com/a-/AOh14GhgU4n1VRWoxNACyzwiLFFnL3xL6qH1xJchHFekUbI=s64",
      "userId": "16888644812809569435"
     },
     "user_tz": -330
    },
    "id": "2AC_tzi_bu_s",
    "outputId": "c2d34af6-c8f8-44c5-e7b2-c07101371d5a"
   },
   "outputs": [
    {
     "data": {
      "image/png": "[encoded data removed]",
      "text/plain": [
       "<Figure size 2000x700 with 2 Axes>"
      ]
     },
     "metadata": {},
     "output_type": "display_data"
    }
   ],
   "source": [
    "plot_precision_recall()"
   ]
  },
  {
   "cell_type": "markdown",
   "metadata": {
    "id": "pf-s5ZGeYP7O"
   },
   "source": [
    "**Observations:**\n",
    "\n",
    "- Since our **precision** and **recall** are **1**, we get the ideal plots for Precision-Recall curve."
   ]
  },
  {
   "cell_type": "markdown",
   "metadata": {
    "id": "9hPQ3ufehNnp"
   },
   "source": [
    "<a name = Section9></a>\n",
    "\n",
    "---\n",
    "# **9. Conclusion**\n",
    "---\n",
    "\n",
    "- We have seen that **inflammation** is **not relevant** to **nephritis** according to our data.\n",
    "\n",
    "- Body **temperature** and **nausea** play an **important role** in determining if a patient suffers from **nephritis**.\n",
    "\n",
    "- We have also **developed** a model and successfully **tested** it on various evaluation metrics.\n",
    "\n",
    "- Although based on **patient's temperature** and **responses**, we can **predict** if the patient suffers from nephritis or not.\n",
    "\n",
    "- If we can get a **better snapshot of data** and more features that relate to nephritis, we can train a model ready for **real-world information**."
   ]
  }
 ],
 "metadata": {
  "colab": {
   "provenance": []
  },
  "kernelspec": {
   "display_name": "Python 3 (ipykernel)",
   "language": "python",
   "name": "python3"
  },
  "language_info": {
   "codemirror_mode": {
    "name": "ipython",
    "version": 3
   },
   "file_extension": ".py",
   "mimetype": "text/x-python",
   "name": "python",
   "nbconvert_exporter": "python",
   "pygments_lexer": "ipython3",
   "version": "3.9.13"
  }
 },
 "nbformat": 4,
 "nbformat_minor": 1
}
