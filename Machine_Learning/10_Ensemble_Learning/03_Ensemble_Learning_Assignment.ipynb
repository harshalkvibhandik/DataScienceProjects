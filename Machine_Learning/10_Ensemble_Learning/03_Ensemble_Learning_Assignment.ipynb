{
 "cells": [
  {
   "cell_type": "markdown",
   "metadata": {
    "id": "LX3cCTQWTPfA"
   },
   "source": [
    "# **<center>Ensemble Learning - Assignment</center>**"
   ]
  },
  {
   "cell_type": "markdown",
   "metadata": {
    "id": "icP4xySeTdI6"
   },
   "source": [
    "---\n",
    "# **Table of Contents**\n",
    "---\n",
    "\n",
    "**1.** [**Problem Statement**](#Section1)<br>\n",
    "**2.** [**Objective**](#Section2)<br>\n",
    "**3.** [**Installing & Importing Libraries**](#Section3)<br>\n",
    "  - **3.1** [**Installing Libraries**](#Section31)\n",
    "  - **3.2** [**Upgrading Libraries**](#Section32)\n",
    "  - **3.3** [**Importing Libraries**](#Section33)\n",
    "\n",
    "**4.** [**Data Acquisition & Description**](#Section4)<br>\n",
    "  - **4.1** [**Data Description**](#Section41)<br>\n",
    "\n",
    "**5.** [**Data Pre-processing**](#Section5)<br>\n",
    "  - **5.1** [**Pre-Profiling Report**](#Section51)<br>\n",
    "\n",
    "**6.** [**Exploratory Data Analysis**](#Section6)<br>\n",
    "**7.** [**Post Data Processing & Feature Selection**](#Section7)<br>\n",
    "**8.** [**Model Development & Evaluation**](#Section8)<br>\n",
    "**9.** [**Conclusion**](#Section9)<br>\n"
   ]
  },
  {
   "cell_type": "markdown",
   "metadata": {
    "id": "HC50tdAtToeA"
   },
   "source": [
    "---\n",
    "<a name = Section1></a>\n",
    "# **1. Problem Statement**\n",
    "---\n",
    "- The Iris dataset was used in R.A. Fisher's classic 1936 paper, The Use of Multiple Measurements in **Taxonomic Problems**, and can also be found on the UCI Machine Learning Repository.\n",
    "**bold text**\n",
    "- It includes **three iris species** with 50 samples each as well as some properties about each flower. One flower species is linearly separable from the other two, but the other two are not linearly separable from each other.\n",
    "\n",
    "- They have hired a **team of data scientists**. Consider you are one of them...\n"
   ]
  },
  {
   "cell_type": "markdown",
   "metadata": {
    "id": "TOLknumQTteG"
   },
   "source": [
    "---\n",
    "<a name = Section2></a>\n",
    "# **2. Objective**\n",
    "---\n",
    "\n",
    "- The central goal is to design a model that makes proper classifications for new flowers."
   ]
  },
  {
   "cell_type": "markdown",
   "metadata": {
    "id": "XtlrwPAnTw9v"
   },
   "source": [
    "---\n",
    "<a name = Section3></a>\n",
    "# **3. Installing & Importing Libraries**\n",
    "---"
   ]
  },
  {
   "cell_type": "markdown",
   "metadata": {
    "id": "PEDodd4RTzwQ"
   },
   "source": [
    "<a name = Section31></a>\n",
    "### **3.1 Installing Libraries**"
   ]
  },
  {
   "cell_type": "code",
   "execution_count": null,
   "metadata": {
    "colab": {
     "base_uri": "https://localhost:8080/"
    },
    "executionInfo": {
     "elapsed": 52337,
     "status": "ok",
     "timestamp": 1687752545087,
     "user": {
      "displayName": "Yash Chauhan",
      "userId": "03194567605433747724"
     },
     "user_tz": -330
    },
    "id": "uReYv3Q0Tfbq",
    "outputId": "c2511df1-1c9d-4315-e377-12e48c9039ec"
   },
   "outputs": [
    {
     "name": "stdout",
     "output_type": "stream",
     "text": [
      "\u001b[2K     \u001b[90m━━━━━━━━━━━━━━━━━━━━━━━━━━━━━━━━━━━━━━━━\u001b[0m \u001b[32m1.6/1.6 MB\u001b[0m \u001b[31m20.4 MB/s\u001b[0m eta \u001b[36m0:00:00\u001b[0m\n",
      "\u001b[2K     \u001b[90m━━━━━━━━━━━━━━━━━━━━━━━━━━━━━━━━━━━━━━━\u001b[0m \u001b[32m324.4/324.4 kB\u001b[0m \u001b[31m6.6 MB/s\u001b[0m eta \u001b[36m0:00:00\u001b[0m\n",
      "\u001b[2K     \u001b[90m━━━━━━━━━━━━━━━━━━━━━━━━━━━━━━━━━━━━━━\u001b[0m \u001b[32m353.0/353.0 kB\u001b[0m \u001b[31m24.8 MB/s\u001b[0m eta \u001b[36m0:00:00\u001b[0m\n",
      "\u001b[2K     \u001b[90m━━━━━━━━━━━━━━━━━━━━━━━━━━━━━━━━━━━━━━\u001b[0m \u001b[32m102.7/102.7 kB\u001b[0m \u001b[31m11.5 MB/s\u001b[0m eta \u001b[36m0:00:00\u001b[0m\n",
      "\u001b[?25h  Preparing metadata (setup.py) ... \u001b[?25l\u001b[?25hdone\n",
      "\u001b[2K     \u001b[90m━━━━━━━━━━━━━━━━━━━━━━━━━━━━━━━━━━━━━━\u001b[0m \u001b[32m679.5/679.5 kB\u001b[0m \u001b[31m29.2 MB/s\u001b[0m eta \u001b[36m0:00:00\u001b[0m\n",
      "\u001b[2K     \u001b[90m━━━━━━━━━━━━━━━━━━━━━━━━━━━━━━━━━━━━━━\u001b[0m \u001b[32m296.5/296.5 kB\u001b[0m \u001b[31m18.5 MB/s\u001b[0m eta \u001b[36m0:00:00\u001b[0m\n",
      "\u001b[2K     \u001b[90m━━━━━━━━━━━━━━━━━━━━━━━━━━━━━━━━━━━━━━\u001b[0m \u001b[32m455.4/455.4 kB\u001b[0m \u001b[31m19.2 MB/s\u001b[0m eta \u001b[36m0:00:00\u001b[0m\n",
      "\u001b[2K     \u001b[90m━━━━━━━━━━━━━━━━━━━━━━━━━━━━━━━━━━━━━━━━\u001b[0m \u001b[32m4.7/4.7 MB\u001b[0m \u001b[31m46.2 MB/s\u001b[0m eta \u001b[36m0:00:00\u001b[0m\n",
      "\u001b[?25h  Building wheel for htmlmin (setup.py) ... \u001b[?25l\u001b[?25hdone\n"
     ]
    }
   ],
   "source": [
    "!pip install -q datascience                                                       # Package that is required by pandas profiling\n",
    "!pip install -q ydata-profiling"
   ]
  },
  {
   "cell_type": "markdown",
   "metadata": {
    "id": "iCixNz_JT4v-"
   },
   "source": [
    "<a name = Section32></a>\n",
    "### **3.2 Upgrading Libraries**\n",
    "\n",
    "- **After upgrading** the libraries, you need to **restart the runtime** to make the libraries in sync.\n",
    "\n",
    "- Make sure not to execute the cell above (3.1) and below (3.2) again after restarting the runtime.\n",
    "\n"
   ]
  },
  {
   "cell_type": "code",
   "execution_count": null,
   "metadata": {
    "id": "fbVAp6P2T2FA"
   },
   "outputs": [],
   "source": [
    "!pip install -q --upgrade ydata-profiling"
   ]
  },
  {
   "cell_type": "markdown",
   "metadata": {
    "id": "7cNbpwUyT98F"
   },
   "source": [
    "<a name = Section33></a>\n",
    "### **3.3 Importing Libraries**"
   ]
  },
  {
   "cell_type": "code",
   "execution_count": 1,
   "metadata": {
    "colab": {
     "base_uri": "https://localhost:8080/"
    },
    "executionInfo": {
     "elapsed": 3982,
     "status": "ok",
     "timestamp": 1687752556873,
     "user": {
      "displayName": "Yash Chauhan",
      "userId": "03194567605433747724"
     },
     "user_tz": -330
    },
    "id": "fQeMHeSHT7Ss",
    "outputId": "8b630b2c-3494-4586-bdfc-f7b559239222"
   },
   "outputs": [],
   "source": [
    "#-------------------------------------------------------------------------------------------------------------------------------\n",
    "import pandas as pd                                                               # Importing for panel data analysis\n",
    "from ydata_profiling import ProfileReport                                         # Import Ydata Profiling (To generate Univariate Analysis)\n",
    "pd.set_option('display.max_columns', None)                                        # Unfolding hidden features if the cardinality is high\n",
    "pd.set_option('display.max_colwidth', None)                                       # Unfolding the max feature width for better clearity\n",
    "pd.set_option('display.max_rows', None)                                           # Unfolding hidden data points if the cardinality is high\n",
    "pd.set_option('mode.chained_assignment', None)                                    # Removing restriction over chained assignments operations\n",
    "#-------------------------------------------------------------------------------------------------------------------------------\n",
    "import numpy as np                                                                # Importing package numpys (For Numerical Python)\n",
    "import string                                                                     # For string related operations\n",
    "import pprint                                                                     # For printing of Collections line by line\n",
    "from collections import Counter                                                   # For estimating frequency\n",
    "#-------------------------------------------------------------------------------------------------------------------------------\n",
    "import matplotlib.pyplot as plt                                                   # Importing pyplot interface using matplotlib\n",
    "import seaborn as sns                                                             # Importing seaborm library for interactive visualization\n",
    "%matplotlib inline\n",
    "#-------------------------------------------------------------------------------------------------------------------------------\n",
    "from sklearn.metrics import precision_recall_curve,accuracy_score                 # For precision and recall metric estimation\n",
    "from sklearn.metrics import classification_report                                 # To generate complete report of evaluation metrics\n",
    "from sklearn.metrics import ConfusionMatrixDisplay,roc_auc_score                   # To plot confusion matrix\n",
    "\n",
    "#-------------------------------------------------------------------------------------------------------------------------------\n",
    "from sklearn.model_selection import train_test_split                              # To split the data in training and testing part\n",
    "from sklearn.preprocessing import StandardScaler                                  # Importing Standard Scaler library from preprocessing.\n",
    "from sklearn.ensemble import RandomForestClassifier, VotingClassifier             # Loading differernt ensemble models\n",
    "from sklearn.ensemble import AdaBoostClassifier,BaggingClassifier                 # Loading differernt ensemble models\n",
    "from sklearn.tree import DecisionTreeClassifier                                   # Loading decision tree classifier from tree\n",
    "from sklearn.svm import SVC                                                       # Loading SVM from  Sklearn\n",
    "from sklearn.linear_model import LogisticRegression                               # Loading Logistic regression from linear model\n",
    "from sklearn.neighbors import KNeighborsClassifier\n",
    "from sklearn.naive_bayes import GaussianNB\n",
    "from sklearn.model_selection import cross_val_score                               # Importing cross validation score from model selection\n",
    "from sklearn import model_selection\n",
    "import six\n",
    "import sys\n",
    "sys.modules['sklearn.externals.six'] = six\n",
    "from mlxtend.classifier import StackingClassifier\n",
    "#-------------------------------------------------------------------------------------------------------------------------------\n",
    "import warnings                                                                   # Importing warning to disable runtime warnings\n",
    "warnings.filterwarnings(\"ignore\")"
   ]
  },
  {
   "cell_type": "markdown",
   "metadata": {
    "id": "fycBcNS5UG6f"
   },
   "source": [
    "---\n",
    "<a name = Section4></a>\n",
    "# **4. Data Acquisition & Description**\n",
    "---\n",
    "- The dataset has been provided by Medilet, a research institute and it can be retrieved from the attached <a href = \"https://archive.ics.uci.edu/ml/machine-learning-databases/breast-cancer-wisconsin/breast-cancer-wisconsin.data\">**link**</a>.\n",
    "\n",
    "</br>\n",
    "\n",
    "| Records | Features | Dataset Size |\n",
    "| :-- | :-- | :-- |\n",
    "| \t150 | 6 | \t5 KB|\n",
    "\n",
    "</br>\n",
    "\n",
    "|Id|Feature|Description|\n",
    "|:--|:--|:--|\n",
    "|01|**Id**| Unique code for each sample.|\n",
    "|02|**SepalLengthCm**|Length of the sepal (in cm).|\n",
    "|03|**SepalWidthCm**|Width of the sepal (in cm).|\n",
    "|04|**PetalLengthCm**| Length of the petal (in cm).|\n",
    "|05|**PetalWidthCm**|Width of the petal (in cm).|\n",
    "|06|**Species**| Species name.|"
   ]
  },
  {
   "cell_type": "code",
   "execution_count": 2,
   "metadata": {
    "colab": {
     "base_uri": "https://localhost:8080/",
     "height": 224
    },
    "executionInfo": {
     "elapsed": 682,
     "status": "ok",
     "timestamp": 1687752557551,
     "user": {
      "displayName": "Yash Chauhan",
      "userId": "03194567605433747724"
     },
     "user_tz": -330
    },
    "id": "tOiJrZUKUD2r",
    "outputId": "6fbda1b5-a696-41af-e0a3-d9f6b6285459"
   },
   "outputs": [
    {
     "name": "stdout",
     "output_type": "stream",
     "text": [
      "Data Shape: (150, 6)\n"
     ]
    },
    {
     "data": {
      "text/html": [
       "<div>\n",
       "<style scoped>\n",
       "    .dataframe tbody tr th:only-of-type {\n",
       "        vertical-align: middle;\n",
       "    }\n",
       "\n",
       "    .dataframe tbody tr th {\n",
       "        vertical-align: top;\n",
       "    }\n",
       "\n",
       "    .dataframe thead th {\n",
       "        text-align: right;\n",
       "    }\n",
       "</style>\n",
       "<table border=\"1\" class=\"dataframe\">\n",
       "  <thead>\n",
       "    <tr style=\"text-align: right;\">\n",
       "      <th></th>\n",
       "      <th>Id</th>\n",
       "      <th>SepalLengthCm</th>\n",
       "      <th>SepalWidthCm</th>\n",
       "      <th>PetalLengthCm</th>\n",
       "      <th>PetalWidthCm</th>\n",
       "      <th>Species</th>\n",
       "    </tr>\n",
       "  </thead>\n",
       "  <tbody>\n",
       "    <tr>\n",
       "      <th>0</th>\n",
       "      <td>1</td>\n",
       "      <td>5.1</td>\n",
       "      <td>3.5</td>\n",
       "      <td>1.4</td>\n",
       "      <td>0.2</td>\n",
       "      <td>Iris-setosa</td>\n",
       "    </tr>\n",
       "    <tr>\n",
       "      <th>1</th>\n",
       "      <td>2</td>\n",
       "      <td>4.9</td>\n",
       "      <td>3.0</td>\n",
       "      <td>1.4</td>\n",
       "      <td>0.2</td>\n",
       "      <td>Iris-setosa</td>\n",
       "    </tr>\n",
       "    <tr>\n",
       "      <th>2</th>\n",
       "      <td>3</td>\n",
       "      <td>4.7</td>\n",
       "      <td>3.2</td>\n",
       "      <td>1.3</td>\n",
       "      <td>0.2</td>\n",
       "      <td>Iris-setosa</td>\n",
       "    </tr>\n",
       "    <tr>\n",
       "      <th>3</th>\n",
       "      <td>4</td>\n",
       "      <td>4.6</td>\n",
       "      <td>3.1</td>\n",
       "      <td>1.5</td>\n",
       "      <td>0.2</td>\n",
       "      <td>Iris-setosa</td>\n",
       "    </tr>\n",
       "    <tr>\n",
       "      <th>4</th>\n",
       "      <td>5</td>\n",
       "      <td>5.0</td>\n",
       "      <td>3.6</td>\n",
       "      <td>1.4</td>\n",
       "      <td>0.2</td>\n",
       "      <td>Iris-setosa</td>\n",
       "    </tr>\n",
       "  </tbody>\n",
       "</table>\n",
       "</div>"
      ],
      "text/plain": [
       "   Id  SepalLengthCm  SepalWidthCm  PetalLengthCm  PetalWidthCm      Species\n",
       "0   1            5.1           3.5            1.4           0.2  Iris-setosa\n",
       "1   2            4.9           3.0            1.4           0.2  Iris-setosa\n",
       "2   3            4.7           3.2            1.3           0.2  Iris-setosa\n",
       "3   4            4.6           3.1            1.5           0.2  Iris-setosa\n",
       "4   5            5.0           3.6            1.4           0.2  Iris-setosa"
      ]
     },
     "execution_count": 2,
     "metadata": {},
     "output_type": "execute_result"
    }
   ],
   "source": [
    "data = pd.read_csv(filepath_or_buffer='Iris_1.csv')\n",
    "print('Data Shape:', data.shape)\n",
    "data.head()"
   ]
  },
  {
   "cell_type": "markdown",
   "metadata": {
    "id": "77Yn2IRBUXu3"
   },
   "source": [
    "<a name = Section41></a>\n",
    "### **4.1 Data Description**\n",
    "\n",
    "- In this section we will get **description** and **statistics** about the data."
   ]
  },
  {
   "cell_type": "code",
   "execution_count": 3,
   "metadata": {
    "colab": {
     "base_uri": "https://localhost:8080/",
     "height": 300
    },
    "executionInfo": {
     "elapsed": 23,
     "status": "ok",
     "timestamp": 1687752557552,
     "user": {
      "displayName": "Yash Chauhan",
      "userId": "03194567605433747724"
     },
     "user_tz": -330
    },
    "id": "WEjgRiopUS78",
    "outputId": "9937506f-d705-4a4b-dc19-f47b19bbe8cf"
   },
   "outputs": [
    {
     "data": {
      "text/html": [
       "<div>\n",
       "<style scoped>\n",
       "    .dataframe tbody tr th:only-of-type {\n",
       "        vertical-align: middle;\n",
       "    }\n",
       "\n",
       "    .dataframe tbody tr th {\n",
       "        vertical-align: top;\n",
       "    }\n",
       "\n",
       "    .dataframe thead th {\n",
       "        text-align: right;\n",
       "    }\n",
       "</style>\n",
       "<table border=\"1\" class=\"dataframe\">\n",
       "  <thead>\n",
       "    <tr style=\"text-align: right;\">\n",
       "      <th></th>\n",
       "      <th>Id</th>\n",
       "      <th>SepalLengthCm</th>\n",
       "      <th>SepalWidthCm</th>\n",
       "      <th>PetalLengthCm</th>\n",
       "      <th>PetalWidthCm</th>\n",
       "    </tr>\n",
       "  </thead>\n",
       "  <tbody>\n",
       "    <tr>\n",
       "      <th>count</th>\n",
       "      <td>150.000000</td>\n",
       "      <td>150.000000</td>\n",
       "      <td>150.000000</td>\n",
       "      <td>150.000000</td>\n",
       "      <td>150.000000</td>\n",
       "    </tr>\n",
       "    <tr>\n",
       "      <th>mean</th>\n",
       "      <td>75.500000</td>\n",
       "      <td>5.843333</td>\n",
       "      <td>3.054000</td>\n",
       "      <td>3.758667</td>\n",
       "      <td>1.198667</td>\n",
       "    </tr>\n",
       "    <tr>\n",
       "      <th>std</th>\n",
       "      <td>43.445368</td>\n",
       "      <td>0.828066</td>\n",
       "      <td>0.433594</td>\n",
       "      <td>1.764420</td>\n",
       "      <td>0.763161</td>\n",
       "    </tr>\n",
       "    <tr>\n",
       "      <th>min</th>\n",
       "      <td>1.000000</td>\n",
       "      <td>4.300000</td>\n",
       "      <td>2.000000</td>\n",
       "      <td>1.000000</td>\n",
       "      <td>0.100000</td>\n",
       "    </tr>\n",
       "    <tr>\n",
       "      <th>25%</th>\n",
       "      <td>38.250000</td>\n",
       "      <td>5.100000</td>\n",
       "      <td>2.800000</td>\n",
       "      <td>1.600000</td>\n",
       "      <td>0.300000</td>\n",
       "    </tr>\n",
       "    <tr>\n",
       "      <th>50%</th>\n",
       "      <td>75.500000</td>\n",
       "      <td>5.800000</td>\n",
       "      <td>3.000000</td>\n",
       "      <td>4.350000</td>\n",
       "      <td>1.300000</td>\n",
       "    </tr>\n",
       "    <tr>\n",
       "      <th>75%</th>\n",
       "      <td>112.750000</td>\n",
       "      <td>6.400000</td>\n",
       "      <td>3.300000</td>\n",
       "      <td>5.100000</td>\n",
       "      <td>1.800000</td>\n",
       "    </tr>\n",
       "    <tr>\n",
       "      <th>max</th>\n",
       "      <td>150.000000</td>\n",
       "      <td>7.900000</td>\n",
       "      <td>4.400000</td>\n",
       "      <td>6.900000</td>\n",
       "      <td>2.500000</td>\n",
       "    </tr>\n",
       "  </tbody>\n",
       "</table>\n",
       "</div>"
      ],
      "text/plain": [
       "               Id  SepalLengthCm  SepalWidthCm  PetalLengthCm  PetalWidthCm\n",
       "count  150.000000     150.000000    150.000000     150.000000    150.000000\n",
       "mean    75.500000       5.843333      3.054000       3.758667      1.198667\n",
       "std     43.445368       0.828066      0.433594       1.764420      0.763161\n",
       "min      1.000000       4.300000      2.000000       1.000000      0.100000\n",
       "25%     38.250000       5.100000      2.800000       1.600000      0.300000\n",
       "50%     75.500000       5.800000      3.000000       4.350000      1.300000\n",
       "75%    112.750000       6.400000      3.300000       5.100000      1.800000\n",
       "max    150.000000       7.900000      4.400000       6.900000      2.500000"
      ]
     },
     "execution_count": 3,
     "metadata": {},
     "output_type": "execute_result"
    }
   ],
   "source": [
    "data.describe()"
   ]
  },
  {
   "cell_type": "markdown",
   "metadata": {
    "id": "A7Puujg3Uc1n"
   },
   "source": [
    "**Observations**\n",
    "\n",
    "- **Average** sepal length is equal to **5.8 cm**.\n",
    "\n",
    "- **50%** of the flowers have **Sepal Width** less than equal to **3**.\n",
    "\n",
    "- Similarly, we can understand  the statistical inference for other features."
   ]
  },
  {
   "cell_type": "markdown",
   "metadata": {
    "id": "krgIYFUVUhU-"
   },
   "source": [
    "<a name = Section42></a>\n",
    "### **4.2 Data Information**\n",
    "\n",
    " - In this section, we will get **information about the data** and see some observations.\n"
   ]
  },
  {
   "cell_type": "code",
   "execution_count": 4,
   "metadata": {
    "colab": {
     "base_uri": "https://localhost:8080/"
    },
    "executionInfo": {
     "elapsed": 22,
     "status": "ok",
     "timestamp": 1687752557552,
     "user": {
      "displayName": "Yash Chauhan",
      "userId": "03194567605433747724"
     },
     "user_tz": -330
    },
    "id": "HrRrBwQjUaiK",
    "outputId": "a5b254bb-d7b6-449a-ce2c-4a52783f45ea"
   },
   "outputs": [
    {
     "name": "stdout",
     "output_type": "stream",
     "text": [
      "<class 'pandas.core.frame.DataFrame'>\n",
      "RangeIndex: 150 entries, 0 to 149\n",
      "Data columns (total 6 columns):\n",
      " #   Column         Non-Null Count  Dtype  \n",
      "---  ------         --------------  -----  \n",
      " 0   Id             150 non-null    int64  \n",
      " 1   SepalLengthCm  150 non-null    float64\n",
      " 2   SepalWidthCm   150 non-null    float64\n",
      " 3   PetalLengthCm  150 non-null    float64\n",
      " 4   PetalWidthCm   150 non-null    float64\n",
      " 5   Species        150 non-null    object \n",
      "dtypes: float64(4), int64(1), object(1)\n",
      "memory usage: 7.2+ KB\n"
     ]
    }
   ],
   "source": [
    "data.info()"
   ]
  },
  {
   "cell_type": "markdown",
   "metadata": {
    "id": "YfQYj9g5UmJm"
   },
   "source": [
    "**Observation**\n",
    "- We can see that there is **1 features** with **object** datatype and **5 features** as **int or float** datatype."
   ]
  },
  {
   "cell_type": "markdown",
   "metadata": {
    "id": "t_2bYwbAUpF-"
   },
   "source": [
    "<a name = Section5></a>\n",
    "\n",
    "---\n",
    "# **5. Data Pre-Processing**\n",
    "---"
   ]
  },
  {
   "cell_type": "markdown",
   "metadata": {
    "id": "rsJXKcnyUsNV"
   },
   "source": [
    "<a name = Section51></a>\n",
    "### **5.1 Pre Profiling Report**"
   ]
  },
  {
   "cell_type": "code",
   "execution_count": 5,
   "metadata": {
    "id": "nK5rgQppUjhp"
   },
   "outputs": [
    {
     "data": {
      "application/vnd.jupyter.widget-view+json": {
       "model_id": "eae9db65869847eebf9b2e8060767363",
       "version_major": 2,
       "version_minor": 0
      },
      "text/plain": [
       "Summarize dataset:   0%|          | 0/5 [00:00<?, ?it/s]"
      ]
     },
     "metadata": {},
     "output_type": "display_data"
    },
    {
     "data": {
      "application/vnd.jupyter.widget-view+json": {
       "model_id": "832d5bc5c2ba424e98b2a0e7261ec40d",
       "version_major": 2,
       "version_minor": 0
      },
      "text/plain": [
       "Generate report structure:   0%|          | 0/1 [00:00<?, ?it/s]"
      ]
     },
     "metadata": {},
     "output_type": "display_data"
    },
    {
     "data": {
      "application/vnd.jupyter.widget-view+json": {
       "model_id": "59043aa6083e4b43aaeef654d4a4597c",
       "version_major": 2,
       "version_minor": 0
      },
      "text/plain": [
       "Render HTML:   0%|          | 0/1 [00:00<?, ?it/s]"
      ]
     },
     "metadata": {},
     "output_type": "display_data"
    },
    {
     "data": {
      "application/vnd.jupyter.widget-view+json": {
       "model_id": "0b36357d6d804dc3a62c7e0159a05f25",
       "version_major": 2,
       "version_minor": 0
      },
      "text/plain": [
       "Export report to file:   0%|          | 0/1 [00:00<?, ?it/s]"
      ]
     },
     "metadata": {},
     "output_type": "display_data"
    },
    {
     "name": "stdout",
     "output_type": "stream",
     "text": [
      "Accomplished!\n"
     ]
    }
   ],
   "source": [
    "profile = ProfileReport(df=data)\n",
    "profile.to_file(output_file='Pre_Profiling_Report.html')\n",
    "print('Accomplished!')"
   ]
  },
  {
   "cell_type": "code",
   "execution_count": null,
   "metadata": {
    "id": "82FeLgTbUuiw"
   },
   "outputs": [],
   "source": [
    "# from google.colab import files                   # Use only if you are using Google Colab, otherwise remove it\n",
    "# files.download('Pre Profiling Report.html')      # Use only if you are using Google Colab, otherwise remove it"
   ]
  },
  {
   "cell_type": "markdown",
   "metadata": {
    "id": "FXO-SA2PUy8l"
   },
   "source": [
    "**Observation:**\n",
    "\n",
    "-  The report shows that there are **6 features** out of which **1 is categorical**, and **5 is numerical**.\n",
    "\n",
    "- There exist **0 missing values**.\n",
    "\n",
    "- PetalLengthCm is **highly correlated** with PetalWidthCm.\n",
    "\n",
    "- Similarly, we can explore information for the rest of the features from the report."
   ]
  },
  {
   "cell_type": "markdown",
   "metadata": {
    "id": "t3v7cgIbQe8z"
   },
   "source": [
    "---\n",
    "**<h4>Question 1:** Create a function that drops **ID** feature  from the dataset.</h4>\n",
    "\n",
    "---"
   ]
  },
  {
   "cell_type": "code",
   "execution_count": 6,
   "metadata": {
    "id": "-s6X2ZEZPA_g"
   },
   "outputs": [],
   "source": [
    "def drop_features():\n",
    "    data.drop(columns=['Id'], inplace=True)"
   ]
  },
  {
   "cell_type": "code",
   "execution_count": 7,
   "metadata": {
    "colab": {
     "base_uri": "https://localhost:8080/",
     "height": 206
    },
    "executionInfo": {
     "elapsed": 19,
     "status": "ok",
     "timestamp": 1687752557554,
     "user": {
      "displayName": "Yash Chauhan",
      "userId": "03194567605433747724"
     },
     "user_tz": -330
    },
    "id": "UVsxcD5tRA5M",
    "outputId": "3e3ff2c0-22b6-4295-e381-2d0950f7f0c5"
   },
   "outputs": [
    {
     "data": {
      "text/html": [
       "<div>\n",
       "<style scoped>\n",
       "    .dataframe tbody tr th:only-of-type {\n",
       "        vertical-align: middle;\n",
       "    }\n",
       "\n",
       "    .dataframe tbody tr th {\n",
       "        vertical-align: top;\n",
       "    }\n",
       "\n",
       "    .dataframe thead th {\n",
       "        text-align: right;\n",
       "    }\n",
       "</style>\n",
       "<table border=\"1\" class=\"dataframe\">\n",
       "  <thead>\n",
       "    <tr style=\"text-align: right;\">\n",
       "      <th></th>\n",
       "      <th>SepalLengthCm</th>\n",
       "      <th>SepalWidthCm</th>\n",
       "      <th>PetalLengthCm</th>\n",
       "      <th>PetalWidthCm</th>\n",
       "      <th>Species</th>\n",
       "    </tr>\n",
       "  </thead>\n",
       "  <tbody>\n",
       "    <tr>\n",
       "      <th>0</th>\n",
       "      <td>5.1</td>\n",
       "      <td>3.5</td>\n",
       "      <td>1.4</td>\n",
       "      <td>0.2</td>\n",
       "      <td>Iris-setosa</td>\n",
       "    </tr>\n",
       "    <tr>\n",
       "      <th>1</th>\n",
       "      <td>4.9</td>\n",
       "      <td>3.0</td>\n",
       "      <td>1.4</td>\n",
       "      <td>0.2</td>\n",
       "      <td>Iris-setosa</td>\n",
       "    </tr>\n",
       "    <tr>\n",
       "      <th>2</th>\n",
       "      <td>4.7</td>\n",
       "      <td>3.2</td>\n",
       "      <td>1.3</td>\n",
       "      <td>0.2</td>\n",
       "      <td>Iris-setosa</td>\n",
       "    </tr>\n",
       "    <tr>\n",
       "      <th>3</th>\n",
       "      <td>4.6</td>\n",
       "      <td>3.1</td>\n",
       "      <td>1.5</td>\n",
       "      <td>0.2</td>\n",
       "      <td>Iris-setosa</td>\n",
       "    </tr>\n",
       "    <tr>\n",
       "      <th>4</th>\n",
       "      <td>5.0</td>\n",
       "      <td>3.6</td>\n",
       "      <td>1.4</td>\n",
       "      <td>0.2</td>\n",
       "      <td>Iris-setosa</td>\n",
       "    </tr>\n",
       "  </tbody>\n",
       "</table>\n",
       "</div>"
      ],
      "text/plain": [
       "   SepalLengthCm  SepalWidthCm  PetalLengthCm  PetalWidthCm      Species\n",
       "0            5.1           3.5            1.4           0.2  Iris-setosa\n",
       "1            4.9           3.0            1.4           0.2  Iris-setosa\n",
       "2            4.7           3.2            1.3           0.2  Iris-setosa\n",
       "3            4.6           3.1            1.5           0.2  Iris-setosa\n",
       "4            5.0           3.6            1.4           0.2  Iris-setosa"
      ]
     },
     "execution_count": 7,
     "metadata": {},
     "output_type": "execute_result"
    }
   ],
   "source": [
    "drop_features()\n",
    "data.head()"
   ]
  },
  {
   "cell_type": "markdown",
   "metadata": {
    "id": "lqeGFKzTRRBJ"
   },
   "source": [
    "<a name = Section6></a>\n",
    "\n",
    "---\n",
    "# **6. Exploratory Data Analysis**\n",
    "---"
   ]
  },
  {
   "cell_type": "markdown",
   "metadata": {
    "id": "3vEZ3zIZRUOl"
   },
   "source": [
    "---\n",
    "**<h4>Question 2:** Create a function that displays the distribution of all the columns with respect to species column?</h4>\n",
    "\n",
    "---\n",
    "<details>\n",
    "\n",
    "**<summary>Hint:</summary>**\n",
    "\n",
    "- You can plot the frequency distribution using seaborn hist/kde function.\n",
    "\n",
    "- You can add hue as species ."
   ]
  },
  {
   "cell_type": "code",
   "execution_count": 8,
   "metadata": {
    "id": "BnCgdY7ORLmw"
   },
   "outputs": [],
   "source": [
    "def distribution_plot():\n",
    "    colors_list = ['gold', 'yellowgreen', 'lightcoral', 'lightskyblue', 'lightgreen', 'red']\n",
    "    figure = plt.figure(figsize = [15, 7])\n",
    "\n",
    "\n",
    "    plt.subplot(2, 2, 1)\n",
    "    sns.histplot(x='SepalLengthCm',hue='Species', data=data, color='#DB5F57')\n",
    "    plt.xlabel('SepalLengthCm', size = 14)\n",
    "    plt.ylabel('length', size = 14)\n",
    "    plt.title('Distribution of Sepal Length', size = 16)\n",
    "\n",
    "\n",
    "    plt.subplot(2, 2, 2)\n",
    "    sns.histplot(x='SepalWidthCm', hue='Species', data=data, color='lightskyblue')\n",
    "    plt.xlabel('Sepal Width', size = 14)\n",
    "    plt.ylabel('length', size = 14)\n",
    "    plt.title('Distribution of Sepal width', size = 16)\n",
    "\n",
    "\n",
    "    plt.subplot(2, 2, 3)\n",
    "    sns.histplot(x='PetalLengthCm', hue='Species', data=data, color='#DBC257')\n",
    "    plt.xlabel('Petal Length', size = 14)\n",
    "    plt.ylabel('length', size = 14)\n",
    "    plt.title('Distribution of petal Length', size = 16)\n",
    "\n",
    "\n",
    "    plt.subplot(2, 2, 4)\n",
    "    sns.histplot(x='PetalWidthCm', hue='Species', data=data, color='lightgreen')\n",
    "    plt.xlabel('PetalWidthCm', size = 14)\n",
    "    plt.ylabel('length', size = 14)\n",
    "    plt.title('Distribution of width Length', size = 16)\n",
    "    plt.tight_layout()\n",
    "    plt.show()"
   ]
  },
  {
   "cell_type": "code",
   "execution_count": 9,
   "metadata": {
    "colab": {
     "base_uri": "https://localhost:8080/",
     "height": 707
    },
    "executionInfo": {
     "elapsed": 2231,
     "status": "ok",
     "timestamp": 1687752559767,
     "user": {
      "displayName": "Yash Chauhan",
      "userId": "03194567605433747724"
     },
     "user_tz": -330
    },
    "id": "x-fiteOnS1bC",
    "outputId": "251ae6d9-3297-41de-dc90-74d4bff2b42d"
   },
   "outputs": [
    {
     "data": {
      "image/png": "[encoded data removed]",
      "text/plain": [
       "<Figure size 1500x700 with 4 Axes>"
      ]
     },
     "metadata": {},
     "output_type": "display_data"
    }
   ],
   "source": [
    "distribution_plot()"
   ]
  },
  {
   "cell_type": "markdown",
   "metadata": {
    "id": "73mz5Xt8U7ls"
   },
   "source": [
    "**Observation:**"
   ]
  },
  {
   "cell_type": "markdown",
   "metadata": {
    "id": "iaVnhHMIVYVD"
   },
   "source": [
    "---\n",
    "**<h4>Question 3:** Create a function that displays the correlation between different features.</h4>\n",
    "\n",
    "---\n",
    "<details>\n",
    "\n",
    "**<summary>Hint:</summary>**\n",
    "\n",
    "- Write a function  plot_corr() function to create a heatmap of size (10, 7).\n",
    "\n",
    "- Use .corr() function to find the correlation between the features in the data.\n",
    "\n",
    "- Use seaborn heatmap function to plot the following."
   ]
  },
  {
   "cell_type": "code",
   "execution_count": 10,
   "metadata": {
    "id": "pXirmU9uS3oI"
   },
   "outputs": [],
   "source": [
    "def plot_corr():\n",
    "    correlation_matrix = data.corr()\n",
    "    fig = plt.figure(figsize=(10, 7))\n",
    "    sns.heatmap(correlation_matrix, cmap=\"coolwarm\")\n",
    "    plt.show()"
   ]
  },
  {
   "cell_type": "code",
   "execution_count": 11,
   "metadata": {
    "colab": {
     "base_uri": "https://localhost:8080/",
     "height": 605
    },
    "executionInfo": {
     "elapsed": 907,
     "status": "ok",
     "timestamp": 1687752560668,
     "user": {
      "displayName": "Yash Chauhan",
      "userId": "03194567605433747724"
     },
     "user_tz": -330
    },
    "id": "XE1sX3-xVbkM",
    "outputId": "ef919346-e4b3-44d1-d5c9-56160b9d4da3"
   },
   "outputs": [
    {
     "data": {
      "image/png": "[encoded data removed]",
      "text/plain": [
       "<Figure size 1000x700 with 2 Axes>"
      ]
     },
     "metadata": {},
     "output_type": "display_data"
    }
   ],
   "source": [
    "plot_corr()"
   ]
  },
  {
   "cell_type": "markdown",
   "metadata": {
    "id": "mwKZ4wc0VyzN"
   },
   "source": [
    "**Observation:**"
   ]
  },
  {
   "cell_type": "markdown",
   "metadata": {
    "id": "Hay43t-XjJ0R"
   },
   "source": [
    "<a name = Section7></a>\n",
    "\n",
    "---\n",
    "# **7. Post Data Processing & Feature Selection**\n",
    "---\n"
   ]
  },
  {
   "cell_type": "markdown",
   "metadata": {
    "id": "Y_dQPGkYK6gt"
   },
   "source": [
    "---\n",
    "**<h4>Question 4:** Convert categorical features into numerical features for Modelling.</h4>\n",
    "\n",
    "---\n",
    "<details>\n",
    "\n",
    "**<summary>Hint:</summary>**\n",
    "- Use **Label encoding** to transform data."
   ]
  },
  {
   "cell_type": "code",
   "execution_count": 12,
   "metadata": {
    "id": "V3YsuUdSdIio"
   },
   "outputs": [],
   "source": [
    "def encoding():\n",
    "    from sklearn.preprocessing import LabelEncoder\n",
    "    y=data['Species']\n",
    "    le=LabelEncoder()\n",
    "    return le.fit_transform(y)"
   ]
  },
  {
   "cell_type": "code",
   "execution_count": 13,
   "metadata": {
    "id": "rxvt5c31ecc4"
   },
   "outputs": [],
   "source": [
    "y1 = encoding()"
   ]
  },
  {
   "cell_type": "markdown",
   "metadata": {
    "id": "ogQVX5HejSrq"
   },
   "source": [
    "---\n",
    "**<h4>Question 5:** Prepare the  data according to the following model requirements.</h4>\n",
    "\n",
    "---\n",
    "<details>\n",
    "\n",
    "**<summary>Hint:</summary>**\n",
    "- **Split** the data into **70:30** inside train_test_split.\n",
    "\n",
    "- Make sure to set the **random_state = 1**.\n"
   ]
  },
  {
   "cell_type": "code",
   "execution_count": 14,
   "metadata": {
    "id": "C58N-flWhgh5"
   },
   "outputs": [],
   "source": [
    "def data_prep(data):\n",
    "    X=data.drop(columns=['Species'])\n",
    "    y=y1\n",
    "    X_train, X_test, y_train, y_test = train_test_split(X, y, random_state = 1, test_size=0.3)\n",
    "    return X_train,X_test,y_train, y_test, X, y"
   ]
  },
  {
   "cell_type": "code",
   "execution_count": 15,
   "metadata": {
    "id": "VqN3hZJAjZ09"
   },
   "outputs": [],
   "source": [
    "X_train, X_test, y_train, y_test, X, y = data_prep(data)"
   ]
  },
  {
   "cell_type": "markdown",
   "metadata": {
    "id": "vGKGV13TPaLJ"
   },
   "source": [
    "---\n",
    "**<h4>Question 6:** Create a function to normalize the data.</h4>\n",
    "\n",
    "---\n",
    "<details>\n",
    "\n",
    "**<summary>Hint:</summary>**\n",
    "- Using the StandardScaler() function  transform the data in suitable format for the model.\n"
   ]
  },
  {
   "cell_type": "code",
   "execution_count": 16,
   "metadata": {
    "id": "-zIf-hY9O1wo"
   },
   "outputs": [],
   "source": [
    "def scale_data(X_train,X_test):\n",
    "    sc = StandardScaler()\n",
    "    X_train = sc.fit_transform(X_train)\n",
    "    X_test = sc.transform(X_test)\n",
    "    return X_train,X_test"
   ]
  },
  {
   "cell_type": "code",
   "execution_count": 17,
   "metadata": {
    "id": "sswUPmdSPTd3"
   },
   "outputs": [],
   "source": [
    "X_train, X_test = scale_data(X_train,X_test)"
   ]
  },
  {
   "cell_type": "markdown",
   "metadata": {
    "id": "vRaIb8JzmPKa"
   },
   "source": [
    "<a name = Section8></a>\n",
    "\n",
    "---\n",
    "# **8. Model Development & Evaluation**\n",
    "---\n",
    "\n",
    "- In this section, we will develop different **ensemble methods**.\n",
    "\n",
    "- Then we will **analyze the results** obtained and **make our observation**.\n",
    "\n",
    "- For **evaluation purposes** we will **focus** on the **accuracy score**.\n",
    "\n",
    "- **Remember** that we want to **generalize results** i.e. same results or error on testing data as that of training data."
   ]
  },
  {
   "cell_type": "markdown",
   "metadata": {
    "id": "ULCYHFPNnqh4"
   },
   "source": [
    "---\n",
    "**<h4>Question 7:** Create a function to  instantiate a bagging classifier  with the following settings.</h4>\n",
    "\n",
    "---\n",
    "<details>\n",
    "\n",
    "**<summary>Hint:</summary>**\n",
    "\n",
    "- You have to use the hyperparameters setting of the model as following:\n",
    "  - `base_estimator` = Logistic Regression\n",
    "  - `n_neghbors` = 500 and\n",
    "  - `random_state` = 42\n"
   ]
  },
  {
   "cell_type": "code",
   "execution_count": 18,
   "metadata": {
    "id": "KHERXnjajdP7"
   },
   "outputs": [],
   "source": [
    "def bagging():\n",
    "\n",
    "    bagClf = BaggingClassifier(LogisticRegression(), n_estimators=500, random_state=42)\n",
    "\n",
    "    return bagClf"
   ]
  },
  {
   "cell_type": "markdown",
   "metadata": {
    "id": "46032_RL4KjD"
   },
   "source": [
    "---\n",
    "**<h4>Question 8:** Create a function to instantiate a random forest classifier with the following settings.</h4>\n",
    "\n",
    "---\n",
    "<details>\n",
    "\n",
    "**<summary>Hint:</summary>**\n",
    "- You have to use the hyperparameters setting of the model as following:\n",
    "  - `n_neghbors` = 100,\n",
    "\n",
    "  - `random_state` = 42,\n",
    "\n",
    "  - `class_weight` = 'balanced'"
   ]
  },
  {
   "cell_type": "code",
   "execution_count": 19,
   "metadata": {
    "id": "iTKUntiV4R3L"
   },
   "outputs": [],
   "source": [
    "def random_forest():\n",
    "\n",
    "    rfm = RandomForestClassifier(n_estimators=100, random_state=41, class_weight='balanced')\n",
    "\n",
    "    return rfm"
   ]
  },
  {
   "cell_type": "markdown",
   "metadata": {
    "id": "ga1Vpjytx-Cy"
   },
   "source": [
    "---\n",
    "**<h4>Question 9:** Create a function to  instantiate an AdaBoost classifier with the following settings.</h4>\n",
    "\n",
    "---\n",
    "<details>\n",
    "\n",
    "**<summary>Hint:</summary>**\n",
    "- You have to use the hyperparameters setting of the model as following:\n",
    "  - `n_estimators` = 50\n",
    "\n",
    "  - `random_state` = 0\n",
    "  - `learning_rate` = 1"
   ]
  },
  {
   "cell_type": "code",
   "execution_count": 20,
   "metadata": {
    "id": "hVs3CunAqN1z"
   },
   "outputs": [],
   "source": [
    "def adaBoost():\n",
    "\n",
    "    abm = AdaBoostClassifier(n_estimators=50, learning_rate=1, random_state=0)\n",
    "\n",
    "    return abm"
   ]
  },
  {
   "cell_type": "markdown",
   "metadata": {
    "id": "EkTetmwC2SSL"
   },
   "source": [
    "---\n",
    "**<h4>Question 10:** Create a function to perform an ensemble model using Voting Classifier.</h4>\n",
    "\n",
    "---\n",
    "<details>\n",
    "\n",
    "**<summary>Hint:</summary>**\n",
    "- You can use different model like \"LogisticRegression\", \"DecisionTreeClassifier\", \"SVC\" to create a voting classifier."
   ]
  },
  {
   "cell_type": "code",
   "execution_count": 21,
   "metadata": {
    "id": "Lf6FzwFvzXFo"
   },
   "outputs": [],
   "source": [
    "def votingClass():\n",
    "\n",
    "    estimators =[]\n",
    "\n",
    "    model1 = LogisticRegression()\n",
    "    estimators.append(('logistic',model1))\n",
    "\n",
    "    model2 = DecisionTreeClassifier()\n",
    "    estimators.append(('cart', model2))\n",
    "\n",
    "    model3 = SVC()\n",
    "    estimators.append(('svm', model3))\n",
    "\n",
    "    vc = VotingClassifier(estimators)\n",
    "\n",
    "    return vc"
   ]
  },
  {
   "cell_type": "markdown",
   "metadata": {
    "id": "sCT5-vpjVwyZ"
   },
   "source": [
    "---\n",
    "**<h4>Question 11:** Create a function to predict accuracy score in both train and test dataset using different models.</h4>\n",
    "\n",
    "---\n",
    "<details>\n",
    "\n",
    "**<summary>Hint:</summary>**\n",
    "- Create a list with different functions and use a for-loop to predict accuracy on train and test set.\n",
    "\n",
    "- Store the result of train and test scores in separate lists."
   ]
  },
  {
   "cell_type": "code",
   "execution_count": 22,
   "metadata": {
    "id": "a8r-ACtOV9gi"
   },
   "outputs": [],
   "source": [
    "def predict_scores():\n",
    "\n",
    "    # Intialize a list of functions containing classifiers\n",
    "    clf_list = [bagging(), random_forest(), adaBoost(), votingClass()]\n",
    "\n",
    "    # Create an empty list to append scores and classifier name\n",
    "    train_scores = []\n",
    "    test_scores = []\n",
    "    clf_names = ['BaggingClassifier', 'RandomForest', 'AdaBoost', 'VotingClassifier']\n",
    "\n",
    "    # Train classifier over train data and append scores to empty list\n",
    "    for clf in clf_list:\n",
    "        # Fit the train data over the classifier object\n",
    "        clf.fit(X_train, y_train)\n",
    "\n",
    "        # Append train and test score to the empty list\n",
    "        train_scores.append(np.round(a=clf.score(X_train, y_train), decimals=2))\n",
    "        test_scores.append(np.round(a=clf.score(X_test, y_test), decimals=2))\n",
    "\n",
    "    return train_scores, test_scores, clf_names"
   ]
  },
  {
   "cell_type": "code",
   "execution_count": 23,
   "metadata": {
    "id": "0wtSDAQsx-WG"
   },
   "outputs": [
    {
     "name": "stdout",
     "output_type": "stream",
     "text": [
      "BaggingClassifier training score: 0.97\n",
      "BaggingClassifier testing score: 0.96\n",
      "\n",
      "RandomForest training score: 1.0\n",
      "RandomForest testing score: 0.96\n",
      "\n",
      "AdaBoost training score: 0.96\n",
      "AdaBoost testing score: 0.96\n",
      "\n",
      "VotingClassifier training score: 0.98\n",
      "VotingClassifier testing score: 0.96\n",
      "\n"
     ]
    }
   ],
   "source": [
    "train_scores, test_scores, clf_names = predict_scores()\n",
    "for index, item in enumerate(clf_names):\n",
    "    print(f\"{item} training score: {train_scores[index]}\")\n",
    "    print(f\"{item} testing score: {test_scores[index]}\")\n",
    "    print(\"\")"
   ]
  },
  {
   "cell_type": "markdown",
   "metadata": {
    "id": "LfFYGaLbYAcg"
   },
   "source": [
    "---\n",
    "**<h4>Question 12:** Complete the following function to initiate a dataframe with the scores of different models.</h4>\n",
    "\n",
    "---\n",
    "<details>\n",
    "\n",
    "**<summary>Hint:</summary>**\n",
    "- Using the pandas **DataFrame** method create a data frame to compare the accuracy score of different models.\n",
    "\n",
    "- Use the **transpose** method to make the data frame more readable."
   ]
  },
  {
   "cell_type": "code",
   "execution_count": 24,
   "metadata": {
    "id": "TH5xPBzLWjjV"
   },
   "outputs": [],
   "source": [
    "def create_frame():\n",
    "    # Create an accuracy dataframe from scores and names list\n",
    "    accuracy_frame = pd.DataFrame(data={'Train Accuracy': train_scores, 'Test Accuracy': test_scores}, index=clf_names)\n",
    "\n",
    "    # View the accuracy of all the classifiers\n",
    "    accuracy_frame = accuracy_frame.transpose()\n",
    "    return accuracy_frame"
   ]
  },
  {
   "cell_type": "code",
   "execution_count": 25,
   "metadata": {
    "colab": {
     "base_uri": "https://localhost:8080/",
     "height": 112
    },
    "executionInfo": {
     "elapsed": 8,
     "status": "ok",
     "timestamp": 1687752748053,
     "user": {
      "displayName": "Yash Chauhan",
      "userId": "03194567605433747724"
     },
     "user_tz": -330
    },
    "id": "nh3kA79MaTYv",
    "outputId": "1dc027eb-a536-414a-9e96-6f345757decb"
   },
   "outputs": [
    {
     "data": {
      "text/html": [
       "<div>\n",
       "<style scoped>\n",
       "    .dataframe tbody tr th:only-of-type {\n",
       "        vertical-align: middle;\n",
       "    }\n",
       "\n",
       "    .dataframe tbody tr th {\n",
       "        vertical-align: top;\n",
       "    }\n",
       "\n",
       "    .dataframe thead th {\n",
       "        text-align: right;\n",
       "    }\n",
       "</style>\n",
       "<table border=\"1\" class=\"dataframe\">\n",
       "  <thead>\n",
       "    <tr style=\"text-align: right;\">\n",
       "      <th></th>\n",
       "      <th>BaggingClassifier</th>\n",
       "      <th>RandomForest</th>\n",
       "      <th>AdaBoost</th>\n",
       "      <th>VotingClassifier</th>\n",
       "    </tr>\n",
       "  </thead>\n",
       "  <tbody>\n",
       "    <tr>\n",
       "      <th>Train Accuracy</th>\n",
       "      <td>0.97</td>\n",
       "      <td>1.00</td>\n",
       "      <td>0.96</td>\n",
       "      <td>0.98</td>\n",
       "    </tr>\n",
       "    <tr>\n",
       "      <th>Test Accuracy</th>\n",
       "      <td>0.96</td>\n",
       "      <td>0.96</td>\n",
       "      <td>0.96</td>\n",
       "      <td>0.96</td>\n",
       "    </tr>\n",
       "  </tbody>\n",
       "</table>\n",
       "</div>"
      ],
      "text/plain": [
       "                BaggingClassifier  RandomForest  AdaBoost  VotingClassifier\n",
       "Train Accuracy               0.97          1.00      0.96              0.98\n",
       "Test Accuracy                0.96          0.96      0.96              0.96"
      ]
     },
     "execution_count": 25,
     "metadata": {},
     "output_type": "execute_result"
    }
   ],
   "source": [
    "create_frame()"
   ]
  },
  {
   "cell_type": "markdown",
   "metadata": {
    "id": "kavALmXeaSsp"
   },
   "source": [
    "**Observation:**\n",
    "- We can see that **VotingClassifier** model has the **best accuracy** scores among the models.\n",
    "\n",
    "- We can see that all models generalize well on the test set without overfitting."
   ]
  },
  {
   "cell_type": "markdown",
   "metadata": {
    "id": "262dGqNxnKnR"
   },
   "source": [
    "---\n",
    "**<h4>Question 13:** Create a function to stack different models to create a stacking classifier.</h4>\n",
    "\n",
    "---\n",
    "<details>\n",
    "\n",
    "**<summary>Hint:</summary>**\n",
    "- Use StackingClassifier from **mlxtend** to create the model.\n",
    "\n",
    "- Build stacking classifier using **KNN**, **RadomForest** and **Naive Bayes**, use **LogisticRegression** as meta_classifier.\n",
    "\n",
    "- Use cross validation score to predict on the entire dataset with following parameters:\n",
    "  - `estimator` : clf (stacked models)\n",
    "  - `X` : X\n",
    "  - `y` : y\n",
    "  - `cv` : 3\n",
    "  - `scoring` : 'accuracy'\n",
    "\n",
    "- Note that use the whole dataset.\n",
    "\n",
    "- Print accuracy for different models with the model name.\n"
   ]
  },
  {
   "cell_type": "code",
   "execution_count": 26,
   "metadata": {
    "id": "Xwq8u00AizJ7"
   },
   "outputs": [],
   "source": [
    "def stacking_clf(X, y):\n",
    "\n",
    "    clf1 = KNeighborsClassifier(n_neighbors=1)\n",
    "    clf2 = RandomForestClassifier(random_state=1)\n",
    "    clf3 = GaussianNB()\n",
    "    clf4 = LogisticRegression()\n",
    "\n",
    "    sclf = StackingClassifier(classifiers=[clf1, clf2, clf3], meta_classifier=clf4)\n",
    "\n",
    "    for clf, label in zip([clf1, clf2, clf3, sclf], ['KNN', 'Random Forest', 'Naive Bayes', 'StackingClassifier']):\n",
    "        scores = model_selection.cross_val_score(clf, X, y, cv=3, scoring='accuracy')\n",
    "        print(\"Accuracy: %0.2f  [%s]\" % (scores.mean(), label))"
   ]
  },
  {
   "cell_type": "code",
   "execution_count": 27,
   "metadata": {
    "colab": {
     "base_uri": "https://localhost:8080/"
    },
    "executionInfo": {
     "elapsed": 1210,
     "status": "ok",
     "timestamp": 1687752749256,
     "user": {
      "displayName": "Yash Chauhan",
      "userId": "03194567605433747724"
     },
     "user_tz": -330
    },
    "id": "9z-KLbFou1n4",
    "outputId": "52004bab-ba61-4bcb-e2ed-c5bbfec4150f"
   },
   "outputs": [
    {
     "name": "stdout",
     "output_type": "stream",
     "text": [
      "Accuracy: 0.96  [KNN]\n",
      "Accuracy: 0.97  [Random Forest]\n",
      "Accuracy: 0.94  [Naive Bayes]\n",
      "Accuracy: nan  [StackingClassifier]\n"
     ]
    }
   ],
   "source": [
    "stacking_clf(X, y)"
   ]
  },
  {
   "cell_type": "markdown",
   "metadata": {
    "id": "PeAJudIAwRjE"
   },
   "source": [
    "**Observation:**\n",
    "- We can see that Naive Bayes gives us pretty **good accuracy** scores the other models."
   ]
  },
  {
   "cell_type": "markdown",
   "metadata": {
    "id": "WZqF6hVQ3tcG"
   },
   "source": [
    "<a name = Section9></a>\n",
    "\n",
    "---\n",
    "# **9. Conclusion**\n",
    "---\n"
   ]
  },
  {
   "cell_type": "markdown",
   "metadata": {
    "id": "xuzaLODkwQ4M"
   },
   "source": [
    "- We **analyzed** and understood different **factors** to classify the flowers.\n",
    "\n",
    "- We performed **different** ensemble methods where the **voting classifier** and **random forest** gave us the good accuracy scores.\n",
    "\n",
    "- We can also try experimenting with various **hyperparameters** to improve model accuracy.\n",
    "\n",
    "- Now the finalized **model** will **help** in predicting if a flower belongs to a particular specie or not\n",
    "\n",
    "- At the same time, it will also reduce the time and resources for identifying these flowers."
   ]
  }
 ],
 "metadata": {
  "colab": {
   "provenance": [
    {
     "file_id": "1AjYcyguyKW-UKE52jyyC0Y_CoZno42Ly",
     "timestamp": 1681453254803
    }
   ]
  },
  "kernelspec": {
   "display_name": "Python 3 (ipykernel)",
   "language": "python",
   "name": "python3"
  },
  "language_info": {
   "codemirror_mode": {
    "name": "ipython",
    "version": 3
   },
   "file_extension": ".py",
   "mimetype": "text/x-python",
   "name": "python",
   "nbconvert_exporter": "python",
   "pygments_lexer": "ipython3",
   "version": "3.9.13"
  }
 },
 "nbformat": 4,
 "nbformat_minor": 1
}
