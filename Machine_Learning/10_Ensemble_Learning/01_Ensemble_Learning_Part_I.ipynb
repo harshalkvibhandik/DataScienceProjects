{
 "cells": [
  {
   "cell_type": "markdown",
   "metadata": {
    "id": "fzu3Se5kE4M1"
   },
   "source": [
    "# <center><b>Ensemble Learning - Part I<b></center>"
   ]
  },
  {
   "cell_type": "markdown",
   "metadata": {
    "id": "QDP5a6srE-e6"
   },
   "source": [
    "---\n",
    "# **Table of Contents**\n",
    "---\n",
    "\n",
    "**1.** [**Introduction**](#Section1)<br>\n",
    "  - **1.1** [**Bagging**](#Section11)\n",
    "  - **1.2** [**Random Forests**](#Section12)\n",
    "  - **1.3** [**Boosting**](#Section13)\n",
    "  - **1.4** [**Voting**](#Section14)\n",
    "  - **1.5** [**Pros/Cons of Ensemble Learning**](#Section15)\n",
    "\n",
    "**2.** [**Problem Statement**](#Section2)<br>\n",
    "**3.** [**Installing & Importing Libraries**](#Section3)<br>\n",
    "  - **3.1** [**Installing Libraries**](#Section31)\n",
    "  - **3.2** [**Upgrading Libraries**](#Section32)\n",
    "  - **3.3** [**Importing Libraries**](#Section33)\n",
    "\n",
    "**4.** [**Data Acquisition & Description**](#Section4)<br>\n",
    "  - **4.1** [**Data Description**](#Section41)\n",
    "  - **4.2** [**Data Information**](#Section42)\n",
    "\n",
    "**5.** [**Data Pre-processing**](#Section5)<br>\n",
    "  - **5.1** [**Pre-Profiling Report**](#Section51)<br>\n",
    "\n",
    "**6.** [**Exploratory Data Analysis**](#Section6)<br>\n",
    "**7.** [**Post Data Processing & Feature Selection**](#Section7)<br>\n",
    "  - **7.1** [**Feature Encoding**](#Section71)<br>\n",
    "  - **7.2** [**Feature Selection**](#Section72)<br>\n",
    "  - **7.3** [**Data Preparation**](#Section73)<br>\n",
    "\n",
    "**8.** [**Model Development & Evaluation**](#Section8)<br>\n",
    "**9.** [**Conclusion**](#Section9)<br>"
   ]
  },
  {
   "cell_type": "markdown",
   "metadata": {
    "id": "OK5QX5w6E_8a"
   },
   "source": [
    "---\n",
    "<a name = Section1></a>\n",
    "# **1. Introduction**\n",
    "---\n",
    "\n",
    "-  Ensemble Learning is the **process** by which **multiple models** (classifiers or experts), are **strategically generated** and combined.\n",
    "\n",
    "- When combined they provide a **solution** to a particular **computational** **intelligence** **problem**.\n",
    "\n",
    "- It is primarily used to **improve** the **performance** of a model, or **reduce** the likelihood of an **unfortunate selection** of a poor one.\n",
    "\n",
    "<center><img src=\"https://raw.githubusercontent.com/insaid2018/Term-4/master/images/ensemble-learning.png\"></center>\n",
    "\n",
    "- **For example**, a person wants to check his health, but he's not sure if the result from one doctor would be consistent.\n",
    "\n",
    "- He made a voting strategy where he thought of getting diagnosed by a doctor at different clinics.\n",
    "\n",
    "- After a few days, he made a conclusion based on that strategy.\n",
    "\n",
    "**<center><h3>Structural Diagram of Ensemble Techniques</h3></center>**\n",
    "<center><img src=\"https://raw.githubusercontent.com/insaid2018/Term-3/master/Images/ensemble-learning-types-part-1-updated.png\"></center>\n"
   ]
  },
  {
   "cell_type": "markdown",
   "metadata": {
    "id": "QAOM_zk2bkow"
   },
   "source": [
    "<a name = Section11></a>\n",
    "## **1.1 Bagging**"
   ]
  },
  {
   "cell_type": "markdown",
   "metadata": {
    "id": "Qnx_G4bcb4E6"
   },
   "source": [
    "- This method build **several instances** of a black-box estimator on **random** subsets of the original **training set**.\n",
    "\n",
    "- Then these estimators **aggregate** their **individual predictions** to form a final prediction.\n",
    "\n",
    "- These methods are used as a way to **reduce** the **variance** (overfitting) of a base estimator by introducing randomization.\n",
    "\n",
    "- They **work best** with **strong** and **complex models** (e.g., fully developed decision trees).\n",
    "</br>\n",
    "<center><img src=\"https://raw.githubusercontent.com/insaid2018/Term-4/master/images/bagging-updated1.png\"></center>"
   ]
  },
  {
   "cell_type": "markdown",
   "metadata": {
    "id": "42fpzx-0brYG"
   },
   "source": [
    "<a name = Section12></a>\n",
    "## **1.2 Random Forests**"
   ]
  },
  {
   "cell_type": "markdown",
   "metadata": {
    "id": "bkGPJmX-xoG_"
   },
   "source": [
    "- Here each tree in the ensemble is built from a **sample** drawn **with replacement** (i.e., a bootstrap sample) from the training set.\n",
    "\n",
    "- By default the **bootstrap** is set to **True** and the most common bootstrap used is **.632 bootstrap**.\n",
    "\n",
    "- On average, **63.2%** of the original **examples** will end up in the **bootstrap sample**, and the remaining **36.8%** will form the **test set**.\n",
    "\n",
    "- The model tries to **find** the **best split** either from all input features or a random subset of features specified by the size.\n",
    "\n",
    "- The purpose of these two sources of randomness is to **decrease** the **variance** of the **forest estimator**.\n",
    "\n",
    "- Random forests achieve a reduced variance by combining diverse trees, sometimes at the cost of a slight increase in bias.\n",
    "\n",
    "- In an implementation, **classifiers** **average** their probabilistic **prediction**, instead of letting each classifier vote for a single class.\n",
    "\n",
    "</br>\n",
    "<center><img src=\"https://raw.githubusercontent.com/insaid2018/Term-4/master/images/random-forest.png\"></center>"
   ]
  },
  {
   "cell_type": "markdown",
   "metadata": {
    "id": "A_sCgBalbw7o"
   },
   "source": [
    "<a name = Section13></a>\n",
    "## **1.3 Boosting**\n",
    "\n",
    "- It is **a family of algorithms** which converts weak learner to strong learners.\n",
    "\n",
    "- Boosting is an **ensemble method** for improving the model predictions of any given learning algorithm.\n",
    "\n",
    "- The idea of boosting is to **train weak learners sequentially**, each trying to **correct its predecessor**.\n",
    "\n",
    "- There are **two variants** of Boosting that exists i.e. **AdaBoost** and **Gradient Boosting**."
   ]
  },
  {
   "cell_type": "markdown",
   "metadata": {
    "id": "w9yEXcIx3BDh"
   },
   "source": [
    "<a name = Section131></a>\n",
    "### **1.3.1 Adaptive Boosting**"
   ]
  },
  {
   "cell_type": "markdown",
   "metadata": {
    "id": "VeHYlcWm4KPn"
   },
   "source": [
    "- A **popular** boosting algorithm AdaBoost, introduced in **1995** by **Freund and Schapire**.\n",
    "\n",
    "- Here the core principle is to fit **a sequence of weak learners** on **repeatedly modified** versions of the data.\n",
    "\n",
    "- The predictions from all of them are then **combined** through a **weighted majority vote** (or sum) to produce the final prediction.\n",
    "\n",
    "- The data modifications at each so-called **boosting iteration** consist of applying weights $w_1, w_2, …, w_n$ to each of the training samples.\n",
    "\n",
    "- Initially, those weights are all set to $w_i = \\large \\frac{1}{N}$, so that the first step simply trains a weak learner on the original data.\n",
    "\n",
    "- For each successive iteration, the sample **weights** are individually **modified** and the learning algorithm is **reapplied** to the reweighted data.\n",
    "\n",
    "- The **weights** of training examples are **increased** if **incorrectly** predicted and **decreased** for predicted **correctly** at the previous step.\n",
    "\n",
    "- To compute the error rate of model $M_i$ , we sum the weights of each of the example in $D_i$ that $M_i$ misclassified.\n",
    "</br>\n",
    "<center>$\\large error(M_i) = \\sum_{i=1}^{d} w_j * err(X_j)$, where </center>\n",
    "</br>\n",
    "\n",
    "- where $err(X_j)$ is the misclassification error of eample $X_j$.\n",
    "\n",
    "- If a example in round i was correctly classified, its weight is multiplied by $\\large \\frac{error(M_i)}{(1-error(M_i))}$\n",
    "\n",
    "- As iterations proceed, examples that are difficult to predict receive ever-increasing influence.\n",
    "\n",
    "- Each subsequent weak learner is thereby **forced** to **concentrate** on the examples that are **missed** by the **previous** ones in the sequence.\n",
    "\n",
    "</br>\n",
    "<center><img src=\"https://raw.githubusercontent.com/insaid2018/Term-4/master/images/adaboost.png\"></center>"
   ]
  },
  {
   "cell_type": "markdown",
   "metadata": {
    "id": "HS_POXeA3Fhw"
   },
   "source": [
    "<a name = Section132></a>\n",
    "### **1.3.2 Gradient Boosting**"
   ]
  },
  {
   "cell_type": "markdown",
   "metadata": {
    "id": "QKUdz0rjLQG5"
   },
   "source": [
    "- Gradient Boosted Decision Trees (GBDT) is a **generalization** of **boosting** to arbitrary differentiable loss functions.\n",
    "\n",
    "- GBDT is an **accurate** and **effective** off-the-shelf **procedure** that can be used for both regression and classification problems.\n",
    "\n",
    "- Here model **learns** from the **mistake** - **residual error** directly, rather than update the weights of data points.\n",
    "\n",
    "- It can **support** both **binary** and **multi-class** classification.\n",
    "</br>\n",
    "<center><img src=\"https://raw.githubusercontent.com/insaid2018/Term-4/master/images/boosting-tree-updated.png\"></center>"
   ]
  },
  {
   "cell_type": "markdown",
   "metadata": {
    "id": "MSbAYlXhb0B2"
   },
   "source": [
    "<a name = Section14></a>\n",
    "## **1.4 Voting**"
   ]
  },
  {
   "cell_type": "markdown",
   "metadata": {
    "id": "egMubiChLw-H"
   },
   "source": [
    "- The idea here is to **combine** conceptually **different** machine learning **classifiers**.\n",
    "\n",
    "- Then use a **majority vote** or the **average predicted probabilities** (soft vote) to predict the class labels.\n",
    "\n",
    "- Such a **classifier** can be useful for a set of equally well performing model in order to **balance** out their **individual weaknesses**.\n",
    "\n",
    "- They can be categorized into two parts i.e. **Hard Voting** and **Soft Voting**."
   ]
  },
  {
   "cell_type": "markdown",
   "metadata": {
    "id": "YOTb_9_lQUqj"
   },
   "source": [
    "<a name = Section141></a>\n",
    "### **1.4.1 Hard Voting**\n",
    "\n",
    "- Here the **predicted class** label **represents** the **majority** (mode) of the class labels predicted by each individual classifier.\n",
    "\n",
    "- E.g., if the prediction for a given sample is\n",
    "  - Classifier 1 &rarr; Class 1\n",
    "\n",
    "  - Classifier 2 &rarr; Class 1\n",
    "\n",
    "  - Classifier 3 &rarr; Class 2\n",
    "\n",
    "- The **VotingClassifier** (with voting='hard') would classify the sample as “**Class 1**” based on the majority class label.\n",
    "\n",
    "- In the **cases of a tie**, the VotingClassifier will select the class based on the **ascending sort order**. E.g.\n",
    "  - Classifier 1 &rarr; Class 2\n",
    "\n",
    "  - Classifier 2 &rarr; Class 1\n",
    "\n",
    "- The **Class label 1** will be assigned to the sample."
   ]
  },
  {
   "cell_type": "markdown",
   "metadata": {
    "id": "T7mOTcR3QaHO"
   },
   "source": [
    "<a name = Section142></a>\n",
    "### **1.4.2 Soft Voting**\n",
    "\n",
    "- It **returns** the **class label** as **argmax** of the sum of predicted probabilities.\n",
    "\n",
    "- We can provide **specific weights** to **each classifier**.\n",
    "\n",
    "- The **predicted** class **probabilities** for each classifier are collected, **multiplied** by the classifier **weight**, and **averaged**.\n",
    "\n",
    "- The **final** class **label** is then derived from the class label with the **highest average probability**.\n",
    "\n",
    "- For example, let’s assume we have 3 classifiers and a 3-class classification problems:\n",
    "  - We assign equal weights to all classifiers: $w1=1, w2=1, w3=1$.\n",
    "\n",
    "- The weighted average probabilities for a sample would then be calculated as follows:\n",
    "\n",
    "|Classifier|Class 1|Class 2|Class 3|\n",
    "|:--:|:--:|:--:|:--:|\n",
    "|Classifier 1|w1 x 0.2|w1 x 0.5|w1 x 0.3|\n",
    "|Classifier 2|w2 x 0.6|w2 x 0.3|w2 x 0.1|\n",
    "|Classifier 3|w3 x 0.3|w3 x 0.4|w3 x 0.3|\n",
    "|Weighted Average|0.37|0.4|0.23|\n",
    "\n",
    "- Here, the predicted class label is 2, since it has the highest average probability."
   ]
  },
  {
   "cell_type": "markdown",
   "metadata": {
    "id": "qjWhIH5gNmwY"
   },
   "source": [
    "<a name = Section15></a>\n",
    "## **1.5 Pros/Cons of Ensemble Learning**"
   ]
  },
  {
   "cell_type": "markdown",
   "metadata": {
    "id": "6vYsKiyWNtwQ"
   },
   "source": [
    "**Pros:**\n",
    "\n",
    "- Ensemble is a proven method for __improving the accuracy__ of the model and works in most of the cases.\n",
    "\n",
    "- Ensemble makes the model more __robust__ and __stable__ thus entering decent performance on the test cases in more scenarios.\n",
    "\n",
    "- You can ensemble to capture __linear__ and simple as well __non-linear__ complex relationships in the data.\n",
    "- This can be done by using __two different models__ and forming an __ensemble of two__.\n",
    "\n",
    "**Cons:**\n",
    "\n",
    "- Ensemble __reduce the model interpret-ability__ and makes it very difficult to draw any crucial business insights at the end.\n",
    "\n",
    "- It is __time-consuming__ and thus might not be the best idea for real-time applications.\n",
    "\n",
    "- The __selection of models__ for creating an ensemble is an __art__ which is really hard to master."
   ]
  },
  {
   "cell_type": "markdown",
   "metadata": {
    "id": "KYz4Oh4_9NF7"
   },
   "source": [
    "---\n",
    "<a name = Section2></a>\n",
    "# **2. Problem Statement**\n",
    "---\n",
    "\n",
    "<center><img src=\"https://www.reno.gov/Home/ShowImage?id=7739&t=635620964226970000\"></center>\n",
    "\n",
    "**<h4>Scenario:</h4>**\n",
    "\n",
    "- **Banknote** Authenticator Inc. is a financial institution that specializes in verifying the authenticity of banknotes. As part of their operations, they use a machine learning system to **classify** banknotes as either genuine or counterfeit based on various attributes.\n",
    "\n",
    "- The company is facing an increasing number of **counterfeit** banknotes in circulation, which is causing financial losses and damaging their reputation. They are looking to enhance their banknote authentication system to improve its accuracy and reliability.\n",
    "\n",
    "- To address this challenge, the company has **collected** a dataset containing features extracted from images of genuine and counterfeit banknotes. They have tasked a team of data scientists, including yourself, to develop a robust machine learning model that can accurately distinguish between genuine and counterfeit banknotes.\n",
    "\n",
    "**Problem Statement**:\n",
    "\n",
    "- Design and develop a machine learning model that can effectively classify banknotes as genuine or counterfeit based on a given set of features. The model should be capable of accurately **identifying** counterfeit banknotes to minimize financial losses and maintain the company's reputation.\n",
    "\n",
    "\n",
    "- The goal is to achieve a high classification accuracy while ensuring a low false positive rate (misclassifying genuine banknotes as counterfeit). The model should be scalable, capable of handling large volumes of banknote data for real-time authentication.\n",
    "\n",
    "- The team is expected to analyze the provided dataset, preprocess the data, explore different classification algorithms, tune **hyperparameters**, and evaluate the model's performance using appropriate metrics. The final model should be deployed in a production environment and integrated into the company's existing banknote authentication system.\n",
    "\n",
    "- By successfully addressing this problem, Banknote Authenticator Inc. aims to strengthen their position in the market by offering a reliable and accurate banknote authentication service, **ensuring** the confidence of their clients in their financial transactions."
   ]
  },
  {
   "cell_type": "markdown",
   "metadata": {
    "id": "uQNzD3KZ9RVX"
   },
   "source": [
    "---\n",
    "<a name = Section3></a>\n",
    "# **3. Installing & Importing Libraries**\n",
    "---"
   ]
  },
  {
   "cell_type": "markdown",
   "metadata": {
    "id": "kIlSjMer9T_n"
   },
   "source": [
    "<a name = Section31></a>\n",
    "### **3.1 Installing Libraries**"
   ]
  },
  {
   "cell_type": "code",
   "execution_count": 1,
   "metadata": {
    "colab": {
     "base_uri": "https://localhost:8080/"
    },
    "executionInfo": {
     "elapsed": 54536,
     "status": "ok",
     "timestamp": 1687752410657,
     "user": {
      "displayName": "Yash Chauhan",
      "userId": "03194567605433747724"
     },
     "user_tz": -330
    },
    "id": "EOD5d2c7BA47",
    "outputId": "55dd7943-a9bf-41d2-cd51-1802968c940c"
   },
   "outputs": [
    {
     "name": "stdout",
     "output_type": "stream",
     "text": [
      "\u001b[2K     \u001b[90m━━━━━━━━━━━━━━━━━━━━━━━━━━━━━━━━━━━━━━━━\u001b[0m \u001b[32m1.6/1.6 MB\u001b[0m \u001b[31m23.5 MB/s\u001b[0m eta \u001b[36m0:00:00\u001b[0m\n",
      "\u001b[2K     \u001b[90m━━━━━━━━━━━━━━━━━━━━━━━━━━━━━━━━━━━━━━━\u001b[0m \u001b[32m324.4/324.4 kB\u001b[0m \u001b[31m8.4 MB/s\u001b[0m eta \u001b[36m0:00:00\u001b[0m\n",
      "\u001b[2K     \u001b[90m━━━━━━━━━━━━━━━━━━━━━━━━━━━━━━━━━━━━━━\u001b[0m \u001b[32m353.0/353.0 kB\u001b[0m \u001b[31m25.8 MB/s\u001b[0m eta \u001b[36m0:00:00\u001b[0m\n",
      "\u001b[2K     \u001b[90m━━━━━━━━━━━━━━━━━━━━━━━━━━━━━━━━━━━━━━━\u001b[0m \u001b[32m102.7/102.7 kB\u001b[0m \u001b[31m8.2 MB/s\u001b[0m eta \u001b[36m0:00:00\u001b[0m\n",
      "\u001b[?25h  Preparing metadata (setup.py) ... \u001b[?25l\u001b[?25hdone\n",
      "\u001b[2K     \u001b[90m━━━━━━━━━━━━━━━━━━━━━━━━━━━━━━━━━━━━━━\u001b[0m \u001b[32m679.5/679.5 kB\u001b[0m \u001b[31m25.9 MB/s\u001b[0m eta \u001b[36m0:00:00\u001b[0m\n",
      "\u001b[2K     \u001b[90m━━━━━━━━━━━━━━━━━━━━━━━━━━━━━━━━━━━━━━\u001b[0m \u001b[32m296.5/296.5 kB\u001b[0m \u001b[31m16.0 MB/s\u001b[0m eta \u001b[36m0:00:00\u001b[0m\n",
      "\u001b[2K     \u001b[90m━━━━━━━━━━━━━━━━━━━━━━━━━━━━━━━━━━━━━━\u001b[0m \u001b[32m455.4/455.4 kB\u001b[0m \u001b[31m24.3 MB/s\u001b[0m eta \u001b[36m0:00:00\u001b[0m\n",
      "\u001b[2K     \u001b[90m━━━━━━━━━━━━━━━━━━━━━━━━━━━━━━━━━━━━━━━━\u001b[0m \u001b[32m4.7/4.7 MB\u001b[0m \u001b[31m29.3 MB/s\u001b[0m eta \u001b[36m0:00:00\u001b[0m\n",
      "\u001b[?25h  Building wheel for htmlmin (setup.py) ... \u001b[?25l\u001b[?25hdone\n"
     ]
    }
   ],
   "source": [
    "!pip install -q datascience                                         # Package that is required by pandas profiling\n",
    "!pip install -q ydata-profiling                                     # Library to generate basic statistics about data\n",
    "!pip install -q yellowbrick                                         # Toolbox for Measuring Machine Performance"
   ]
  },
  {
   "cell_type": "markdown",
   "metadata": {
    "id": "FIIe92QK9Xfn"
   },
   "source": [
    "<a name = Section32></a>\n",
    "### **3.2 Upgrading Libraries**\n",
    "\n",
    "- **After upgrading** the libraries, you need to **restart the runtime** to make the libraries in sync.\n",
    "\n",
    "- Make sure not to execute the cell above (3.1) and below (3.2) again after restarting the runtime."
   ]
  },
  {
   "cell_type": "code",
   "execution_count": 2,
   "metadata": {
    "executionInfo": {
     "elapsed": 12423,
     "status": "ok",
     "timestamp": 1687752423070,
     "user": {
      "displayName": "Yash Chauhan",
      "userId": "03194567605433747724"
     },
     "user_tz": -330
    },
    "id": "xvwKBekF9XRn"
   },
   "outputs": [],
   "source": [
    "!pip install -q --upgrade ydata-profiling\n",
    "!pip install -q --upgrade yellowbrick"
   ]
  },
  {
   "cell_type": "markdown",
   "metadata": {
    "id": "TGs1lTJy9b73"
   },
   "source": [
    "<a name = Section33></a>\n",
    "### **3.3 Importing Libraries**"
   ]
  },
  {
   "cell_type": "code",
   "execution_count": 1,
   "metadata": {
    "colab": {
     "base_uri": "https://localhost:8080/"
    },
    "executionInfo": {
     "elapsed": 3786,
     "status": "ok",
     "timestamp": 1687752426849,
     "user": {
      "displayName": "Yash Chauhan",
      "userId": "03194567605433747724"
     },
     "user_tz": -330
    },
    "id": "CP2ppPta9b1P",
    "outputId": "e981fb53-0404-42c6-b540-3b4ef79ea1bb"
   },
   "outputs": [],
   "source": [
    "#-------------------------------------------------------------------------------------------------------------------------------\n",
    "import pandas as pd                                                 # Importing for panel data analysis\n",
    "from ydata_profiling import ProfileReport                           # Import Ydata Profiling (To generate Univariate Analysis)\n",
    "pd.set_option('display.max_columns', None)                          # Unfolding hidden features if the cardinality is high\n",
    "pd.set_option('display.max_colwidth', None)                         # Unfolding the max feature width for better clearity\n",
    "pd.set_option('display.max_rows', None)                             # Unfolding hidden data points if the cardinality is high\n",
    "pd.set_option('mode.chained_assignment', None)                      # Removing restriction over chained assignments operations\n",
    "pd.set_option('display.float_format', lambda x: '%.2f' % x)         # To suppress scientific notation over exponential values\n",
    "#-------------------------------------------------------------------------------------------------------------------------------\n",
    "import numpy as np                                                  # Importing package numpys (For Numerical Python)\n",
    "#-------------------------------------------------------------------------------------------------------------------------------\n",
    "import matplotlib.pyplot as plt                                     # Importing pyplot interface using matplotlib\n",
    "import seaborn as sns                                               # Importin seaborm library for interactive visualization\n",
    "%matplotlib inline\n",
    "#-------------------------------------------------------------------------------------------------------------------------------\n",
    "from sklearn.feature_selection import SelectFromModel               # To perform Feature Selection over model\n",
    "from yellowbrick.model_selection import FeatureImportances          # To retrieve Feature Importances over model\n",
    "from sklearn.metrics import classification_report                   # To generate classification report of the model\n",
    "from sklearn.metrics import ConfusionMatrixDisplay                  # To plot confusion matrix of the model\n",
    "#-------------------------------------------------------------------------------------------------------------------------------\n",
    "from sklearn.model_selection import train_test_split                # To perform train, test and split over the data\n",
    "from sklearn.linear_model import LogisticRegression                 # To perform modeling using LogisticRegression\n",
    "from sklearn.svm import SVC                                         # To perform modeling using SVC\n",
    "from sklearn.tree import DecisionTreeClassifier                     # To perform modeling using DecisionTreeClassifier\n",
    "from sklearn.ensemble import RandomForestClassifier                 # To perform modeling using RandomForestClassifier\n",
    "from sklearn.ensemble import VotingClassifier                       # To perform modeling using VotingClassifier\n",
    "from sklearn.ensemble import BaggingClassifier                      # To perform modeling using BaggingClassifier\n",
    "from sklearn.ensemble import AdaBoostClassifier                     # To perform modeling using AdaBoostClassifier\n",
    "from sklearn.ensemble import GradientBoostingClassifier             # To perform modeling using GradientBoostingClassifier\n",
    "#-------------------------------------------------------------------------------------------------------------------------------\n",
    "import warnings                                                     # Importing warning to disable runtime warnings\n",
    "warnings.filterwarnings(\"ignore\")                                   # Warnings will appear only once"
   ]
  },
  {
   "cell_type": "markdown",
   "metadata": {
    "id": "74zX2kdI9fB-"
   },
   "source": [
    "---\n",
    "<a name = Section4></a>\n",
    "# **4. Data Acquisition & Description**\n",
    "---\n",
    "\n",
    "- Dataset is a simulated or generated dataset specifically created for the purpose of studying banknote authentication and it is accessible publicly</a>.\n",
    "\n",
    "</br>\n",
    "\n",
    "| Records | Features | Dataset Size |\n",
    "| :-- | :-- | :-- |\n",
    "| 1372 | 5 | 22 KB|\n",
    "\n",
    "</br>\n",
    "\n",
    "| Id | Features | Description |\n",
    "| :-- | :--| :--|\n",
    "|01|**V1**|variance of the Wavelet Transformed image intensity values..|\n",
    "|02|**V2**|The lot size of a property in square feet.|\n",
    "|03|**V3**|Number of bedrooms.|\n",
    "|04|**V4**|Number of bathrooms.|\n",
    "|05|**Class**|Number of stories excluding basement.|"
   ]
  },
  {
   "cell_type": "code",
   "execution_count": 2,
   "metadata": {
    "colab": {
     "base_uri": "https://localhost:8080/",
     "height": 224
    },
    "executionInfo": {
     "elapsed": 1094,
     "status": "ok",
     "timestamp": 1687752427936,
     "user": {
      "displayName": "Yash Chauhan",
      "userId": "03194567605433747724"
     },
     "user_tz": -330
    },
    "id": "HV59G2We9e5t",
    "outputId": "6f8b9de4-157d-424b-bf7b-8c17840d4577"
   },
   "outputs": [
    {
     "name": "stdout",
     "output_type": "stream",
     "text": [
      "Data Shape: (1372, 5)\n"
     ]
    },
    {
     "data": {
      "text/html": [
       "<div>\n",
       "<style scoped>\n",
       "    .dataframe tbody tr th:only-of-type {\n",
       "        vertical-align: middle;\n",
       "    }\n",
       "\n",
       "    .dataframe tbody tr th {\n",
       "        vertical-align: top;\n",
       "    }\n",
       "\n",
       "    .dataframe thead th {\n",
       "        text-align: right;\n",
       "    }\n",
       "</style>\n",
       "<table border=\"1\" class=\"dataframe\">\n",
       "  <thead>\n",
       "    <tr style=\"text-align: right;\">\n",
       "      <th></th>\n",
       "      <th>V1</th>\n",
       "      <th>V2</th>\n",
       "      <th>V3</th>\n",
       "      <th>V4</th>\n",
       "      <th>Class</th>\n",
       "    </tr>\n",
       "  </thead>\n",
       "  <tbody>\n",
       "    <tr>\n",
       "      <th>0</th>\n",
       "      <td>3.62</td>\n",
       "      <td>8.67</td>\n",
       "      <td>-2.81</td>\n",
       "      <td>-0.45</td>\n",
       "      <td>1</td>\n",
       "    </tr>\n",
       "    <tr>\n",
       "      <th>1</th>\n",
       "      <td>4.55</td>\n",
       "      <td>8.17</td>\n",
       "      <td>-2.46</td>\n",
       "      <td>-1.46</td>\n",
       "      <td>1</td>\n",
       "    </tr>\n",
       "    <tr>\n",
       "      <th>2</th>\n",
       "      <td>3.87</td>\n",
       "      <td>-2.64</td>\n",
       "      <td>1.92</td>\n",
       "      <td>0.11</td>\n",
       "      <td>1</td>\n",
       "    </tr>\n",
       "    <tr>\n",
       "      <th>3</th>\n",
       "      <td>3.46</td>\n",
       "      <td>9.52</td>\n",
       "      <td>-4.01</td>\n",
       "      <td>-3.59</td>\n",
       "      <td>1</td>\n",
       "    </tr>\n",
       "    <tr>\n",
       "      <th>4</th>\n",
       "      <td>0.33</td>\n",
       "      <td>-4.46</td>\n",
       "      <td>4.57</td>\n",
       "      <td>-0.99</td>\n",
       "      <td>1</td>\n",
       "    </tr>\n",
       "  </tbody>\n",
       "</table>\n",
       "</div>"
      ],
      "text/plain": [
       "    V1    V2    V3    V4  Class\n",
       "0 3.62  8.67 -2.81 -0.45      1\n",
       "1 4.55  8.17 -2.46 -1.46      1\n",
       "2 3.87 -2.64  1.92  0.11      1\n",
       "3 3.46  9.52 -4.01 -3.59      1\n",
       "4 0.33 -4.46  4.57 -0.99      1"
      ]
     },
     "execution_count": 2,
     "metadata": {},
     "output_type": "execute_result"
    }
   ],
   "source": [
    "data = pd.read_csv(filepath_or_buffer = 'banknote-authentication.csv')\n",
    "print('Data Shape:', data.shape)\n",
    "data.head()"
   ]
  },
  {
   "cell_type": "markdown",
   "metadata": {
    "id": "DHGaHtN0-Kmx"
   },
   "source": [
    "<a name = Section41></a>\n",
    "### **4.1 Data Description**\n",
    "\n",
    "- In this section we will get **information about the data** and see some observations."
   ]
  },
  {
   "cell_type": "code",
   "execution_count": 3,
   "metadata": {
    "colab": {
     "base_uri": "https://localhost:8080/",
     "height": 300
    },
    "executionInfo": {
     "elapsed": 16,
     "status": "ok",
     "timestamp": 1687752427936,
     "user": {
      "displayName": "Yash Chauhan",
      "userId": "03194567605433747724"
     },
     "user_tz": -330
    },
    "id": "31ZXKHKr-HwX",
    "outputId": "b1d78467-ffc9-43c1-b78a-699daddce02b"
   },
   "outputs": [
    {
     "data": {
      "text/html": [
       "<div>\n",
       "<style scoped>\n",
       "    .dataframe tbody tr th:only-of-type {\n",
       "        vertical-align: middle;\n",
       "    }\n",
       "\n",
       "    .dataframe tbody tr th {\n",
       "        vertical-align: top;\n",
       "    }\n",
       "\n",
       "    .dataframe thead th {\n",
       "        text-align: right;\n",
       "    }\n",
       "</style>\n",
       "<table border=\"1\" class=\"dataframe\">\n",
       "  <thead>\n",
       "    <tr style=\"text-align: right;\">\n",
       "      <th></th>\n",
       "      <th>V1</th>\n",
       "      <th>V2</th>\n",
       "      <th>V3</th>\n",
       "      <th>V4</th>\n",
       "      <th>Class</th>\n",
       "    </tr>\n",
       "  </thead>\n",
       "  <tbody>\n",
       "    <tr>\n",
       "      <th>count</th>\n",
       "      <td>1372.00</td>\n",
       "      <td>1372.00</td>\n",
       "      <td>1372.00</td>\n",
       "      <td>1372.00</td>\n",
       "      <td>1372.00</td>\n",
       "    </tr>\n",
       "    <tr>\n",
       "      <th>mean</th>\n",
       "      <td>0.43</td>\n",
       "      <td>1.92</td>\n",
       "      <td>1.40</td>\n",
       "      <td>-1.19</td>\n",
       "      <td>1.44</td>\n",
       "    </tr>\n",
       "    <tr>\n",
       "      <th>std</th>\n",
       "      <td>2.84</td>\n",
       "      <td>5.87</td>\n",
       "      <td>4.31</td>\n",
       "      <td>2.10</td>\n",
       "      <td>0.50</td>\n",
       "    </tr>\n",
       "    <tr>\n",
       "      <th>min</th>\n",
       "      <td>-7.04</td>\n",
       "      <td>-13.77</td>\n",
       "      <td>-5.29</td>\n",
       "      <td>-8.55</td>\n",
       "      <td>1.00</td>\n",
       "    </tr>\n",
       "    <tr>\n",
       "      <th>25%</th>\n",
       "      <td>-1.77</td>\n",
       "      <td>-1.71</td>\n",
       "      <td>-1.57</td>\n",
       "      <td>-2.41</td>\n",
       "      <td>1.00</td>\n",
       "    </tr>\n",
       "    <tr>\n",
       "      <th>50%</th>\n",
       "      <td>0.50</td>\n",
       "      <td>2.32</td>\n",
       "      <td>0.62</td>\n",
       "      <td>-0.59</td>\n",
       "      <td>1.00</td>\n",
       "    </tr>\n",
       "    <tr>\n",
       "      <th>75%</th>\n",
       "      <td>2.82</td>\n",
       "      <td>6.81</td>\n",
       "      <td>3.18</td>\n",
       "      <td>0.39</td>\n",
       "      <td>2.00</td>\n",
       "    </tr>\n",
       "    <tr>\n",
       "      <th>max</th>\n",
       "      <td>6.82</td>\n",
       "      <td>12.95</td>\n",
       "      <td>17.93</td>\n",
       "      <td>2.45</td>\n",
       "      <td>2.00</td>\n",
       "    </tr>\n",
       "  </tbody>\n",
       "</table>\n",
       "</div>"
      ],
      "text/plain": [
       "           V1      V2      V3      V4   Class\n",
       "count 1372.00 1372.00 1372.00 1372.00 1372.00\n",
       "mean     0.43    1.92    1.40   -1.19    1.44\n",
       "std      2.84    5.87    4.31    2.10    0.50\n",
       "min     -7.04  -13.77   -5.29   -8.55    1.00\n",
       "25%     -1.77   -1.71   -1.57   -2.41    1.00\n",
       "50%      0.50    2.32    0.62   -0.59    1.00\n",
       "75%      2.82    6.81    3.18    0.39    2.00\n",
       "max      6.82   12.95   17.93    2.45    2.00"
      ]
     },
     "execution_count": 3,
     "metadata": {},
     "output_type": "execute_result"
    }
   ],
   "source": [
    "data.describe()"
   ]
  },
  {
   "cell_type": "markdown",
   "metadata": {
    "id": "8wtaA-8eRN-R"
   },
   "source": [
    "**Observation:**\n",
    "\n",
    "- V2 has a relatively high average value of 1.92 and a large standard deviation of 5.87, indicating a wide **range** of values. This suggests that V2 may have significant **variations** and could potentially contribute to distinguishing patterns or trends in the data.\n",
    "\n",
    "- The range of values for **V1**, **V3**, and **V4** is relatively large, with V1 **ranging** from -7.04 to 6.82, V3 ranging from -5.29 to 17.93, and V4 ranging from -8.55 to 2.45. This indicates that these features have a wide spread of values, suggesting the presence of diverse **patterns** or characteristics within the dataset..\n",
    "\n",
    "- Similarly, we can get the information for rest of the features."
   ]
  },
  {
   "cell_type": "markdown",
   "metadata": {
    "id": "NxGLnRHj-NaS"
   },
   "source": [
    "<a name = Section42></a>\n",
    "### **4.2 Data Information**\n",
    "\n",
    "- In this section we will see the **information about the types of features**."
   ]
  },
  {
   "cell_type": "code",
   "execution_count": 4,
   "metadata": {
    "colab": {
     "base_uri": "https://localhost:8080/"
    },
    "executionInfo": {
     "elapsed": 16,
     "status": "ok",
     "timestamp": 1687752427937,
     "user": {
      "displayName": "Yash Chauhan",
      "userId": "03194567605433747724"
     },
     "user_tz": -330
    },
    "id": "hxmmcXy3Qfya",
    "outputId": "5d8c651d-b736-42cc-f14e-6995637cef22"
   },
   "outputs": [
    {
     "name": "stdout",
     "output_type": "stream",
     "text": [
      "<class 'pandas.core.frame.DataFrame'>\n",
      "RangeIndex: 1372 entries, 0 to 1371\n",
      "Data columns (total 5 columns):\n",
      " #   Column  Non-Null Count  Dtype  \n",
      "---  ------  --------------  -----  \n",
      " 0   V1      1372 non-null   float64\n",
      " 1   V2      1372 non-null   float64\n",
      " 2   V3      1372 non-null   float64\n",
      " 3   V4      1372 non-null   float64\n",
      " 4   Class   1372 non-null   int64  \n",
      "dtypes: float64(4), int64(1)\n",
      "memory usage: 53.7 KB\n"
     ]
    }
   ],
   "source": [
    "data.info()"
   ]
  },
  {
   "cell_type": "markdown",
   "metadata": {
    "id": "4hKJEscKQiDp"
   },
   "source": [
    "**Observation:**\n",
    "\n",
    "- We can observer that there is **no null data present**.\n",
    "\n",
    "- Addtionally, all **features** seems to have **correct data type**."
   ]
  },
  {
   "cell_type": "markdown",
   "metadata": {
    "id": "gILJSeZI-QqS"
   },
   "source": [
    "<a name = Section5></a>\n",
    "\n",
    "---\n",
    "# **5. Data Pre-Processing**\n",
    "---"
   ]
  },
  {
   "cell_type": "markdown",
   "metadata": {
    "id": "rVX0c0rC-Sz0"
   },
   "source": [
    "<a name = Section51></a>\n",
    "### **5.1 Pre Profiling Report**\n",
    "\n",
    "- For **quick analysis** pandas profiling is very handy.\n",
    "\n",
    "- Generates profile reports from a pandas DataFrame.\n",
    "\n",
    "- For each column **statistics** are presented in an interactive HTML report."
   ]
  },
  {
   "cell_type": "code",
   "execution_count": 5,
   "metadata": {
    "executionInfo": {
     "elapsed": 15,
     "status": "ok",
     "timestamp": 1687752427937,
     "user": {
      "displayName": "Yash Chauhan",
      "userId": "03194567605433747724"
     },
     "user_tz": -330
    },
    "id": "Wu6fKjTJ-IfC"
   },
   "outputs": [
    {
     "data": {
      "application/vnd.jupyter.widget-view+json": {
       "model_id": "8fd2fcef35fa48bc8c5da723c50c2ce4",
       "version_major": 2,
       "version_minor": 0
      },
      "text/plain": [
       "Summarize dataset:   0%|          | 0/5 [00:00<?, ?it/s]"
      ]
     },
     "metadata": {},
     "output_type": "display_data"
    },
    {
     "data": {
      "application/vnd.jupyter.widget-view+json": {
       "model_id": "85a9223954ab42b082ae51765a1257f8",
       "version_major": 2,
       "version_minor": 0
      },
      "text/plain": [
       "Generate report structure:   0%|          | 0/1 [00:00<?, ?it/s]"
      ]
     },
     "metadata": {},
     "output_type": "display_data"
    },
    {
     "data": {
      "application/vnd.jupyter.widget-view+json": {
       "model_id": "8ace747affa44ea4b704d1aa50a7a09e",
       "version_major": 2,
       "version_minor": 0
      },
      "text/plain": [
       "Render HTML:   0%|          | 0/1 [00:00<?, ?it/s]"
      ]
     },
     "metadata": {},
     "output_type": "display_data"
    },
    {
     "data": {
      "application/vnd.jupyter.widget-view+json": {
       "model_id": "1984257a8b0f4fd7aad5fff6f0d4b7c9",
       "version_major": 2,
       "version_minor": 0
      },
      "text/plain": [
       "Export report to file:   0%|          | 0/1 [00:00<?, ?it/s]"
      ]
     },
     "metadata": {},
     "output_type": "display_data"
    },
    {
     "name": "stdout",
     "output_type": "stream",
     "text": [
      "Accomplished!\n"
     ]
    }
   ],
   "source": [
    "profile = ProfileReport(df = data)\n",
    "profile.to_file(output_file = 'Pre_Profiling_Report.html')\n",
    "print('Accomplished!')"
   ]
  },
  {
   "cell_type": "code",
   "execution_count": 8,
   "metadata": {
    "executionInfo": {
     "elapsed": 15,
     "status": "ok",
     "timestamp": 1687752427937,
     "user": {
      "displayName": "Yash Chauhan",
      "userId": "03194567605433747724"
     },
     "user_tz": -330
    },
    "id": "EqzCJKYZ-IcX"
   },
   "outputs": [],
   "source": [
    "# from google.colab import files                   # Use only if you are using Google Colab, otherwise remove it\n",
    "# files.download('Pre Profiling Report.html')      # Use only if you are using Google Colab, otherwise remove it"
   ]
  },
  {
   "cell_type": "markdown",
   "metadata": {
    "id": "Trz3OJ70Q-rC"
   },
   "source": [
    "**Observation:**\n",
    "\n",
    "- The report shows that there are **5 features** out of which **4 are numerical** and **1 categorical**.\n",
    "\n",
    "- We can observe that there is **no duplicate** rows in our dataset.\n",
    "\n",
    "- You can get the rest of the information from the report."
   ]
  },
  {
   "cell_type": "markdown",
   "metadata": {
    "id": "jZIxVOsC-YCd"
   },
   "source": [
    "<a name = Section6></a>\n",
    "\n",
    "---\n",
    "# **6. Exploratory Data Analysis**\n",
    "---"
   ]
  },
  {
   "cell_type": "markdown",
   "metadata": {
    "id": "nzitzYDJirIX"
   },
   "source": [
    "**<h4>Question 1: What is the association of bedrooms, bathrooms, stories, and garage place concerning price?</h4>**"
   ]
  },
  {
   "cell_type": "code",
   "execution_count": 6,
   "metadata": {
    "colab": {
     "base_uri": "https://localhost:8080/",
     "height": 701
    },
    "executionInfo": {
     "elapsed": 2026,
     "status": "ok",
     "timestamp": 1687752429949,
     "user": {
      "displayName": "Yash Chauhan",
      "userId": "03194567605433747724"
     },
     "user_tz": -330
    },
    "id": "9ePZjL92yo6X",
    "outputId": "c099dafd-4822-4a48-f73c-877809b61b44"
   },
   "outputs": [
    {
     "data": {
      "image/png": "[encoded data removed]",
      "text/plain": [
       "<Figure size 1500x700 with 4 Axes>"
      ]
     },
     "metadata": {},
     "output_type": "display_data"
    }
   ],
   "source": [
    "colors_list = ['gold', 'yellowgreen', 'lightcoral', 'lightskyblue', 'lightgreen', 'red']\n",
    "figure = plt.figure(figsize=[15, 7])\n",
    "\n",
    "# V1 vs Class\n",
    "plt.subplot(2, 2, 1)\n",
    "sns.kdeplot(x='V1', hue='Class', data=data, color='gold')\n",
    "plt.xlabel('V1', size=14)\n",
    "plt.ylabel('Density', size=14)\n",
    "plt.title('V1 Distribution by Class', size=16)\n",
    "\n",
    "# V2 vs Class\n",
    "plt.subplot(2, 2, 2)\n",
    "sns.kdeplot(x='V2', hue='Class', data=data, color='yellowgreen')\n",
    "plt.xlabel('V2', size=14)\n",
    "plt.ylabel('Density', size=14)\n",
    "plt.title('V2 Distribution by Class', size=16)\n",
    "\n",
    "# V3 vs Class\n",
    "plt.subplot(2, 2, 3)\n",
    "sns.kdeplot(x='V3', hue='Class', data=data, color='lightcoral')\n",
    "plt.xlabel('V3', size=14)\n",
    "plt.ylabel('Density', size=14)\n",
    "plt.title('V3 Distribution by Class', size=16)\n",
    "\n",
    "# V4 vs Class\n",
    "plt.subplot(2, 2, 4)\n",
    "sns.kdeplot(x='V4', hue='Class', data=data, color='lightskyblue')\n",
    "plt.xlabel('V4', size=14)\n",
    "plt.ylabel('Density', size=14)\n",
    "plt.title('V4 Distribution by Class', size=16)\n",
    "\n",
    "plt.tight_layout()\n",
    "plt.show()"
   ]
  },
  {
   "cell_type": "markdown",
   "metadata": {
    "id": "-GIyATVWZRai"
   },
   "source": [
    "**Observation:**\n",
    "\n",
    "- V1: Counterfeit banknotes tend to have lower values of V1 compared to authentic banknotes.\n",
    "\n",
    "- V2: The distribution of V2 values for authentic and counterfeit banknotes overlaps to some extent.\n",
    "\n",
    "- V3: Authentic banknotes generally have higher values of V3, while counterfeit banknotes tend to have lower values."
   ]
  },
  {
   "cell_type": "markdown",
   "metadata": {
    "id": "LAJhb6cQhZZ0"
   },
   "source": [
    "**<h4>Question 1: What is the proportion of the following feature?**\n",
    "  - Class</h4>"
   ]
  },
  {
   "cell_type": "code",
   "execution_count": 7,
   "metadata": {
    "colab": {
     "base_uri": "https://localhost:8080/",
     "height": 378
    },
    "executionInfo": {
     "elapsed": 1061,
     "status": "ok",
     "timestamp": 1687752430998,
     "user": {
      "displayName": "Yash Chauhan",
      "userId": "03194567605433747724"
     },
     "user_tz": -330
    },
    "id": "RnxqJxQJk2VC",
    "outputId": "cf6077f0-a663-4f91-a9cf-c4ba455ca99b"
   },
   "outputs": [
    {
     "data": {
      "image/png": "[encoded data removed]",
      "text/plain": [
       "<Figure size 1500x1000 with 1 Axes>"
      ]
     },
     "metadata": {},
     "output_type": "display_data"
    }
   ],
   "source": [
    "figure = plt.figure(figsize = [15, 10])\n",
    "\n",
    "# Subplot for Drive Way\n",
    "plt.subplot(2, 3, 1)\n",
    "space = np.ones(2)/10\n",
    "data['Class'].value_counts().plot(kind='pie', explode=space, fontsize=14,\n",
    "                                           autopct='%3.1f%%', wedgeprops=dict(width = 0.15),\n",
    "                                           shadow=True, startangle=160, figsize=[15, 10],\n",
    "                                           legend=True, labels=['', ''])\n",
    "plt.legend(['Genuine', 'Forged'])\n",
    "plt.ylabel('Bank note Authenticity', size = 14)\n",
    "plt.show()"
   ]
  },
  {
   "cell_type": "markdown",
   "metadata": {
    "id": "kKepHV6F-bdN"
   },
   "source": [
    "<a name = Section7></a>\n",
    "\n",
    "---\n",
    "# **7. Post Data Processing & Feature Selection**\n",
    "---\n",
    "\n",
    "- In this section, we will perform **encoding** over **categorical** features and **feed** the result to the **Random Forest** model.\n",
    "\n",
    "- **Random Forest** will then **identify important features** for our model **using some threshold**.\n",
    "\n",
    "- This threshold is **used over** the **information gain** which results in **reduction in impurity**.\n",
    "\n",
    "- And **finally** we will **split** our **data** for the **model development**."
   ]
  },
  {
   "cell_type": "markdown",
   "metadata": {
    "id": "AVl5VfUj1MSB"
   },
   "source": [
    "<a name = Section71></a>\n",
    "### **7.1 Feature Encoding**\n",
    "\n",
    "- In this section, we will perform **transformation** of categorical features to numeric using **get_dummies()**.\n",
    "\n",
    "- We can observe that features such as driveway, recroom,\tfullbase,\tgashw,\tairco, prefarea are having binary values."
   ]
  },
  {
   "cell_type": "markdown",
   "metadata": {
    "id": "aiBcl5GZ5EbX"
   },
   "source": [
    "<a name = Section72></a>\n",
    "### **7.2 Feature Selection**\n",
    "\n",
    "- Now in the real world, it is very rare that all the **features** are **important** while developing the **model**.\n",
    "\n",
    "- Instead, we analyze the **impact** of **input** feature values over the **target** feature values.\n",
    "\n",
    "- It is either done by performing **statistical tests** (Pearson, ANOVA, Chi-Square) or by using **Random Forest**.\n",
    "\n",
    "- Random forests are one of the most **popular** machine learning **algorithms**.\n",
    "\n",
    "- The provide a good predictive performance, low overfitting, and easy interpretability.\n",
    "\n",
    "- This **interpretability** is derived from the importance of each feature on the tree decision evaluated the **reduction in impurity**.\n",
    "\n",
    "- In other words, it is **easy** to **compute** how much each feature is **contributing** to the decision.\n",
    "\n",
    "- We will implement **SelectFromModel()** available in Sklearn which uses the base estimator to identify important features.\n",
    "\n",
    "- The importance of a feature is determined based on **threshold** (a measure to calculate feature importance).\n"
   ]
  },
  {
   "cell_type": "code",
   "execution_count": 8,
   "metadata": {
    "executionInfo": {
     "elapsed": 20,
     "status": "ok",
     "timestamp": 1687752430999,
     "user": {
      "displayName": "Yash Chauhan",
      "userId": "03194567605433747724"
     },
     "user_tz": -330
    },
    "id": "CG9lR9Y0vaHn"
   },
   "outputs": [],
   "source": [
    "X = data.drop('Class', axis = 1)\n",
    "y = data['Class']"
   ]
  },
  {
   "cell_type": "code",
   "execution_count": 9,
   "metadata": {
    "colab": {
     "base_uri": "https://localhost:8080/"
    },
    "executionInfo": {
     "elapsed": 19,
     "status": "ok",
     "timestamp": 1687752430999,
     "user": {
      "displayName": "Yash Chauhan",
      "userId": "03194567605433747724"
     },
     "user_tz": -330
    },
    "id": "KHCI1GkV613P",
    "outputId": "b5ec5a9d-545b-418b-f2e5-dfa1ebbd2eda"
   },
   "outputs": [
    {
     "name": "stdout",
     "output_type": "stream",
     "text": [
      "Total Features Selected are 1\n",
      "Threshold set by Model: 0.25\n",
      "Important Features: ['V1']\n"
     ]
    }
   ],
   "source": [
    "# Have some patience, may take some time :)\n",
    "selector = SelectFromModel(RandomForestClassifier(n_estimators = 100, random_state = 42, n_jobs = -1))\n",
    "selector.fit(X, y)\n",
    "\n",
    "# Extracting list of important features\n",
    "selected_feat = X.columns[(selector.get_support())].tolist()\n",
    "\n",
    "# Show total number of important features extracted by the model\n",
    "print('Total Features Selected are', len(selected_feat))\n",
    "\n",
    "# Estimated by taking mean(default) of feature importance\n",
    "print('Threshold set by Model:', np.round(selector.threshold_, decimals = 2))\n",
    "print('Important Features:', selected_feat)"
   ]
  },
  {
   "cell_type": "markdown",
   "metadata": {
    "id": "MR53ovai66V2"
   },
   "source": [
    "**Visualzation of Important Features:**\n",
    "\n",
    "- Below features are plotted against their relative importance,  of each feature."
   ]
  },
  {
   "cell_type": "code",
   "execution_count": 10,
   "metadata": {
    "colab": {
     "base_uri": "https://localhost:8080/",
     "height": 723
    },
    "executionInfo": {
     "elapsed": 17,
     "status": "ok",
     "timestamp": 1687752431000,
     "user": {
      "displayName": "Yash Chauhan",
      "userId": "03194567605433747724"
     },
     "user_tz": -330
    },
    "id": "4nZ23vFm66KG",
    "outputId": "2d8aab3a-5f90-407d-d7a9-08db8a313079"
   },
   "outputs": [
    {
     "data": {
      "image/png": "[encoded data removed]",
      "text/plain": [
       "<Figure size 1500x800 with 1 Axes>"
      ]
     },
     "metadata": {},
     "output_type": "display_data"
    }
   ],
   "source": [
    "# Have some patience, may take some time :)\n",
    "figure = plt.figure(figsize = [15, 8])\n",
    "\n",
    "# If you don't want relative importance, use relative = False in below method\n",
    "viz = FeatureImportances(selector.estimator, relative = False)\n",
    "viz.fit(X, y)\n",
    "\n",
    "plt.xlabel('Relative Importance', size = 14)\n",
    "plt.ylabel('Features', size = 14)\n",
    "plt.title(label = 'Feature Importances', size = 16)\n",
    "plt.show()"
   ]
  },
  {
   "cell_type": "markdown",
   "metadata": {
    "id": "8HGTc4Jf8tGQ"
   },
   "source": [
    "<a name = Section73></a>\n",
    "### **7.3 Data Preparation**\n",
    "\n",
    "- Now we will **split** our **data** in **training** and **testing** part for further development."
   ]
  },
  {
   "cell_type": "code",
   "execution_count": 11,
   "metadata": {
    "colab": {
     "base_uri": "https://localhost:8080/"
    },
    "executionInfo": {
     "elapsed": 16,
     "status": "ok",
     "timestamp": 1687752431000,
     "user": {
      "displayName": "Yash Chauhan",
      "userId": "03194567605433747724"
     },
     "user_tz": -330
    },
    "id": "KBRYduiA8s7w",
    "outputId": "15d22ff5-bd17-4631-810e-dc0d9fe05981"
   },
   "outputs": [
    {
     "name": "stdout",
     "output_type": "stream",
     "text": [
      "Training Data Shape: (1097, 4) (1097,)\n",
      "Testing Data Shape: (275, 4) (275,)\n"
     ]
    }
   ],
   "source": [
    "X_train, X_test, y_train, y_test = train_test_split(X, y, test_size = 0.2, random_state = 4, stratify = y)\n",
    "\n",
    "print('Training Data Shape:', X_train.shape, y_train.shape)\n",
    "print('Testing Data Shape:', X_test.shape, y_test.shape)"
   ]
  },
  {
   "cell_type": "markdown",
   "metadata": {
    "id": "u243x6hFWw8w"
   },
   "source": [
    "**Observation:**\n",
    "\n",
    "- Now that we have split our data we are **ready** to move to the **next part** and that is Model Development & Evaluation."
   ]
  },
  {
   "cell_type": "markdown",
   "metadata": {
    "id": "kdq_ycR4-kOO"
   },
   "source": [
    "<a name = Section8></a>\n",
    "\n",
    "---\n",
    "# **8. Model Development & Evaluation**\n",
    "---\n",
    "\n",
    "- In this section we will develop variety of models such as:\n",
    "\n",
    "|Logistic Regression|Decision Tree|Random Forest|Bagging|Adaptive Boosting|Gradient Boosting|Voting Classifier|\n",
    "|:--|:--|:--|:--|:--|:--|:--|\n",
    "\n",
    "- For estimating the **performance** of the **model** we will be using **accuracy** as a **metric**.\n",
    "\n",
    "- Considering the complexity of data, we can run a **loop** over multiple **classifiers** and estimate the accuracy of the model.\n",
    "\n",
    "- But in a real-life situation, one must train the model individually as then decide which model is best in which situation."
   ]
  },
  {
   "cell_type": "code",
   "execution_count": 12,
   "metadata": {
    "executionInfo": {
     "elapsed": 16,
     "status": "ok",
     "timestamp": 1687752431001,
     "user": {
      "displayName": "Yash Chauhan",
      "userId": "03194567605433747724"
     },
     "user_tz": -330
    },
    "id": "9_CEv0s1O_e6"
   },
   "outputs": [],
   "source": [
    "# Initialize classifiers\n",
    "\n",
    "# Logistic Regression\n",
    "log_clf = LogisticRegression(random_state = 42, class_weight='balanced')\n",
    "\n",
    "# Support Vector Classifier\n",
    "sv_clf = SVC(random_state=42, class_weight='balanced', probability=True)\n",
    "\n",
    "# Decision Tree\n",
    "dt_clf = DecisionTreeClassifier(random_state = 42, class_weight='balanced')\n",
    "\n",
    "# Bagging Classifier\n",
    "bag_clf = BaggingClassifier(base_estimator=dt_clf, n_estimators=500, n_jobs=-1, random_state=42)\n",
    "\n",
    "# Random Forest\n",
    "rf_clf = RandomForestClassifier(n_estimators=500, random_state = 42, class_weight='balanced', n_jobs=-1)\n",
    "\n",
    "# Voting Classifier\n",
    "voting_clf = VotingClassifier(estimators=[('lr', log_clf), ('rf', rf_clf), ('dt', dt_clf), ('svc', sv_clf)], voting='soft')\n",
    "\n",
    "# Ada Boast Classifier\n",
    "ada_clf = AdaBoostClassifier(base_estimator=dt_clf, n_estimators=500, random_state=42)\n",
    "\n",
    "# Gradient Boosting Classifier\n",
    "gb_clf = GradientBoostingClassifier(n_estimators=500, random_state = 42)"
   ]
  },
  {
   "cell_type": "code",
   "execution_count": 13,
   "metadata": {
    "colab": {
     "base_uri": "https://localhost:8080/"
    },
    "executionInfo": {
     "elapsed": 12969,
     "status": "ok",
     "timestamp": 1687752443954,
     "user": {
      "displayName": "Yash Chauhan",
      "userId": "03194567605433747724"
     },
     "user_tz": -330
    },
    "id": "aVHnkodbR_MZ",
    "outputId": "81be0b58-f524-4669-f07b-122497d72d48"
   },
   "outputs": [
    {
     "name": "stdout",
     "output_type": "stream",
     "text": [
      "Success!\n",
      "CPU times: user 3.89 s, sys: 1.17 s, total: 5.06 s\n",
      "Wall time: 5.97 s\n"
     ]
    }
   ],
   "source": [
    "%%time\n",
    "# Intialize a list of classifier objects\n",
    "clf_list = [log_clf, sv_clf, dt_clf, bag_clf, voting_clf, rf_clf, ada_clf, gb_clf]\n",
    "\n",
    "# Create an empty list to append scores and classifier name\n",
    "train_scores = []\n",
    "test_scores = []\n",
    "clf_names = []\n",
    "\n",
    "# Train classifier over train data and append scores to empty list\n",
    "for clf in clf_list:\n",
    "    # Fit the train data over the classifier object\n",
    "    clf.fit(X_train, y_train)\n",
    "\n",
    "    # Append train and test score to the empty list\n",
    "    train_scores.append(np.round(a=clf.score(X_train, y_train), decimals=2))\n",
    "    test_scores.append(np.round(a=clf.score(X_test, y_test), decimals=2))\n",
    "    clf_names.append(clf.__class__.__name__)\n",
    "\n",
    "print('Success!')"
   ]
  },
  {
   "cell_type": "code",
   "execution_count": 14,
   "metadata": {
    "colab": {
     "base_uri": "https://localhost:8080/",
     "height": 112
    },
    "executionInfo": {
     "elapsed": 14,
     "status": "ok",
     "timestamp": 1687752443955,
     "user": {
      "displayName": "Yash Chauhan",
      "userId": "03194567605433747724"
     },
     "user_tz": -330
    },
    "id": "yVbxh3DmU1dA",
    "outputId": "272f3a89-345c-4023-b4b7-415e4dd5e7ac"
   },
   "outputs": [
    {
     "data": {
      "text/html": [
       "<div>\n",
       "<style scoped>\n",
       "    .dataframe tbody tr th:only-of-type {\n",
       "        vertical-align: middle;\n",
       "    }\n",
       "\n",
       "    .dataframe tbody tr th {\n",
       "        vertical-align: top;\n",
       "    }\n",
       "\n",
       "    .dataframe thead th {\n",
       "        text-align: right;\n",
       "    }\n",
       "</style>\n",
       "<table border=\"1\" class=\"dataframe\">\n",
       "  <thead>\n",
       "    <tr style=\"text-align: right;\">\n",
       "      <th></th>\n",
       "      <th>LogisticRegression</th>\n",
       "      <th>SVC</th>\n",
       "      <th>DecisionTreeClassifier</th>\n",
       "      <th>BaggingClassifier</th>\n",
       "      <th>VotingClassifier</th>\n",
       "      <th>RandomForestClassifier</th>\n",
       "      <th>AdaBoostClassifier</th>\n",
       "      <th>GradientBoostingClassifier</th>\n",
       "    </tr>\n",
       "  </thead>\n",
       "  <tbody>\n",
       "    <tr>\n",
       "      <th>Train Accuracy</th>\n",
       "      <td>0.99</td>\n",
       "      <td>1.00</td>\n",
       "      <td>1.00</td>\n",
       "      <td>1.00</td>\n",
       "      <td>1.00</td>\n",
       "      <td>1.00</td>\n",
       "      <td>1.00</td>\n",
       "      <td>1.00</td>\n",
       "    </tr>\n",
       "    <tr>\n",
       "      <th>Test Accuracy</th>\n",
       "      <td>0.98</td>\n",
       "      <td>1.00</td>\n",
       "      <td>0.99</td>\n",
       "      <td>0.99</td>\n",
       "      <td>1.00</td>\n",
       "      <td>0.99</td>\n",
       "      <td>0.99</td>\n",
       "      <td>1.00</td>\n",
       "    </tr>\n",
       "  </tbody>\n",
       "</table>\n",
       "</div>"
      ],
      "text/plain": [
       "                LogisticRegression  SVC  DecisionTreeClassifier  \\\n",
       "Train Accuracy                0.99 1.00                    1.00   \n",
       "Test Accuracy                 0.98 1.00                    0.99   \n",
       "\n",
       "                BaggingClassifier  VotingClassifier  RandomForestClassifier  \\\n",
       "Train Accuracy               1.00              1.00                    1.00   \n",
       "Test Accuracy                0.99              1.00                    0.99   \n",
       "\n",
       "                AdaBoostClassifier  GradientBoostingClassifier  \n",
       "Train Accuracy                1.00                        1.00  \n",
       "Test Accuracy                 0.99                        1.00  "
      ]
     },
     "execution_count": 14,
     "metadata": {},
     "output_type": "execute_result"
    }
   ],
   "source": [
    "# Create an accuracy dataframe from scores and names list\n",
    "accuracy_frame = pd.DataFrame(data={'Train Accuracy': train_scores, 'Test Accuracy': test_scores}, index=clf_names)\n",
    "\n",
    "# View the accuracy of all the classifiers\n",
    "accuracy_frame.transpose()"
   ]
  },
  {
   "cell_type": "markdown",
   "metadata": {
    "id": "SQ6i4NUjWsaK"
   },
   "source": [
    "**Observation:**\n",
    "\n",
    "- The models achieved near-perfect or perfect accuracy on both the training and test sets, suggesting that they may be overfitting the data.\n",
    "\n",
    "- Although the high **accuracy** scores are **impressive**, they also raise concerns about potential overfitting issues, as the models may have memorized the training data rather than generalizing well to unseen data.\n",
    "\n",
    "- It is **important** to address the overfitting problem by applying appropriate techniques such as hyperparameter tuning, regularization, or using more advanced ensemble methods.\n",
    "\n",
    "- By tuning the hyperparameters, such as adjusting the regularization strength or optimizing the tree depth, it is possible to reduce **overfitting** and improve the models' **generalization** capabilities.\n",
    "\n",
    "- Additionally, **implementing** techniques like **cross-validation** or using more diverse and **larger** datasets can also help combat overfitting and ensure better model performance in real-world scenarios."
   ]
  },
  {
   "cell_type": "markdown",
   "metadata": {
    "id": "eFeM_k6gUFXJ"
   },
   "source": [
    "<a name = Section9></a>\n",
    "\n",
    "---\n",
    "# **9. Conclusion**\n",
    "---\n",
    "\n",
    "- We **studied** the **characteristics** and **distribution** of data in brief.\n",
    "\n",
    "- We **explored** some **questions** related to **Class** concerning the **characteristics** of **bank notes**.\n",
    "\n",
    "- We investigated in-depth the **features** which to **retain** and which to **discard**.\n",
    "\n",
    "- We performed **model** **development** with a variety of algorithms.\n",
    "\n",
    "- We observed **better results** can be found in **ensemble methods** as compared to the **standalone** algorithms as the hyperparameter control in Ensemble method is easy.\n",
    "\n",
    "- Additionally, this model will **help** the **company** **saving a lot of resources** (money, human resources, etc.).\n",
    "\n",
    "## **Next:** Part - II Stacked Generalization."
   ]
  }
 ],
 "metadata": {
  "colab": {
   "provenance": [
    {
     "file_id": "1wxM572x5jRGw3KWa4FwsFC7acUZmmsX-",
     "timestamp": 1681284209428
    }
   ]
  },
  "kernelspec": {
   "display_name": "Python 3 (ipykernel)",
   "language": "python",
   "name": "python3"
  },
  "language_info": {
   "codemirror_mode": {
    "name": "ipython",
    "version": 3
   },
   "file_extension": ".py",
   "mimetype": "text/x-python",
   "name": "python",
   "nbconvert_exporter": "python",
   "pygments_lexer": "ipython3",
   "version": "3.9.13"
  }
 },
 "nbformat": 4,
 "nbformat_minor": 1
}
