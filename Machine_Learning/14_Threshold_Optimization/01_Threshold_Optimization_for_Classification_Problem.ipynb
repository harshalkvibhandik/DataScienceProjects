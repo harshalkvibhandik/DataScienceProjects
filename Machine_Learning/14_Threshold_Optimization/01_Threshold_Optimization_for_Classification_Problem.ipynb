{
 "cells": [
  {
   "cell_type": "markdown",
   "metadata": {
    "id": "x8ZZt9r618pJ"
   },
   "source": [
    "# <center>Threshold Optimization for Classification Problem</center>"
   ]
  },
  {
   "cell_type": "markdown",
   "metadata": {
    "id": "Q3_cMoLq2FwB"
   },
   "source": [
    "---\n",
    "# **Table of Contents**\n",
    "---\n",
    "\n",
    "**1.** [**Introduction**](#Section1)<br>\n",
    "  - **1.1** [**Threshold Optimization for Classification Problem**](#Section11)\n",
    "  - **1.2** [**Youden's J statistics**](#Section12)\n",
    "  - **1.3** [**Importing data from Kaggle**](#Section13)\n",
    "\n",
    "**2.** [**Problem Statement**](#Section2)<br>\n",
    "**3.** [**Installing & Importing Libraries**](#Section3)<br>\n",
    "  - **3.1** [**Installing Libraries**](#Section31)\n",
    "  - **3.2** [**Importing Libraries**](#Section32)\n",
    "  - **3.3** [**Importing Dataset from Kaggle**](#Section33)\n",
    "\n",
    "**4.** [**Data Acquisition & Description**](#Section4)<br>\n",
    "  - **4.1** [**Data Description**](#Section41)\n",
    "  - **4.2** [**Data Information**](#Section42)\n",
    "  - **4.3** [**Data Pre Profiling**](#Section43)\n",
    "\n",
    "**5.** [**Data Processing & Feature Selection**](#Section5)<br>\n",
    "  - **5.1** [**Splittng the data**](#Section51)<br>\n",
    "\n",
    "**6.** [**Model Development & Evaluation**](#Section6)<br>\n",
    "  - **6.1** [**Logistic Regression Model**](#Section61)<br>\n",
    "  - **6.2** [**Evaluating the Model**](#Section62)<br>\n",
    "  - **6.3** [**Plotting Curves**](#Section63)<br>\n",
    "  - **6.4** [**Metrics for ROC Threshold**](#Section64)<br>\n",
    "  - **6.5** [**Metrics for PR Threshold**](#Section65)<br>\n",
    "  - **6.6** [**Effects of Threshold on Metrics**](#Section66)<br>\n",
    "  \n",
    "**7.** [**Conclusion**](#Section7)<br>\n",
    "\n"
   ]
  },
  {
   "cell_type": "markdown",
   "metadata": {
    "id": "HCEGDN1fev-D"
   },
   "source": [
    "---\n",
    "<a name = Section1></a>\n",
    "# **1. Introduction**\n",
    "---\n",
    "\n",
    "<br>\n",
    "\n",
    "<a name = Section11></a>\n",
    "### **1.1 Threshold Optimization for Classification Problem**\n",
    "\n",
    "Threshold optimization is a **technique** used in classification problems to improve the performance of a model by **adjusting the threshold** used to map **probabilities** to class labels.\n",
    "\n",
    "- In a **binary classification** problem, a model predicts a probability or scoring of **class membership**. This probability is then converted into a **class label** using a threshold. All values equal or greater than the threshold are **mapped** to one class and all other values are mapped to another class.\n",
    "\n",
    "- However, for classification problems that have a severe **class imbalance**, the default threshold can result in **poor performance**. Therefore, the **threshold** can be tuned to **improve the performance** of the classifier. This process of tuning the threshold is called **threshold moving**.\n",
    "\n",
    "- The **optimal** or best threshold is one that **maximizes** the score of a specified performance metric. In some cases, such as when using ROC Curves and Precision-Recall Curves, the best or optimal threshold for the classifier can be **calculated** directly. In other cases, it is possible to use a **grid search** to tune the threshold and **locate** the optimal value.\n",
    "\n",
    "- In **multiclass classification** problems where labels are mutually exclusive, you have a **multinomial probability distribution**. In this kind of scenario, the decision rule usually is simply picking the **highest probability class**. However, in cases where labels are **not mutually exclusive**, each label's threshold can be individually selected just like in the binary classification case.\n",
    "\n"
   ]
  },
  {
   "cell_type": "markdown",
   "metadata": {
    "id": "USHossh2nNf9"
   },
   "source": [
    "<center><img src =\"https://raw.githubusercontent.com/angeloyeo/angeloyeo.github.io/master/pics/2020-08-05-ROC/pic5_en.gif\" width = \"60%\" /></center>"
   ]
  },
  {
   "cell_type": "markdown",
   "metadata": {
    "id": "nH68GcxZlw6h"
   },
   "source": [
    "<br>\n",
    "\n",
    "<a name = Section12></a>\n",
    "### **1.2 Youden's J statistics**\n",
    "\n",
    "Youden's J statistic is a **single statistic** that **captures** the **performance** of a dichotomous diagnostic test. It is defined as `sensitivity + specificity - 1`.\n",
    "\n",
    "Its value ranges from **-1 through 1 (inclusive)**, and has a **zero value** when a diagnostic test gives the same proportion of positive results for groups with and without the disease, i.e., **the test is useless**. A value of **1** indicates that there are no false positives or false negatives, i.e., **the test is perfect.**\n",
    "\n",
    "In terms of **threshold optimization**, Youden's index is often used in conjunction with receiver operating characteristic **(ROC) analysis**. The index is defined for all points of an ROC curve, and the **maximum value of the index** may be used as a **criterion** for selecting the **optimum cut-off point** when a diagnostic test gives a numeric rather than a dichotomous result. The index is represented **graphically** as the height above the chance line, and it is also **equivalent to the area under the curve** subtended by a single operating point.\n",
    "\n"
   ]
  },
  {
   "cell_type": "markdown",
   "metadata": {
    "id": "PDZG-0zCnjJJ"
   },
   "source": [
    "<center><img src =\"https://www.statalist.org/forums/filedata/fetch?id=1471429&d=1542812786&type=full\" width = \"80%\" /></center>"
   ]
  },
  {
   "cell_type": "markdown",
   "metadata": {
    "id": "aUdQIHc3ofRy"
   },
   "source": [
    "<br>\n",
    "\n",
    "<a name = Section13></a>\n",
    "### **1.3 Importing data from Kaggle**\n",
    "\n",
    "For **importing** any dataset from kaggle, go to your kaggle [account](https://www.kaggle.com/).\n",
    "\n",
    "Then, go to **right navigation**, where you profle picture be there. Click on that, and go to `Settings`.\n",
    "\n",
    "<center><img src =\"https://drive.google.com/uc?export=download&id=1_nqhxB1ckNxsNpaZO9LwNFu--laVOlDW\" width = \"40%\" /></center>\n",
    "\n",
    "After that, Click on `Create New Token`. A **json** file will get downloaded.\n",
    "\n",
    "<center><img src =\"https://drive.google.com/uc?export=download&id=1y-VPBoRCNvd2pOoAf2XUANjztTNHOdxc\" width = \"80%\" /></center>\n",
    "\n",
    "Upload `kaggle.json` on your colab notebook, and **get started**."
   ]
  },
  {
   "cell_type": "markdown",
   "metadata": {
    "id": "kBxgM5gY72CU"
   },
   "source": [
    "---\n",
    "<a name = Section2></a>\n",
    "# **2. Problem Statement**\n",
    "---\n",
    "The problem statement is to **diagnostically** **predict** whether or not a patient has diabetes, based on certain diagnostic measurements included in the dataset. The dataset consists of several medical predictor variables and one **target variable, Outcome**. All patients in the dataset are females at least 21 years old of **Pima Indian heritage**.\n",
    "\n",
    "The goal is to build a machine learning model that can **accurately** predict whether or not the patients in the dataset have **diabetes**. To find the **optimal threshold** for **optimizing** ROC and Precision-Recall Curve with the help of **Youden's J statistics**, and to see the **effects of thresholds** on evaluaton metrics."
   ]
  },
  {
   "cell_type": "markdown",
   "metadata": {
    "id": "y_U0pAMSoWN6"
   },
   "source": [
    "<center><img src =\"https://www.yashodahospitals.com/wp-content/uploads/diabetes-symptoms-and-treatment.jpg\" width = \"60%\" /></center>"
   ]
  },
  {
   "cell_type": "markdown",
   "metadata": {
    "id": "vr8886hx73oV"
   },
   "source": [
    "---\n",
    "<a name = Section3></a>\n",
    "# **3. Installing & Importing Libraries**\n",
    "---"
   ]
  },
  {
   "cell_type": "markdown",
   "metadata": {
    "id": "fvgnHWrh783k"
   },
   "source": [
    "<a name = Section31></a>\n",
    "### **3.1 Installing Libraries**"
   ]
  },
  {
   "cell_type": "code",
   "execution_count": 1,
   "metadata": {
    "colab": {
     "base_uri": "https://localhost:8080/"
    },
    "executionInfo": {
     "elapsed": 38690,
     "status": "ok",
     "timestamp": 1695634945107,
     "user": {
      "displayName": "Akriti Upadhyay",
      "userId": "03451849857657033821"
     },
     "user_tz": -330
    },
    "id": "E5gWanr5NeVF",
    "outputId": "b62818bc-1b17-4540-ce40-125275ad51ec"
   },
   "outputs": [
    {
     "name": "stdout",
     "output_type": "stream",
     "text": [
      "Collecting kaggle\n",
      "  Downloading kaggle-1.6.3.tar.gz (84 kB)\n",
      "\u001b[2K     \u001b[90m━━━━━━━━━━━━━━━━━━━━━━━━━━━━━━━━━━━━━━━━\u001b[0m \u001b[32m84.5/84.5 kB\u001b[0m \u001b[31m3.0 MB/s\u001b[0m eta \u001b[36m0:00:00\u001b[0m\n",
      "\u001b[?25h  Preparing metadata (setup.py) ... \u001b[?25ldone\n",
      "\u001b[?25hRequirement already satisfied: six>=1.10 in /Users/harshalvibhandik/opt/anaconda3/lib/python3.9/site-packages (from kaggle) (1.16.0)\n",
      "Requirement already satisfied: certifi in /Users/harshalvibhandik/opt/anaconda3/lib/python3.9/site-packages (from kaggle) (2023.11.17)\n",
      "Requirement already satisfied: python-dateutil in /Users/harshalvibhandik/opt/anaconda3/lib/python3.9/site-packages (from kaggle) (2.8.2)\n",
      "Requirement already satisfied: requests in /Users/harshalvibhandik/opt/anaconda3/lib/python3.9/site-packages (from kaggle) (2.28.1)\n",
      "Requirement already satisfied: tqdm in /Users/harshalvibhandik/opt/anaconda3/lib/python3.9/site-packages (from kaggle) (4.64.1)\n",
      "Requirement already satisfied: python-slugify in /Users/harshalvibhandik/opt/anaconda3/lib/python3.9/site-packages (from kaggle) (5.0.2)\n",
      "Requirement already satisfied: urllib3 in /Users/harshalvibhandik/opt/anaconda3/lib/python3.9/site-packages (from kaggle) (1.26.18)\n",
      "Requirement already satisfied: bleach in /Users/harshalvibhandik/opt/anaconda3/lib/python3.9/site-packages (from kaggle) (4.1.0)\n",
      "Requirement already satisfied: packaging in /Users/harshalvibhandik/opt/anaconda3/lib/python3.9/site-packages (from bleach->kaggle) (23.2)\n",
      "Requirement already satisfied: webencodings in /Users/harshalvibhandik/opt/anaconda3/lib/python3.9/site-packages (from bleach->kaggle) (0.5.1)\n",
      "Requirement already satisfied: text-unidecode>=1.3 in /Users/harshalvibhandik/opt/anaconda3/lib/python3.9/site-packages (from python-slugify->kaggle) (1.3)\n",
      "Requirement already satisfied: charset-normalizer<3,>=2 in /Users/harshalvibhandik/opt/anaconda3/lib/python3.9/site-packages (from requests->kaggle) (2.1.1)\n",
      "Requirement already satisfied: idna<4,>=2.5 in /Users/harshalvibhandik/opt/anaconda3/lib/python3.9/site-packages (from requests->kaggle) (3.3)\n",
      "Building wheels for collected packages: kaggle\n",
      "  Building wheel for kaggle (setup.py) ... \u001b[?25ldone\n",
      "\u001b[?25h  Created wheel for kaggle: filename=kaggle-1.6.3-py3-none-any.whl size=111919 sha256=29b1416fea3b9db5533ac2a1964caea93b4635ac0bcc7f9a4ae617f413502e30\n",
      "  Stored in directory: /Users/harshalvibhandik/Library/Caches/pip/wheels/86/bc/b2/99460b4db22375a6103c397037ca1689f6cf7e51813e44452d\n",
      "Successfully built kaggle\n",
      "Installing collected packages: kaggle\n",
      "Successfully installed kaggle-1.6.3\n",
      "Requirement already satisfied: ydata_profiling in /Users/harshalvibhandik/opt/anaconda3/lib/python3.9/site-packages (4.6.3)\n",
      "Collecting ydata_profiling\n",
      "  Downloading ydata_profiling-4.6.4-py2.py3-none-any.whl (357 kB)\n",
      "\u001b[2K     \u001b[90m━━━━━━━━━━━━━━━━━━━━━━━━━━━━━━━━━━━━━━━\u001b[0m \u001b[32m357.8/357.8 kB\u001b[0m \u001b[31m6.6 MB/s\u001b[0m eta \u001b[36m0:00:00\u001b[0ma \u001b[36m0:00:01\u001b[0m\n",
      "\u001b[?25hRequirement already satisfied: visions[type_image_path]==0.7.5 in /Users/harshalvibhandik/opt/anaconda3/lib/python3.9/site-packages (from ydata_profiling) (0.7.5)\n",
      "Requirement already satisfied: matplotlib<3.9,>=3.2 in /Users/harshalvibhandik/opt/anaconda3/lib/python3.9/site-packages (from ydata_profiling) (3.5.2)\n",
      "Requirement already satisfied: htmlmin==0.1.12 in /Users/harshalvibhandik/opt/anaconda3/lib/python3.9/site-packages (from ydata_profiling) (0.1.12)\n",
      "Requirement already satisfied: wordcloud>=1.9.1 in /Users/harshalvibhandik/opt/anaconda3/lib/python3.9/site-packages (from ydata_profiling) (1.9.2)\n",
      "Requirement already satisfied: phik<0.13,>=0.11.1 in /Users/harshalvibhandik/opt/anaconda3/lib/python3.9/site-packages (from ydata_profiling) (0.12.3)\n",
      "Requirement already satisfied: scipy<1.12,>=1.4.1 in /Users/harshalvibhandik/opt/anaconda3/lib/python3.9/site-packages (from ydata_profiling) (1.9.1)\n",
      "Requirement already satisfied: PyYAML<6.1,>=5.0.0 in /Users/harshalvibhandik/opt/anaconda3/lib/python3.9/site-packages (from ydata_profiling) (6.0)\n",
      "Requirement already satisfied: multimethod<2,>=1.4 in /Users/harshalvibhandik/opt/anaconda3/lib/python3.9/site-packages (from ydata_profiling) (1.9.1)\n",
      "Requirement already satisfied: imagehash==4.3.1 in /Users/harshalvibhandik/opt/anaconda3/lib/python3.9/site-packages (from ydata_profiling) (4.3.1)\n",
      "Requirement already satisfied: requests<3,>=2.24.0 in /Users/harshalvibhandik/opt/anaconda3/lib/python3.9/site-packages (from ydata_profiling) (2.28.1)\n",
      "Requirement already satisfied: seaborn<0.13,>=0.10.1 in /Users/harshalvibhandik/opt/anaconda3/lib/python3.9/site-packages (from ydata_profiling) (0.11.2)\n",
      "Requirement already satisfied: pandas!=1.4.0,<3,>1.1 in /Users/harshalvibhandik/opt/anaconda3/lib/python3.9/site-packages (from ydata_profiling) (1.4.4)\n",
      "Requirement already satisfied: pydantic>=2 in /Users/harshalvibhandik/opt/anaconda3/lib/python3.9/site-packages (from ydata_profiling) (2.5.3)\n",
      "Requirement already satisfied: statsmodels<1,>=0.13.2 in /Users/harshalvibhandik/opt/anaconda3/lib/python3.9/site-packages (from ydata_profiling) (0.13.2)\n",
      "Requirement already satisfied: typeguard<5,>=4.1.2 in /Users/harshalvibhandik/opt/anaconda3/lib/python3.9/site-packages (from ydata_profiling) (4.1.5)\n",
      "Requirement already satisfied: numba<0.59.0,>=0.56.0 in /Users/harshalvibhandik/opt/anaconda3/lib/python3.9/site-packages (from ydata_profiling) (0.58.1)\n",
      "Requirement already satisfied: dacite>=1.8 in /Users/harshalvibhandik/opt/anaconda3/lib/python3.9/site-packages (from ydata_profiling) (1.8.1)\n",
      "Requirement already satisfied: tqdm<5,>=4.48.2 in /Users/harshalvibhandik/opt/anaconda3/lib/python3.9/site-packages (from ydata_profiling) (4.64.1)\n",
      "Requirement already satisfied: numpy<1.26,>=1.16.0 in /Users/harshalvibhandik/opt/anaconda3/lib/python3.9/site-packages (from ydata_profiling) (1.23.5)\n",
      "Requirement already satisfied: jinja2<3.2,>=2.11.1 in /Users/harshalvibhandik/opt/anaconda3/lib/python3.9/site-packages (from ydata_profiling) (3.0.3)\n",
      "Requirement already satisfied: PyWavelets in /Users/harshalvibhandik/opt/anaconda3/lib/python3.9/site-packages (from imagehash==4.3.1->ydata_profiling) (1.3.0)\n",
      "Requirement already satisfied: pillow in /Users/harshalvibhandik/opt/anaconda3/lib/python3.9/site-packages (from imagehash==4.3.1->ydata_profiling) (9.2.0)\n",
      "Requirement already satisfied: networkx>=2.4 in /Users/harshalvibhandik/opt/anaconda3/lib/python3.9/site-packages (from visions[type_image_path]==0.7.5->ydata_profiling) (2.8.4)\n",
      "Requirement already satisfied: attrs>=19.3.0 in /Users/harshalvibhandik/opt/anaconda3/lib/python3.9/site-packages (from visions[type_image_path]==0.7.5->ydata_profiling) (21.4.0)\n",
      "Requirement already satisfied: tangled-up-in-unicode>=0.0.4 in /Users/harshalvibhandik/opt/anaconda3/lib/python3.9/site-packages (from visions[type_image_path]==0.7.5->ydata_profiling) (0.2.0)\n",
      "Requirement already satisfied: MarkupSafe>=2.0 in /Users/harshalvibhandik/opt/anaconda3/lib/python3.9/site-packages (from jinja2<3.2,>=2.11.1->ydata_profiling) (2.1.3)\n",
      "Requirement already satisfied: packaging>=20.0 in /Users/harshalvibhandik/opt/anaconda3/lib/python3.9/site-packages (from matplotlib<3.9,>=3.2->ydata_profiling) (23.2)\n",
      "Requirement already satisfied: fonttools>=4.22.0 in /Users/harshalvibhandik/opt/anaconda3/lib/python3.9/site-packages (from matplotlib<3.9,>=3.2->ydata_profiling) (4.25.0)\n",
      "Requirement already satisfied: cycler>=0.10 in /Users/harshalvibhandik/opt/anaconda3/lib/python3.9/site-packages (from matplotlib<3.9,>=3.2->ydata_profiling) (0.11.0)\n",
      "Requirement already satisfied: python-dateutil>=2.7 in /Users/harshalvibhandik/opt/anaconda3/lib/python3.9/site-packages (from matplotlib<3.9,>=3.2->ydata_profiling) (2.8.2)\n",
      "Requirement already satisfied: kiwisolver>=1.0.1 in /Users/harshalvibhandik/opt/anaconda3/lib/python3.9/site-packages (from matplotlib<3.9,>=3.2->ydata_profiling) (1.4.2)\n",
      "Requirement already satisfied: pyparsing>=2.2.1 in /Users/harshalvibhandik/opt/anaconda3/lib/python3.9/site-packages (from matplotlib<3.9,>=3.2->ydata_profiling) (3.0.9)\n",
      "Requirement already satisfied: llvmlite<0.42,>=0.41.0dev0 in /Users/harshalvibhandik/opt/anaconda3/lib/python3.9/site-packages (from numba<0.59.0,>=0.56.0->ydata_profiling) (0.41.1)\n",
      "Requirement already satisfied: pytz>=2020.1 in /Users/harshalvibhandik/opt/anaconda3/lib/python3.9/site-packages (from pandas!=1.4.0,<3,>1.1->ydata_profiling) (2022.1)\n",
      "Requirement already satisfied: joblib>=0.14.1 in /Users/harshalvibhandik/opt/anaconda3/lib/python3.9/site-packages (from phik<0.13,>=0.11.1->ydata_profiling) (1.3.1)\n",
      "Requirement already satisfied: pydantic-core==2.14.6 in /Users/harshalvibhandik/opt/anaconda3/lib/python3.9/site-packages (from pydantic>=2->ydata_profiling) (2.14.6)\n",
      "Requirement already satisfied: typing-extensions>=4.6.1 in /Users/harshalvibhandik/opt/anaconda3/lib/python3.9/site-packages (from pydantic>=2->ydata_profiling) (4.9.0)\n",
      "Requirement already satisfied: annotated-types>=0.4.0 in /Users/harshalvibhandik/opt/anaconda3/lib/python3.9/site-packages (from pydantic>=2->ydata_profiling) (0.6.0)\n",
      "Requirement already satisfied: certifi>=2017.4.17 in /Users/harshalvibhandik/opt/anaconda3/lib/python3.9/site-packages (from requests<3,>=2.24.0->ydata_profiling) (2023.11.17)\n",
      "Requirement already satisfied: idna<4,>=2.5 in /Users/harshalvibhandik/opt/anaconda3/lib/python3.9/site-packages (from requests<3,>=2.24.0->ydata_profiling) (3.3)\n",
      "Requirement already satisfied: urllib3<1.27,>=1.21.1 in /Users/harshalvibhandik/opt/anaconda3/lib/python3.9/site-packages (from requests<3,>=2.24.0->ydata_profiling) (1.26.18)\n",
      "Requirement already satisfied: charset-normalizer<3,>=2 in /Users/harshalvibhandik/opt/anaconda3/lib/python3.9/site-packages (from requests<3,>=2.24.0->ydata_profiling) (2.1.1)\n"
     ]
    },
    {
     "name": "stdout",
     "output_type": "stream",
     "text": [
      "Requirement already satisfied: patsy>=0.5.2 in /Users/harshalvibhandik/opt/anaconda3/lib/python3.9/site-packages (from statsmodels<1,>=0.13.2->ydata_profiling) (0.5.2)\n",
      "Requirement already satisfied: importlib-metadata>=3.6 in /Users/harshalvibhandik/opt/anaconda3/lib/python3.9/site-packages (from typeguard<5,>=4.1.2->ydata_profiling) (4.11.3)\n",
      "Requirement already satisfied: zipp>=0.5 in /Users/harshalvibhandik/opt/anaconda3/lib/python3.9/site-packages (from importlib-metadata>=3.6->typeguard<5,>=4.1.2->ydata_profiling) (3.8.0)\n",
      "Requirement already satisfied: six in /Users/harshalvibhandik/opt/anaconda3/lib/python3.9/site-packages (from patsy>=0.5.2->statsmodels<1,>=0.13.2->ydata_profiling) (1.16.0)\n",
      "Installing collected packages: ydata_profiling\n",
      "  Attempting uninstall: ydata_profiling\n",
      "    Found existing installation: ydata-profiling 4.6.3\n",
      "    Uninstalling ydata-profiling-4.6.3:\n",
      "      Successfully uninstalled ydata-profiling-4.6.3\n",
      "Successfully installed ydata_profiling-4.6.4\n"
     ]
    }
   ],
   "source": [
    "!pip install --upgrade kaggle\n",
    "!pip install --upgrade ydata_profiling"
   ]
  },
  {
   "cell_type": "markdown",
   "metadata": {
    "id": "ZWNjHn0b8LPG"
   },
   "source": [
    "<a name = Section32></a>\n",
    "### **3.2 Importing Libraries**"
   ]
  },
  {
   "cell_type": "code",
   "execution_count": 2,
   "metadata": {
    "colab": {
     "base_uri": "https://localhost:8080/"
    },
    "executionInfo": {
     "elapsed": 2853,
     "status": "ok",
     "timestamp": 1695634947957,
     "user": {
      "displayName": "Akriti Upadhyay",
      "userId": "03451849857657033821"
     },
     "user_tz": -330
    },
    "id": "4-XEP9FNgYGD",
    "outputId": "3350d1df-4340-41d5-a261-f53d545d61d6"
   },
   "outputs": [],
   "source": [
    "#-------------------------------------------------------------------------------------------------------------------------------\n",
    "import pandas as pd                                                 # Importing for panel data analysis\n",
    "import ydata_profiling                                              # Import ydata profiling package\n",
    "pd.set_option('display.max_columns', None)                          # Unfolding hidden features if the cardinality is high\n",
    "pd.set_option('display.max_colwidth', None)                         # Unfolding the max feature width for better clearity\n",
    "pd.set_option('display.max_rows', None)                             # Unfolding hidden data points if the cardinality is high\n",
    "pd.set_option('mode.chained_assignment', None)                      # Removing restriction over chained assignments operations\n",
    "pd.set_option('display.float_format', lambda x: '%.5f' % x)         # To suppress scientific notation over exponential values\n",
    "#-------------------------------------------------------------------------------------------------------------------------------\n",
    "import numpy as np                                                  # Importing package numpys (For Numerical Python)\n",
    "#-------------------------------------------------------------------------------------------------------------------------------\n",
    "import matplotlib.pyplot as plt                                     # Importing pyplot interface using matplotlib\n",
    "from matplotlib.pylab import rcParams                               # Backend used for rendering and GUI integration\n",
    "import seaborn as sns                                               # Importing Seaborn for data visualization\n",
    "%matplotlib inline\n",
    "#-------------------------------------------------------------------------------------------------------------------------------\n",
    "from sklearn.metrics import accuracy_score                          # To see the accuracy of the model\n",
    "from sklearn.metrics import precision_score                         # To see the precision of the model\n",
    "from sklearn.metrics import recall_score                            # To see the recall of the model\n",
    "from sklearn.metrics import f1_score                                # To see the f1 score of the model\n",
    "from sklearn.metrics import confusion_matrix                        # To see the confusion matrix of the model\n",
    "from sklearn.metrics import ConfusionMatrixDisplay                  # To visualize the confusion matrix\n",
    "from sklearn.metrics import classification_report                   # To view the classification report of the model\n",
    "from sklearn.metrics import auc                                     # To view the auc score of the model\n",
    "from sklearn.metrics import precision_recall_curve                  # To plot the precision and recall of the model\n",
    "from sklearn.metrics import roc_curve                               # To plot the roc of the model\n",
    "#-------------------------------------------------------------------------------------------------------------------------------\n",
    "from sklearn.model_selection import train_test_split                # To split the data in training and testing part\n",
    "from sklearn.linear_model import LogisticRegression                 # To create a logistic regression classification model using algorithm\n",
    "#-------------------------------------------------------------------------------------------------------------------------------\n",
    "import warnings                                                     # Importing warning to disable runtime warnings\n",
    "warnings.filterwarnings(\"ignore\")                                   # Warnings will appear only once"
   ]
  },
  {
   "cell_type": "markdown",
   "metadata": {
    "id": "52Mh7YKkPKGp"
   },
   "source": [
    "<a name = Section33></a>\n",
    "### **3.3 Importing dataset from Kaggle**"
   ]
  },
  {
   "cell_type": "code",
   "execution_count": 3,
   "metadata": {
    "colab": {
     "base_uri": "https://localhost:8080/"
    },
    "executionInfo": {
     "elapsed": 2053,
     "status": "ok",
     "timestamp": 1695634872757,
     "user": {
      "displayName": "Akriti Upadhyay",
      "userId": "03451849857657033821"
     },
     "user_tz": -330
    },
    "id": "XXEK0teGPB9l",
    "outputId": "02d294cb-e507-4398-8c97-6cb50e07d865"
   },
   "outputs": [
    {
     "name": "stdout",
     "output_type": "stream",
     "text": [
      "cp: kaggle.json: No such file or directory\n",
      "chmod: /Users/harshalvibhandik/.kaggle/kaggle.json: No such file or directory\n",
      "Traceback (most recent call last):\n",
      "  File \"/Users/harshalvibhandik/opt/anaconda3/bin/kaggle\", line 5, in <module>\n",
      "    from kaggle.cli import main\n",
      "  File \"/Users/harshalvibhandik/opt/anaconda3/lib/python3.9/site-packages/kaggle/__init__.py\", line 23, in <module>\n",
      "    api.authenticate()\n",
      "  File \"/Users/harshalvibhandik/opt/anaconda3/lib/python3.9/site-packages/kaggle/api/kaggle_api_extended.py\", line 403, in authenticate\n",
      "    raise IOError('Could not find {}. Make sure it\\'s located in'\n",
      "OSError: Could not find kaggle.json. Make sure it's located in /Users/harshalvibhandik/.kaggle. Or use the environment method.\n",
      "unzip:  cannot find or open pima-indians-diabetes-database.zip, pima-indians-diabetes-database.zip.zip or pima-indians-diabetes-database.zip.ZIP.\n"
     ]
    }
   ],
   "source": [
    "!mkdir ~/.kaggle\n",
    "!cp kaggle.json ~/.kaggle/\n",
    "!chmod 600 ~/.kaggle/kaggle.json\n",
    "!kaggle datasets download -d uciml/pima-indians-diabetes-database\n",
    "!unzip pima-indians-diabetes-database.zip"
   ]
  },
  {
   "cell_type": "markdown",
   "metadata": {
    "id": "E6UeMxkBMtl6"
   },
   "source": [
    "---\n",
    "<a name = Section4></a>\n",
    "# **4. Data Acquisition & Description**\n",
    "---\n",
    "\n",
    "- The dataset consists of various attributes associated with **Pima Indian heritage women's health and diabetes status**.\n",
    "- These **attributes** include the number of pregnancies the patient has had, their BMI, insulin level, age, and so on.\n",
    "- The **target** variable is **“Outcome”** which indicates whether or not a patient has diabetes.\n",
    "\n",
    "\n",
    "| Records | Features | Dataset Size |\n",
    "| :-- | :-- | :-- |\n",
    "| 768 | 9 | 23.1 Kb|\n",
    "<br>\n",
    "\n",
    "| Id | Features | Description |\n",
    "| :-- | :--| :--|\n",
    "|01|**Pregnancies**|Number of times pregnant.|\n",
    "|02|**Glucose**|Plasma glucose concentration a 2 hours in an oral glucose tolerance test.|\n",
    "|03|**BloodPressure**|Diastolic blood pressure (mm Hg).|\n",
    "|04|**SkinThickness**|Triceps skin fold thickness (mm).|\n",
    "|05|**Insulin**|2-Hour serum insulin (mu U/ml).|\n",
    "|06|**BMI**|Body mass index (weight in kg/(height in m)^2).|\n",
    "|07|**DiabetesPedigreeFunction**|Diabetes pedigree function (a function which scores likelihood of diabetes based on family history).|\n",
    "|08|**Age**|Age (years).|\n",
    "|09|**Outcome**|Class variable (0 or 1) where '0' denotes patient is not diabetic and '1' denotes patient is diabetic.|"
   ]
  },
  {
   "cell_type": "code",
   "execution_count": 4,
   "metadata": {
    "colab": {
     "base_uri": "https://localhost:8080/",
     "height": 206
    },
    "executionInfo": {
     "elapsed": 21,
     "status": "ok",
     "timestamp": 1695634947959,
     "user": {
      "displayName": "Akriti Upadhyay",
      "userId": "03451849857657033821"
     },
     "user_tz": -330
    },
    "id": "xKSwrDl1OSfA",
    "outputId": "9d8d15dd-e002-4ea0-e05e-05e93883c55a"
   },
   "outputs": [
    {
     "data": {
      "text/html": [
       "<div>\n",
       "<style scoped>\n",
       "    .dataframe tbody tr th:only-of-type {\n",
       "        vertical-align: middle;\n",
       "    }\n",
       "\n",
       "    .dataframe tbody tr th {\n",
       "        vertical-align: top;\n",
       "    }\n",
       "\n",
       "    .dataframe thead th {\n",
       "        text-align: right;\n",
       "    }\n",
       "</style>\n",
       "<table border=\"1\" class=\"dataframe\">\n",
       "  <thead>\n",
       "    <tr style=\"text-align: right;\">\n",
       "      <th></th>\n",
       "      <th>Pregnancies</th>\n",
       "      <th>Glucose</th>\n",
       "      <th>BloodPressure</th>\n",
       "      <th>SkinThickness</th>\n",
       "      <th>Insulin</th>\n",
       "      <th>BMI</th>\n",
       "      <th>DiabetesPedigreeFunction</th>\n",
       "      <th>Age</th>\n",
       "      <th>Outcome</th>\n",
       "    </tr>\n",
       "  </thead>\n",
       "  <tbody>\n",
       "    <tr>\n",
       "      <th>0</th>\n",
       "      <td>6</td>\n",
       "      <td>148</td>\n",
       "      <td>72</td>\n",
       "      <td>35</td>\n",
       "      <td>0</td>\n",
       "      <td>33.60000</td>\n",
       "      <td>0.62700</td>\n",
       "      <td>50</td>\n",
       "      <td>1</td>\n",
       "    </tr>\n",
       "    <tr>\n",
       "      <th>1</th>\n",
       "      <td>1</td>\n",
       "      <td>85</td>\n",
       "      <td>66</td>\n",
       "      <td>29</td>\n",
       "      <td>0</td>\n",
       "      <td>26.60000</td>\n",
       "      <td>0.35100</td>\n",
       "      <td>31</td>\n",
       "      <td>0</td>\n",
       "    </tr>\n",
       "    <tr>\n",
       "      <th>2</th>\n",
       "      <td>8</td>\n",
       "      <td>183</td>\n",
       "      <td>64</td>\n",
       "      <td>0</td>\n",
       "      <td>0</td>\n",
       "      <td>23.30000</td>\n",
       "      <td>0.67200</td>\n",
       "      <td>32</td>\n",
       "      <td>1</td>\n",
       "    </tr>\n",
       "    <tr>\n",
       "      <th>3</th>\n",
       "      <td>1</td>\n",
       "      <td>89</td>\n",
       "      <td>66</td>\n",
       "      <td>23</td>\n",
       "      <td>94</td>\n",
       "      <td>28.10000</td>\n",
       "      <td>0.16700</td>\n",
       "      <td>21</td>\n",
       "      <td>0</td>\n",
       "    </tr>\n",
       "    <tr>\n",
       "      <th>4</th>\n",
       "      <td>0</td>\n",
       "      <td>137</td>\n",
       "      <td>40</td>\n",
       "      <td>35</td>\n",
       "      <td>168</td>\n",
       "      <td>43.10000</td>\n",
       "      <td>2.28800</td>\n",
       "      <td>33</td>\n",
       "      <td>1</td>\n",
       "    </tr>\n",
       "  </tbody>\n",
       "</table>\n",
       "</div>"
      ],
      "text/plain": [
       "   Pregnancies  Glucose  BloodPressure  SkinThickness  Insulin      BMI  \\\n",
       "0            6      148             72             35        0 33.60000   \n",
       "1            1       85             66             29        0 26.60000   \n",
       "2            8      183             64              0        0 23.30000   \n",
       "3            1       89             66             23       94 28.10000   \n",
       "4            0      137             40             35      168 43.10000   \n",
       "\n",
       "   DiabetesPedigreeFunction  Age  Outcome  \n",
       "0                   0.62700   50        1  \n",
       "1                   0.35100   31        0  \n",
       "2                   0.67200   32        1  \n",
       "3                   0.16700   21        0  \n",
       "4                   2.28800   33        1  "
      ]
     },
     "execution_count": 4,
     "metadata": {},
     "output_type": "execute_result"
    }
   ],
   "source": [
    "data = pd.read_csv(\"diabetes.csv\")\n",
    "data.head()"
   ]
  },
  {
   "cell_type": "code",
   "execution_count": 5,
   "metadata": {
    "colab": {
     "base_uri": "https://localhost:8080/"
    },
    "executionInfo": {
     "elapsed": 18,
     "status": "ok",
     "timestamp": 1695634947960,
     "user": {
      "displayName": "Akriti Upadhyay",
      "userId": "03451849857657033821"
     },
     "user_tz": -330
    },
    "id": "jGi-genvOnRm",
    "outputId": "eb92808d-5c62-4adc-ebc6-7648b898867c"
   },
   "outputs": [
    {
     "data": {
      "text/plain": [
       "(768, 9)"
      ]
     },
     "execution_count": 5,
     "metadata": {},
     "output_type": "execute_result"
    }
   ],
   "source": [
    "data.shape"
   ]
  },
  {
   "cell_type": "markdown",
   "metadata": {
    "id": "MDJIiiXu8RZq"
   },
   "source": [
    "<a name = Section41></a>\n",
    "### **4.1 Data Description**\n",
    "\n",
    "- In this section we will get **information about the data** and see some observations.\n"
   ]
  },
  {
   "cell_type": "code",
   "execution_count": 6,
   "metadata": {
    "colab": {
     "base_uri": "https://localhost:8080/",
     "height": 300
    },
    "executionInfo": {
     "elapsed": 6,
     "status": "ok",
     "timestamp": 1695634955935,
     "user": {
      "displayName": "Akriti Upadhyay",
      "userId": "03451849857657033821"
     },
     "user_tz": -330
    },
    "id": "5oAaQhXCTwyY",
    "outputId": "a499f02e-73d1-4802-eb29-0e1a1b69c8d0"
   },
   "outputs": [
    {
     "data": {
      "text/html": [
       "<div>\n",
       "<style scoped>\n",
       "    .dataframe tbody tr th:only-of-type {\n",
       "        vertical-align: middle;\n",
       "    }\n",
       "\n",
       "    .dataframe tbody tr th {\n",
       "        vertical-align: top;\n",
       "    }\n",
       "\n",
       "    .dataframe thead th {\n",
       "        text-align: right;\n",
       "    }\n",
       "</style>\n",
       "<table border=\"1\" class=\"dataframe\">\n",
       "  <thead>\n",
       "    <tr style=\"text-align: right;\">\n",
       "      <th></th>\n",
       "      <th>Pregnancies</th>\n",
       "      <th>Glucose</th>\n",
       "      <th>BloodPressure</th>\n",
       "      <th>SkinThickness</th>\n",
       "      <th>Insulin</th>\n",
       "      <th>BMI</th>\n",
       "      <th>DiabetesPedigreeFunction</th>\n",
       "      <th>Age</th>\n",
       "      <th>Outcome</th>\n",
       "    </tr>\n",
       "  </thead>\n",
       "  <tbody>\n",
       "    <tr>\n",
       "      <th>count</th>\n",
       "      <td>768.00000</td>\n",
       "      <td>768.00000</td>\n",
       "      <td>768.00000</td>\n",
       "      <td>768.00000</td>\n",
       "      <td>768.00000</td>\n",
       "      <td>768.00000</td>\n",
       "      <td>768.00000</td>\n",
       "      <td>768.00000</td>\n",
       "      <td>768.00000</td>\n",
       "    </tr>\n",
       "    <tr>\n",
       "      <th>mean</th>\n",
       "      <td>3.84505</td>\n",
       "      <td>120.89453</td>\n",
       "      <td>69.10547</td>\n",
       "      <td>20.53646</td>\n",
       "      <td>79.79948</td>\n",
       "      <td>31.99258</td>\n",
       "      <td>0.47188</td>\n",
       "      <td>33.24089</td>\n",
       "      <td>0.34896</td>\n",
       "    </tr>\n",
       "    <tr>\n",
       "      <th>std</th>\n",
       "      <td>3.36958</td>\n",
       "      <td>31.97262</td>\n",
       "      <td>19.35581</td>\n",
       "      <td>15.95222</td>\n",
       "      <td>115.24400</td>\n",
       "      <td>7.88416</td>\n",
       "      <td>0.33133</td>\n",
       "      <td>11.76023</td>\n",
       "      <td>0.47695</td>\n",
       "    </tr>\n",
       "    <tr>\n",
       "      <th>min</th>\n",
       "      <td>0.00000</td>\n",
       "      <td>0.00000</td>\n",
       "      <td>0.00000</td>\n",
       "      <td>0.00000</td>\n",
       "      <td>0.00000</td>\n",
       "      <td>0.00000</td>\n",
       "      <td>0.07800</td>\n",
       "      <td>21.00000</td>\n",
       "      <td>0.00000</td>\n",
       "    </tr>\n",
       "    <tr>\n",
       "      <th>25%</th>\n",
       "      <td>1.00000</td>\n",
       "      <td>99.00000</td>\n",
       "      <td>62.00000</td>\n",
       "      <td>0.00000</td>\n",
       "      <td>0.00000</td>\n",
       "      <td>27.30000</td>\n",
       "      <td>0.24375</td>\n",
       "      <td>24.00000</td>\n",
       "      <td>0.00000</td>\n",
       "    </tr>\n",
       "    <tr>\n",
       "      <th>50%</th>\n",
       "      <td>3.00000</td>\n",
       "      <td>117.00000</td>\n",
       "      <td>72.00000</td>\n",
       "      <td>23.00000</td>\n",
       "      <td>30.50000</td>\n",
       "      <td>32.00000</td>\n",
       "      <td>0.37250</td>\n",
       "      <td>29.00000</td>\n",
       "      <td>0.00000</td>\n",
       "    </tr>\n",
       "    <tr>\n",
       "      <th>75%</th>\n",
       "      <td>6.00000</td>\n",
       "      <td>140.25000</td>\n",
       "      <td>80.00000</td>\n",
       "      <td>32.00000</td>\n",
       "      <td>127.25000</td>\n",
       "      <td>36.60000</td>\n",
       "      <td>0.62625</td>\n",
       "      <td>41.00000</td>\n",
       "      <td>1.00000</td>\n",
       "    </tr>\n",
       "    <tr>\n",
       "      <th>max</th>\n",
       "      <td>17.00000</td>\n",
       "      <td>199.00000</td>\n",
       "      <td>122.00000</td>\n",
       "      <td>99.00000</td>\n",
       "      <td>846.00000</td>\n",
       "      <td>67.10000</td>\n",
       "      <td>2.42000</td>\n",
       "      <td>81.00000</td>\n",
       "      <td>1.00000</td>\n",
       "    </tr>\n",
       "  </tbody>\n",
       "</table>\n",
       "</div>"
      ],
      "text/plain": [
       "       Pregnancies   Glucose  BloodPressure  SkinThickness   Insulin  \\\n",
       "count    768.00000 768.00000      768.00000      768.00000 768.00000   \n",
       "mean       3.84505 120.89453       69.10547       20.53646  79.79948   \n",
       "std        3.36958  31.97262       19.35581       15.95222 115.24400   \n",
       "min        0.00000   0.00000        0.00000        0.00000   0.00000   \n",
       "25%        1.00000  99.00000       62.00000        0.00000   0.00000   \n",
       "50%        3.00000 117.00000       72.00000       23.00000  30.50000   \n",
       "75%        6.00000 140.25000       80.00000       32.00000 127.25000   \n",
       "max       17.00000 199.00000      122.00000       99.00000 846.00000   \n",
       "\n",
       "            BMI  DiabetesPedigreeFunction       Age   Outcome  \n",
       "count 768.00000                 768.00000 768.00000 768.00000  \n",
       "mean   31.99258                   0.47188  33.24089   0.34896  \n",
       "std     7.88416                   0.33133  11.76023   0.47695  \n",
       "min     0.00000                   0.07800  21.00000   0.00000  \n",
       "25%    27.30000                   0.24375  24.00000   0.00000  \n",
       "50%    32.00000                   0.37250  29.00000   0.00000  \n",
       "75%    36.60000                   0.62625  41.00000   1.00000  \n",
       "max    67.10000                   2.42000  81.00000   1.00000  "
      ]
     },
     "execution_count": 6,
     "metadata": {},
     "output_type": "execute_result"
    }
   ],
   "source": [
    "data.describe()"
   ]
  },
  {
   "cell_type": "markdown",
   "metadata": {
    "id": "GZk58qEYT6hY"
   },
   "source": [
    "**Observation:**\n",
    "\n",
    "- The **average number of pregnancies** is around **3.85**.\n",
    "- The **average age** is approximately **33.24 years**.\n",
    "- The **average diabetes pedigree function score** is around **0.47**."
   ]
  },
  {
   "cell_type": "markdown",
   "metadata": {
    "id": "FeYRLPBg8b1i"
   },
   "source": [
    "<a name = Section42></a>\n",
    "### **4.2 Data Information**\n",
    "\n",
    "- In this section we will see the **information about the types of features**.\n"
   ]
  },
  {
   "cell_type": "code",
   "execution_count": 7,
   "metadata": {
    "colab": {
     "base_uri": "https://localhost:8080/"
    },
    "executionInfo": {
     "elapsed": 4,
     "status": "ok",
     "timestamp": 1695634958184,
     "user": {
      "displayName": "Akriti Upadhyay",
      "userId": "03451849857657033821"
     },
     "user_tz": -330
    },
    "id": "URnnsB9BOp2V",
    "outputId": "95a7988b-5719-4ded-a7af-ba6685897b0d"
   },
   "outputs": [
    {
     "name": "stdout",
     "output_type": "stream",
     "text": [
      "<class 'pandas.core.frame.DataFrame'>\n",
      "RangeIndex: 768 entries, 0 to 767\n",
      "Data columns (total 9 columns):\n",
      " #   Column                    Non-Null Count  Dtype  \n",
      "---  ------                    --------------  -----  \n",
      " 0   Pregnancies               768 non-null    int64  \n",
      " 1   Glucose                   768 non-null    int64  \n",
      " 2   BloodPressure             768 non-null    int64  \n",
      " 3   SkinThickness             768 non-null    int64  \n",
      " 4   Insulin                   768 non-null    int64  \n",
      " 5   BMI                       768 non-null    float64\n",
      " 6   DiabetesPedigreeFunction  768 non-null    float64\n",
      " 7   Age                       768 non-null    int64  \n",
      " 8   Outcome                   768 non-null    int64  \n",
      "dtypes: float64(2), int64(7)\n",
      "memory usage: 54.1 KB\n"
     ]
    }
   ],
   "source": [
    "data.info()"
   ]
  },
  {
   "cell_type": "markdown",
   "metadata": {
    "id": "G9Kqjf5_UxZe"
   },
   "source": [
    "**Observation:**\n",
    "\n",
    "- There are **768** entries and **9** columns\n",
    "- There are **2** float and **7** int datatypes\n",
    "- **Outcome** is the **target** variable which is **categorical** in nature"
   ]
  },
  {
   "cell_type": "markdown",
   "metadata": {
    "id": "FbW5V8Mq81m0"
   },
   "source": [
    "<a name = Section43></a>\n",
    "### **4.3 Data Pre Profiling**\n",
    "- To get a quick and comprehensive **overview** of the dataset's characteristics and statistics, **```pandas_profiling```** is used.\n",
    "- It helps in making **informed decisions** during the **data analysis and preprocessing stages**.\n",
    "\n",
    "\n"
   ]
  },
  {
   "cell_type": "code",
   "execution_count": 9,
   "metadata": {
    "colab": {
     "base_uri": "https://localhost:8080/",
     "height": 918,
     "output_embedded_package_id": "1tVRqoWLF2DZByDPkcH9Cyvm71TdDWlbt",
     "referenced_widgets": [
      "f54667c52d704504a87c2024cd9e3c06",
      "bce9f120d7114addaec898dbbbc2a373",
      "ace3d79f42c547e48ab249e868a24e32",
      "4d8915cc430d4bc58ee173a7c2b050f7",
      "ab37c41b227d43b0b6768bb47af2ac17",
      "ec1a6564693c4113a856619fecd2c2a6",
      "a11b8b67b2204070ad57e858c7f8c987",
      "aa5c3eae63db457ea747b43cb0934e60",
      "ffb0b8380dec42ac8518c3a56de3fc35",
      "47a9bf18bf7746fd9d478d6887b65099",
      "7bbe98f7237b464897d3f30d8d604c32",
      "2f3fe09d7dd149a39f14d05d0405396e",
      "323fb2fe13a348748b5fa9690d3e7e6f",
      "16cbc4349f8f46fea71951773a714c5d",
      "a7dcb642b0aa46e5a957e0eb56c33c8d",
      "df59c562d81b47a4823128cf29eb4a3f",
      "1105cae934734eb0bc1f07a5125ad728",
      "7138b7efbfb340748f44013a33f6f4ca",
      "6e476b403376449aa63af42146f72b10",
      "83386f83ca7c4399bc81577fa63f3578",
      "e17d2b7d664a49639a7164feedccee4e",
      "83c6f3f7370a4de7a6534311774d4e9e",
      "79cc89c750054432a464a3853ca7d13d",
      "eb9179e494be4241adc9ce7841819d26",
      "5d27d879587e42dfa0b34c8315f3ea5a",
      "cb3c47a9be0244eaa300f21d2ed89fc1",
      "402164549a3243fa91da7573015ce9dc",
      "61fa3fff17794b348d8b08c7f9c7af0f",
      "c5a44e70c7114ab7888987805c795c01",
      "005154f9a92344458c0749d6d8609c58",
      "ad8286e72456470ca6c2b7f1afb61c47",
      "1f6584effa684cc2b81369e5ad1127f0",
      "8cbb23ba317749d48ba33fd9fe7bfa88"
     ]
    },
    "executionInfo": {
     "elapsed": 57716,
     "status": "ok",
     "timestamp": 1695635019654,
     "user": {
      "displayName": "Akriti Upadhyay",
      "userId": "03451849857657033821"
     },
     "user_tz": -330
    },
    "id": "bWF-YYSQNZCt",
    "outputId": "0cf45cbd-9778-4ab0-d590-885dc429810f"
   },
   "outputs": [
    {
     "data": {
      "application/vnd.jupyter.widget-view+json": {
       "model_id": "e0de639e580b402bad6de2f215e27071",
       "version_major": 2,
       "version_minor": 0
      },
      "text/plain": [
       "Summarize dataset:   0%|          | 0/5 [00:00<?, ?it/s]"
      ]
     },
     "metadata": {},
     "output_type": "display_data"
    },
    {
     "data": {
      "application/vnd.jupyter.widget-view+json": {
       "model_id": "3f15de29dcca46139966df2769437a22",
       "version_major": 2,
       "version_minor": 0
      },
      "text/plain": [
       "Generate report structure:   0%|          | 0/1 [00:00<?, ?it/s]"
      ]
     },
     "metadata": {},
     "output_type": "display_data"
    },
    {
     "data": {
      "application/vnd.jupyter.widget-view+json": {
       "model_id": "ed23ff4baa024fa99b435875b5bc586a",
       "version_major": 2,
       "version_minor": 0
      },
      "text/plain": [
       "Render HTML:   0%|          | 0/1 [00:00<?, ?it/s]"
      ]
     },
     "metadata": {},
     "output_type": "display_data"
    },
    {
     "data": {
      "application/vnd.jupyter.widget-view+json": {
       "model_id": "347e860f44a14b259bbcb0fb0719ef73",
       "version_major": 2,
       "version_minor": 0
      },
      "text/plain": [
       "Export report to file:   0%|          | 0/1 [00:00<?, ?it/s]"
      ]
     },
     "metadata": {},
     "output_type": "display_data"
    },
    {
     "name": "stdout",
     "output_type": "stream",
     "text": [
      "Pre-Profiling Report Ready to Download!\n"
     ]
    }
   ],
   "source": [
    "from ydata_profiling import ProfileReport\n",
    "profile = ProfileReport(df=data)\n",
    "profile.to_file(output_file=\"Ydata_Profiling_Report.html\")\n",
    "print('Pre-Profiling Report Ready to Download!')"
   ]
  },
  {
   "cell_type": "markdown",
   "metadata": {
    "id": "xutQBCuxWSBz"
   },
   "source": [
    "**Observation:**\n",
    "\n",
    "- There are **8 numerical** and **1 categorical** data columns.\n",
    "- There are **no missing data**.\n",
    "- There are **no duplicated** data."
   ]
  },
  {
   "cell_type": "markdown",
   "metadata": {
    "id": "A6gv-7CE9NWa"
   },
   "source": [
    "<a name = Section7></a>\n",
    "\n",
    "---\n",
    "# **5. Data Processing & Feature Selection**\n",
    "---"
   ]
  },
  {
   "cell_type": "markdown",
   "metadata": {
    "id": "UVQIfGsbDUZm"
   },
   "source": [
    "<a name = Section51></a>\n",
    "### **5.1 Splitting the data**\n",
    "\n"
   ]
  },
  {
   "cell_type": "code",
   "execution_count": 10,
   "metadata": {
    "executionInfo": {
     "elapsed": 53,
     "status": "ok",
     "timestamp": 1695635019655,
     "user": {
      "displayName": "Akriti Upadhyay",
      "userId": "03451849857657033821"
     },
     "user_tz": -330
    },
    "id": "S_Z2gwmQY-1l"
   },
   "outputs": [
    {
     "name": "stdout",
     "output_type": "stream",
     "text": [
      "The shape of training features: (614, 8)\n",
      "The shape of testing features: (154, 8)\n",
      "The shape of training target: (614,)\n",
      "The shape of testing target: (154,)\n"
     ]
    }
   ],
   "source": [
    "# Prepare the data\n",
    "X = data.drop(columns=['Outcome'])\n",
    "y = data['Outcome']\n",
    "\n",
    "# Split the data into training and testing sets\n",
    "X_train, X_test, y_train, y_test = train_test_split(X, y, test_size=0.2, random_state=42, stratify=y)\n",
    "\n",
    "print(f\"The shape of training features: {X_train.shape}\")\n",
    "print(f\"The shape of testing features: {X_test.shape}\")\n",
    "print(f\"The shape of training target: {y_train.shape}\")\n",
    "print(f\"The shape of testing target: {y_test.shape}\")"
   ]
  },
  {
   "cell_type": "markdown",
   "metadata": {
    "id": "XfJlW9la9TVB"
   },
   "source": [
    "<a name = Section6></a>\n",
    "\n",
    "---\n",
    "# **6. Model Development & Evaluation**\n",
    "---\n",
    "- We will use **Logistic Regression** to classify the heist.\n",
    "- This model will help us in **analyzing** the data in more **detail**."
   ]
  },
  {
   "cell_type": "markdown",
   "metadata": {
    "id": "EEnhoIkteNTI"
   },
   "source": [
    "<a name = Section61></a>\n",
    "\n",
    "## **6.1 Logistic Regression Model**"
   ]
  },
  {
   "cell_type": "code",
   "execution_count": 11,
   "metadata": {
    "colab": {
     "base_uri": "https://localhost:8080/",
     "height": 74
    },
    "executionInfo": {
     "elapsed": 50,
     "status": "ok",
     "timestamp": 1695635019655,
     "user": {
      "displayName": "Akriti Upadhyay",
      "userId": "03451849857657033821"
     },
     "user_tz": -330
    },
    "id": "i-H2tEUOZBJW",
    "outputId": "6f65ae8b-52e3-435d-bfeb-d9f24b23bef9"
   },
   "outputs": [
    {
     "data": {
      "text/html": [
       "<style>#sk-container-id-1 {color: black;}#sk-container-id-1 pre{padding: 0;}#sk-container-id-1 div.sk-toggleable {background-color: white;}#sk-container-id-1 label.sk-toggleable__label {cursor: pointer;display: block;width: 100%;margin-bottom: 0;padding: 0.3em;box-sizing: border-box;text-align: center;}#sk-container-id-1 label.sk-toggleable__label-arrow:before {content: \"▸\";float: left;margin-right: 0.25em;color: #696969;}#sk-container-id-1 label.sk-toggleable__label-arrow:hover:before {color: black;}#sk-container-id-1 div.sk-estimator:hover label.sk-toggleable__label-arrow:before {color: black;}#sk-container-id-1 div.sk-toggleable__content {max-height: 0;max-width: 0;overflow: hidden;text-align: left;background-color: #f0f8ff;}#sk-container-id-1 div.sk-toggleable__content pre {margin: 0.2em;color: black;border-radius: 0.25em;background-color: #f0f8ff;}#sk-container-id-1 input.sk-toggleable__control:checked~div.sk-toggleable__content {max-height: 200px;max-width: 100%;overflow: auto;}#sk-container-id-1 input.sk-toggleable__control:checked~label.sk-toggleable__label-arrow:before {content: \"▾\";}#sk-container-id-1 div.sk-estimator input.sk-toggleable__control:checked~label.sk-toggleable__label {background-color: #d4ebff;}#sk-container-id-1 div.sk-label input.sk-toggleable__control:checked~label.sk-toggleable__label {background-color: #d4ebff;}#sk-container-id-1 input.sk-hidden--visually {border: 0;clip: rect(1px 1px 1px 1px);clip: rect(1px, 1px, 1px, 1px);height: 1px;margin: -1px;overflow: hidden;padding: 0;position: absolute;width: 1px;}#sk-container-id-1 div.sk-estimator {font-family: monospace;background-color: #f0f8ff;border: 1px dotted black;border-radius: 0.25em;box-sizing: border-box;margin-bottom: 0.5em;}#sk-container-id-1 div.sk-estimator:hover {background-color: #d4ebff;}#sk-container-id-1 div.sk-parallel-item::after {content: \"\";width: 100%;border-bottom: 1px solid gray;flex-grow: 1;}#sk-container-id-1 div.sk-label:hover label.sk-toggleable__label {background-color: #d4ebff;}#sk-container-id-1 div.sk-serial::before {content: \"\";position: absolute;border-left: 1px solid gray;box-sizing: border-box;top: 0;bottom: 0;left: 50%;z-index: 0;}#sk-container-id-1 div.sk-serial {display: flex;flex-direction: column;align-items: center;background-color: white;padding-right: 0.2em;padding-left: 0.2em;position: relative;}#sk-container-id-1 div.sk-item {position: relative;z-index: 1;}#sk-container-id-1 div.sk-parallel {display: flex;align-items: stretch;justify-content: center;background-color: white;position: relative;}#sk-container-id-1 div.sk-item::before, #sk-container-id-1 div.sk-parallel-item::before {content: \"\";position: absolute;border-left: 1px solid gray;box-sizing: border-box;top: 0;bottom: 0;left: 50%;z-index: -1;}#sk-container-id-1 div.sk-parallel-item {display: flex;flex-direction: column;z-index: 1;position: relative;background-color: white;}#sk-container-id-1 div.sk-parallel-item:first-child::after {align-self: flex-end;width: 50%;}#sk-container-id-1 div.sk-parallel-item:last-child::after {align-self: flex-start;width: 50%;}#sk-container-id-1 div.sk-parallel-item:only-child::after {width: 0;}#sk-container-id-1 div.sk-dashed-wrapped {border: 1px dashed gray;margin: 0 0.4em 0.5em 0.4em;box-sizing: border-box;padding-bottom: 0.4em;background-color: white;}#sk-container-id-1 div.sk-label label {font-family: monospace;font-weight: bold;display: inline-block;line-height: 1.2em;}#sk-container-id-1 div.sk-label-container {text-align: center;}#sk-container-id-1 div.sk-container {/* jupyter's `normalize.less` sets `[hidden] { display: none; }` but bootstrap.min.css set `[hidden] { display: none !important; }` so we also need the `!important` here to be able to override the default hidden behavior on the sphinx rendered scikit-learn.org. See: https://github.com/scikit-learn/scikit-learn/issues/21755 */display: inline-block !important;position: relative;}#sk-container-id-1 div.sk-text-repr-fallback {display: none;}</style><div id=\"sk-container-id-1\" class=\"sk-top-container\"><div class=\"sk-text-repr-fallback\"><pre>LogisticRegression()</pre><b>In a Jupyter environment, please rerun this cell to show the HTML representation or trust the notebook. <br />On GitHub, the HTML representation is unable to render, please try loading this page with nbviewer.org.</b></div><div class=\"sk-container\" hidden><div class=\"sk-item\"><div class=\"sk-estimator sk-toggleable\"><input class=\"sk-toggleable__control sk-hidden--visually\" id=\"sk-estimator-id-1\" type=\"checkbox\" checked><label for=\"sk-estimator-id-1\" class=\"sk-toggleable__label sk-toggleable__label-arrow\">LogisticRegression</label><div class=\"sk-toggleable__content\"><pre>LogisticRegression()</pre></div></div></div></div></div>"
      ],
      "text/plain": [
       "LogisticRegression()"
      ]
     },
     "execution_count": 11,
     "metadata": {},
     "output_type": "execute_result"
    }
   ],
   "source": [
    "# Create a logistic regression classifier\n",
    "clf = LogisticRegression(solver='lbfgs')\n",
    "clf.fit(X_train, y_train)"
   ]
  },
  {
   "cell_type": "code",
   "execution_count": 12,
   "metadata": {
    "executionInfo": {
     "elapsed": 49,
     "status": "ok",
     "timestamp": 1695635019656,
     "user": {
      "displayName": "Akriti Upadhyay",
      "userId": "03451849857657033821"
     },
     "user_tz": -330
    },
    "id": "pFkop_srZDOd"
   },
   "outputs": [],
   "source": [
    "# Predict probabilities\n",
    "y_probs = clf.predict_proba(X_test)[:, 1]"
   ]
  },
  {
   "cell_type": "markdown",
   "metadata": {
    "id": "oFKmRo9FeX7g"
   },
   "source": [
    "<a name = Section62></a>\n",
    "\n",
    "## **6.2 Evaluating the model**"
   ]
  },
  {
   "cell_type": "code",
   "execution_count": 13,
   "metadata": {
    "executionInfo": {
     "elapsed": 49,
     "status": "ok",
     "timestamp": 1695635019656,
     "user": {
      "displayName": "Akriti Upadhyay",
      "userId": "03451849857657033821"
     },
     "user_tz": -330
    },
    "id": "z14ByL1oZFSt"
   },
   "outputs": [],
   "source": [
    "# Calculate ROC curve\n",
    "fpr, tpr, thresholds_roc = roc_curve(y_test, y_probs)\n",
    "roc_auc = auc(fpr, tpr)"
   ]
  },
  {
   "cell_type": "code",
   "execution_count": 14,
   "metadata": {
    "executionInfo": {
     "elapsed": 49,
     "status": "ok",
     "timestamp": 1695635019656,
     "user": {
      "displayName": "Akriti Upadhyay",
      "userId": "03451849857657033821"
     },
     "user_tz": -330
    },
    "id": "Rs3v8TRRZI6l"
   },
   "outputs": [],
   "source": [
    "# Calculate precision-recall curve\n",
    "precision, recall, thresholds_pr = precision_recall_curve(y_test, y_probs)"
   ]
  },
  {
   "cell_type": "code",
   "execution_count": 15,
   "metadata": {
    "colab": {
     "base_uri": "https://localhost:8080/"
    },
    "executionInfo": {
     "elapsed": 48,
     "status": "ok",
     "timestamp": 1695635019656,
     "user": {
      "displayName": "Akriti Upadhyay",
      "userId": "03451849857657033821"
     },
     "user_tz": -330
    },
    "id": "ymOEb5NoZK9l",
    "outputId": "7498f13e-9659-4503-ba03-4bd082f4f77c"
   },
   "outputs": [
    {
     "name": "stdout",
     "output_type": "stream",
     "text": [
      "Youden's J statistics: \n",
      "[0.         0.01851852 0.09259259 0.08259259 0.11962963 0.10962963\n",
      " 0.12814815 0.11814815 0.21074074 0.20074074 0.21925926 0.20925926\n",
      " 0.2462963  0.2362963  0.29185185 0.28185185 0.30037037 0.28037037\n",
      " 0.31740741 0.30740741 0.34444444 0.32444444 0.36148148 0.35148148\n",
      " 0.37       0.35       0.36851852 0.32851852 0.36555556 0.35555556\n",
      " 0.39259259 0.37259259 0.4837037  0.4737037  0.51074074 0.50074074\n",
      " 0.51925926 0.50925926 0.52777778 0.48777778 0.5062963  0.4862963\n",
      " 0.54185185 0.53185185 0.55037037 0.53037037 0.54888889 0.47888889\n",
      " 0.49740741 0.47740741 0.49592593 0.48592593 0.52296296 0.43296296\n",
      " 0.45148148 0.17148148 0.19       0.        ]\n"
     ]
    }
   ],
   "source": [
    "# Calculate Youden's J statistic for each threshold\n",
    "youden_j = tpr - fpr\n",
    "print(f\"Youden's J statistics: \\n{youden_j}\")\n",
    "optimal_threshold_roc = thresholds_roc[np.argmax(youden_j)]\n",
    "optimal_threshold_pr = thresholds_pr[np.argmax(youden_j)]"
   ]
  },
  {
   "cell_type": "markdown",
   "metadata": {
    "id": "bcOfBYJkefhI"
   },
   "source": [
    "<a name = Section63></a>\n",
    "\n",
    "## **6.3 Plotting Curves**"
   ]
  },
  {
   "cell_type": "code",
   "execution_count": 16,
   "metadata": {
    "colab": {
     "base_uri": "https://localhost:8080/",
     "height": 607
    },
    "executionInfo": {
     "elapsed": 46,
     "status": "ok",
     "timestamp": 1695635019657,
     "user": {
      "displayName": "Akriti Upadhyay",
      "userId": "03451849857657033821"
     },
     "user_tz": -330
    },
    "id": "-CfW91rVZOwN",
    "outputId": "75f819ad-ce60-4b5c-c1eb-702d423eeba9"
   },
   "outputs": [
    {
     "data": {
      "image/png": "[encoded data removed]",
      "text/plain": [
       "<Figure size 1200x600 with 2 Axes>"
      ]
     },
     "metadata": {},
     "output_type": "display_data"
    }
   ],
   "source": [
    "# Plotting the ROC Curve and Precision-Recall Curve\n",
    "plt.figure(figsize=(12, 6))\n",
    "\n",
    "plt.subplot(1, 2, 1)\n",
    "plt.plot(fpr, tpr, color='darkorange', lw=2, label=f'ROC curve (AUC = {roc_auc:.2f})')\n",
    "plt.plot([0, 1], [0, 1], color='navy', lw=2, linestyle='--')\n",
    "plt.xlim([0.0, 1.0])\n",
    "plt.ylim([0.0, 1.05])\n",
    "plt.xlabel('False Positive Rate')\n",
    "plt.ylabel('True Positive Rate')\n",
    "plt.title('Receiver Operating Characteristic (ROC)')\n",
    "plt.legend(loc='lower right')\n",
    "\n",
    "plt.subplot(1, 2, 2)\n",
    "plt.plot(recall, precision, color='darkorange', lw=2, label=f'PR curve')\n",
    "plt.xlim([0.0, 1.0])\n",
    "plt.ylim([0.0, 1.05])\n",
    "plt.xlabel('Recall')\n",
    "plt.ylabel('Precision')\n",
    "plt.title('Precision-Recall Curve')\n",
    "plt.legend(loc='lower left')\n",
    "\n",
    "plt.tight_layout()"
   ]
  },
  {
   "cell_type": "code",
   "execution_count": 17,
   "metadata": {
    "colab": {
     "base_uri": "https://localhost:8080/",
     "height": 407
    },
    "executionInfo": {
     "elapsed": 44,
     "status": "ok",
     "timestamp": 1695635019657,
     "user": {
      "displayName": "Akriti Upadhyay",
      "userId": "03451849857657033821"
     },
     "user_tz": -330
    },
    "id": "pdcDiqoRZRxV",
    "outputId": "c7958972-278e-48d2-f901-0179c93de47c"
   },
   "outputs": [
    {
     "data": {
      "image/png": "[encoded data removed]",
      "text/plain": [
       "<Figure size 800x400 with 1 Axes>"
      ]
     },
     "metadata": {},
     "output_type": "display_data"
    }
   ],
   "source": [
    "# Find the threshold that maximizes Youden's J statistic\n",
    "plt.figure(figsize=(8, 4))\n",
    "plt.plot(thresholds_roc, youden_j, color='blue', lw=2, label=\"Youden's J Statistic\")\n",
    "plt.xlabel('Threshold')\n",
    "plt.ylabel(\"Youden's J Statistic\")\n",
    "plt.title(\"Youden's J Statistic vs. Threshold\")\n",
    "plt.axvline(x=optimal_threshold_roc, color='red', linestyle='--', label=f'Best Threshold (ROC): {optimal_threshold_roc:.2f}')\n",
    "plt.axvline(x=optimal_threshold_pr, color='green', linestyle='--', label=f'Best Threshold (PR): {optimal_threshold_pr:.2f}')\n",
    "plt.legend()\n",
    "\n",
    "plt.tight_layout()\n",
    "plt.show()"
   ]
  },
  {
   "cell_type": "markdown",
   "metadata": {
    "id": "4VL9cnMtinJQ"
   },
   "source": [
    "**Observations**\n",
    "\n",
    "- **AUC** is **0.82** in ROC curve.\n",
    "- Best **ROC** Threshold is **0.28**.\n",
    "- Best **PR** Threshold is **0.12**."
   ]
  },
  {
   "cell_type": "markdown",
   "metadata": {
    "id": "vagdlTkqeqYA"
   },
   "source": [
    "<a name = Section64></a>\n",
    "\n",
    "## **6.4 Metrics for ROC Threshold**"
   ]
  },
  {
   "cell_type": "code",
   "execution_count": 18,
   "metadata": {
    "colab": {
     "base_uri": "https://localhost:8080/",
     "height": 1000
    },
    "executionInfo": {
     "elapsed": 43,
     "status": "ok",
     "timestamp": 1695635019657,
     "user": {
      "displayName": "Akriti Upadhyay",
      "userId": "03451849857657033821"
     },
     "user_tz": -330
    },
    "id": "qCEpydcGZVvV",
    "outputId": "4444d588-93bc-4083-dbe5-97bfb210c211"
   },
   "outputs": [
    {
     "name": "stdout",
     "output_type": "stream",
     "text": [
      "Threshold-based Metrics (ROC Threshold):\n",
      "\n",
      "Accuracy: 0.75\n",
      "\n",
      "Precision: 0.59\n",
      "\n",
      "Recall: 0.87\n",
      "\n",
      "F1 Score: 0.71\n",
      "\n",
      "Classification Report (ROC Threshold):\n",
      "\n"
     ]
    },
    {
     "data": {
      "image/png": "[encoded data removed]",
      "text/plain": [
       "<Figure size 1000x700 with 2 Axes>"
      ]
     },
     "metadata": {},
     "output_type": "display_data"
    },
    {
     "name": "stdout",
     "output_type": "stream",
     "text": [
      "\n",
      "Confusion Matrix\n",
      "\n"
     ]
    },
    {
     "data": {
      "image/png": "[encoded data removed]",
      "text/plain": [
       "<Figure size 800x500 with 2 Axes>"
      ]
     },
     "metadata": {},
     "output_type": "display_data"
    }
   ],
   "source": [
    "# Calculate and print accuracy, precision, recall, F1 score, classification report, and confusion matrix\n",
    "y_pred_roc = (y_probs >= optimal_threshold_roc).astype(int)\n",
    "\n",
    "accuracy = accuracy_score(y_test, y_pred_roc)\n",
    "precision = precision_score(y_test, y_pred_roc)\n",
    "recall = recall_score(y_test, y_pred_roc)\n",
    "f1 = f1_score(y_test, y_pred_roc)\n",
    "\n",
    "print(f\"Threshold-based Metrics (ROC Threshold):\\n\")\n",
    "print(f\"Accuracy: {accuracy:.2f}\\n\")\n",
    "print(f\"Precision: {precision:.2f}\\n\")\n",
    "print(f\"Recall: {recall:.2f}\\n\")\n",
    "print(f\"F1 Score: {f1:.2f}\\n\")\n",
    "\n",
    "print(\"Classification Report (ROC Threshold):\\n\")\n",
    "report = classification_report(y_test, y_pred_roc, output_dict=True)\n",
    "report_df = pd.DataFrame(report).transpose()\n",
    "plt.figure(figsize=(10,7))\n",
    "sns.heatmap(report_df.iloc[:-1, :-1], annot=True, cmap = 'viridis')\n",
    "plt.show()\n",
    "\n",
    "print(\"\\nConfusion Matrix\\n\")\n",
    "cm = confusion_matrix(y_test,y_pred_roc,labels = clf.classes_)\n",
    "plt.figure(figsize=(8,5))\n",
    "sns.heatmap(cm, annot=True, fmt='d',cmap = 'flare')\n",
    "plt.xlabel('Predicted')\n",
    "plt.ylabel('Truth')\n",
    "plt.show()"
   ]
  },
  {
   "cell_type": "markdown",
   "metadata": {
    "id": "frgzwoUJevnI"
   },
   "source": [
    "<a name = Section65></a>\n",
    "\n",
    "## **6.5 Metrics for PR Threshold**"
   ]
  },
  {
   "cell_type": "code",
   "execution_count": 19,
   "metadata": {
    "colab": {
     "base_uri": "https://localhost:8080/",
     "height": 1000
    },
    "executionInfo": {
     "elapsed": 39,
     "status": "ok",
     "timestamp": 1695635019658,
     "user": {
      "displayName": "Akriti Upadhyay",
      "userId": "03451849857657033821"
     },
     "user_tz": -330
    },
    "id": "CBu8MwdgY2me",
    "outputId": "a0c4ffdd-a615-4244-bd51-e29615b509a4"
   },
   "outputs": [
    {
     "name": "stdout",
     "output_type": "stream",
     "text": [
      "\n",
      "Threshold-based Metrics (PR Threshold):\n",
      "\n",
      "Accuracy: 0.62\n",
      "\n",
      "Precision: 0.48\n",
      "\n",
      "Recall: 0.98\n",
      "\n",
      "F1 Score: 0.65\n",
      "\n",
      "Classification Report (PR Threshold):\n",
      "\n"
     ]
    },
    {
     "data": {
      "image/png": "[encoded data removed]",
      "text/plain": [
       "<Figure size 1000x700 with 2 Axes>"
      ]
     },
     "metadata": {},
     "output_type": "display_data"
    },
    {
     "name": "stdout",
     "output_type": "stream",
     "text": [
      "\n",
      "Confusion Matrix (PR Threshold)\n",
      "\n"
     ]
    },
    {
     "data": {
      "image/png": "[encoded data removed]",
      "text/plain": [
       "<Figure size 800x500 with 2 Axes>"
      ]
     },
     "metadata": {},
     "output_type": "display_data"
    }
   ],
   "source": [
    "# Calculate and print accuracy, precision, recall, F1 score, classification report, and confusion matrix\n",
    "y_pred_pr = (y_probs >= optimal_threshold_pr).astype(int)\n",
    "\n",
    "accuracy = accuracy_score(y_test, y_pred_pr)\n",
    "precision = precision_score(y_test, y_pred_pr)\n",
    "recall = recall_score(y_test, y_pred_pr)\n",
    "f1 = f1_score(y_test, y_pred_pr)\n",
    "\n",
    "print(f\"\\nThreshold-based Metrics (PR Threshold):\\n\")\n",
    "print(f\"Accuracy: {accuracy:.2f}\\n\")\n",
    "print(f\"Precision: {precision:.2f}\\n\")\n",
    "print(f\"Recall: {recall:.2f}\\n\")\n",
    "print(f\"F1 Score: {f1:.2f}\\n\")\n",
    "\n",
    "print(\"Classification Report (PR Threshold):\\n\")\n",
    "report = classification_report(y_test, y_pred_pr, output_dict=True)\n",
    "report_df = pd.DataFrame(report).transpose()\n",
    "plt.figure(figsize=(10,7))\n",
    "sns.heatmap(report_df.iloc[:-1, :-1], annot=True, cmap = 'viridis')\n",
    "plt.show()\n",
    "\n",
    "print(\"\\nConfusion Matrix (PR Threshold)\\n\")\n",
    "cm = confusion_matrix(y_test,y_pred_pr,labels = clf.classes_)\n",
    "plt.figure(figsize=(8,5))\n",
    "sns.heatmap(cm, annot=True, fmt='d',cmap = 'flare')\n",
    "plt.xlabel('Predicted')\n",
    "plt.ylabel('Truth')\n",
    "plt.show()"
   ]
  },
  {
   "cell_type": "markdown",
   "metadata": {
    "id": "pbQqP9BWe05w"
   },
   "source": [
    "<a name = Section66></a>\n",
    "\n",
    "## **6.6 Effects of Thresholds on Metrics**"
   ]
  },
  {
   "cell_type": "code",
   "execution_count": 20,
   "metadata": {
    "colab": {
     "base_uri": "https://localhost:8080/",
     "height": 564
    },
    "executionInfo": {
     "elapsed": 36,
     "status": "ok",
     "timestamp": 1695635019658,
     "user": {
      "displayName": "Akriti Upadhyay",
      "userId": "03451849857657033821"
     },
     "user_tz": -330
    },
    "id": "qIm7aUUKfpPD",
    "outputId": "d6e40850-08ae-4f10-a430-74621137535f"
   },
   "outputs": [
    {
     "data": {
      "image/png": "[encoded data removed]",
      "text/plain": [
       "<Figure size 800x600 with 1 Axes>"
      ]
     },
     "metadata": {},
     "output_type": "display_data"
    }
   ],
   "source": [
    "# Initialize empty arrays to store metric values\n",
    "accuracies = []\n",
    "precisions = []\n",
    "recalls = []\n",
    "f1_scores = []\n",
    "\n",
    "# Calculate metrics for each threshold\n",
    "for threshold in thresholds_roc:\n",
    "    y_pred = (y_probs >= threshold).astype(int)\n",
    "    accuracy = accuracy_score(y_test, y_pred)\n",
    "    precision = precision_score(y_test, y_pred)\n",
    "    recall = recall_score(y_test, y_pred)\n",
    "    f1 = f1_score(y_test, y_pred)\n",
    "\n",
    "    accuracies.append(accuracy)\n",
    "    precisions.append(precision)\n",
    "    recalls.append(recall)\n",
    "    f1_scores.append(f1)\n",
    "\n",
    "# Plot the effects of ROC threshold on metrics\n",
    "plt.figure(figsize=(8, 6))\n",
    "plt.plot(thresholds_roc, accuracies, label='Accuracy')\n",
    "plt.plot(thresholds_roc, precisions, label='Precision')\n",
    "plt.plot(thresholds_roc, recalls, label='Recall')\n",
    "plt.plot(thresholds_roc, f1_scores, label='F1 Score')\n",
    "plt.xlabel('Threshold')\n",
    "plt.ylabel('Metric Value')\n",
    "plt.xlim([0,1])\n",
    "plt.title('Effects of ROC Threshold on Metrics')\n",
    "plt.legend()\n",
    "plt.grid(True)\n",
    "plt.show()"
   ]
  },
  {
   "cell_type": "markdown",
   "metadata": {
    "id": "Npk_3nkRhdTo"
   },
   "source": [
    "**Observations**\n",
    "\n",
    "- With increasng ROC threshold, **recall decreases**.\n",
    "- **Precision increases**.\n",
    "- **F1 Score** is the harmonic mean of recall and precision, so it first **increases** and **then decreases**.\n",
    "- **Accuracy increases** and then slightly **decreases**."
   ]
  },
  {
   "cell_type": "code",
   "execution_count": 21,
   "metadata": {
    "colab": {
     "base_uri": "https://localhost:8080/",
     "height": 564
    },
    "executionInfo": {
     "elapsed": 34,
     "status": "ok",
     "timestamp": 1695635019658,
     "user": {
      "displayName": "Akriti Upadhyay",
      "userId": "03451849857657033821"
     },
     "user_tz": -330
    },
    "id": "idt0tzeBWmu1",
    "outputId": "5971a3f8-3c08-4400-b0cd-1ae7bddb5729"
   },
   "outputs": [
    {
     "data": {
      "image/png": "[encoded data removed]",
      "text/plain": [
       "<Figure size 800x600 with 1 Axes>"
      ]
     },
     "metadata": {},
     "output_type": "display_data"
    }
   ],
   "source": [
    "# Initialize empty arrays to store metric values\n",
    "accuracies = []\n",
    "precisions = []\n",
    "recalls = []\n",
    "f1_scores = []\n",
    "\n",
    "# Calculate metrics for each threshold\n",
    "for threshold in thresholds_pr:\n",
    "    y_pred = (y_probs >= threshold).astype(int)\n",
    "    accuracy = accuracy_score(y_test, y_pred)\n",
    "    precision = precision_score(y_test, y_pred)\n",
    "    recall = recall_score(y_test, y_pred)\n",
    "    f1 = f1_score(y_test, y_pred)\n",
    "\n",
    "    accuracies.append(accuracy)\n",
    "    precisions.append(precision)\n",
    "    recalls.append(recall)\n",
    "    f1_scores.append(f1)\n",
    "\n",
    "# Plot the effects of PR threshold on metrics\n",
    "plt.figure(figsize=(8, 6))\n",
    "plt.plot(thresholds_pr, accuracies, label='Accuracy')\n",
    "plt.plot(thresholds_pr, precisions, label='Precision')\n",
    "plt.plot(thresholds_pr, recalls, label='Recall')\n",
    "plt.plot(thresholds_pr, f1_scores, label='F1 Score')\n",
    "plt.xlabel('Threshold')\n",
    "plt.ylabel('Metric Value')\n",
    "plt.title('Effects of PR Threshold on Metrics')\n",
    "plt.legend()\n",
    "plt.grid(True)\n",
    "plt.show()"
   ]
  },
  {
   "cell_type": "markdown",
   "metadata": {
    "id": "TO-wQ1YoiZd4"
   },
   "source": [
    "**Observations**\n",
    "\n",
    "- **Same effects** were observed with PR Threshold."
   ]
  },
  {
   "cell_type": "markdown",
   "metadata": {
    "id": "9sgbYstRRXqT"
   },
   "source": [
    "<a name = Section7></a>\n",
    "\n",
    "---\n",
    "# **7. Conclusion**\n",
    "---\n",
    "- With ROC Threshold, the **accuracy** of the model is **better**.\n",
    "- With the help of **Youden's J statistics**, the **optimal** **threshold** for ROC and PR were found.\n",
    "- We were able to **observe** the effects of thresholds on the **metrics**."
   ]
  }
 ],
 "metadata": {
  "colab": {
   "provenance": [
    {
     "file_id": "1aKWC1ji7SYgLm0kLGrBZwy5tLMuRe-MB",
     "timestamp": 1695373086672
    },
    {
     "file_id": "1xhIE4dTKin3wj4siXss3T2smuOUdAOAq",
     "timestamp": 1691565072378
    },
    {
     "file_id": "1gOR5sZvhH7sRsJGebNEgQg3WKuSTwkqC",
     "timestamp": 1690453348015
    }
   ]
  },
  "kernelspec": {
   "display_name": "Python 3 (ipykernel)",
   "language": "python",
   "name": "python3"
  },
  "language_info": {
   "codemirror_mode": {
    "name": "ipython",
    "version": 3
   },
   "file_extension": ".py",
   "mimetype": "text/x-python",
   "name": "python",
   "nbconvert_exporter": "python",
   "pygments_lexer": "ipython3",
   "version": "3.9.13"
  },
  "widgets": {
   "application/vnd.jupyter.widget-state+json": {
    "005154f9a92344458c0749d6d8609c58": {
     "model_module": "@jupyter-widgets/base",
     "model_module_version": "1.2.0",
     "model_name": "LayoutModel",
     "state": {
      "_model_module": "@jupyter-widgets/base",
      "_model_module_version": "1.2.0",
      "_model_name": "LayoutModel",
      "_view_count": null,
      "_view_module": "@jupyter-widgets/base",
      "_view_module_version": "1.2.0",
      "_view_name": "LayoutView",
      "align_content": null,
      "align_items": null,
      "align_self": null,
      "border": null,
      "bottom": null,
      "display": null,
      "flex": null,
      "flex_flow": null,
      "grid_area": null,
      "grid_auto_columns": null,
      "grid_auto_flow": null,
      "grid_auto_rows": null,
      "grid_column": null,
      "grid_gap": null,
      "grid_row": null,
      "grid_template_areas": null,
      "grid_template_columns": null,
      "grid_template_rows": null,
      "height": null,
      "justify_content": null,
      "justify_items": null,
      "left": null,
      "margin": null,
      "max_height": null,
      "max_width": null,
      "min_height": null,
      "min_width": null,
      "object_fit": null,
      "object_position": null,
      "order": null,
      "overflow": null,
      "overflow_x": null,
      "overflow_y": null,
      "padding": null,
      "right": null,
      "top": null,
      "visibility": null,
      "width": null
     }
    },
    "1105cae934734eb0bc1f07a5125ad728": {
     "model_module": "@jupyter-widgets/base",
     "model_module_version": "1.2.0",
     "model_name": "LayoutModel",
     "state": {
      "_model_module": "@jupyter-widgets/base",
      "_model_module_version": "1.2.0",
      "_model_name": "LayoutModel",
      "_view_count": null,
      "_view_module": "@jupyter-widgets/base",
      "_view_module_version": "1.2.0",
      "_view_name": "LayoutView",
      "align_content": null,
      "align_items": null,
      "align_self": null,
      "border": null,
      "bottom": null,
      "display": null,
      "flex": null,
      "flex_flow": null,
      "grid_area": null,
      "grid_auto_columns": null,
      "grid_auto_flow": null,
      "grid_auto_rows": null,
      "grid_column": null,
      "grid_gap": null,
      "grid_row": null,
      "grid_template_areas": null,
      "grid_template_columns": null,
      "grid_template_rows": null,
      "height": null,
      "justify_content": null,
      "justify_items": null,
      "left": null,
      "margin": null,
      "max_height": null,
      "max_width": null,
      "min_height": null,
      "min_width": null,
      "object_fit": null,
      "object_position": null,
      "order": null,
      "overflow": null,
      "overflow_x": null,
      "overflow_y": null,
      "padding": null,
      "right": null,
      "top": null,
      "visibility": null,
      "width": null
     }
    },
    "16cbc4349f8f46fea71951773a714c5d": {
     "model_module": "@jupyter-widgets/controls",
     "model_module_version": "1.5.0",
     "model_name": "FloatProgressModel",
     "state": {
      "_dom_classes": [],
      "_model_module": "@jupyter-widgets/controls",
      "_model_module_version": "1.5.0",
      "_model_name": "FloatProgressModel",
      "_view_count": null,
      "_view_module": "@jupyter-widgets/controls",
      "_view_module_version": "1.5.0",
      "_view_name": "ProgressView",
      "bar_style": "success",
      "description": "",
      "description_tooltip": null,
      "layout": "IPY_MODEL_6e476b403376449aa63af42146f72b10",
      "max": 1,
      "min": 0,
      "orientation": "horizontal",
      "style": "IPY_MODEL_83386f83ca7c4399bc81577fa63f3578",
      "value": 1
     }
    },
    "1f6584effa684cc2b81369e5ad1127f0": {
     "model_module": "@jupyter-widgets/base",
     "model_module_version": "1.2.0",
     "model_name": "LayoutModel",
     "state": {
      "_model_module": "@jupyter-widgets/base",
      "_model_module_version": "1.2.0",
      "_model_name": "LayoutModel",
      "_view_count": null,
      "_view_module": "@jupyter-widgets/base",
      "_view_module_version": "1.2.0",
      "_view_name": "LayoutView",
      "align_content": null,
      "align_items": null,
      "align_self": null,
      "border": null,
      "bottom": null,
      "display": null,
      "flex": null,
      "flex_flow": null,
      "grid_area": null,
      "grid_auto_columns": null,
      "grid_auto_flow": null,
      "grid_auto_rows": null,
      "grid_column": null,
      "grid_gap": null,
      "grid_row": null,
      "grid_template_areas": null,
      "grid_template_columns": null,
      "grid_template_rows": null,
      "height": null,
      "justify_content": null,
      "justify_items": null,
      "left": null,
      "margin": null,
      "max_height": null,
      "max_width": null,
      "min_height": null,
      "min_width": null,
      "object_fit": null,
      "object_position": null,
      "order": null,
      "overflow": null,
      "overflow_x": null,
      "overflow_y": null,
      "padding": null,
      "right": null,
      "top": null,
      "visibility": null,
      "width": null
     }
    },
    "2f3fe09d7dd149a39f14d05d0405396e": {
     "model_module": "@jupyter-widgets/controls",
     "model_module_version": "1.5.0",
     "model_name": "HBoxModel",
     "state": {
      "_dom_classes": [],
      "_model_module": "@jupyter-widgets/controls",
      "_model_module_version": "1.5.0",
      "_model_name": "HBoxModel",
      "_view_count": null,
      "_view_module": "@jupyter-widgets/controls",
      "_view_module_version": "1.5.0",
      "_view_name": "HBoxView",
      "box_style": "",
      "children": [
       "IPY_MODEL_323fb2fe13a348748b5fa9690d3e7e6f",
       "IPY_MODEL_16cbc4349f8f46fea71951773a714c5d",
       "IPY_MODEL_a7dcb642b0aa46e5a957e0eb56c33c8d"
      ],
      "layout": "IPY_MODEL_df59c562d81b47a4823128cf29eb4a3f"
     }
    },
    "323fb2fe13a348748b5fa9690d3e7e6f": {
     "model_module": "@jupyter-widgets/controls",
     "model_module_version": "1.5.0",
     "model_name": "HTMLModel",
     "state": {
      "_dom_classes": [],
      "_model_module": "@jupyter-widgets/controls",
      "_model_module_version": "1.5.0",
      "_model_name": "HTMLModel",
      "_view_count": null,
      "_view_module": "@jupyter-widgets/controls",
      "_view_module_version": "1.5.0",
      "_view_name": "HTMLView",
      "description": "",
      "description_tooltip": null,
      "layout": "IPY_MODEL_1105cae934734eb0bc1f07a5125ad728",
      "placeholder": "​",
      "style": "IPY_MODEL_7138b7efbfb340748f44013a33f6f4ca",
      "value": "Generate report structure: 100%"
     }
    },
    "402164549a3243fa91da7573015ce9dc": {
     "model_module": "@jupyter-widgets/base",
     "model_module_version": "1.2.0",
     "model_name": "LayoutModel",
     "state": {
      "_model_module": "@jupyter-widgets/base",
      "_model_module_version": "1.2.0",
      "_model_name": "LayoutModel",
      "_view_count": null,
      "_view_module": "@jupyter-widgets/base",
      "_view_module_version": "1.2.0",
      "_view_name": "LayoutView",
      "align_content": null,
      "align_items": null,
      "align_self": null,
      "border": null,
      "bottom": null,
      "display": null,
      "flex": null,
      "flex_flow": null,
      "grid_area": null,
      "grid_auto_columns": null,
      "grid_auto_flow": null,
      "grid_auto_rows": null,
      "grid_column": null,
      "grid_gap": null,
      "grid_row": null,
      "grid_template_areas": null,
      "grid_template_columns": null,
      "grid_template_rows": null,
      "height": null,
      "justify_content": null,
      "justify_items": null,
      "left": null,
      "margin": null,
      "max_height": null,
      "max_width": null,
      "min_height": null,
      "min_width": null,
      "object_fit": null,
      "object_position": null,
      "order": null,
      "overflow": null,
      "overflow_x": null,
      "overflow_y": null,
      "padding": null,
      "right": null,
      "top": null,
      "visibility": null,
      "width": null
     }
    },
    "47a9bf18bf7746fd9d478d6887b65099": {
     "model_module": "@jupyter-widgets/base",
     "model_module_version": "1.2.0",
     "model_name": "LayoutModel",
     "state": {
      "_model_module": "@jupyter-widgets/base",
      "_model_module_version": "1.2.0",
      "_model_name": "LayoutModel",
      "_view_count": null,
      "_view_module": "@jupyter-widgets/base",
      "_view_module_version": "1.2.0",
      "_view_name": "LayoutView",
      "align_content": null,
      "align_items": null,
      "align_self": null,
      "border": null,
      "bottom": null,
      "display": null,
      "flex": null,
      "flex_flow": null,
      "grid_area": null,
      "grid_auto_columns": null,
      "grid_auto_flow": null,
      "grid_auto_rows": null,
      "grid_column": null,
      "grid_gap": null,
      "grid_row": null,
      "grid_template_areas": null,
      "grid_template_columns": null,
      "grid_template_rows": null,
      "height": null,
      "justify_content": null,
      "justify_items": null,
      "left": null,
      "margin": null,
      "max_height": null,
      "max_width": null,
      "min_height": null,
      "min_width": null,
      "object_fit": null,
      "object_position": null,
      "order": null,
      "overflow": null,
      "overflow_x": null,
      "overflow_y": null,
      "padding": null,
      "right": null,
      "top": null,
      "visibility": null,
      "width": null
     }
    },
    "4d8915cc430d4bc58ee173a7c2b050f7": {
     "model_module": "@jupyter-widgets/controls",
     "model_module_version": "1.5.0",
     "model_name": "HTMLModel",
     "state": {
      "_dom_classes": [],
      "_model_module": "@jupyter-widgets/controls",
      "_model_module_version": "1.5.0",
      "_model_name": "HTMLModel",
      "_view_count": null,
      "_view_module": "@jupyter-widgets/controls",
      "_view_module_version": "1.5.0",
      "_view_name": "HTMLView",
      "description": "",
      "description_tooltip": null,
      "layout": "IPY_MODEL_47a9bf18bf7746fd9d478d6887b65099",
      "placeholder": "​",
      "style": "IPY_MODEL_7bbe98f7237b464897d3f30d8d604c32",
      "value": " 82/82 [00:38&lt;00:00,  4.13it/s, Completed]"
     }
    },
    "5d27d879587e42dfa0b34c8315f3ea5a": {
     "model_module": "@jupyter-widgets/controls",
     "model_module_version": "1.5.0",
     "model_name": "FloatProgressModel",
     "state": {
      "_dom_classes": [],
      "_model_module": "@jupyter-widgets/controls",
      "_model_module_version": "1.5.0",
      "_model_name": "FloatProgressModel",
      "_view_count": null,
      "_view_module": "@jupyter-widgets/controls",
      "_view_module_version": "1.5.0",
      "_view_name": "ProgressView",
      "bar_style": "success",
      "description": "",
      "description_tooltip": null,
      "layout": "IPY_MODEL_005154f9a92344458c0749d6d8609c58",
      "max": 1,
      "min": 0,
      "orientation": "horizontal",
      "style": "IPY_MODEL_ad8286e72456470ca6c2b7f1afb61c47",
      "value": 1
     }
    },
    "61fa3fff17794b348d8b08c7f9c7af0f": {
     "model_module": "@jupyter-widgets/base",
     "model_module_version": "1.2.0",
     "model_name": "LayoutModel",
     "state": {
      "_model_module": "@jupyter-widgets/base",
      "_model_module_version": "1.2.0",
      "_model_name": "LayoutModel",
      "_view_count": null,
      "_view_module": "@jupyter-widgets/base",
      "_view_module_version": "1.2.0",
      "_view_name": "LayoutView",
      "align_content": null,
      "align_items": null,
      "align_self": null,
      "border": null,
      "bottom": null,
      "display": null,
      "flex": null,
      "flex_flow": null,
      "grid_area": null,
      "grid_auto_columns": null,
      "grid_auto_flow": null,
      "grid_auto_rows": null,
      "grid_column": null,
      "grid_gap": null,
      "grid_row": null,
      "grid_template_areas": null,
      "grid_template_columns": null,
      "grid_template_rows": null,
      "height": null,
      "justify_content": null,
      "justify_items": null,
      "left": null,
      "margin": null,
      "max_height": null,
      "max_width": null,
      "min_height": null,
      "min_width": null,
      "object_fit": null,
      "object_position": null,
      "order": null,
      "overflow": null,
      "overflow_x": null,
      "overflow_y": null,
      "padding": null,
      "right": null,
      "top": null,
      "visibility": null,
      "width": null
     }
    },
    "6e476b403376449aa63af42146f72b10": {
     "model_module": "@jupyter-widgets/base",
     "model_module_version": "1.2.0",
     "model_name": "LayoutModel",
     "state": {
      "_model_module": "@jupyter-widgets/base",
      "_model_module_version": "1.2.0",
      "_model_name": "LayoutModel",
      "_view_count": null,
      "_view_module": "@jupyter-widgets/base",
      "_view_module_version": "1.2.0",
      "_view_name": "LayoutView",
      "align_content": null,
      "align_items": null,
      "align_self": null,
      "border": null,
      "bottom": null,
      "display": null,
      "flex": null,
      "flex_flow": null,
      "grid_area": null,
      "grid_auto_columns": null,
      "grid_auto_flow": null,
      "grid_auto_rows": null,
      "grid_column": null,
      "grid_gap": null,
      "grid_row": null,
      "grid_template_areas": null,
      "grid_template_columns": null,
      "grid_template_rows": null,
      "height": null,
      "justify_content": null,
      "justify_items": null,
      "left": null,
      "margin": null,
      "max_height": null,
      "max_width": null,
      "min_height": null,
      "min_width": null,
      "object_fit": null,
      "object_position": null,
      "order": null,
      "overflow": null,
      "overflow_x": null,
      "overflow_y": null,
      "padding": null,
      "right": null,
      "top": null,
      "visibility": null,
      "width": null
     }
    },
    "7138b7efbfb340748f44013a33f6f4ca": {
     "model_module": "@jupyter-widgets/controls",
     "model_module_version": "1.5.0",
     "model_name": "DescriptionStyleModel",
     "state": {
      "_model_module": "@jupyter-widgets/controls",
      "_model_module_version": "1.5.0",
      "_model_name": "DescriptionStyleModel",
      "_view_count": null,
      "_view_module": "@jupyter-widgets/base",
      "_view_module_version": "1.2.0",
      "_view_name": "StyleView",
      "description_width": ""
     }
    },
    "79cc89c750054432a464a3853ca7d13d": {
     "model_module": "@jupyter-widgets/controls",
     "model_module_version": "1.5.0",
     "model_name": "HBoxModel",
     "state": {
      "_dom_classes": [],
      "_model_module": "@jupyter-widgets/controls",
      "_model_module_version": "1.5.0",
      "_model_name": "HBoxModel",
      "_view_count": null,
      "_view_module": "@jupyter-widgets/controls",
      "_view_module_version": "1.5.0",
      "_view_name": "HBoxView",
      "box_style": "",
      "children": [
       "IPY_MODEL_eb9179e494be4241adc9ce7841819d26",
       "IPY_MODEL_5d27d879587e42dfa0b34c8315f3ea5a",
       "IPY_MODEL_cb3c47a9be0244eaa300f21d2ed89fc1"
      ],
      "layout": "IPY_MODEL_402164549a3243fa91da7573015ce9dc"
     }
    },
    "7bbe98f7237b464897d3f30d8d604c32": {
     "model_module": "@jupyter-widgets/controls",
     "model_module_version": "1.5.0",
     "model_name": "DescriptionStyleModel",
     "state": {
      "_model_module": "@jupyter-widgets/controls",
      "_model_module_version": "1.5.0",
      "_model_name": "DescriptionStyleModel",
      "_view_count": null,
      "_view_module": "@jupyter-widgets/base",
      "_view_module_version": "1.2.0",
      "_view_name": "StyleView",
      "description_width": ""
     }
    },
    "83386f83ca7c4399bc81577fa63f3578": {
     "model_module": "@jupyter-widgets/controls",
     "model_module_version": "1.5.0",
     "model_name": "ProgressStyleModel",
     "state": {
      "_model_module": "@jupyter-widgets/controls",
      "_model_module_version": "1.5.0",
      "_model_name": "ProgressStyleModel",
      "_view_count": null,
      "_view_module": "@jupyter-widgets/base",
      "_view_module_version": "1.2.0",
      "_view_name": "StyleView",
      "bar_color": null,
      "description_width": ""
     }
    },
    "83c6f3f7370a4de7a6534311774d4e9e": {
     "model_module": "@jupyter-widgets/controls",
     "model_module_version": "1.5.0",
     "model_name": "DescriptionStyleModel",
     "state": {
      "_model_module": "@jupyter-widgets/controls",
      "_model_module_version": "1.5.0",
      "_model_name": "DescriptionStyleModel",
      "_view_count": null,
      "_view_module": "@jupyter-widgets/base",
      "_view_module_version": "1.2.0",
      "_view_name": "StyleView",
      "description_width": ""
     }
    },
    "8cbb23ba317749d48ba33fd9fe7bfa88": {
     "model_module": "@jupyter-widgets/controls",
     "model_module_version": "1.5.0",
     "model_name": "DescriptionStyleModel",
     "state": {
      "_model_module": "@jupyter-widgets/controls",
      "_model_module_version": "1.5.0",
      "_model_name": "DescriptionStyleModel",
      "_view_count": null,
      "_view_module": "@jupyter-widgets/base",
      "_view_module_version": "1.2.0",
      "_view_name": "StyleView",
      "description_width": ""
     }
    },
    "a11b8b67b2204070ad57e858c7f8c987": {
     "model_module": "@jupyter-widgets/controls",
     "model_module_version": "1.5.0",
     "model_name": "DescriptionStyleModel",
     "state": {
      "_model_module": "@jupyter-widgets/controls",
      "_model_module_version": "1.5.0",
      "_model_name": "DescriptionStyleModel",
      "_view_count": null,
      "_view_module": "@jupyter-widgets/base",
      "_view_module_version": "1.2.0",
      "_view_name": "StyleView",
      "description_width": ""
     }
    },
    "a7dcb642b0aa46e5a957e0eb56c33c8d": {
     "model_module": "@jupyter-widgets/controls",
     "model_module_version": "1.5.0",
     "model_name": "HTMLModel",
     "state": {
      "_dom_classes": [],
      "_model_module": "@jupyter-widgets/controls",
      "_model_module_version": "1.5.0",
      "_model_name": "HTMLModel",
      "_view_count": null,
      "_view_module": "@jupyter-widgets/controls",
      "_view_module_version": "1.5.0",
      "_view_name": "HTMLView",
      "description": "",
      "description_tooltip": null,
      "layout": "IPY_MODEL_e17d2b7d664a49639a7164feedccee4e",
      "placeholder": "​",
      "style": "IPY_MODEL_83c6f3f7370a4de7a6534311774d4e9e",
      "value": " 1/1 [00:05&lt;00:00,  5.90s/it]"
     }
    },
    "aa5c3eae63db457ea747b43cb0934e60": {
     "model_module": "@jupyter-widgets/base",
     "model_module_version": "1.2.0",
     "model_name": "LayoutModel",
     "state": {
      "_model_module": "@jupyter-widgets/base",
      "_model_module_version": "1.2.0",
      "_model_name": "LayoutModel",
      "_view_count": null,
      "_view_module": "@jupyter-widgets/base",
      "_view_module_version": "1.2.0",
      "_view_name": "LayoutView",
      "align_content": null,
      "align_items": null,
      "align_self": null,
      "border": null,
      "bottom": null,
      "display": null,
      "flex": null,
      "flex_flow": null,
      "grid_area": null,
      "grid_auto_columns": null,
      "grid_auto_flow": null,
      "grid_auto_rows": null,
      "grid_column": null,
      "grid_gap": null,
      "grid_row": null,
      "grid_template_areas": null,
      "grid_template_columns": null,
      "grid_template_rows": null,
      "height": null,
      "justify_content": null,
      "justify_items": null,
      "left": null,
      "margin": null,
      "max_height": null,
      "max_width": null,
      "min_height": null,
      "min_width": null,
      "object_fit": null,
      "object_position": null,
      "order": null,
      "overflow": null,
      "overflow_x": null,
      "overflow_y": null,
      "padding": null,
      "right": null,
      "top": null,
      "visibility": null,
      "width": null
     }
    },
    "ab37c41b227d43b0b6768bb47af2ac17": {
     "model_module": "@jupyter-widgets/base",
     "model_module_version": "1.2.0",
     "model_name": "LayoutModel",
     "state": {
      "_model_module": "@jupyter-widgets/base",
      "_model_module_version": "1.2.0",
      "_model_name": "LayoutModel",
      "_view_count": null,
      "_view_module": "@jupyter-widgets/base",
      "_view_module_version": "1.2.0",
      "_view_name": "LayoutView",
      "align_content": null,
      "align_items": null,
      "align_self": null,
      "border": null,
      "bottom": null,
      "display": null,
      "flex": null,
      "flex_flow": null,
      "grid_area": null,
      "grid_auto_columns": null,
      "grid_auto_flow": null,
      "grid_auto_rows": null,
      "grid_column": null,
      "grid_gap": null,
      "grid_row": null,
      "grid_template_areas": null,
      "grid_template_columns": null,
      "grid_template_rows": null,
      "height": null,
      "justify_content": null,
      "justify_items": null,
      "left": null,
      "margin": null,
      "max_height": null,
      "max_width": null,
      "min_height": null,
      "min_width": null,
      "object_fit": null,
      "object_position": null,
      "order": null,
      "overflow": null,
      "overflow_x": null,
      "overflow_y": null,
      "padding": null,
      "right": null,
      "top": null,
      "visibility": null,
      "width": null
     }
    },
    "ace3d79f42c547e48ab249e868a24e32": {
     "model_module": "@jupyter-widgets/controls",
     "model_module_version": "1.5.0",
     "model_name": "FloatProgressModel",
     "state": {
      "_dom_classes": [],
      "_model_module": "@jupyter-widgets/controls",
      "_model_module_version": "1.5.0",
      "_model_name": "FloatProgressModel",
      "_view_count": null,
      "_view_module": "@jupyter-widgets/controls",
      "_view_module_version": "1.5.0",
      "_view_name": "ProgressView",
      "bar_style": "success",
      "description": "",
      "description_tooltip": null,
      "layout": "IPY_MODEL_aa5c3eae63db457ea747b43cb0934e60",
      "max": 5,
      "min": 0,
      "orientation": "horizontal",
      "style": "IPY_MODEL_ffb0b8380dec42ac8518c3a56de3fc35",
      "value": 5
     }
    },
    "ad8286e72456470ca6c2b7f1afb61c47": {
     "model_module": "@jupyter-widgets/controls",
     "model_module_version": "1.5.0",
     "model_name": "ProgressStyleModel",
     "state": {
      "_model_module": "@jupyter-widgets/controls",
      "_model_module_version": "1.5.0",
      "_model_name": "ProgressStyleModel",
      "_view_count": null,
      "_view_module": "@jupyter-widgets/base",
      "_view_module_version": "1.2.0",
      "_view_name": "StyleView",
      "bar_color": null,
      "description_width": ""
     }
    },
    "bce9f120d7114addaec898dbbbc2a373": {
     "model_module": "@jupyter-widgets/controls",
     "model_module_version": "1.5.0",
     "model_name": "HTMLModel",
     "state": {
      "_dom_classes": [],
      "_model_module": "@jupyter-widgets/controls",
      "_model_module_version": "1.5.0",
      "_model_name": "HTMLModel",
      "_view_count": null,
      "_view_module": "@jupyter-widgets/controls",
      "_view_module_version": "1.5.0",
      "_view_name": "HTMLView",
      "description": "",
      "description_tooltip": null,
      "layout": "IPY_MODEL_ec1a6564693c4113a856619fecd2c2a6",
      "placeholder": "​",
      "style": "IPY_MODEL_a11b8b67b2204070ad57e858c7f8c987",
      "value": "Summarize dataset: 100%"
     }
    },
    "c5a44e70c7114ab7888987805c795c01": {
     "model_module": "@jupyter-widgets/controls",
     "model_module_version": "1.5.0",
     "model_name": "DescriptionStyleModel",
     "state": {
      "_model_module": "@jupyter-widgets/controls",
      "_model_module_version": "1.5.0",
      "_model_name": "DescriptionStyleModel",
      "_view_count": null,
      "_view_module": "@jupyter-widgets/base",
      "_view_module_version": "1.2.0",
      "_view_name": "StyleView",
      "description_width": ""
     }
    },
    "cb3c47a9be0244eaa300f21d2ed89fc1": {
     "model_module": "@jupyter-widgets/controls",
     "model_module_version": "1.5.0",
     "model_name": "HTMLModel",
     "state": {
      "_dom_classes": [],
      "_model_module": "@jupyter-widgets/controls",
      "_model_module_version": "1.5.0",
      "_model_name": "HTMLModel",
      "_view_count": null,
      "_view_module": "@jupyter-widgets/controls",
      "_view_module_version": "1.5.0",
      "_view_name": "HTMLView",
      "description": "",
      "description_tooltip": null,
      "layout": "IPY_MODEL_1f6584effa684cc2b81369e5ad1127f0",
      "placeholder": "​",
      "style": "IPY_MODEL_8cbb23ba317749d48ba33fd9fe7bfa88",
      "value": " 1/1 [00:04&lt;00:00,  4.01s/it]"
     }
    },
    "df59c562d81b47a4823128cf29eb4a3f": {
     "model_module": "@jupyter-widgets/base",
     "model_module_version": "1.2.0",
     "model_name": "LayoutModel",
     "state": {
      "_model_module": "@jupyter-widgets/base",
      "_model_module_version": "1.2.0",
      "_model_name": "LayoutModel",
      "_view_count": null,
      "_view_module": "@jupyter-widgets/base",
      "_view_module_version": "1.2.0",
      "_view_name": "LayoutView",
      "align_content": null,
      "align_items": null,
      "align_self": null,
      "border": null,
      "bottom": null,
      "display": null,
      "flex": null,
      "flex_flow": null,
      "grid_area": null,
      "grid_auto_columns": null,
      "grid_auto_flow": null,
      "grid_auto_rows": null,
      "grid_column": null,
      "grid_gap": null,
      "grid_row": null,
      "grid_template_areas": null,
      "grid_template_columns": null,
      "grid_template_rows": null,
      "height": null,
      "justify_content": null,
      "justify_items": null,
      "left": null,
      "margin": null,
      "max_height": null,
      "max_width": null,
      "min_height": null,
      "min_width": null,
      "object_fit": null,
      "object_position": null,
      "order": null,
      "overflow": null,
      "overflow_x": null,
      "overflow_y": null,
      "padding": null,
      "right": null,
      "top": null,
      "visibility": null,
      "width": null
     }
    },
    "e17d2b7d664a49639a7164feedccee4e": {
     "model_module": "@jupyter-widgets/base",
     "model_module_version": "1.2.0",
     "model_name": "LayoutModel",
     "state": {
      "_model_module": "@jupyter-widgets/base",
      "_model_module_version": "1.2.0",
      "_model_name": "LayoutModel",
      "_view_count": null,
      "_view_module": "@jupyter-widgets/base",
      "_view_module_version": "1.2.0",
      "_view_name": "LayoutView",
      "align_content": null,
      "align_items": null,
      "align_self": null,
      "border": null,
      "bottom": null,
      "display": null,
      "flex": null,
      "flex_flow": null,
      "grid_area": null,
      "grid_auto_columns": null,
      "grid_auto_flow": null,
      "grid_auto_rows": null,
      "grid_column": null,
      "grid_gap": null,
      "grid_row": null,
      "grid_template_areas": null,
      "grid_template_columns": null,
      "grid_template_rows": null,
      "height": null,
      "justify_content": null,
      "justify_items": null,
      "left": null,
      "margin": null,
      "max_height": null,
      "max_width": null,
      "min_height": null,
      "min_width": null,
      "object_fit": null,
      "object_position": null,
      "order": null,
      "overflow": null,
      "overflow_x": null,
      "overflow_y": null,
      "padding": null,
      "right": null,
      "top": null,
      "visibility": null,
      "width": null
     }
    },
    "eb9179e494be4241adc9ce7841819d26": {
     "model_module": "@jupyter-widgets/controls",
     "model_module_version": "1.5.0",
     "model_name": "HTMLModel",
     "state": {
      "_dom_classes": [],
      "_model_module": "@jupyter-widgets/controls",
      "_model_module_version": "1.5.0",
      "_model_name": "HTMLModel",
      "_view_count": null,
      "_view_module": "@jupyter-widgets/controls",
      "_view_module_version": "1.5.0",
      "_view_name": "HTMLView",
      "description": "",
      "description_tooltip": null,
      "layout": "IPY_MODEL_61fa3fff17794b348d8b08c7f9c7af0f",
      "placeholder": "​",
      "style": "IPY_MODEL_c5a44e70c7114ab7888987805c795c01",
      "value": "Render HTML: 100%"
     }
    },
    "ec1a6564693c4113a856619fecd2c2a6": {
     "model_module": "@jupyter-widgets/base",
     "model_module_version": "1.2.0",
     "model_name": "LayoutModel",
     "state": {
      "_model_module": "@jupyter-widgets/base",
      "_model_module_version": "1.2.0",
      "_model_name": "LayoutModel",
      "_view_count": null,
      "_view_module": "@jupyter-widgets/base",
      "_view_module_version": "1.2.0",
      "_view_name": "LayoutView",
      "align_content": null,
      "align_items": null,
      "align_self": null,
      "border": null,
      "bottom": null,
      "display": null,
      "flex": null,
      "flex_flow": null,
      "grid_area": null,
      "grid_auto_columns": null,
      "grid_auto_flow": null,
      "grid_auto_rows": null,
      "grid_column": null,
      "grid_gap": null,
      "grid_row": null,
      "grid_template_areas": null,
      "grid_template_columns": null,
      "grid_template_rows": null,
      "height": null,
      "justify_content": null,
      "justify_items": null,
      "left": null,
      "margin": null,
      "max_height": null,
      "max_width": null,
      "min_height": null,
      "min_width": null,
      "object_fit": null,
      "object_position": null,
      "order": null,
      "overflow": null,
      "overflow_x": null,
      "overflow_y": null,
      "padding": null,
      "right": null,
      "top": null,
      "visibility": null,
      "width": null
     }
    },
    "f54667c52d704504a87c2024cd9e3c06": {
     "model_module": "@jupyter-widgets/controls",
     "model_module_version": "1.5.0",
     "model_name": "HBoxModel",
     "state": {
      "_dom_classes": [],
      "_model_module": "@jupyter-widgets/controls",
      "_model_module_version": "1.5.0",
      "_model_name": "HBoxModel",
      "_view_count": null,
      "_view_module": "@jupyter-widgets/controls",
      "_view_module_version": "1.5.0",
      "_view_name": "HBoxView",
      "box_style": "",
      "children": [
       "IPY_MODEL_bce9f120d7114addaec898dbbbc2a373",
       "IPY_MODEL_ace3d79f42c547e48ab249e868a24e32",
       "IPY_MODEL_4d8915cc430d4bc58ee173a7c2b050f7"
      ],
      "layout": "IPY_MODEL_ab37c41b227d43b0b6768bb47af2ac17"
     }
    },
    "ffb0b8380dec42ac8518c3a56de3fc35": {
     "model_module": "@jupyter-widgets/controls",
     "model_module_version": "1.5.0",
     "model_name": "ProgressStyleModel",
     "state": {
      "_model_module": "@jupyter-widgets/controls",
      "_model_module_version": "1.5.0",
      "_model_name": "ProgressStyleModel",
      "_view_count": null,
      "_view_module": "@jupyter-widgets/base",
      "_view_module_version": "1.2.0",
      "_view_name": "StyleView",
      "bar_color": null,
      "description_width": ""
     }
    }
   }
  }
 },
 "nbformat": 4,
 "nbformat_minor": 1
}
