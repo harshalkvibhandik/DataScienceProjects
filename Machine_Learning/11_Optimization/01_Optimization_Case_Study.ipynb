{
 "cells": [
  {
   "cell_type": "markdown",
   "metadata": {
    "id": "MwNOjS1zcE6K"
   },
   "source": [
    "# <center><b>Optimization<b></center>"
   ]
  },
  {
   "cell_type": "markdown",
   "metadata": {
    "id": "F7qmM7e9cRqx"
   },
   "source": [
    "---\n",
    "# **Table of Contents**\n",
    "---\n",
    "\n",
    "**1.** [**Introduction**](#Section1)<br>\n",
    "  - **1.1** [**What is Cross validation**](#Section11)\n",
    "  - **1.2** [**Types of Cross validation**](#Section11)\n",
    "    - **1.1.1** [**Techniques used for hyperparameter tuning**](#Section111)\n",
    "    - **1.1.2** [**Random search cv**](#Section112)\n",
    "    - **1.1.3** [**Grid search cv**](#Section113)\n",
    "    - **1.1.4** [**Issues with Gradient Descent**](#Section114)\n",
    "\n",
    "**2.** [**Problem Statement**](#Section2)<br>\n",
    "**3.** [**Installing & Importing Libraries**](#Section3)<br>\n",
    "  - **3.1** [**Installing Libraries**](#Section31)\n",
    "  - **3.2** [**Upgrading Libraries**](#Section32)\n",
    "  - **3.3** [**Importing Libraries**](#Section33)\n",
    "\n",
    "**4.** [**Data Acquisition & Description**](#Section4)<br>\n",
    "  - **4.1** [**Data Description**](#Section41)\n",
    "  - **4.2** [**Data Information**](#Section42)\n",
    "\n",
    "**5.** [**Data Pre-processing**](#Section5)<br>\n",
    "  - **5.1** [**Pre-Profiling Report**](#Section51)<br>\n",
    "\n",
    "**6.** [**Exploratory Data Analysis**](#Section6)<br>\n",
    "**7.** [**Post Data Processing & Feature Selection**](#Section7)<br>\n",
    "  - **7.1** [**Encoding Categorical Features**](#Section71)<br>\n",
    "  - **7.2** [**Feature Scaling**](#Section72)<br>\n",
    "  - **7.3** [**Feature Selection**](#Section73)<br>\n",
    "  - **7.4** [**Data Preparation**](#Section74)<br>\n",
    "\n",
    "**8.** [**Model Development & Evaluation**](#Section8)<br>\n",
    "  - **8.1** [**Logistic Regression**](#Section81)<br>\n",
    "  - **8.2** [**Batch Gradient Descent**](#Section82)<br>\n",
    "  - **8.3** [**Stochastic Gradient Descent**](#Section83)<br>\n",
    "  - **8.4** [**Mini-Batch Gradient Descent**](#Section84)<br>\n",
    "\n",
    "**9.** [**Conclusion**](#Section9)<br>"
   ]
  },
  {
   "cell_type": "markdown",
   "metadata": {
    "id": "R9i-4H-7r50m"
   },
   "source": [
    "Introduction\n",
    "What is Cross validation\n",
    "Types of Cross validation\n",
    "Techniques used for hyperparameter tuning\n",
    "4.1 Random search cv\n",
    "4.2 Grid search cv\n",
    "                     5. Problem Statement\n",
    "                     6. Installing & Importing Libraries\n",
    " Installing Libraries\n",
    " Upgrading Libraries\n",
    " Importing Libraries\n",
    "7. Data Acquisition & Description\n",
    "Data Description\n",
    "Data Information\n",
    "8. Data Pre-processing\n",
    "Pre-Profiling Report\n",
    "9. Exploratory Data Analysis\n",
    "10. Post Data Processing & Feature Selection\n",
    "Encoding Categorical Features\n",
    " Feature Scaling\n",
    "Feature Selection\n",
    "Data Preparation\n",
    "11. Model Development & Evaluation\n",
    "Model 1 without Hyperparameter tuning\n",
    "Model 2 with Hyperparameter tuning (Random search)(time)\n",
    "Model 3 with  Hyperparameter tuning(Grid search)(time)\n"
   ]
  },
  {
   "cell_type": "markdown",
   "metadata": {
    "id": "5hPezdiAcS8h"
   },
   "source": [
    "---\n",
    "<a name = Section1></a>\n",
    "# **1. Introduction**\n",
    "---\n",
    "\n",
    "- Optimization is the **selection** of the **best element** from some set of **available alternatives**.\n",
    "\n",
    "- It is the most **essential ingredient** in the recipe of machine learning algorithms.\n",
    "\n",
    "- It initiates with defining some sort of **loss/cost function** and ends with minimizing it.\n",
    "\n",
    "- The choice of an optimized algorithm can **make** a **difference** between **getting good accuracy** in hours or days.\n",
    "\n",
    "<center><img width=\"60%\" src=\"https://cdn.dribbble.com/users/2146988/screenshots/5399679/2019_personal_striventa-lightbulb.gif\"></center>\n",
    "\n"
   ]
  },
  {
   "cell_type": "markdown",
   "metadata": {
    "id": "32z8zJbz8f3S"
   },
   "source": [
    "<a name = Section11></a>\n",
    "\n",
    "## **1.1 What is Cross Validation**\n",
    "\n",
    "- Cross-validation is a widely used technique in machine learning and statistical modeling that involves partitioning a dataset into multiple subsets and using these subsets to evaluate the performance of a model.\n",
    "\n",
    "- The most common type of cross-validation is k-fold cross-validation, where the data is divided into k equally sized subsets, or \"folds\".\n",
    "\n",
    "- the model is trained on k-1 of the folds and tested on the remaining fold.\n",
    "\n",
    "- This process is repeated k times, with each fold being used as the test set exactly once.\n",
    "\n",
    "- The results from each fold are then averaged to obtain an overall estimate of the model's performance..\n",
    "\n",
    "- Cross-validation helps to mitigate the risk of overfitting, which occurs when a model is trained to fit the noise in the data rather than the underlying pattern.\n",
    "\n",
    "- By evaluating a model on multiple subsets of the data, cross-validation provides a more reliable estimate of the model's ability to generalize to new, unseen data.\n",
    "\n",
    "- It is a powerful tool for model selection, hyperparameter tuning, and evaluating the performance of different algorithms..\n",
    "</br>\n",
    "\n",
    "</br>\n",
    "\n",
    "\n",
    "</br>\n",
    "\n",
    "<center><img src=\"https://scikit-learn.org/stable/_images/grid_search_cross_validation.png\"></center>\n",
    "\n",
    "**<center><h3>Types of cross validation</h3></center>**\n",
    "\n"
   ]
  },
  {
   "cell_type": "markdown",
   "metadata": {
    "id": "ugnrEylf76a6"
   },
   "source": [
    "<a name = Section111></a>\n",
    "\n",
    "### **1.1.1 k-fold cross-validation**"
   ]
  },
  {
   "cell_type": "markdown",
   "metadata": {
    "id": "Gwsn3Dudbzj4"
   },
   "source": [
    "- k-fold cross-validation is a widely used technique for evaluating the performance of machine learning models..\n",
    "\n",
    "- In k-fold cross-validation, the data is divided into k equally sized subsets or \"folds\".\n",
    "\n",
    "- The model is then trained on k-1 folds and tested on the remaining fold. This process is repeated k times, with each fold being used as the test set exactly once.\n",
    "\n",
    "- The results from each fold are then averaged to obtain an overall estimate of the model's performance.\n",
    "\n",
    "- The advantage of k-fold cross-validation is that it provides a more reliable estimate of the model's ability to generalize to new, unseen data than a simple train-test split.\n",
    "\n",
    "<center><img src=\"https://datasciencechalktalk.files.wordpress.com/2019/09/image-192.png?w=1024\"></center>"
   ]
  },
  {
   "cell_type": "markdown",
   "metadata": {
    "id": "x90J5UnKqTT-"
   },
   "source": [
    "<a name = Section112></a>\n",
    "\n",
    "### **1.1.2 Stratified k-fold cross-validation**"
   ]
  },
  {
   "cell_type": "markdown",
   "metadata": {
    "id": "XKZ1_ygLd5Ee"
   },
   "source": [
    "- Stratified k-fold cross-validation is a technique used in machine learning to evaluate the performance of a model.\n",
    "\n",
    "- It is a modification of k-fold cross-validation, which is a method for estimating the performance of a model by splitting the data into k subsets or folds, training the model on k-1 of the folds and evaluating it on the remaining fold.\n",
    "\n",
    "- In stratified k-fold cross-validation, the data is split into k subsets in such a way that the distribution of the target variable (or the class labels in a classification problem) is approximately the same in each subset as it is in the overall dataset\n",
    "\n",
    "- This helps to ensure that each subset is representative of the overall dataset and that the evaluation of the model's performance is not biased due to an uneven distribution of the target variable across the subsets.\n",
    "\n",
    "\n",
    "</br>\n",
    "<center><img width=\"50%\" src=\"https://miro.medium.com/v2/resize:fit:640/format:webp/1*7qv0fhIqAWzLyGaiekTk9Q.png\"></center>"
   ]
  },
  {
   "cell_type": "markdown",
   "metadata": {
    "id": "YgsMlbxyqPcA"
   },
   "source": [
    "<a name = Section113></a>\n",
    "\n",
    "### **1.1.3 Leave-One-Out cross-validation (LOOCV)**"
   ]
  },
  {
   "cell_type": "markdown",
   "metadata": {
    "id": "StRzQGzAjVIg"
   },
   "source": [
    "- Leave-One-Out cross-validation (LOOCV) is a technique used in machine learning and statistics to evaluate the performance of a model on a given dataset.\n",
    "\n",
    "- In LOOCV, the dataset is divided into two subsets: a training set and a validation set. The model is trained on the training set and evaluated on the validation set.\n",
    "\n",
    "- The process is repeated for each data point in the dataset, with each point serving as the validation set once while the rest of the points form the training set.\n",
    "\n",
    "- The main advantage of LOOCV is that it makes use of all available data points for both training and validation. However, it can be computationally expensive for large datasets because it requires training and evaluating the model for each data point.\n",
    "\n",
    "</br>\n",
    "<center><img width=65% src=\"https://www.baeldung.com/wp-content/uploads/sites/4/2022/05/loso.png\"></center>"
   ]
  },
  {
   "cell_type": "markdown",
   "metadata": {
    "id": "PanSZ1V5xYfC"
   },
   "source": [
    "<a name = Section113></a>\n",
    "\n",
    "### **1.1.4 Repeated k-fold cross-validation**"
   ]
  },
  {
   "cell_type": "markdown",
   "metadata": {
    "id": "0byzTRwIxfpI"
   },
   "source": [
    "- Repeated k-fold cross-validation is a technique used in machine learning and statistics to evaluate the performance of a model on a given dataset. It is an extension of the k-fold cross-validation technique.\n",
    "\n",
    "- In k-fold cross-validation, the dataset is divided into k equally-sized folds, with one fold being used as the validation set and the remaining k-1 folds used as the training set.\n",
    "\n",
    "- The process is repeated k times, with each fold serving as the validation set once while the remaining folds form the training set.\n",
    "\n",
    "-  The results from the k repetitions are then averaged to obtain an estimate of the model's performance.\n",
    "\n",
    "- In repeated k-fold cross-validation, the k-fold cross-validation process is repeated r times with different random partitions of the data into k folds each time.\n",
    "\n",
    "- This helps to reduce the variability of the estimated performance of the model due to the randomness of the partitioning process. The results from the r repetitions are then averaged to obtain a more reliable estimate of the model's performance.\n",
    "\n",
    "</br>\n",
    "<center><img width=65% src=\"https://www.researchgate.net/profile/Jay-Lohokare/publication/328798891/figure/fig1/AS:1050650980921344@1627506122858/Repeated-K-Fold-Cross-Validation-A-repeated-10-fold-CV-was-applied-The-10-fold-CV-works.ppm\"></center>"
   ]
  },
  {
   "cell_type": "markdown",
   "metadata": {
    "id": "2c0o9I8GnWRw"
   },
   "source": [
    "<a name = Section114></a>\n",
    "\n",
    "## **1.2 Techniques used for hyperparameter tuning**"
   ]
  },
  {
   "cell_type": "markdown",
   "metadata": {
    "id": "d-hprvsxnbCk"
   },
   "source": [
    "###**1.2.1 Random search cv**"
   ]
  },
  {
   "cell_type": "markdown",
   "metadata": {
    "id": "56MlkUaAo1VU"
   },
   "source": [
    "- Random search cv (cross-validation) is a hyperparameter tuning technique used in machine learning to optimize model performance.\n",
    "\n",
    "- It involves randomly sampling a subset of hyperparameters from a defined search space and evaluating their performance using cross-validation.\n",
    "\n",
    "- Hyperparameters are model parameters that are set prior to model training and can have a significant impact on model performance.\n",
    "\n",
    "- Random search cv involves randomly sampling hyperparameters from a defined search space and evaluating their performance using cross-validation. Cross-validation involves dividing the data into multiple subsets, training the model on a portion of the data, and evaluating its performance on the remaining portion.\n",
    "\n",
    "- This process is repeated multiple times, with different subsets of the data used for training and evaluation, to obtain a more accurate estimate of the model's performance.\n",
    "\n",
    "</br>\n",
    "<center><img width=\"65%\" src=\"https://editor.analyticsvidhya.com/uploads/72089randomized.JPG\"></center>\n",
    "</br>"
   ]
  },
  {
   "cell_type": "markdown",
   "metadata": {
    "id": "gs_GacmVqE-o"
   },
   "source": [
    "###**1.2.2 Grid search cv**"
   ]
  },
  {
   "cell_type": "markdown",
   "metadata": {
    "id": "NGMW0ISYqLU-"
   },
   "source": [
    "- Grid Search CV (Cross-Validation) is a technique used in machine learning to find the best combination of hyperparameters for a model.\n",
    "\n",
    "-  Hyperparameters are parameters that are not learned during training, but rather set before training begins. Examples of hyperparameters include the learning rate, regularization strength, and number of hidden layers in a neural network.\n",
    "\n",
    "- The idea behind Grid Search CV is to create a grid of possible hyperparameter values and then train and evaluate the model on each combination of hyperparameters.\n",
    "\n",
    "- This allows us to find the hyperparameter values that result in the best performance on a validation set.\n",
    "\n",
    "</br>\n",
    "<center><img width=\"65%\" src=\"https://static.wixstatic.com/media/fd32e3_50364e42770b42c28e3d9837487e12d1~mv2.png/v1/fill/w_612,h_236,al_c,q_85,enc_auto/fd32e3_50364e42770b42c28e3d9837487e12d1~mv2.png\"></center>\n",
    "</br>"
   ]
  },
  {
   "cell_type": "markdown",
   "metadata": {
    "id": "ZDGjJka-K99y"
   },
   "source": [
    "---\n",
    "<a name = Section2></a>\n",
    "# **2. Problem Statement**\n",
    "---\n",
    "\n",
    "- Housing prices are an important reflection of the economy, and housing price ranges are of great interest for both buyers and sellers. . But this playground competition’s data-set proves that much more influences price negotiations than the number of bedrooms or a white-picket fence..\n",
    "\n",
    "- Ask a home buyer to describe their dream house, and they probably won’t begin with the height of the basement ceiling or the proximity to an east-west railroad.\n",
    "\n",
    "\n",
    "\n",
    "<br>\n",
    "<center><img src=\"https://media.wbur.org/wp/2018/01/0124_housing01.jpg\"></center>\n",
    "\n",
    "<br>\n",
    "**<h4>Scenario (Hypothetical):</h4>**\n",
    "\n",
    "- **Micro Real estates**, a **USA**-based company that provides the **property locations and their price** to its customers.\n",
    "\n",
    "- They are looking for an **automated solution** that will **predict** the **House Prices** of the customer.\n",
    "\n",
    "- To tackle this situation of crisis, they have **consulted** a team of **data scientists**. **Consider it's you...**"
   ]
  },
  {
   "cell_type": "markdown",
   "metadata": {
    "id": "iUeor5zXLN0C"
   },
   "source": [
    "---\n",
    "<a name = Section3></a>\n",
    "# **3. Installing & Importing Libraries**\n",
    "---"
   ]
  },
  {
   "cell_type": "markdown",
   "metadata": {
    "id": "8QWFJCe3LP15"
   },
   "source": [
    "<a name = Section31></a>\n",
    "### **3.1 Installing Libraries**"
   ]
  },
  {
   "cell_type": "code",
   "execution_count": 1,
   "metadata": {
    "colab": {
     "base_uri": "https://localhost:8080/"
    },
    "executionInfo": {
     "elapsed": 38566,
     "status": "ok",
     "timestamp": 1687753359424,
     "user": {
      "displayName": "Yash Chauhan",
      "userId": "03194567605433747724"
     },
     "user_tz": -330
    },
    "id": "RLKLa3NJcPtJ",
    "outputId": "19e2401f-9c27-418d-c25c-6783615c76ab"
   },
   "outputs": [
    {
     "name": "stdout",
     "output_type": "stream",
     "text": [
      "\u001b[2K     \u001b[90m━━━━━━━━━━━━━━━━━━━━━━━━━━━━━━━━━━━━━━━━\u001b[0m \u001b[32m1.6/1.6 MB\u001b[0m \u001b[31m49.5 MB/s\u001b[0m eta \u001b[36m0:00:00\u001b[0m\n",
      "\u001b[2K     \u001b[90m━━━━━━━━━━━━━━━━━━━━━━━━━━━━━━━━━━━━━━\u001b[0m \u001b[32m324.4/324.4 kB\u001b[0m \u001b[31m18.1 MB/s\u001b[0m eta \u001b[36m0:00:00\u001b[0m\n",
      "\u001b[2K     \u001b[90m━━━━━━━━━━━━━━━━━━━━━━━━━━━━━━━━━━━━━━\u001b[0m \u001b[32m353.0/353.0 kB\u001b[0m \u001b[31m32.6 MB/s\u001b[0m eta \u001b[36m0:00:00\u001b[0m\n",
      "\u001b[2K     \u001b[90m━━━━━━━━━━━━━━━━━━━━━━━━━━━━━━━━━━━━━━\u001b[0m \u001b[32m102.7/102.7 kB\u001b[0m \u001b[31m10.9 MB/s\u001b[0m eta \u001b[36m0:00:00\u001b[0m\n",
      "\u001b[?25h  Preparing metadata (setup.py) ... \u001b[?25l\u001b[?25hdone\n",
      "\u001b[2K     \u001b[90m━━━━━━━━━━━━━━━━━━━━━━━━━━━━━━━━━━━━━━\u001b[0m \u001b[32m679.5/679.5 kB\u001b[0m \u001b[31m49.5 MB/s\u001b[0m eta \u001b[36m0:00:00\u001b[0m\n",
      "\u001b[2K     \u001b[90m━━━━━━━━━━━━━━━━━━━━━━━━━━━━━━━━━━━━━━\u001b[0m \u001b[32m296.5/296.5 kB\u001b[0m \u001b[31m27.1 MB/s\u001b[0m eta \u001b[36m0:00:00\u001b[0m\n",
      "\u001b[2K     \u001b[90m━━━━━━━━━━━━━━━━━━━━━━━━━━━━━━━━━━━━━━\u001b[0m \u001b[32m455.4/455.4 kB\u001b[0m \u001b[31m34.9 MB/s\u001b[0m eta \u001b[36m0:00:00\u001b[0m\n",
      "\u001b[2K     \u001b[90m━━━━━━━━━━━━━━━━━━━━━━━━━━━━━━━━━━━━━━━━\u001b[0m \u001b[32m4.7/4.7 MB\u001b[0m \u001b[31m52.3 MB/s\u001b[0m eta \u001b[36m0:00:00\u001b[0m\n",
      "\u001b[?25h  Building wheel for htmlmin (setup.py) ... \u001b[?25l\u001b[?25hdone\n"
     ]
    }
   ],
   "source": [
    "!pip install -q datascience                                         # Package that is required by pandas profiling\n",
    "!pip install -q ydata-profiling                                    # Library to generate basic statistics about data\n",
    "!pip install -q yellowbrick                                         # Toolbox for Measuring Machine Performance"
   ]
  },
  {
   "cell_type": "markdown",
   "metadata": {
    "id": "_xFdpWAgLR_T"
   },
   "source": [
    "<a name = Section32></a>\n",
    "### **3.2 Upgrading Libraries**\n",
    "\n",
    "- **After upgrading** the libraries, you need to **restart the runtime** to make the libraries in sync.\n",
    "\n",
    "- Make sure not to execute the cell above (3.1) and below (3.2) again after restarting the runtime."
   ]
  },
  {
   "cell_type": "code",
   "execution_count": 2,
   "metadata": {
    "executionInfo": {
     "elapsed": 10357,
     "status": "ok",
     "timestamp": 1687753369774,
     "user": {
      "displayName": "Yash Chauhan",
      "userId": "03194567605433747724"
     },
     "user_tz": -330
    },
    "id": "CBEaPcZI-LAN"
   },
   "outputs": [],
   "source": [
    "!pip install -q --upgrade ydata-profiling\n",
    "!pip install -q --upgrade yellowbrick"
   ]
  },
  {
   "cell_type": "markdown",
   "metadata": {
    "id": "aqRIOGPpLWiw"
   },
   "source": [
    "<a name = Section33></a>\n",
    "### **3.3 Importing Libraries**"
   ]
  },
  {
   "cell_type": "code",
   "execution_count": 3,
   "metadata": {
    "colab": {
     "base_uri": "https://localhost:8080/"
    },
    "executionInfo": {
     "elapsed": 3901,
     "status": "ok",
     "timestamp": 1687753373673,
     "user": {
      "displayName": "Yash Chauhan",
      "userId": "03194567605433747724"
     },
     "user_tz": -330
    },
    "id": "0jAqzrBWLWZi",
    "outputId": "01016749-d1fd-4703-9a13-2c0132c27446"
   },
   "outputs": [],
   "source": [
    "#-------------------------------------------------------------------------------------------------------------------------------\n",
    "import pandas as pd                                                 # Importing for panel data analysis\n",
    "from ydata_profiling import ProfileReport                           # Import Ydata Profiling (To generate Univariate Analysis)\n",
    "pd.set_option('display.max_columns', None)                          # Unfolding hidden features if the cardinality is high\n",
    "pd.set_option('display.max_colwidth', None)                         # Unfolding the max feature width for better clearity\n",
    "pd.set_option('display.max_rows', None)                             # Unfolding hidden data points if the cardinality is high\n",
    "pd.set_option('mode.chained_assignment', None)                      # Removing restriction over chained assignments operations\n",
    "pd.set_option('display.float_format', lambda x: '%.5f' % x)         # To suppress scientific notation over exponential values\n",
    "#-------------------------------------------------------------------------------------------------------------------------------\n",
    "import numpy as np                                                  # Importing package numpys (For Numerical Python)\n",
    "#-------------------------------------------------------------------------------------------------------------------------------\n",
    "import matplotlib.pyplot as plt                                     # Importing pyplot interface using matplotlib\n",
    "import seaborn as sns                                               # Importin seaborm library for interactive visualization\n",
    "%matplotlib inline\n",
    "#-------------------------------------------------------------------------------------------------------------------------------\n",
    "from sklearn.utils import shuffle                                   # To shuffle the data\n",
    "from sklearn.impute import KNNImputer                               # To performing iterative imputing over missing data\n",
    "from sklearn.preprocessing import StandardScaler                    # Importing standard scaler to perform standardization\n",
    "from sklearn.base import BaseEstimator                              # To create custom transformers\n",
    "from sklearn.base import ClassifierMixin                            # To create custom transformers\n",
    "from sklearn.base import TransformerMixin                           # To create custom transformers\n",
    "from sklearn.feature_selection import SelectFromModel               # To select features from model using Yellow bricks\n",
    "from yellowbrick.model_selection import FeatureImportances          # To select important features out of the model\n",
    "from sklearn.model_selection import KFold                           # To perform K-fold executions\n",
    "#-------------------------------------------------------------------------------------------------------------------------------\n",
    "from sklearn.metrics import classification_report                   # To generate complete report of evaluation metrics\n",
    "from sklearn.metrics import precision_recall_curve                  # To plot precision recall curve\n",
    "from sklearn.metrics import ConfusionMatrixDisplay                   # To plot confusion matrix\n",
    "#-------------------------------------------------------------------------------------------------------------------------------\n",
    "from sklearn.model_selection import train_test_split                # To split the data in training and testing part\n",
    "import time\n",
    "from sklearn.tree import DecisionTreeRegressor\n",
    "from sklearn.model_selection import GridSearchCV, RandomizedSearchCV, train_test_split\n",
    "from sklearn.metrics import r2_score, make_scorer\n",
    "#-------------------------------------------------------------------------------------------------------------------------------\n",
    "import warnings                                                     # Importing warning to disable runtime warnings\n",
    "warnings.filterwarnings(\"ignore\")                                   # Warnings will appear only once"
   ]
  },
  {
   "cell_type": "markdown",
   "metadata": {
    "id": "KUXWwFuH92BJ"
   },
   "source": [
    "|14|**medv**|median value of owner-occupied homes in $1000s(Target).|"
   ]
  },
  {
   "cell_type": "markdown",
   "metadata": {
    "id": "MfcFCicgLdYB"
   },
   "source": [
    "---\n",
    "<a name = Section4></a>\n",
    "# **4. Data Acquisition & Description**\n",
    "---\n",
    "\n",
    "- The dataset used in this project comes from the UCI Machine Learning Repository</a>.\n",
    "\n",
    "</br>\n",
    "\n",
    "| Records | Features | Dataset Size |\n",
    "| :--: | :--: | :--: |\n",
    "| 100000 | 19 | 17.9 MB|\n",
    "\n",
    "</br>\n",
    "\n",
    "| Id | Features | Description |\n",
    "| :-- | :--| :--|\n",
    "|01|**crim**|per capita crime rate by town.|\n",
    "|02|**zn**|proportion of residential land zoned for lots over 25,000 sq.ft.|\n",
    "|03|**indus**|proportion of non-retail business acres per town.|\n",
    "|04|**chas**|Charles River dummy variable (= 1 if tract bounds river; 0 otherwise).|\n",
    "|05|**nox**|nitric oxides concentration (parts per 10 million).|\n",
    "|06|**rm**|average number of rooms per dwelling.|\n",
    "|07|**age**|proportion of owner-occupied units built prior to 1940.|\n",
    "|08|**dis**| weighted distances to five Boston employment centers.|\n",
    "|09|**rad**|index of accessibility to radial highways.|\n",
    "|10|**tax**|full-value property-tax rate per $10,000.|\n",
    "|11|**ptratio**|pupil-teacher ratio by town.|\n",
    "|12|**b**|1000(Bk - 0.63)^2 where Bk is the proportion of blacks by town.|\n",
    "|13|**lstat**|% lower status of the population.|\n",
    "|13|**medv**|median value of owner-occupied homes in `$`1000s(Target).|\n",
    "\n",
    "\n",
    "\n",
    "\n"
   ]
  },
  {
   "cell_type": "code",
   "execution_count": 4,
   "metadata": {
    "colab": {
     "base_uri": "https://localhost:8080/",
     "height": 224
    },
    "executionInfo": {
     "elapsed": 16,
     "status": "ok",
     "timestamp": 1687753373674,
     "user": {
      "displayName": "Yash Chauhan",
      "userId": "03194567605433747724"
     },
     "user_tz": -330
    },
    "id": "ZIvAaaXv-K3K",
    "outputId": "b43a66dd-dc29-417c-9e80-f7fb5a0351f2"
   },
   "outputs": [
    {
     "name": "stdout",
     "output_type": "stream",
     "text": [
      "Data Shape: (506, 14)\n"
     ]
    },
    {
     "data": {
      "text/html": [
       "<div>\n",
       "<style scoped>\n",
       "    .dataframe tbody tr th:only-of-type {\n",
       "        vertical-align: middle;\n",
       "    }\n",
       "\n",
       "    .dataframe tbody tr th {\n",
       "        vertical-align: top;\n",
       "    }\n",
       "\n",
       "    .dataframe thead th {\n",
       "        text-align: right;\n",
       "    }\n",
       "</style>\n",
       "<table border=\"1\" class=\"dataframe\">\n",
       "  <thead>\n",
       "    <tr style=\"text-align: right;\">\n",
       "      <th></th>\n",
       "      <th>crim</th>\n",
       "      <th>zn</th>\n",
       "      <th>indus</th>\n",
       "      <th>chas</th>\n",
       "      <th>nox</th>\n",
       "      <th>rm</th>\n",
       "      <th>age</th>\n",
       "      <th>dis</th>\n",
       "      <th>rad</th>\n",
       "      <th>tax</th>\n",
       "      <th>ptratio</th>\n",
       "      <th>b</th>\n",
       "      <th>lstat</th>\n",
       "      <th>medv</th>\n",
       "    </tr>\n",
       "  </thead>\n",
       "  <tbody>\n",
       "    <tr>\n",
       "      <th>0</th>\n",
       "      <td>0.00632</td>\n",
       "      <td>18.00000</td>\n",
       "      <td>2.31000</td>\n",
       "      <td>0</td>\n",
       "      <td>0.53800</td>\n",
       "      <td>6.57500</td>\n",
       "      <td>65.20000</td>\n",
       "      <td>4.09000</td>\n",
       "      <td>1</td>\n",
       "      <td>296</td>\n",
       "      <td>15.30000</td>\n",
       "      <td>396.90000</td>\n",
       "      <td>4.98000</td>\n",
       "      <td>24.00000</td>\n",
       "    </tr>\n",
       "    <tr>\n",
       "      <th>1</th>\n",
       "      <td>0.02731</td>\n",
       "      <td>0.00000</td>\n",
       "      <td>7.07000</td>\n",
       "      <td>0</td>\n",
       "      <td>0.46900</td>\n",
       "      <td>6.42100</td>\n",
       "      <td>78.90000</td>\n",
       "      <td>4.96710</td>\n",
       "      <td>2</td>\n",
       "      <td>242</td>\n",
       "      <td>17.80000</td>\n",
       "      <td>396.90000</td>\n",
       "      <td>9.14000</td>\n",
       "      <td>21.60000</td>\n",
       "    </tr>\n",
       "    <tr>\n",
       "      <th>2</th>\n",
       "      <td>0.02729</td>\n",
       "      <td>0.00000</td>\n",
       "      <td>7.07000</td>\n",
       "      <td>0</td>\n",
       "      <td>0.46900</td>\n",
       "      <td>7.18500</td>\n",
       "      <td>61.10000</td>\n",
       "      <td>4.96710</td>\n",
       "      <td>2</td>\n",
       "      <td>242</td>\n",
       "      <td>17.80000</td>\n",
       "      <td>392.83000</td>\n",
       "      <td>4.03000</td>\n",
       "      <td>34.70000</td>\n",
       "    </tr>\n",
       "    <tr>\n",
       "      <th>3</th>\n",
       "      <td>0.03237</td>\n",
       "      <td>0.00000</td>\n",
       "      <td>2.18000</td>\n",
       "      <td>0</td>\n",
       "      <td>0.45800</td>\n",
       "      <td>6.99800</td>\n",
       "      <td>45.80000</td>\n",
       "      <td>6.06220</td>\n",
       "      <td>3</td>\n",
       "      <td>222</td>\n",
       "      <td>18.70000</td>\n",
       "      <td>394.63000</td>\n",
       "      <td>2.94000</td>\n",
       "      <td>33.40000</td>\n",
       "    </tr>\n",
       "    <tr>\n",
       "      <th>4</th>\n",
       "      <td>0.06905</td>\n",
       "      <td>0.00000</td>\n",
       "      <td>2.18000</td>\n",
       "      <td>0</td>\n",
       "      <td>0.45800</td>\n",
       "      <td>7.14700</td>\n",
       "      <td>54.20000</td>\n",
       "      <td>6.06220</td>\n",
       "      <td>3</td>\n",
       "      <td>222</td>\n",
       "      <td>18.70000</td>\n",
       "      <td>396.90000</td>\n",
       "      <td>5.33000</td>\n",
       "      <td>36.20000</td>\n",
       "    </tr>\n",
       "  </tbody>\n",
       "</table>\n",
       "</div>"
      ],
      "text/plain": [
       "     crim       zn   indus  chas     nox      rm      age     dis  rad  tax  \\\n",
       "0 0.00632 18.00000 2.31000     0 0.53800 6.57500 65.20000 4.09000    1  296   \n",
       "1 0.02731  0.00000 7.07000     0 0.46900 6.42100 78.90000 4.96710    2  242   \n",
       "2 0.02729  0.00000 7.07000     0 0.46900 7.18500 61.10000 4.96710    2  242   \n",
       "3 0.03237  0.00000 2.18000     0 0.45800 6.99800 45.80000 6.06220    3  222   \n",
       "4 0.06905  0.00000 2.18000     0 0.45800 7.14700 54.20000 6.06220    3  222   \n",
       "\n",
       "   ptratio         b   lstat     medv  \n",
       "0 15.30000 396.90000 4.98000 24.00000  \n",
       "1 17.80000 396.90000 9.14000 21.60000  \n",
       "2 17.80000 392.83000 4.03000 34.70000  \n",
       "3 18.70000 394.63000 2.94000 33.40000  \n",
       "4 18.70000 396.90000 5.33000 36.20000  "
      ]
     },
     "execution_count": 4,
     "metadata": {},
     "output_type": "execute_result"
    }
   ],
   "source": [
    "# Load the Boston Housing dataset\n",
    "data = pd.read_csv(filepath_or_buffer='BostonHousing.csv')\n",
    "print('Data Shape:', data.shape)\n",
    "data.head()"
   ]
  },
  {
   "cell_type": "markdown",
   "metadata": {
    "id": "Yz-qbPHKLlsB"
   },
   "source": [
    "<a name = Section41></a>\n",
    "### **4.1 Data Description**\n",
    "\n",
    "- In this section we will get **information about the data** and see some observations."
   ]
  },
  {
   "cell_type": "code",
   "execution_count": 5,
   "metadata": {
    "colab": {
     "base_uri": "https://localhost:8080/",
     "height": 300
    },
    "executionInfo": {
     "elapsed": 15,
     "status": "ok",
     "timestamp": 1687753373675,
     "user": {
      "displayName": "Yash Chauhan",
      "userId": "03194567605433747724"
     },
     "user_tz": -330
    },
    "id": "L8gmOGFZ-Kv6",
    "outputId": "b3763899-8304-419c-f7c0-a3d25a6a6399"
   },
   "outputs": [
    {
     "data": {
      "text/html": [
       "<div>\n",
       "<style scoped>\n",
       "    .dataframe tbody tr th:only-of-type {\n",
       "        vertical-align: middle;\n",
       "    }\n",
       "\n",
       "    .dataframe tbody tr th {\n",
       "        vertical-align: top;\n",
       "    }\n",
       "\n",
       "    .dataframe thead th {\n",
       "        text-align: right;\n",
       "    }\n",
       "</style>\n",
       "<table border=\"1\" class=\"dataframe\">\n",
       "  <thead>\n",
       "    <tr style=\"text-align: right;\">\n",
       "      <th></th>\n",
       "      <th>crim</th>\n",
       "      <th>zn</th>\n",
       "      <th>indus</th>\n",
       "      <th>chas</th>\n",
       "      <th>nox</th>\n",
       "      <th>rm</th>\n",
       "      <th>age</th>\n",
       "      <th>dis</th>\n",
       "      <th>rad</th>\n",
       "      <th>tax</th>\n",
       "      <th>ptratio</th>\n",
       "      <th>b</th>\n",
       "      <th>lstat</th>\n",
       "      <th>medv</th>\n",
       "    </tr>\n",
       "  </thead>\n",
       "  <tbody>\n",
       "    <tr>\n",
       "      <th>count</th>\n",
       "      <td>506.00000</td>\n",
       "      <td>506.00000</td>\n",
       "      <td>506.00000</td>\n",
       "      <td>506.00000</td>\n",
       "      <td>506.00000</td>\n",
       "      <td>506.00000</td>\n",
       "      <td>506.00000</td>\n",
       "      <td>506.00000</td>\n",
       "      <td>506.00000</td>\n",
       "      <td>506.00000</td>\n",
       "      <td>506.00000</td>\n",
       "      <td>506.00000</td>\n",
       "      <td>506.00000</td>\n",
       "      <td>506.00000</td>\n",
       "    </tr>\n",
       "    <tr>\n",
       "      <th>mean</th>\n",
       "      <td>3.61352</td>\n",
       "      <td>11.36364</td>\n",
       "      <td>11.13678</td>\n",
       "      <td>0.06917</td>\n",
       "      <td>0.55470</td>\n",
       "      <td>6.28463</td>\n",
       "      <td>68.57490</td>\n",
       "      <td>3.79504</td>\n",
       "      <td>9.54941</td>\n",
       "      <td>408.23715</td>\n",
       "      <td>18.45553</td>\n",
       "      <td>356.67403</td>\n",
       "      <td>12.65306</td>\n",
       "      <td>22.53281</td>\n",
       "    </tr>\n",
       "    <tr>\n",
       "      <th>std</th>\n",
       "      <td>8.60155</td>\n",
       "      <td>23.32245</td>\n",
       "      <td>6.86035</td>\n",
       "      <td>0.25399</td>\n",
       "      <td>0.11588</td>\n",
       "      <td>0.70262</td>\n",
       "      <td>28.14886</td>\n",
       "      <td>2.10571</td>\n",
       "      <td>8.70726</td>\n",
       "      <td>168.53712</td>\n",
       "      <td>2.16495</td>\n",
       "      <td>91.29486</td>\n",
       "      <td>7.14106</td>\n",
       "      <td>9.19710</td>\n",
       "    </tr>\n",
       "    <tr>\n",
       "      <th>min</th>\n",
       "      <td>0.00632</td>\n",
       "      <td>0.00000</td>\n",
       "      <td>0.46000</td>\n",
       "      <td>0.00000</td>\n",
       "      <td>0.38500</td>\n",
       "      <td>3.56100</td>\n",
       "      <td>2.90000</td>\n",
       "      <td>1.12960</td>\n",
       "      <td>1.00000</td>\n",
       "      <td>187.00000</td>\n",
       "      <td>12.60000</td>\n",
       "      <td>0.32000</td>\n",
       "      <td>1.73000</td>\n",
       "      <td>5.00000</td>\n",
       "    </tr>\n",
       "    <tr>\n",
       "      <th>25%</th>\n",
       "      <td>0.08204</td>\n",
       "      <td>0.00000</td>\n",
       "      <td>5.19000</td>\n",
       "      <td>0.00000</td>\n",
       "      <td>0.44900</td>\n",
       "      <td>5.88550</td>\n",
       "      <td>45.02500</td>\n",
       "      <td>2.10018</td>\n",
       "      <td>4.00000</td>\n",
       "      <td>279.00000</td>\n",
       "      <td>17.40000</td>\n",
       "      <td>375.37750</td>\n",
       "      <td>6.95000</td>\n",
       "      <td>17.02500</td>\n",
       "    </tr>\n",
       "    <tr>\n",
       "      <th>50%</th>\n",
       "      <td>0.25651</td>\n",
       "      <td>0.00000</td>\n",
       "      <td>9.69000</td>\n",
       "      <td>0.00000</td>\n",
       "      <td>0.53800</td>\n",
       "      <td>6.20850</td>\n",
       "      <td>77.50000</td>\n",
       "      <td>3.20745</td>\n",
       "      <td>5.00000</td>\n",
       "      <td>330.00000</td>\n",
       "      <td>19.05000</td>\n",
       "      <td>391.44000</td>\n",
       "      <td>11.36000</td>\n",
       "      <td>21.20000</td>\n",
       "    </tr>\n",
       "    <tr>\n",
       "      <th>75%</th>\n",
       "      <td>3.67708</td>\n",
       "      <td>12.50000</td>\n",
       "      <td>18.10000</td>\n",
       "      <td>0.00000</td>\n",
       "      <td>0.62400</td>\n",
       "      <td>6.62350</td>\n",
       "      <td>94.07500</td>\n",
       "      <td>5.18843</td>\n",
       "      <td>24.00000</td>\n",
       "      <td>666.00000</td>\n",
       "      <td>20.20000</td>\n",
       "      <td>396.22500</td>\n",
       "      <td>16.95500</td>\n",
       "      <td>25.00000</td>\n",
       "    </tr>\n",
       "    <tr>\n",
       "      <th>max</th>\n",
       "      <td>88.97620</td>\n",
       "      <td>100.00000</td>\n",
       "      <td>27.74000</td>\n",
       "      <td>1.00000</td>\n",
       "      <td>0.87100</td>\n",
       "      <td>8.78000</td>\n",
       "      <td>100.00000</td>\n",
       "      <td>12.12650</td>\n",
       "      <td>24.00000</td>\n",
       "      <td>711.00000</td>\n",
       "      <td>22.00000</td>\n",
       "      <td>396.90000</td>\n",
       "      <td>37.97000</td>\n",
       "      <td>50.00000</td>\n",
       "    </tr>\n",
       "  </tbody>\n",
       "</table>\n",
       "</div>"
      ],
      "text/plain": [
       "           crim        zn     indus      chas       nox        rm       age  \\\n",
       "count 506.00000 506.00000 506.00000 506.00000 506.00000 506.00000 506.00000   \n",
       "mean    3.61352  11.36364  11.13678   0.06917   0.55470   6.28463  68.57490   \n",
       "std     8.60155  23.32245   6.86035   0.25399   0.11588   0.70262  28.14886   \n",
       "min     0.00632   0.00000   0.46000   0.00000   0.38500   3.56100   2.90000   \n",
       "25%     0.08204   0.00000   5.19000   0.00000   0.44900   5.88550  45.02500   \n",
       "50%     0.25651   0.00000   9.69000   0.00000   0.53800   6.20850  77.50000   \n",
       "75%     3.67708  12.50000  18.10000   0.00000   0.62400   6.62350  94.07500   \n",
       "max    88.97620 100.00000  27.74000   1.00000   0.87100   8.78000 100.00000   \n",
       "\n",
       "            dis       rad       tax   ptratio         b     lstat      medv  \n",
       "count 506.00000 506.00000 506.00000 506.00000 506.00000 506.00000 506.00000  \n",
       "mean    3.79504   9.54941 408.23715  18.45553 356.67403  12.65306  22.53281  \n",
       "std     2.10571   8.70726 168.53712   2.16495  91.29486   7.14106   9.19710  \n",
       "min     1.12960   1.00000 187.00000  12.60000   0.32000   1.73000   5.00000  \n",
       "25%     2.10018   4.00000 279.00000  17.40000 375.37750   6.95000  17.02500  \n",
       "50%     3.20745   5.00000 330.00000  19.05000 391.44000  11.36000  21.20000  \n",
       "75%     5.18843  24.00000 666.00000  20.20000 396.22500  16.95500  25.00000  \n",
       "max    12.12650  24.00000 711.00000  22.00000 396.90000  37.97000  50.00000  "
      ]
     },
     "execution_count": 5,
     "metadata": {},
     "output_type": "execute_result"
    }
   ],
   "source": [
    "data.describe()"
   ]
  },
  {
   "cell_type": "markdown",
   "metadata": {
    "id": "znDdGHZuqp93"
   },
   "source": [
    "**Observation:**\n",
    "\n",
    "- **On average** in areas **crime per capita** is **0.25 units**.\n",
    "\n",
    "- **Standard deviation** of **zn** is **±11.36**.\n",
    "\n",
    "- **Max nitric oxides concentration** is **0.87 units**\n",
    "\n",
    "- Similarly, information about the rest of the features can be analyzed from the dataframe."
   ]
  },
  {
   "cell_type": "markdown",
   "metadata": {
    "id": "823rabK1LptL"
   },
   "source": [
    "<a name = Section42></a>\n",
    "### **4.2 Data Information**\n",
    "\n",
    "- In this section we will see the **information about the types of features**."
   ]
  },
  {
   "cell_type": "code",
   "execution_count": 6,
   "metadata": {
    "colab": {
     "base_uri": "https://localhost:8080/"
    },
    "executionInfo": {
     "elapsed": 15,
     "status": "ok",
     "timestamp": 1687753373675,
     "user": {
      "displayName": "Yash Chauhan",
      "userId": "03194567605433747724"
     },
     "user_tz": -330
    },
    "id": "NvsSYZJsDOZ7",
    "outputId": "6b3ab9a2-daae-4c3c-e0fe-930dab2dc387"
   },
   "outputs": [
    {
     "name": "stdout",
     "output_type": "stream",
     "text": [
      "<class 'pandas.core.frame.DataFrame'>\n",
      "RangeIndex: 506 entries, 0 to 505\n",
      "Data columns (total 14 columns):\n",
      " #   Column   Non-Null Count  Dtype  \n",
      "---  ------   --------------  -----  \n",
      " 0   crim     506 non-null    float64\n",
      " 1   zn       506 non-null    float64\n",
      " 2   indus    506 non-null    float64\n",
      " 3   chas     506 non-null    int64  \n",
      " 4   nox      506 non-null    float64\n",
      " 5   rm       506 non-null    float64\n",
      " 6   age      506 non-null    float64\n",
      " 7   dis      506 non-null    float64\n",
      " 8   rad      506 non-null    int64  \n",
      " 9   tax      506 non-null    int64  \n",
      " 10  ptratio  506 non-null    float64\n",
      " 11  b        506 non-null    float64\n",
      " 12  lstat    506 non-null    float64\n",
      " 13  medv     506 non-null    float64\n",
      "dtypes: float64(11), int64(3)\n",
      "memory usage: 55.5 KB\n"
     ]
    }
   ],
   "source": [
    "data.info(verbose=True, memory_usage='deep', null_counts=True)"
   ]
  },
  {
   "cell_type": "markdown",
   "metadata": {
    "id": "-6LX2qvWs83a"
   },
   "source": [
    "**Observation:**\n",
    "\n",
    "- We can observe that **missing data does not exist** in our dataset.\n",
    "\n",
    "- We can observe that **features** are having **consistent data types**."
   ]
  },
  {
   "cell_type": "markdown",
   "metadata": {
    "id": "Fn0M3c1HLtuj"
   },
   "source": [
    "<a name = Section5></a>\n",
    "\n",
    "---\n",
    "# **5. Data Pre-Processing**\n",
    "---"
   ]
  },
  {
   "cell_type": "markdown",
   "metadata": {
    "id": "KJygKKr0LwJQ"
   },
   "source": [
    "<a name = Section51></a>\n",
    "### **5.1 Pre Profiling Report**\n",
    "\n",
    "- For **quick analysis** pandas profiling is very handy.\n",
    "\n",
    "- Generates profile reports from a pandas DataFrame.\n",
    "\n",
    "- For each column **statistics** are presented in an interactive HTML report."
   ]
  },
  {
   "cell_type": "code",
   "execution_count": 7,
   "metadata": {
    "executionInfo": {
     "elapsed": 13,
     "status": "ok",
     "timestamp": 1687753373675,
     "user": {
      "displayName": "Yash Chauhan",
      "userId": "03194567605433747724"
     },
     "user_tz": -330
    },
    "id": "6V6k43u5DOVw"
   },
   "outputs": [
    {
     "data": {
      "application/vnd.jupyter.widget-view+json": {
       "model_id": "86967737122b4600855a966fb9e91425",
       "version_major": 2,
       "version_minor": 0
      },
      "text/plain": [
       "Summarize dataset:   0%|          | 0/5 [00:00<?, ?it/s]"
      ]
     },
     "metadata": {},
     "output_type": "display_data"
    },
    {
     "data": {
      "application/vnd.jupyter.widget-view+json": {
       "model_id": "12b95cee5529429c8ae2d1699d152551",
       "version_major": 2,
       "version_minor": 0
      },
      "text/plain": [
       "Generate report structure:   0%|          | 0/1 [00:00<?, ?it/s]"
      ]
     },
     "metadata": {},
     "output_type": "display_data"
    },
    {
     "data": {
      "application/vnd.jupyter.widget-view+json": {
       "model_id": "ee952fab84b749f288ea426376c7a36c",
       "version_major": 2,
       "version_minor": 0
      },
      "text/plain": [
       "Render HTML:   0%|          | 0/1 [00:00<?, ?it/s]"
      ]
     },
     "metadata": {},
     "output_type": "display_data"
    },
    {
     "data": {
      "application/vnd.jupyter.widget-view+json": {
       "model_id": "180f9649847a404997020d982f1a78a9",
       "version_major": 2,
       "version_minor": 0
      },
      "text/plain": [
       "Export report to file:   0%|          | 0/1 [00:00<?, ?it/s]"
      ]
     },
     "metadata": {},
     "output_type": "display_data"
    },
    {
     "name": "stdout",
     "output_type": "stream",
     "text": [
      "Accomplished!\n"
     ]
    }
   ],
   "source": [
    "profile = ProfileReport(df=data)\n",
    "profile.to_file(output_file='Pre_Profiling_Report.html')\n",
    "print('Accomplished!')"
   ]
  },
  {
   "cell_type": "code",
   "execution_count": 8,
   "metadata": {
    "executionInfo": {
     "elapsed": 13,
     "status": "ok",
     "timestamp": 1687753373675,
     "user": {
      "displayName": "Yash Chauhan",
      "userId": "03194567605433747724"
     },
     "user_tz": -330
    },
    "id": "gjVjQQ4BLyLH"
   },
   "outputs": [],
   "source": [
    "# from google.colab import files                   # Use only if you are using Google Colab, otherwise remove it\n",
    "# files.download('Pre Profiling Report.html')      # Use only if you are using Google Colab, otherwise remove it"
   ]
  },
  {
   "cell_type": "markdown",
   "metadata": {
    "id": "biRxe_h-Lz2p"
   },
   "source": [
    "**Observation:**\n",
    "\n",
    "- The report shows that there are **total** of **14 features** out of which **3 are Int64** and **11 are float64**.\n",
    "\n",
    "- There are categorical in our dataset but are already in binary/numerical form of 1 and 0.\n",
    "\n",
    "- Features such as **Nox** and **Dis** have **high collinearity.**\n",
    "\n",
    "- The rest of the information can be obtained from the report."
   ]
  },
  {
   "cell_type": "markdown",
   "metadata": {
    "id": "P9cZQxYeDz_7"
   },
   "source": [
    "<a name = Section6></a>\n",
    "\n",
    "---\n",
    "# **6. Exploratory Data Analysis**\n",
    "---"
   ]
  },
  {
   "cell_type": "markdown",
   "metadata": {
    "id": "POcxJB6sGqh9"
   },
   "source": [
    "**<h4>Question: What is the frequency and proportion of Loan Status?</h4>**"
   ]
  },
  {
   "cell_type": "code",
   "execution_count": 8,
   "metadata": {
    "colab": {
     "base_uri": "https://localhost:8080/",
     "height": 701
    },
    "executionInfo": {
     "elapsed": 1238,
     "status": "ok",
     "timestamp": 1687753374900,
     "user": {
      "displayName": "Yash Chauhan",
      "userId": "03194567605433747724"
     },
     "user_tz": -330
    },
    "id": "JHdzlfmV9rCe",
    "outputId": "f7839e76-ece2-4cde-aba5-de36e396af86"
   },
   "outputs": [
    {
     "data": {
      "image/png": "[encoded data removed]",
      "text/plain": [
       "<Figure size 1500x700 with 2 Axes>"
      ]
     },
     "metadata": {},
     "output_type": "display_data"
    }
   ],
   "source": [
    "fig = plt.figure(figsize = [15, 7])\n",
    "plt.subplot(1, 2, 1)\n",
    "sns.countplot(x = 'chas', data = data, palette = ['#56DB7F', '#DB5E56'])\n",
    "plt.xlabel(xlabel = 'Charles River ', size = 14)\n",
    "plt.ylabel(ylabel = 'Frequency', size = 14)\n",
    "plt.title(label = 'Frequency Distribution', size = 14)\n",
    "\n",
    "plt.subplot(1, 2, 2)\n",
    "space = np.ones(2)/10\n",
    "data['chas'].value_counts().plot(kind = 'pie', explode = space, fontsize = 14, autopct = '%3.1f%%', wedgeprops = dict(width=0.15),\n",
    "                                       shadow = True, startangle = 160, figsize = [15, 7], legend = True, colors = ['#56DB7F', '#DB5E56'])\n",
    "plt.ylabel(ylabel = 'Class', size = 14)\n",
    "plt.title(label = 'Charles River', size = 14)\n",
    "plt.tight_layout(pad = 3.0)\n",
    "plt.suptitle(t = 'Frequency & Proportion of Charles River ', y = 1.02, size = 16)\n",
    "plt.show()"
   ]
  },
  {
   "cell_type": "markdown",
   "metadata": {
    "id": "RvjCVoT9ZvBj"
   },
   "source": [
    "**Observation:**\n",
    "\n",
    "- We can **observe** that **majority** of the properties are not located along the **Charles river**.\n",
    "\n",
    "- On the other hand, we can see that there are around **6.9%** of the **Properties** are along charles river."
   ]
  },
  {
   "cell_type": "markdown",
   "metadata": {
    "id": "HlWUNhsiHGPo"
   },
   "source": [
    "**<h4>Question: What is the frequency and proportion of Loan Status with respect to Term?</h4>**"
   ]
  },
  {
   "cell_type": "code",
   "execution_count": 9,
   "metadata": {
    "colab": {
     "base_uri": "https://localhost:8080/",
     "height": 647
    },
    "executionInfo": {
     "elapsed": 1516,
     "status": "ok",
     "timestamp": 1687753376409,
     "user": {
      "displayName": "Yash Chauhan",
      "userId": "03194567605433747724"
     },
     "user_tz": -330
    },
    "id": "YRjDHdEgDVQn",
    "outputId": "73fb17ee-49b6-4d25-c31d-a8b719306919"
   },
   "outputs": [
    {
     "data": {
      "image/png": "[encoded data removed]",
      "text/plain": [
       "<Figure size 1000x700 with 1 Axes>"
      ]
     },
     "metadata": {},
     "output_type": "display_data"
    }
   ],
   "source": [
    "# Create a figure of 10 x 7 inches\n",
    "fig = plt.figure(figsize=(10, 7))\n",
    "\n",
    "# Plot a regression plot using sns.regplot between rm and medv features.\n",
    "sns.regplot(data=data, x='rm', y='medv')\n",
    "\n",
    "# Set x, y labels of size 14, ticks of size 12 and title label of size 16.\n",
    "plt.ylabel(ylabel='median value of owner-occupied homes', size=14)\n",
    "plt.xlabel(xlabel='average number of rooms per dwelling', size=14)\n",
    "plt.xticks(size=12)\n",
    "plt.yticks(size=12)\n",
    "plt.title(label='rm vs medv', size=16)\n",
    "\n",
    "# Put a grid\n",
    "plt.grid(True)\n",
    "\n",
    "# Display the plot\n",
    "plt.show()"
   ]
  },
  {
   "cell_type": "markdown",
   "metadata": {
    "id": "9ENaazDZbf_U"
   },
   "source": [
    "**Observation:**\n",
    "\n",
    "- The **rm** feature has positive correlation with **target** variable.\n",
    "\n",
    "- As the **rooms** are increasing the prices also **increase**."
   ]
  },
  {
   "cell_type": "markdown",
   "metadata": {
    "id": "hdt2HwT8D9Bu"
   },
   "source": [
    "<a name = Section7></a>\n",
    "\n",
    "---\n",
    "# **7. Post Data Processing**\n",
    "---\n",
    "\n",
    "- In this section, we will perform **splitting** of our dataset.\n",
    "\n",
    "- Then we will **feed** the resultant dataset to the **Decison tree** model."
   ]
  },
  {
   "cell_type": "markdown",
   "metadata": {
    "id": "sAYEe3eBP_ZZ"
   },
   "source": [
    "<a name = Section74></a>\n",
    "### **7.4 Data Preparation**\n",
    "\n",
    "- Now we will **split** our **data** in **training** and **testing** part for further development."
   ]
  },
  {
   "cell_type": "code",
   "execution_count": 10,
   "metadata": {
    "colab": {
     "base_uri": "https://localhost:8080/"
    },
    "executionInfo": {
     "elapsed": 13,
     "status": "ok",
     "timestamp": 1687753376409,
     "user": {
      "displayName": "Yash Chauhan",
      "userId": "03194567605433747724"
     },
     "user_tz": -330
    },
    "id": "gzOAOnGvPsB7",
    "outputId": "752a1762-8703-456e-a0b6-84dbe512fb4e"
   },
   "outputs": [
    {
     "name": "stdout",
     "output_type": "stream",
     "text": [
      "X_train shape:  (339, 13)\n",
      "y_train shape:  (339,)\n",
      "X_test shape:  (167, 13)\n",
      "y_test shape:  (167,)\n"
     ]
    }
   ],
   "source": [
    "X = data.drop(labels=['medv'], axis=1)\n",
    "y = data['medv']\n",
    "# Splitting data into training and testing sets\n",
    "X_train, X_test, y_train, y_test = train_test_split(X, y, test_size=0.33, random_state=324)\n",
    "# Display the shape of training and testing data\n",
    "print('X_train shape: ', X_train.shape)\n",
    "print('y_train shape: ', y_train.shape)\n",
    "print('X_test shape: ', X_test.shape)\n",
    "print('y_test shape: ', y_test.shape)"
   ]
  },
  {
   "cell_type": "markdown",
   "metadata": {
    "id": "kMsXU8TrQJYc"
   },
   "source": [
    "<a name = Section8></a>\n",
    "\n",
    "---\n",
    "# **8. Model Development & Evaluation**\n",
    "---\n",
    "\n",
    "- In this section, we will develop Decision tree model with hyperparameter tuning and without hyperparameter tuning.\n",
    "\n",
    "- For estimating the **performance** of the **model** we will be using **R2 score** as a **metric**.\n"
   ]
  },
  {
   "cell_type": "markdown",
   "metadata": {
    "id": "_fVl1wPGt4BP"
   },
   "source": [
    "<a name = Section81></a>\n",
    "\n",
    "## **8.1 Decision Tree without hyperparameter tuning**"
   ]
  },
  {
   "cell_type": "code",
   "execution_count": 11,
   "metadata": {
    "executionInfo": {
     "elapsed": 11,
     "status": "ok",
     "timestamp": 1687753376409,
     "user": {
      "displayName": "Yash Chauhan",
      "userId": "03194567605433747724"
     },
     "user_tz": -330
    },
    "id": "OlImoKJkIJK2"
   },
   "outputs": [],
   "source": [
    "r2_scorer = make_scorer(r2_score)\n",
    "\n",
    "# Set the parameter distributions\n",
    "param_dist = {\n",
    "    \"max_depth\": range(3, 11),\n",
    "    \"min_samples_split\": [2, 5, 10, 15],\n",
    "    \"min_samples_leaf\": [1, 2, 4, 8],\n",
    "    \"max_features\": [\"auto\", \"sqrt\", \"log2\"]\n",
    "}\n",
    "\n",
    "param_grid = {\n",
    "    \"max_depth\": range(3, 11),\n",
    "    \"min_samples_split\": [2, 5, 10, 15],\n",
    "    \"min_samples_leaf\": [1, 2, 4, 8],\n",
    "    \"max_features\": [\"auto\", \"sqrt\", \"log2\"]\n",
    "}\n"
   ]
  },
  {
   "cell_type": "code",
   "execution_count": 12,
   "metadata": {
    "colab": {
     "base_uri": "https://localhost:8080/"
    },
    "executionInfo": {
     "elapsed": 11,
     "status": "ok",
     "timestamp": 1687753376409,
     "user": {
      "displayName": "Yash Chauhan",
      "userId": "03194567605433747724"
     },
     "user_tz": -330
    },
    "id": "oLIdOX6AIahu",
    "outputId": "ea65b5d1-5b37-4c96-f549-4c4a4276a65a"
   },
   "outputs": [
    {
     "name": "stdout",
     "output_type": "stream",
     "text": [
      "Time taken without hyperparameter tuning: 0.017808914184570312\n",
      "R2 score without hyperparameter tuning: 0.6833894687735096\n"
     ]
    }
   ],
   "source": [
    "# Initialize the Decision Tree model\n",
    "dt_model = DecisionTreeRegressor(random_state=24)\n",
    "\n",
    "# Fit the model without hyperparameter tuning\n",
    "start_time = time.time()\n",
    "dt_model.fit(X_train, y_train)\n",
    "end_time = time.time()\n",
    "print(\"Time taken without hyperparameter tuning:\", end_time - start_time)\n",
    "print(\"R2 score without hyperparameter tuning:\", r2_score(y_test, dt_model.predict(X_test)))\n"
   ]
  },
  {
   "cell_type": "markdown",
   "metadata": {
    "id": "ZLGYstfDIgWD"
   },
   "source": [
    "## **8.2 Decision Tree with random search cv**"
   ]
  },
  {
   "cell_type": "code",
   "execution_count": 13,
   "metadata": {
    "colab": {
     "base_uri": "https://localhost:8080/"
    },
    "executionInfo": {
     "elapsed": 1492,
     "status": "ok",
     "timestamp": 1687753377892,
     "user": {
      "displayName": "Yash Chauhan",
      "userId": "03194567605433747724"
     },
     "user_tz": -330
    },
    "id": "poqNyX2jIe8L",
    "outputId": "beae08aa-d9af-48b1-ed59-4500e17b9d96"
   },
   "outputs": [
    {
     "name": "stdout",
     "output_type": "stream",
     "text": [
      "Time taken with RandomizedSearchCV tuning: 3.4601831436157227\n",
      "Best RandomizedSearchCV score: 0.6897688679771249\n",
      "Best RandomizedSearchCV params: {'min_samples_split': 2, 'min_samples_leaf': 4, 'max_features': 'sqrt', 'max_depth': 8}\n",
      "R2 score with RandomizedSearchCV tuning: 0.7687642926042022\n"
     ]
    }
   ],
   "source": [
    "# Fit the model using RandomizedSearchCV\n",
    "start_time = time.time()\n",
    "dt_random = RandomizedSearchCV(\n",
    "    dt_model, param_distributions=param_dist, n_iter=100, cv=5, n_jobs=-1, scoring=r2_scorer\n",
    ")\n",
    "dt_random.fit(X_train, y_train)\n",
    "end_time = time.time()\n",
    "print(\"Time taken with RandomizedSearchCV tuning:\", end_time - start_time)\n",
    "print(\"Best RandomizedSearchCV score:\", dt_random.best_score_)\n",
    "print(\"Best RandomizedSearchCV params:\", dt_random.best_params_)\n",
    "print(\"R2 score with RandomizedSearchCV tuning:\", r2_score(y_test, dt_random.predict(X_test)))"
   ]
  },
  {
   "cell_type": "markdown",
   "metadata": {
    "id": "dHHG2yKqIr0X"
   },
   "source": [
    "## **8.2 Decision Tree with Grid search cv**"
   ]
  },
  {
   "cell_type": "code",
   "execution_count": 14,
   "metadata": {
    "colab": {
     "base_uri": "https://localhost:8080/"
    },
    "executionInfo": {
     "elapsed": 8600,
     "status": "ok",
     "timestamp": 1687753386489,
     "user": {
      "displayName": "Yash Chauhan",
      "userId": "03194567605433747724"
     },
     "user_tz": -330
    },
    "id": "MrzkzslztBVf",
    "outputId": "e17b50e8-cc98-4909-d5f8-74978d674c14"
   },
   "outputs": [
    {
     "name": "stdout",
     "output_type": "stream",
     "text": [
      "Time taken with GridSearchCV tuning: 0.830610990524292\n",
      "Best GridSearchCV score: 0.6897688679771249\n",
      "Best GridSearchCV params: {'max_depth': 8, 'max_features': 'sqrt', 'min_samples_leaf': 4, 'min_samples_split': 2}\n",
      "R2 score with GridSearchCV tuning: 0.7687642926042022\n"
     ]
    }
   ],
   "source": [
    "# Fit the model using GridSearchCV\n",
    "start_time = time.time()\n",
    "dt_grid = GridSearchCV(\n",
    "    dt_model, param_grid=param_grid, cv=5, n_jobs=-1, scoring=r2_scorer\n",
    ")\n",
    "dt_grid.fit(X_train, y_train)\n",
    "end_time = time.time()\n",
    "print(\"Time taken with GridSearchCV tuning:\", end_time - start_time)\n",
    "print(\"Best GridSearchCV score:\", dt_grid.best_score_)\n",
    "print(\"Best GridSearchCV params:\", dt_grid.best_params_)\n",
    "print(\"R2 score with GridSearchCV tuning:\", r2_score(y_test, dt_grid.predict(X_test)))\n"
   ]
  },
  {
   "cell_type": "markdown",
   "metadata": {
    "id": "xdglekEqJfl8"
   },
   "source": [
    "# **Conclusion**\n",
    "- We can clearly see that **decision tree** is **performing poor** without hyperparameter tuning with r2 score of just 68% .\n",
    "\n",
    "- The two techniques of **hyperparameter** search **Random** search cv and **grid** search cv are **performing really well**.\n",
    "\n",
    "- There is very little difference between both with grid search performing **marginally better**.\n",
    "\n",
    "- The time taken for **fitting** the model is **lesser** in random seach cv for obvious reasons.\n",
    "\n",
    "- Each of the technique have their **pros** and **cons** , so use them according to the situation **demand**."
   ]
  }
 ],
 "metadata": {
  "colab": {
   "provenance": [
    {
     "file_id": "1MuVbWzMRMDSo89shAFpKTVegubBqPPBV",
     "timestamp": 1682443857970
    }
   ]
  },
  "kernelspec": {
   "display_name": "Python 3 (ipykernel)",
   "language": "python",
   "name": "python3"
  },
  "language_info": {
   "codemirror_mode": {
    "name": "ipython",
    "version": 3
   },
   "file_extension": ".py",
   "mimetype": "text/x-python",
   "name": "python",
   "nbconvert_exporter": "python",
   "pygments_lexer": "ipython3",
   "version": "3.9.13"
  }
 },
 "nbformat": 4,
 "nbformat_minor": 1
}
