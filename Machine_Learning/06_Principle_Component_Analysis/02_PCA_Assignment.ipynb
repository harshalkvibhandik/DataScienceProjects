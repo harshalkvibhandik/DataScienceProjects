{
 "cells": [
  {
   "cell_type": "markdown",
   "metadata": {
    "id": "kvpbUgMKgUbU"
   },
   "source": [
    "# **<center>PCA - Assignment</center>**"
   ]
  },
  {
   "cell_type": "markdown",
   "metadata": {
    "id": "UW6GNJ2YWrWg"
   },
   "source": [
    "---\n",
    "# **Table of Contents**\n",
    "---\n",
    "\n",
    "**1.** [**Introduction**](#Section1)<br>\n",
    "**2.** [**Problem Statement**](#Section2)<br>\n",
    "**3.** [**Instaling & Importing Libraries**](#Section3)<br>\n",
    "  - **3.1** [**Installing Libraries**](#Section31)<br>\n",
    "  - **3.2** [**Upgrading Libraries**](#Section32)<br>\n",
    "  - **3.2** [**Importing Libraries**](#Section33)<br>\n",
    "\n",
    "**4.** [**Data Acquisition & Description**](#Section4)<br>\n",
    "  - **4.1** [**Data Description**](#Section41)\n",
    "  - **4.2** [**Data Information**](#Section42)\n",
    "\n",
    "**5.** [**Data Pre-Processing**](#Section6)<br>\n",
    "  - **5.1** [**Data Pre-Profiling**](#Section51)<br>\n",
    "  - **5.2** [**Data Cleaning**](#Section52)<br>\n",
    "  - **5.3** [**Data Post-Profiling**](#Section53)<br>\n",
    "\n",
    "**6.** [**Exploratory Data Analysis**](#Section6)<br>\n",
    "**7.** [**Data Post-Processing**](#Section7)<br>\n",
    "  - **7.1** [**Feature Scaling**](#Section71)\n",
    "  - **7.2** [**Data Splitting**](#Section72)\n",
    "\n",
    "**8.** [**Modelling Development & Evaluation without PCA**](#Section8)<br>\n",
    "  - **8.1** [**Modelling, Prediction & Evaluation without PCA**](#Section81)<br>\n",
    "  - **8.2** [**Dimensionality Reduction using PCA**](#Section82)<br>\n",
    "  - **8.3** [**Modelling, Prediction & Evaluation with PCA**](#Section83)<br>\n",
    "\n",
    "**9.** [**Conclusion**](#section9)"
   ]
  },
  {
   "cell_type": "markdown",
   "metadata": {
    "id": "L-RITAh3OC5C"
   },
   "source": [
    "---\n",
    "<a name = Section1></a>\n",
    "# **1. Introduction**\n",
    "---\n",
    "\n",
    "- **Principal Component Analysis** helps with **dimensionality reduction** of **highly dimensional** datasets.\n",
    "\n",
    "- It is one of the most popular **linear dimension reduction** algorithms.\n",
    "\n",
    "- It is a **projection based method** that transforms the data by **projecting** it onto a **set of orthogonal** (perpendicular) **axes**."
   ]
  },
  {
   "cell_type": "markdown",
   "metadata": {
    "id": "vDeC1MvbZymF"
   },
   "source": [
    "---\n",
    "<a name = Section2></a>\n",
    "# **2. Problem Statement**\n",
    "---\n",
    "\n",
    "- The need for **identifying breast cancer** in it's early stages has been increasing.\n",
    "\n",
    "- The **Wisconsin Diagnostic Laboratories** have a good record of diagnosing patients with cancer in their early stages.\n",
    "\n",
    "- But it is a time critical process to **generate**, **analyze** and **predict** if a particular **nucleus** can be **malignant or benign**.\n",
    "\n",
    "<center><img src=\"https://camo.githubusercontent.com/9f6c40f3ca523734a3b32aa166bbbc4527cc09df57113b3fb90b8768f1844d60/68747470733a2f2f63646e2d696d616765732d312e6d656469756d2e636f6d2f6d61782f323630302f312a674e6346454c3163704770444334766f317a554157412e706e67\" width=70%></center>\n",
    "\n",
    "- They have hired you to help them **develop a predictor** that can predict if a **nucleus** can be **harmful** or not.\n",
    "\n",
    "- They have provided you with **dimensions** and other **concerned feautres** of the nucleus of **past patients** along with their results.\n",
    "\n",
    "- The **objective** is to **classify** if a patient can **potentially** suffer from **breast cancer or not**."
   ]
  },
  {
   "cell_type": "markdown",
   "metadata": {
    "id": "tP_PLqrtZ6h5"
   },
   "source": [
    "---\n",
    "<a name = Section3></a>\n",
    "# **3. Installing & Importing Libraries**\n",
    "---\n",
    "\n",
    "\n",
    "\n"
   ]
  },
  {
   "cell_type": "markdown",
   "metadata": {
    "id": "CxrjUfOi5Kor"
   },
   "source": [
    "<a name = Section31></a>\n",
    "### **3.1 Installing Libraries**"
   ]
  },
  {
   "cell_type": "code",
   "execution_count": 1,
   "metadata": {
    "colab": {
     "base_uri": "https://localhost:8080/"
    },
    "executionInfo": {
     "elapsed": 49103,
     "status": "ok",
     "timestamp": 1687409623393,
     "user": {
      "displayName": "Yash Chauhan",
      "userId": "03194567605433747724"
     },
     "user_tz": -330
    },
    "id": "G64l-tpL_G6c",
    "outputId": "7aee7683-9d58-44a0-b2d7-bf52f6e5f056"
   },
   "outputs": [
    {
     "name": "stdout",
     "output_type": "stream",
     "text": [
      "\u001b[2K     \u001b[90m━━━━━━━━━━━━━━━━━━━━━━━━━━━━━━━━━━━━━━━━\u001b[0m \u001b[32m1.6/1.6 MB\u001b[0m \u001b[31m30.4 MB/s\u001b[0m eta \u001b[36m0:00:00\u001b[0m\n",
      "\u001b[2K     \u001b[90m━━━━━━━━━━━━━━━━━━━━━━━━━━━━━━━━━━━━━━━\u001b[0m \u001b[32m324.4/324.4 kB\u001b[0m \u001b[31m9.7 MB/s\u001b[0m eta \u001b[36m0:00:00\u001b[0m\n",
      "\u001b[2K     \u001b[90m━━━━━━━━━━━━━━━━━━━━━━━━━━━━━━━━━━━━━━\u001b[0m \u001b[32m353.0/353.0 kB\u001b[0m \u001b[31m28.0 MB/s\u001b[0m eta \u001b[36m0:00:00\u001b[0m\n",
      "\u001b[2K     \u001b[90m━━━━━━━━━━━━━━━━━━━━━━━━━━━━━━━━━━━━━━━\u001b[0m \u001b[32m102.7/102.7 kB\u001b[0m \u001b[31m9.8 MB/s\u001b[0m eta \u001b[36m0:00:00\u001b[0m\n",
      "\u001b[?25h  Preparing metadata (setup.py) ... \u001b[?25l\u001b[?25hdone\n",
      "\u001b[2K     \u001b[90m━━━━━━━━━━━━━━━━━━━━━━━━━━━━━━━━━━━━━━\u001b[0m \u001b[32m679.5/679.5 kB\u001b[0m \u001b[31m33.1 MB/s\u001b[0m eta \u001b[36m0:00:00\u001b[0m\n",
      "\u001b[2K     \u001b[90m━━━━━━━━━━━━━━━━━━━━━━━━━━━━━━━━━━━━━━\u001b[0m \u001b[32m296.5/296.5 kB\u001b[0m \u001b[31m28.4 MB/s\u001b[0m eta \u001b[36m0:00:00\u001b[0m\n",
      "\u001b[2K     \u001b[90m━━━━━━━━━━━━━━━━━━━━━━━━━━━━━━━━━━━━━━\u001b[0m \u001b[32m455.4/455.4 kB\u001b[0m \u001b[31m20.9 MB/s\u001b[0m eta \u001b[36m0:00:00\u001b[0m\n",
      "\u001b[2K     \u001b[90m━━━━━━━━━━━━━━━━━━━━━━━━━━━━━━━━━━━━━━━━\u001b[0m \u001b[32m4.7/4.7 MB\u001b[0m \u001b[31m42.7 MB/s\u001b[0m eta \u001b[36m0:00:00\u001b[0m\n",
      "\u001b[?25h  Building wheel for htmlmin (setup.py) ... \u001b[?25l\u001b[?25hdone\n"
     ]
    }
   ],
   "source": [
    "!pip install -q datascience                                         # Package that is required by pandas profiling\n",
    "!pip install -q ydata-profiling                                     # Library to generate basic statistics about data"
   ]
  },
  {
   "cell_type": "markdown",
   "metadata": {
    "id": "RQ7MRLAo5N1V"
   },
   "source": [
    "<a name = Section32></a>\n",
    "### **3.2 Upgrading Libraries**\n",
    "\n",
    "- **After upgrading** the libraries, you need to **restart the runtime** to make the libraries in sync.\n",
    "\n",
    "- Make sure not to execute the cell above (3.1) and below (3.2) again after restarting the runtime."
   ]
  },
  {
   "cell_type": "code",
   "execution_count": 2,
   "metadata": {
    "executionInfo": {
     "elapsed": 13088,
     "status": "ok",
     "timestamp": 1687409636478,
     "user": {
      "displayName": "Yash Chauhan",
      "userId": "03194567605433747724"
     },
     "user_tz": -330
    },
    "id": "B-Fik6Ur5Nu7"
   },
   "outputs": [],
   "source": [
    "!pip install -q --upgrade ydata-profiling\n",
    "!pip install -q --upgrade yellowbrick"
   ]
  },
  {
   "cell_type": "markdown",
   "metadata": {
    "id": "3clrQtkRdfny"
   },
   "source": [
    "<a name = Section33></a>\n",
    "### **3.3 Importing Libraries**"
   ]
  },
  {
   "cell_type": "code",
   "execution_count": 3,
   "metadata": {
    "colab": {
     "base_uri": "https://localhost:8080/"
    },
    "executionInfo": {
     "elapsed": 4061,
     "status": "ok",
     "timestamp": 1687409640527,
     "user": {
      "displayName": "Yash Chauhan",
      "userId": "03194567605433747724"
     },
     "user_tz": -330
    },
    "id": "-KMSdBnRdeGN",
    "outputId": "c1de79d7-dc94-4adb-ec19-2470f41e2d55"
   },
   "outputs": [],
   "source": [
    "#-------------------------------------------------------------------------------------------------------------------------------\n",
    "import pandas as pd                                                 # Importing for panel data analysis\n",
    "from ydata_profiling import ProfileReport                           # Importing Ydata Profiling (To generate Univariate Analysis)\n",
    "pd.set_option('display.max_columns', None)                          # Unfolding hidden features if the cardinality is high\n",
    "pd.set_option('display.max_colwidth', None)                         # Unfolding the max feature width for better clearity\n",
    "pd.set_option('display.max_rows', None)                             # Unfolding hidden data points if the cardinality is high\n",
    "pd.set_option('mode.chained_assignment', None)                      # Removing restriction over chained assignments operations\n",
    "pd.set_option('display.float_format', lambda x: '%.5f' % x)         # To suppress scientific notation over exponential values\n",
    "#-------------------------------------------------------------------------------------------------------------------------------\n",
    "import numpy as np                                                  # Importing package numpys (For Numerical Python)\n",
    "#-------------------------------------------------------------------------------------------------------------------------------\n",
    "import matplotlib.pyplot as plt                                     # Importing pyplot interface using matplotlib\n",
    "import seaborn as sns                                               # Importin seaborm library for interactive visualization\n",
    "%matplotlib inline\n",
    "#-------------------------------------------------------------------------------------------------------------------------------\n",
    "from sklearn.preprocessing import StandardScaler                    # To import a standard scaler for scaling the features\n",
    "from sklearn.model_selection import train_test_split                # To split the data into train and test datasets\n",
    "from sklearn.ensemble import RandomForestClassifier                 # To instantiate a random forest classifier\n",
    "from sklearn.linear_model import LogisticRegression                 # To instantiate a logistic regression classifier\n",
    "from sklearn.metrics import accuracy_score                          # To calculate the accuracy score of the classifiers\n",
    "from sklearn.decomposition import PCA                               # To instantiate Principal Component Analysis\n",
    "#-------------------------------------------------------------------------------------------------------------------------------\n",
    "import warnings                                                     # Importing warning to disable runtime warnings\n",
    "warnings.filterwarnings(\"ignore\")                                   # Warnings will appear only once"
   ]
  },
  {
   "cell_type": "markdown",
   "metadata": {
    "id": "NoTfMQ26Ucbg"
   },
   "source": [
    "---\n",
    "<a name = Section4></a>\n",
    "# **4. Data Acquisition & Description**\n",
    "---\n"
   ]
  },
  {
   "cell_type": "markdown",
   "metadata": {
    "id": "WaAN48TFm7S8"
   },
   "source": [
    "- The features in the dataset are computed from a **digitized image** of a **fine needle aspirate** (FNA) of a breast mass.\n",
    "- They describe **characteristics** of the **cell nuclei** present in the image.\n",
    "\n",
    "| Records | Features | Dataset Size |\n",
    "| :-- | :-- | :-- |\n",
    "| 569 | 33 | 122 KB|\n",
    "\n",
    "- The dataset has **ten real-valued features** that are computed for each **cell nucleus**:\n",
    "\n",
    "  - a) **radius** (mean of distances from center to points on the perimeter)\n",
    "  - b) **texture** (standard deviation of gray-scale values)\n",
    "  - c) **perimeter**\n",
    "  - d) **area**\n",
    "  - e) **smoothness** (local variation in radius lengths)\n",
    "  - f) **compactness** (perimeter^2 / area - 1.0)\n",
    "  - g) **concavity** (severity of concave portions of the contour)\n",
    "  - h) **concave points** (number of concave portions of the contour)\n",
    "  - i) **symmetry**\n",
    "  - j) **fractal dimension** (\"coastline approximation\" - 1)\n",
    "\n",
    "- The **mean**, **standard error** and \"**worst**\" or **largest** (mean of the three largest values) of these features were computed for each image, resulting in 30 features.\n",
    "\n",
    "- For instance, **field 3 is Mean Radius**, **field 13 is Radius SE**, **field 23 is Worst Radius**.\n",
    "\n",
    "| Id | Feature | Description |\n",
    "| :-- | :--| :--|\n",
    "|01|id|ID number|\n",
    "|02|diagnosis|Diagnosis (M = malignant, B = benign)|\n",
    "|03|radius_mean|Mean radius|\n",
    "|04|texture_mean|Mean texture|\n",
    "|05|perimeter_mean|Mean perimeter|\n",
    "|06|area_mean|Mean Area|\n",
    "|07|smoothness_mean|Mean Smoothness|\n",
    "|08|compactness_mean|Mean Compactness|\n",
    "|09|concavity_mean|Mean Concavity|\n",
    "|10|concave_points_mean|Mean number of concave portions|\n",
    "|11|symmetry_mean|Mean Symmetry|\n",
    "|12|fractal_dimension_mean|Mean Fractal Dimension|\n",
    "|13|radius_se|Standard Error of Radius|\n",
    "|14|texture_se|Standard Error of texture|\n",
    "|15|perimeter_se|Standard Error of Perimeter|\n",
    "|16|area_se|Standard Error of Area|\n",
    "|17|smoothness_se|Standard Error of Smoothness|\n",
    "|18|compactness_se|Standard Error of Compactness|\n",
    "|19|concavity_se|Standard Error of Concavity|\n",
    "|20|concave_points_se|Standard Error of number of concave portions|\n",
    "|21|symmetry_se|Standard Error of Symmetry|\n",
    "|22|fractal_dimension_se|Standard Error of Fractal dimension|\n",
    "|23|radius_worst|Worst/Largest radius measured|\n",
    "|24|texture_worst|Worst/Largest texture measured|\n",
    "|25|perimeter_worst|Worst/Largest perimeter measured|\n",
    "|26|area_worst|Worst/Largest area measured|\n",
    "|27|smoothness_worst|Worst/Largest smoothness measured|\n",
    "|28|compactness_worst|Worst/Largest compactness measured|\n",
    "|29|concavity_worst|Worst/Largest concavity measured|\n",
    "|30|concave_points_worst|Highest no. of concave portions measured|\n",
    "|31|symmetry_worst|Worst/Largest symmetry measured|\n",
    "|32|fractal_dimension_worst|Worst/Largest Fractal dimension measured|\n",
    "|33|Unnamed: 32|Unknown|\n"
   ]
  },
  {
   "cell_type": "code",
   "execution_count": 4,
   "metadata": {
    "colab": {
     "base_uri": "https://localhost:8080/",
     "height": 305
    },
    "executionInfo": {
     "elapsed": 874,
     "status": "ok",
     "timestamp": 1687409641398,
     "user": {
      "displayName": "Yash Chauhan",
      "userId": "03194567605433747724"
     },
     "user_tz": -330
    },
    "id": "9mbDdkfRWule",
    "outputId": "0fa528b7-c0b5-42e0-e534-5ccb97175f51"
   },
   "outputs": [
    {
     "name": "stdout",
     "output_type": "stream",
     "text": [
      "Shape of the dataset: (569, 33)\n"
     ]
    },
    {
     "data": {
      "text/html": [
       "<div>\n",
       "<style scoped>\n",
       "    .dataframe tbody tr th:only-of-type {\n",
       "        vertical-align: middle;\n",
       "    }\n",
       "\n",
       "    .dataframe tbody tr th {\n",
       "        vertical-align: top;\n",
       "    }\n",
       "\n",
       "    .dataframe thead th {\n",
       "        text-align: right;\n",
       "    }\n",
       "</style>\n",
       "<table border=\"1\" class=\"dataframe\">\n",
       "  <thead>\n",
       "    <tr style=\"text-align: right;\">\n",
       "      <th></th>\n",
       "      <th>id</th>\n",
       "      <th>diagnosis</th>\n",
       "      <th>radius_mean</th>\n",
       "      <th>texture_mean</th>\n",
       "      <th>perimeter_mean</th>\n",
       "      <th>area_mean</th>\n",
       "      <th>smoothness_mean</th>\n",
       "      <th>compactness_mean</th>\n",
       "      <th>concavity_mean</th>\n",
       "      <th>concave points_mean</th>\n",
       "      <th>symmetry_mean</th>\n",
       "      <th>fractal_dimension_mean</th>\n",
       "      <th>radius_se</th>\n",
       "      <th>texture_se</th>\n",
       "      <th>perimeter_se</th>\n",
       "      <th>area_se</th>\n",
       "      <th>smoothness_se</th>\n",
       "      <th>compactness_se</th>\n",
       "      <th>concavity_se</th>\n",
       "      <th>concave points_se</th>\n",
       "      <th>symmetry_se</th>\n",
       "      <th>fractal_dimension_se</th>\n",
       "      <th>radius_worst</th>\n",
       "      <th>texture_worst</th>\n",
       "      <th>perimeter_worst</th>\n",
       "      <th>area_worst</th>\n",
       "      <th>smoothness_worst</th>\n",
       "      <th>compactness_worst</th>\n",
       "      <th>concavity_worst</th>\n",
       "      <th>concave points_worst</th>\n",
       "      <th>symmetry_worst</th>\n",
       "      <th>fractal_dimension_worst</th>\n",
       "      <th>Unnamed: 32</th>\n",
       "    </tr>\n",
       "  </thead>\n",
       "  <tbody>\n",
       "    <tr>\n",
       "      <th>0</th>\n",
       "      <td>842302</td>\n",
       "      <td>M</td>\n",
       "      <td>17.99000</td>\n",
       "      <td>10.38000</td>\n",
       "      <td>122.80000</td>\n",
       "      <td>1001.00000</td>\n",
       "      <td>0.11840</td>\n",
       "      <td>0.27760</td>\n",
       "      <td>0.30010</td>\n",
       "      <td>0.14710</td>\n",
       "      <td>0.24190</td>\n",
       "      <td>0.07871</td>\n",
       "      <td>1.09500</td>\n",
       "      <td>0.90530</td>\n",
       "      <td>8.58900</td>\n",
       "      <td>153.40000</td>\n",
       "      <td>0.00640</td>\n",
       "      <td>0.04904</td>\n",
       "      <td>0.05373</td>\n",
       "      <td>0.01587</td>\n",
       "      <td>0.03003</td>\n",
       "      <td>0.00619</td>\n",
       "      <td>25.38000</td>\n",
       "      <td>17.33000</td>\n",
       "      <td>184.60000</td>\n",
       "      <td>2019.00000</td>\n",
       "      <td>0.16220</td>\n",
       "      <td>0.66560</td>\n",
       "      <td>0.71190</td>\n",
       "      <td>0.26540</td>\n",
       "      <td>0.46010</td>\n",
       "      <td>0.11890</td>\n",
       "      <td>NaN</td>\n",
       "    </tr>\n",
       "    <tr>\n",
       "      <th>1</th>\n",
       "      <td>842517</td>\n",
       "      <td>M</td>\n",
       "      <td>20.57000</td>\n",
       "      <td>17.77000</td>\n",
       "      <td>132.90000</td>\n",
       "      <td>1326.00000</td>\n",
       "      <td>0.08474</td>\n",
       "      <td>0.07864</td>\n",
       "      <td>0.08690</td>\n",
       "      <td>0.07017</td>\n",
       "      <td>0.18120</td>\n",
       "      <td>0.05667</td>\n",
       "      <td>0.54350</td>\n",
       "      <td>0.73390</td>\n",
       "      <td>3.39800</td>\n",
       "      <td>74.08000</td>\n",
       "      <td>0.00522</td>\n",
       "      <td>0.01308</td>\n",
       "      <td>0.01860</td>\n",
       "      <td>0.01340</td>\n",
       "      <td>0.01389</td>\n",
       "      <td>0.00353</td>\n",
       "      <td>24.99000</td>\n",
       "      <td>23.41000</td>\n",
       "      <td>158.80000</td>\n",
       "      <td>1956.00000</td>\n",
       "      <td>0.12380</td>\n",
       "      <td>0.18660</td>\n",
       "      <td>0.24160</td>\n",
       "      <td>0.18600</td>\n",
       "      <td>0.27500</td>\n",
       "      <td>0.08902</td>\n",
       "      <td>NaN</td>\n",
       "    </tr>\n",
       "    <tr>\n",
       "      <th>2</th>\n",
       "      <td>84300903</td>\n",
       "      <td>M</td>\n",
       "      <td>19.69000</td>\n",
       "      <td>21.25000</td>\n",
       "      <td>130.00000</td>\n",
       "      <td>1203.00000</td>\n",
       "      <td>0.10960</td>\n",
       "      <td>0.15990</td>\n",
       "      <td>0.19740</td>\n",
       "      <td>0.12790</td>\n",
       "      <td>0.20690</td>\n",
       "      <td>0.05999</td>\n",
       "      <td>0.74560</td>\n",
       "      <td>0.78690</td>\n",
       "      <td>4.58500</td>\n",
       "      <td>94.03000</td>\n",
       "      <td>0.00615</td>\n",
       "      <td>0.04006</td>\n",
       "      <td>0.03832</td>\n",
       "      <td>0.02058</td>\n",
       "      <td>0.02250</td>\n",
       "      <td>0.00457</td>\n",
       "      <td>23.57000</td>\n",
       "      <td>25.53000</td>\n",
       "      <td>152.50000</td>\n",
       "      <td>1709.00000</td>\n",
       "      <td>0.14440</td>\n",
       "      <td>0.42450</td>\n",
       "      <td>0.45040</td>\n",
       "      <td>0.24300</td>\n",
       "      <td>0.36130</td>\n",
       "      <td>0.08758</td>\n",
       "      <td>NaN</td>\n",
       "    </tr>\n",
       "    <tr>\n",
       "      <th>3</th>\n",
       "      <td>84348301</td>\n",
       "      <td>M</td>\n",
       "      <td>11.42000</td>\n",
       "      <td>20.38000</td>\n",
       "      <td>77.58000</td>\n",
       "      <td>386.10000</td>\n",
       "      <td>0.14250</td>\n",
       "      <td>0.28390</td>\n",
       "      <td>0.24140</td>\n",
       "      <td>0.10520</td>\n",
       "      <td>0.25970</td>\n",
       "      <td>0.09744</td>\n",
       "      <td>0.49560</td>\n",
       "      <td>1.15600</td>\n",
       "      <td>3.44500</td>\n",
       "      <td>27.23000</td>\n",
       "      <td>0.00911</td>\n",
       "      <td>0.07458</td>\n",
       "      <td>0.05661</td>\n",
       "      <td>0.01867</td>\n",
       "      <td>0.05963</td>\n",
       "      <td>0.00921</td>\n",
       "      <td>14.91000</td>\n",
       "      <td>26.50000</td>\n",
       "      <td>98.87000</td>\n",
       "      <td>567.70000</td>\n",
       "      <td>0.20980</td>\n",
       "      <td>0.86630</td>\n",
       "      <td>0.68690</td>\n",
       "      <td>0.25750</td>\n",
       "      <td>0.66380</td>\n",
       "      <td>0.17300</td>\n",
       "      <td>NaN</td>\n",
       "    </tr>\n",
       "    <tr>\n",
       "      <th>4</th>\n",
       "      <td>84358402</td>\n",
       "      <td>M</td>\n",
       "      <td>20.29000</td>\n",
       "      <td>14.34000</td>\n",
       "      <td>135.10000</td>\n",
       "      <td>1297.00000</td>\n",
       "      <td>0.10030</td>\n",
       "      <td>0.13280</td>\n",
       "      <td>0.19800</td>\n",
       "      <td>0.10430</td>\n",
       "      <td>0.18090</td>\n",
       "      <td>0.05883</td>\n",
       "      <td>0.75720</td>\n",
       "      <td>0.78130</td>\n",
       "      <td>5.43800</td>\n",
       "      <td>94.44000</td>\n",
       "      <td>0.01149</td>\n",
       "      <td>0.02461</td>\n",
       "      <td>0.05688</td>\n",
       "      <td>0.01885</td>\n",
       "      <td>0.01756</td>\n",
       "      <td>0.00511</td>\n",
       "      <td>22.54000</td>\n",
       "      <td>16.67000</td>\n",
       "      <td>152.20000</td>\n",
       "      <td>1575.00000</td>\n",
       "      <td>0.13740</td>\n",
       "      <td>0.20500</td>\n",
       "      <td>0.40000</td>\n",
       "      <td>0.16250</td>\n",
       "      <td>0.23640</td>\n",
       "      <td>0.07678</td>\n",
       "      <td>NaN</td>\n",
       "    </tr>\n",
       "  </tbody>\n",
       "</table>\n",
       "</div>"
      ],
      "text/plain": [
       "         id diagnosis  radius_mean  texture_mean  perimeter_mean  area_mean  \\\n",
       "0    842302         M     17.99000      10.38000       122.80000 1001.00000   \n",
       "1    842517         M     20.57000      17.77000       132.90000 1326.00000   \n",
       "2  84300903         M     19.69000      21.25000       130.00000 1203.00000   \n",
       "3  84348301         M     11.42000      20.38000        77.58000  386.10000   \n",
       "4  84358402         M     20.29000      14.34000       135.10000 1297.00000   \n",
       "\n",
       "   smoothness_mean  compactness_mean  concavity_mean  concave points_mean  \\\n",
       "0          0.11840           0.27760         0.30010              0.14710   \n",
       "1          0.08474           0.07864         0.08690              0.07017   \n",
       "2          0.10960           0.15990         0.19740              0.12790   \n",
       "3          0.14250           0.28390         0.24140              0.10520   \n",
       "4          0.10030           0.13280         0.19800              0.10430   \n",
       "\n",
       "   symmetry_mean  fractal_dimension_mean  radius_se  texture_se  perimeter_se  \\\n",
       "0        0.24190                 0.07871    1.09500     0.90530       8.58900   \n",
       "1        0.18120                 0.05667    0.54350     0.73390       3.39800   \n",
       "2        0.20690                 0.05999    0.74560     0.78690       4.58500   \n",
       "3        0.25970                 0.09744    0.49560     1.15600       3.44500   \n",
       "4        0.18090                 0.05883    0.75720     0.78130       5.43800   \n",
       "\n",
       "    area_se  smoothness_se  compactness_se  concavity_se  concave points_se  \\\n",
       "0 153.40000        0.00640         0.04904       0.05373            0.01587   \n",
       "1  74.08000        0.00522         0.01308       0.01860            0.01340   \n",
       "2  94.03000        0.00615         0.04006       0.03832            0.02058   \n",
       "3  27.23000        0.00911         0.07458       0.05661            0.01867   \n",
       "4  94.44000        0.01149         0.02461       0.05688            0.01885   \n",
       "\n",
       "   symmetry_se  fractal_dimension_se  radius_worst  texture_worst  \\\n",
       "0      0.03003               0.00619      25.38000       17.33000   \n",
       "1      0.01389               0.00353      24.99000       23.41000   \n",
       "2      0.02250               0.00457      23.57000       25.53000   \n",
       "3      0.05963               0.00921      14.91000       26.50000   \n",
       "4      0.01756               0.00511      22.54000       16.67000   \n",
       "\n",
       "   perimeter_worst  area_worst  smoothness_worst  compactness_worst  \\\n",
       "0        184.60000  2019.00000           0.16220            0.66560   \n",
       "1        158.80000  1956.00000           0.12380            0.18660   \n",
       "2        152.50000  1709.00000           0.14440            0.42450   \n",
       "3         98.87000   567.70000           0.20980            0.86630   \n",
       "4        152.20000  1575.00000           0.13740            0.20500   \n",
       "\n",
       "   concavity_worst  concave points_worst  symmetry_worst  \\\n",
       "0          0.71190               0.26540         0.46010   \n",
       "1          0.24160               0.18600         0.27500   \n",
       "2          0.45040               0.24300         0.36130   \n",
       "3          0.68690               0.25750         0.66380   \n",
       "4          0.40000               0.16250         0.23640   \n",
       "\n",
       "   fractal_dimension_worst  Unnamed: 32  \n",
       "0                  0.11890          NaN  \n",
       "1                  0.08902          NaN  \n",
       "2                  0.08758          NaN  \n",
       "3                  0.17300          NaN  \n",
       "4                  0.07678          NaN  "
      ]
     },
     "execution_count": 4,
     "metadata": {},
     "output_type": "execute_result"
    }
   ],
   "source": [
    "cancer = pd.read_csv(filepath_or_buffer=\"cancer.csv\")\n",
    "print('Shape of the dataset:', cancer.shape)\n",
    "cancer.head()"
   ]
  },
  {
   "cell_type": "markdown",
   "metadata": {
    "id": "JO2fzBTicyoS"
   },
   "source": [
    "<a name = Section41></a>\n",
    "### **4.1 Data Description**\n",
    "\n",
    "- In this section we will get **information about the data** and see some observations."
   ]
  },
  {
   "cell_type": "code",
   "execution_count": 5,
   "metadata": {
    "colab": {
     "base_uri": "https://localhost:8080/",
     "height": 382
    },
    "executionInfo": {
     "elapsed": 14,
     "status": "ok",
     "timestamp": 1687409641398,
     "user": {
      "displayName": "Yash Chauhan",
      "userId": "03194567605433747724"
     },
     "user_tz": -330
    },
    "id": "he4Y7ZlhdPBD",
    "outputId": "9e7eef75-f809-4722-8e16-522c3aade773"
   },
   "outputs": [
    {
     "data": {
      "text/html": [
       "<div>\n",
       "<style scoped>\n",
       "    .dataframe tbody tr th:only-of-type {\n",
       "        vertical-align: middle;\n",
       "    }\n",
       "\n",
       "    .dataframe tbody tr th {\n",
       "        vertical-align: top;\n",
       "    }\n",
       "\n",
       "    .dataframe thead th {\n",
       "        text-align: right;\n",
       "    }\n",
       "</style>\n",
       "<table border=\"1\" class=\"dataframe\">\n",
       "  <thead>\n",
       "    <tr style=\"text-align: right;\">\n",
       "      <th></th>\n",
       "      <th>id</th>\n",
       "      <th>radius_mean</th>\n",
       "      <th>texture_mean</th>\n",
       "      <th>perimeter_mean</th>\n",
       "      <th>area_mean</th>\n",
       "      <th>smoothness_mean</th>\n",
       "      <th>compactness_mean</th>\n",
       "      <th>concavity_mean</th>\n",
       "      <th>concave points_mean</th>\n",
       "      <th>symmetry_mean</th>\n",
       "      <th>fractal_dimension_mean</th>\n",
       "      <th>radius_se</th>\n",
       "      <th>texture_se</th>\n",
       "      <th>perimeter_se</th>\n",
       "      <th>area_se</th>\n",
       "      <th>smoothness_se</th>\n",
       "      <th>compactness_se</th>\n",
       "      <th>concavity_se</th>\n",
       "      <th>concave points_se</th>\n",
       "      <th>symmetry_se</th>\n",
       "      <th>fractal_dimension_se</th>\n",
       "      <th>radius_worst</th>\n",
       "      <th>texture_worst</th>\n",
       "      <th>perimeter_worst</th>\n",
       "      <th>area_worst</th>\n",
       "      <th>smoothness_worst</th>\n",
       "      <th>compactness_worst</th>\n",
       "      <th>concavity_worst</th>\n",
       "      <th>concave points_worst</th>\n",
       "      <th>symmetry_worst</th>\n",
       "      <th>fractal_dimension_worst</th>\n",
       "      <th>Unnamed: 32</th>\n",
       "    </tr>\n",
       "  </thead>\n",
       "  <tbody>\n",
       "    <tr>\n",
       "      <th>count</th>\n",
       "      <td>569.00000</td>\n",
       "      <td>569.00000</td>\n",
       "      <td>569.00000</td>\n",
       "      <td>569.00000</td>\n",
       "      <td>569.00000</td>\n",
       "      <td>569.00000</td>\n",
       "      <td>569.00000</td>\n",
       "      <td>569.00000</td>\n",
       "      <td>569.00000</td>\n",
       "      <td>569.00000</td>\n",
       "      <td>569.00000</td>\n",
       "      <td>569.00000</td>\n",
       "      <td>569.00000</td>\n",
       "      <td>569.00000</td>\n",
       "      <td>569.00000</td>\n",
       "      <td>569.00000</td>\n",
       "      <td>569.00000</td>\n",
       "      <td>569.00000</td>\n",
       "      <td>569.00000</td>\n",
       "      <td>569.00000</td>\n",
       "      <td>569.00000</td>\n",
       "      <td>569.00000</td>\n",
       "      <td>569.00000</td>\n",
       "      <td>569.00000</td>\n",
       "      <td>569.00000</td>\n",
       "      <td>569.00000</td>\n",
       "      <td>569.00000</td>\n",
       "      <td>569.00000</td>\n",
       "      <td>569.00000</td>\n",
       "      <td>569.00000</td>\n",
       "      <td>569.00000</td>\n",
       "      <td>0.00000</td>\n",
       "    </tr>\n",
       "    <tr>\n",
       "      <th>mean</th>\n",
       "      <td>30371831.43234</td>\n",
       "      <td>14.12729</td>\n",
       "      <td>19.28965</td>\n",
       "      <td>91.96903</td>\n",
       "      <td>654.88910</td>\n",
       "      <td>0.09636</td>\n",
       "      <td>0.10434</td>\n",
       "      <td>0.08880</td>\n",
       "      <td>0.04892</td>\n",
       "      <td>0.18116</td>\n",
       "      <td>0.06280</td>\n",
       "      <td>0.40517</td>\n",
       "      <td>1.21685</td>\n",
       "      <td>2.86606</td>\n",
       "      <td>40.33708</td>\n",
       "      <td>0.00704</td>\n",
       "      <td>0.02548</td>\n",
       "      <td>0.03189</td>\n",
       "      <td>0.01180</td>\n",
       "      <td>0.02054</td>\n",
       "      <td>0.00379</td>\n",
       "      <td>16.26919</td>\n",
       "      <td>25.67722</td>\n",
       "      <td>107.26121</td>\n",
       "      <td>880.58313</td>\n",
       "      <td>0.13237</td>\n",
       "      <td>0.25427</td>\n",
       "      <td>0.27219</td>\n",
       "      <td>0.11461</td>\n",
       "      <td>0.29008</td>\n",
       "      <td>0.08395</td>\n",
       "      <td>NaN</td>\n",
       "    </tr>\n",
       "    <tr>\n",
       "      <th>std</th>\n",
       "      <td>125020585.61222</td>\n",
       "      <td>3.52405</td>\n",
       "      <td>4.30104</td>\n",
       "      <td>24.29898</td>\n",
       "      <td>351.91413</td>\n",
       "      <td>0.01406</td>\n",
       "      <td>0.05281</td>\n",
       "      <td>0.07972</td>\n",
       "      <td>0.03880</td>\n",
       "      <td>0.02741</td>\n",
       "      <td>0.00706</td>\n",
       "      <td>0.27731</td>\n",
       "      <td>0.55165</td>\n",
       "      <td>2.02185</td>\n",
       "      <td>45.49101</td>\n",
       "      <td>0.00300</td>\n",
       "      <td>0.01791</td>\n",
       "      <td>0.03019</td>\n",
       "      <td>0.00617</td>\n",
       "      <td>0.00827</td>\n",
       "      <td>0.00265</td>\n",
       "      <td>4.83324</td>\n",
       "      <td>6.14626</td>\n",
       "      <td>33.60254</td>\n",
       "      <td>569.35699</td>\n",
       "      <td>0.02283</td>\n",
       "      <td>0.15734</td>\n",
       "      <td>0.20862</td>\n",
       "      <td>0.06573</td>\n",
       "      <td>0.06187</td>\n",
       "      <td>0.01806</td>\n",
       "      <td>NaN</td>\n",
       "    </tr>\n",
       "    <tr>\n",
       "      <th>min</th>\n",
       "      <td>8670.00000</td>\n",
       "      <td>6.98100</td>\n",
       "      <td>9.71000</td>\n",
       "      <td>43.79000</td>\n",
       "      <td>143.50000</td>\n",
       "      <td>0.05263</td>\n",
       "      <td>0.01938</td>\n",
       "      <td>0.00000</td>\n",
       "      <td>0.00000</td>\n",
       "      <td>0.10600</td>\n",
       "      <td>0.04996</td>\n",
       "      <td>0.11150</td>\n",
       "      <td>0.36020</td>\n",
       "      <td>0.75700</td>\n",
       "      <td>6.80200</td>\n",
       "      <td>0.00171</td>\n",
       "      <td>0.00225</td>\n",
       "      <td>0.00000</td>\n",
       "      <td>0.00000</td>\n",
       "      <td>0.00788</td>\n",
       "      <td>0.00089</td>\n",
       "      <td>7.93000</td>\n",
       "      <td>12.02000</td>\n",
       "      <td>50.41000</td>\n",
       "      <td>185.20000</td>\n",
       "      <td>0.07117</td>\n",
       "      <td>0.02729</td>\n",
       "      <td>0.00000</td>\n",
       "      <td>0.00000</td>\n",
       "      <td>0.15650</td>\n",
       "      <td>0.05504</td>\n",
       "      <td>NaN</td>\n",
       "    </tr>\n",
       "    <tr>\n",
       "      <th>25%</th>\n",
       "      <td>869218.00000</td>\n",
       "      <td>11.70000</td>\n",
       "      <td>16.17000</td>\n",
       "      <td>75.17000</td>\n",
       "      <td>420.30000</td>\n",
       "      <td>0.08637</td>\n",
       "      <td>0.06492</td>\n",
       "      <td>0.02956</td>\n",
       "      <td>0.02031</td>\n",
       "      <td>0.16190</td>\n",
       "      <td>0.05770</td>\n",
       "      <td>0.23240</td>\n",
       "      <td>0.83390</td>\n",
       "      <td>1.60600</td>\n",
       "      <td>17.85000</td>\n",
       "      <td>0.00517</td>\n",
       "      <td>0.01308</td>\n",
       "      <td>0.01509</td>\n",
       "      <td>0.00764</td>\n",
       "      <td>0.01516</td>\n",
       "      <td>0.00225</td>\n",
       "      <td>13.01000</td>\n",
       "      <td>21.08000</td>\n",
       "      <td>84.11000</td>\n",
       "      <td>515.30000</td>\n",
       "      <td>0.11660</td>\n",
       "      <td>0.14720</td>\n",
       "      <td>0.11450</td>\n",
       "      <td>0.06493</td>\n",
       "      <td>0.25040</td>\n",
       "      <td>0.07146</td>\n",
       "      <td>NaN</td>\n",
       "    </tr>\n",
       "    <tr>\n",
       "      <th>50%</th>\n",
       "      <td>906024.00000</td>\n",
       "      <td>13.37000</td>\n",
       "      <td>18.84000</td>\n",
       "      <td>86.24000</td>\n",
       "      <td>551.10000</td>\n",
       "      <td>0.09587</td>\n",
       "      <td>0.09263</td>\n",
       "      <td>0.06154</td>\n",
       "      <td>0.03350</td>\n",
       "      <td>0.17920</td>\n",
       "      <td>0.06154</td>\n",
       "      <td>0.32420</td>\n",
       "      <td>1.10800</td>\n",
       "      <td>2.28700</td>\n",
       "      <td>24.53000</td>\n",
       "      <td>0.00638</td>\n",
       "      <td>0.02045</td>\n",
       "      <td>0.02589</td>\n",
       "      <td>0.01093</td>\n",
       "      <td>0.01873</td>\n",
       "      <td>0.00319</td>\n",
       "      <td>14.97000</td>\n",
       "      <td>25.41000</td>\n",
       "      <td>97.66000</td>\n",
       "      <td>686.50000</td>\n",
       "      <td>0.13130</td>\n",
       "      <td>0.21190</td>\n",
       "      <td>0.22670</td>\n",
       "      <td>0.09993</td>\n",
       "      <td>0.28220</td>\n",
       "      <td>0.08004</td>\n",
       "      <td>NaN</td>\n",
       "    </tr>\n",
       "    <tr>\n",
       "      <th>75%</th>\n",
       "      <td>8813129.00000</td>\n",
       "      <td>15.78000</td>\n",
       "      <td>21.80000</td>\n",
       "      <td>104.10000</td>\n",
       "      <td>782.70000</td>\n",
       "      <td>0.10530</td>\n",
       "      <td>0.13040</td>\n",
       "      <td>0.13070</td>\n",
       "      <td>0.07400</td>\n",
       "      <td>0.19570</td>\n",
       "      <td>0.06612</td>\n",
       "      <td>0.47890</td>\n",
       "      <td>1.47400</td>\n",
       "      <td>3.35700</td>\n",
       "      <td>45.19000</td>\n",
       "      <td>0.00815</td>\n",
       "      <td>0.03245</td>\n",
       "      <td>0.04205</td>\n",
       "      <td>0.01471</td>\n",
       "      <td>0.02348</td>\n",
       "      <td>0.00456</td>\n",
       "      <td>18.79000</td>\n",
       "      <td>29.72000</td>\n",
       "      <td>125.40000</td>\n",
       "      <td>1084.00000</td>\n",
       "      <td>0.14600</td>\n",
       "      <td>0.33910</td>\n",
       "      <td>0.38290</td>\n",
       "      <td>0.16140</td>\n",
       "      <td>0.31790</td>\n",
       "      <td>0.09208</td>\n",
       "      <td>NaN</td>\n",
       "    </tr>\n",
       "    <tr>\n",
       "      <th>max</th>\n",
       "      <td>911320502.00000</td>\n",
       "      <td>28.11000</td>\n",
       "      <td>39.28000</td>\n",
       "      <td>188.50000</td>\n",
       "      <td>2501.00000</td>\n",
       "      <td>0.16340</td>\n",
       "      <td>0.34540</td>\n",
       "      <td>0.42680</td>\n",
       "      <td>0.20120</td>\n",
       "      <td>0.30400</td>\n",
       "      <td>0.09744</td>\n",
       "      <td>2.87300</td>\n",
       "      <td>4.88500</td>\n",
       "      <td>21.98000</td>\n",
       "      <td>542.20000</td>\n",
       "      <td>0.03113</td>\n",
       "      <td>0.13540</td>\n",
       "      <td>0.39600</td>\n",
       "      <td>0.05279</td>\n",
       "      <td>0.07895</td>\n",
       "      <td>0.02984</td>\n",
       "      <td>36.04000</td>\n",
       "      <td>49.54000</td>\n",
       "      <td>251.20000</td>\n",
       "      <td>4254.00000</td>\n",
       "      <td>0.22260</td>\n",
       "      <td>1.05800</td>\n",
       "      <td>1.25200</td>\n",
       "      <td>0.29100</td>\n",
       "      <td>0.66380</td>\n",
       "      <td>0.20750</td>\n",
       "      <td>NaN</td>\n",
       "    </tr>\n",
       "  </tbody>\n",
       "</table>\n",
       "</div>"
      ],
      "text/plain": [
       "                   id  radius_mean  texture_mean  perimeter_mean  area_mean  \\\n",
       "count       569.00000    569.00000     569.00000       569.00000  569.00000   \n",
       "mean   30371831.43234     14.12729      19.28965        91.96903  654.88910   \n",
       "std   125020585.61222      3.52405       4.30104        24.29898  351.91413   \n",
       "min        8670.00000      6.98100       9.71000        43.79000  143.50000   \n",
       "25%      869218.00000     11.70000      16.17000        75.17000  420.30000   \n",
       "50%      906024.00000     13.37000      18.84000        86.24000  551.10000   \n",
       "75%     8813129.00000     15.78000      21.80000       104.10000  782.70000   \n",
       "max   911320502.00000     28.11000      39.28000       188.50000 2501.00000   \n",
       "\n",
       "       smoothness_mean  compactness_mean  concavity_mean  concave points_mean  \\\n",
       "count        569.00000         569.00000       569.00000            569.00000   \n",
       "mean           0.09636           0.10434         0.08880              0.04892   \n",
       "std            0.01406           0.05281         0.07972              0.03880   \n",
       "min            0.05263           0.01938         0.00000              0.00000   \n",
       "25%            0.08637           0.06492         0.02956              0.02031   \n",
       "50%            0.09587           0.09263         0.06154              0.03350   \n",
       "75%            0.10530           0.13040         0.13070              0.07400   \n",
       "max            0.16340           0.34540         0.42680              0.20120   \n",
       "\n",
       "       symmetry_mean  fractal_dimension_mean  radius_se  texture_se  \\\n",
       "count      569.00000               569.00000  569.00000   569.00000   \n",
       "mean         0.18116                 0.06280    0.40517     1.21685   \n",
       "std          0.02741                 0.00706    0.27731     0.55165   \n",
       "min          0.10600                 0.04996    0.11150     0.36020   \n",
       "25%          0.16190                 0.05770    0.23240     0.83390   \n",
       "50%          0.17920                 0.06154    0.32420     1.10800   \n",
       "75%          0.19570                 0.06612    0.47890     1.47400   \n",
       "max          0.30400                 0.09744    2.87300     4.88500   \n",
       "\n",
       "       perimeter_se   area_se  smoothness_se  compactness_se  concavity_se  \\\n",
       "count     569.00000 569.00000      569.00000       569.00000     569.00000   \n",
       "mean        2.86606  40.33708        0.00704         0.02548       0.03189   \n",
       "std         2.02185  45.49101        0.00300         0.01791       0.03019   \n",
       "min         0.75700   6.80200        0.00171         0.00225       0.00000   \n",
       "25%         1.60600  17.85000        0.00517         0.01308       0.01509   \n",
       "50%         2.28700  24.53000        0.00638         0.02045       0.02589   \n",
       "75%         3.35700  45.19000        0.00815         0.03245       0.04205   \n",
       "max        21.98000 542.20000        0.03113         0.13540       0.39600   \n",
       "\n",
       "       concave points_se  symmetry_se  fractal_dimension_se  radius_worst  \\\n",
       "count          569.00000    569.00000             569.00000     569.00000   \n",
       "mean             0.01180      0.02054               0.00379      16.26919   \n",
       "std              0.00617      0.00827               0.00265       4.83324   \n",
       "min              0.00000      0.00788               0.00089       7.93000   \n",
       "25%              0.00764      0.01516               0.00225      13.01000   \n",
       "50%              0.01093      0.01873               0.00319      14.97000   \n",
       "75%              0.01471      0.02348               0.00456      18.79000   \n",
       "max              0.05279      0.07895               0.02984      36.04000   \n",
       "\n",
       "       texture_worst  perimeter_worst  area_worst  smoothness_worst  \\\n",
       "count      569.00000        569.00000   569.00000         569.00000   \n",
       "mean        25.67722        107.26121   880.58313           0.13237   \n",
       "std          6.14626         33.60254   569.35699           0.02283   \n",
       "min         12.02000         50.41000   185.20000           0.07117   \n",
       "25%         21.08000         84.11000   515.30000           0.11660   \n",
       "50%         25.41000         97.66000   686.50000           0.13130   \n",
       "75%         29.72000        125.40000  1084.00000           0.14600   \n",
       "max         49.54000        251.20000  4254.00000           0.22260   \n",
       "\n",
       "       compactness_worst  concavity_worst  concave points_worst  \\\n",
       "count          569.00000        569.00000             569.00000   \n",
       "mean             0.25427          0.27219               0.11461   \n",
       "std              0.15734          0.20862               0.06573   \n",
       "min              0.02729          0.00000               0.00000   \n",
       "25%              0.14720          0.11450               0.06493   \n",
       "50%              0.21190          0.22670               0.09993   \n",
       "75%              0.33910          0.38290               0.16140   \n",
       "max              1.05800          1.25200               0.29100   \n",
       "\n",
       "       symmetry_worst  fractal_dimension_worst  Unnamed: 32  \n",
       "count       569.00000                569.00000      0.00000  \n",
       "mean          0.29008                  0.08395          NaN  \n",
       "std           0.06187                  0.01806          NaN  \n",
       "min           0.15650                  0.05504          NaN  \n",
       "25%           0.25040                  0.07146          NaN  \n",
       "50%           0.28220                  0.08004          NaN  \n",
       "75%           0.31790                  0.09208          NaN  \n",
       "max           0.66380                  0.20750          NaN  "
      ]
     },
     "execution_count": 5,
     "metadata": {},
     "output_type": "execute_result"
    }
   ],
   "source": [
    "cancer.describe()"
   ]
  },
  {
   "cell_type": "markdown",
   "metadata": {
    "id": "H1mLyxIadtYX"
   },
   "source": [
    "**Observations**:\n",
    "\n",
    "- **Mean radius** of nuclei range from **6.9 units to 28.11 units**.\n",
    "\n",
    "- **More than 75%** nuclei measured have **mean** radius **greater than 11 units**.\n",
    "\n",
    "- **More than 50%** nuclei measured have **mean** radius **greater than 13 units**.\n",
    "\n",
    "- **More than 25%** nuclei measured have **mean** radius **greater than 15 units**.\n",
    "\n",
    "- We can't yet describe our target variable - diagnosis since it is in a non-numeric form."
   ]
  },
  {
   "cell_type": "markdown",
   "metadata": {
    "id": "dGmO_XdjfEPE"
   },
   "source": [
    "<a name = Section42></a>\n",
    "### **4.2 Data Information**\n",
    "\n",
    "- In this section we will see the **information about the types of features**."
   ]
  },
  {
   "cell_type": "code",
   "execution_count": 6,
   "metadata": {
    "colab": {
     "base_uri": "https://localhost:8080/"
    },
    "executionInfo": {
     "elapsed": 14,
     "status": "ok",
     "timestamp": 1687409641399,
     "user": {
      "displayName": "Yash Chauhan",
      "userId": "03194567605433747724"
     },
     "user_tz": -330
    },
    "id": "euTyCsj9fJqo",
    "outputId": "249b7ffa-08cb-40b9-b074-549edd0f4864"
   },
   "outputs": [
    {
     "name": "stdout",
     "output_type": "stream",
     "text": [
      "<class 'pandas.core.frame.DataFrame'>\n",
      "RangeIndex: 569 entries, 0 to 568\n",
      "Data columns (total 33 columns):\n",
      " #   Column                   Non-Null Count  Dtype  \n",
      "---  ------                   --------------  -----  \n",
      " 0   id                       569 non-null    int64  \n",
      " 1   diagnosis                569 non-null    object \n",
      " 2   radius_mean              569 non-null    float64\n",
      " 3   texture_mean             569 non-null    float64\n",
      " 4   perimeter_mean           569 non-null    float64\n",
      " 5   area_mean                569 non-null    float64\n",
      " 6   smoothness_mean          569 non-null    float64\n",
      " 7   compactness_mean         569 non-null    float64\n",
      " 8   concavity_mean           569 non-null    float64\n",
      " 9   concave points_mean      569 non-null    float64\n",
      " 10  symmetry_mean            569 non-null    float64\n",
      " 11  fractal_dimension_mean   569 non-null    float64\n",
      " 12  radius_se                569 non-null    float64\n",
      " 13  texture_se               569 non-null    float64\n",
      " 14  perimeter_se             569 non-null    float64\n",
      " 15  area_se                  569 non-null    float64\n",
      " 16  smoothness_se            569 non-null    float64\n",
      " 17  compactness_se           569 non-null    float64\n",
      " 18  concavity_se             569 non-null    float64\n",
      " 19  concave points_se        569 non-null    float64\n",
      " 20  symmetry_se              569 non-null    float64\n",
      " 21  fractal_dimension_se     569 non-null    float64\n",
      " 22  radius_worst             569 non-null    float64\n",
      " 23  texture_worst            569 non-null    float64\n",
      " 24  perimeter_worst          569 non-null    float64\n",
      " 25  area_worst               569 non-null    float64\n",
      " 26  smoothness_worst         569 non-null    float64\n",
      " 27  compactness_worst        569 non-null    float64\n",
      " 28  concavity_worst          569 non-null    float64\n",
      " 29  concave points_worst     569 non-null    float64\n",
      " 30  symmetry_worst           569 non-null    float64\n",
      " 31  fractal_dimension_worst  569 non-null    float64\n",
      " 32  Unnamed: 32              0 non-null      float64\n",
      "dtypes: float64(31), int64(1), object(1)\n",
      "memory usage: 146.8+ KB\n"
     ]
    }
   ],
   "source": [
    "cancer.info()"
   ]
  },
  {
   "cell_type": "markdown",
   "metadata": {
    "id": "d83elwXbfI7s"
   },
   "source": [
    "**Observations**:\n",
    "\n",
    "- The dataset has **569** rows, and **33** features.\n",
    "\n",
    "- We can see that **majority** of columns are of **float64** datatype except **ID (int64)** and **diagnosis (object)**.\n",
    "\n",
    "- **Null values** seem to be present only in one column which is **Unnamed**."
   ]
  },
  {
   "cell_type": "markdown",
   "metadata": {
    "id": "pgxQNOG4L2Lw"
   },
   "source": [
    "<a name = Section51></a>\n",
    "\n",
    "---\n",
    "# **5. Data Pre-Processing**\n",
    "---"
   ]
  },
  {
   "cell_type": "markdown",
   "metadata": {
    "id": "kFY8dGhhgTW1"
   },
   "source": [
    "<a name = Section51></a>\n",
    "\n",
    "### **5.1 Data Pre-Profiling**\n",
    "\n",
    "- For **quick analysis** pandas profiling is very handy.\n",
    "\n",
    "- Generates profile reports from a pandas DataFrame.\n",
    "\n",
    "- For each column **statistics** are presented in an interactive HTML report."
   ]
  },
  {
   "cell_type": "code",
   "execution_count": 7,
   "metadata": {
    "executionInfo": {
     "elapsed": 13,
     "status": "ok",
     "timestamp": 1687409641399,
     "user": {
      "displayName": "Yash Chauhan",
      "userId": "03194567605433747724"
     },
     "user_tz": -330
    },
    "id": "yNn1xkaRC6o5"
   },
   "outputs": [
    {
     "data": {
      "application/vnd.jupyter.widget-view+json": {
       "model_id": "8bcbe5de67764640b95a68fa3cf31873",
       "version_major": 2,
       "version_minor": 0
      },
      "text/plain": [
       "Summarize dataset:   0%|          | 0/5 [00:00<?, ?it/s]"
      ]
     },
     "metadata": {},
     "output_type": "display_data"
    },
    {
     "data": {
      "application/vnd.jupyter.widget-view+json": {
       "model_id": "5d86ec36d1c14d25ba1b0b60fafc0f8d",
       "version_major": 2,
       "version_minor": 0
      },
      "text/plain": [
       "Generate report structure:   0%|          | 0/1 [00:00<?, ?it/s]"
      ]
     },
     "metadata": {},
     "output_type": "display_data"
    },
    {
     "data": {
      "application/vnd.jupyter.widget-view+json": {
       "model_id": "6dd2826028494a65bf6a4ee366990f7d",
       "version_major": 2,
       "version_minor": 0
      },
      "text/plain": [
       "Render HTML:   0%|          | 0/1 [00:00<?, ?it/s]"
      ]
     },
     "metadata": {},
     "output_type": "display_data"
    },
    {
     "data": {
      "application/vnd.jupyter.widget-view+json": {
       "model_id": "4b6df3db5c2b48439a42f4da97776f6c",
       "version_major": 2,
       "version_minor": 0
      },
      "text/plain": [
       "Export report to file:   0%|          | 0/1 [00:00<?, ?it/s]"
      ]
     },
     "metadata": {},
     "output_type": "display_data"
    },
    {
     "name": "stdout",
     "output_type": "stream",
     "text": [
      "Accomplished!\n"
     ]
    }
   ],
   "source": [
    "profile = ProfileReport(df=cancer)\n",
    "profile.to_file(output_file='Pre_Profiling_Report.html')\n",
    "print('Accomplished!')"
   ]
  },
  {
   "cell_type": "markdown",
   "metadata": {
    "id": "xFDjxklrDf28"
   },
   "source": [
    "**Observations**:\n",
    "\n",
    "- There are **569** **observations** with **33 features**.\n",
    "\n",
    "- There are **31 numeric** features, **1 unsupported** feature, and **1 categorical** feature which is our target variable.\n",
    "\n",
    "- Our target variable has two values - **Malignant** and **Benign**.\n",
    "\n",
    "- There are **some missing values** present in the dataset but **all** of them belong the **unnamed** column.\n",
    "\n",
    "- Since there are 100% of missing values in the unnamed column, we should **drop the column**.\n",
    "\n",
    "- **13 cells** (2.3%) in every concave based feature contains **zeros**.\n",
    "\n",
    "- There are **no duplicate rows** in the dataset."
   ]
  },
  {
   "cell_type": "markdown",
   "metadata": {
    "id": "GbNNv855gFHE"
   },
   "source": [
    "<a name = Section52></a>\n",
    "\n",
    "#### **Performing Operations**\n"
   ]
  },
  {
   "cell_type": "markdown",
   "metadata": {
    "id": "AF2zeQreMiZ4"
   },
   "source": [
    "---\n",
    "**<h4>Question 1**: Write a function to delete the column having missing values present in the dataset.</h4>\n",
    "\n",
    "---\n",
    "\n",
    "<details>\n",
    "\n",
    "**<summary>Hint:</summary>**\n",
    "\n",
    "- You can use the `.replace()` method to replace the zeros with the median value.\n",
    "\n",
    "</details>"
   ]
  },
  {
   "cell_type": "code",
   "execution_count": 8,
   "metadata": {
    "executionInfo": {
     "elapsed": 13,
     "status": "ok",
     "timestamp": 1687409641399,
     "user": {
      "displayName": "Yash Chauhan",
      "userId": "03194567605433747724"
     },
     "user_tz": -330
    },
    "id": "6L3yUQw2Ncqy"
   },
   "outputs": [],
   "source": [
    "def delete_cancer(data=None):\n",
    "    data.drop(columns=['Unnamed: 32'], inplace=True)\n",
    "    return data.head()"
   ]
  },
  {
   "cell_type": "code",
   "execution_count": 9,
   "metadata": {
    "colab": {
     "base_uri": "https://localhost:8080/",
     "height": 288
    },
    "executionInfo": {
     "elapsed": 13,
     "status": "ok",
     "timestamp": 1687409641400,
     "user": {
      "displayName": "Yash Chauhan",
      "userId": "03194567605433747724"
     },
     "user_tz": -330
    },
    "id": "J3zVq-x_L9iJ",
    "outputId": "9801c800-53de-4f75-f2cd-559b92b3fbf6"
   },
   "outputs": [
    {
     "data": {
      "text/html": [
       "<div>\n",
       "<style scoped>\n",
       "    .dataframe tbody tr th:only-of-type {\n",
       "        vertical-align: middle;\n",
       "    }\n",
       "\n",
       "    .dataframe tbody tr th {\n",
       "        vertical-align: top;\n",
       "    }\n",
       "\n",
       "    .dataframe thead th {\n",
       "        text-align: right;\n",
       "    }\n",
       "</style>\n",
       "<table border=\"1\" class=\"dataframe\">\n",
       "  <thead>\n",
       "    <tr style=\"text-align: right;\">\n",
       "      <th></th>\n",
       "      <th>id</th>\n",
       "      <th>diagnosis</th>\n",
       "      <th>radius_mean</th>\n",
       "      <th>texture_mean</th>\n",
       "      <th>perimeter_mean</th>\n",
       "      <th>area_mean</th>\n",
       "      <th>smoothness_mean</th>\n",
       "      <th>compactness_mean</th>\n",
       "      <th>concavity_mean</th>\n",
       "      <th>concave points_mean</th>\n",
       "      <th>symmetry_mean</th>\n",
       "      <th>fractal_dimension_mean</th>\n",
       "      <th>radius_se</th>\n",
       "      <th>texture_se</th>\n",
       "      <th>perimeter_se</th>\n",
       "      <th>area_se</th>\n",
       "      <th>smoothness_se</th>\n",
       "      <th>compactness_se</th>\n",
       "      <th>concavity_se</th>\n",
       "      <th>concave points_se</th>\n",
       "      <th>symmetry_se</th>\n",
       "      <th>fractal_dimension_se</th>\n",
       "      <th>radius_worst</th>\n",
       "      <th>texture_worst</th>\n",
       "      <th>perimeter_worst</th>\n",
       "      <th>area_worst</th>\n",
       "      <th>smoothness_worst</th>\n",
       "      <th>compactness_worst</th>\n",
       "      <th>concavity_worst</th>\n",
       "      <th>concave points_worst</th>\n",
       "      <th>symmetry_worst</th>\n",
       "      <th>fractal_dimension_worst</th>\n",
       "    </tr>\n",
       "  </thead>\n",
       "  <tbody>\n",
       "    <tr>\n",
       "      <th>0</th>\n",
       "      <td>842302</td>\n",
       "      <td>M</td>\n",
       "      <td>17.99000</td>\n",
       "      <td>10.38000</td>\n",
       "      <td>122.80000</td>\n",
       "      <td>1001.00000</td>\n",
       "      <td>0.11840</td>\n",
       "      <td>0.27760</td>\n",
       "      <td>0.30010</td>\n",
       "      <td>0.14710</td>\n",
       "      <td>0.24190</td>\n",
       "      <td>0.07871</td>\n",
       "      <td>1.09500</td>\n",
       "      <td>0.90530</td>\n",
       "      <td>8.58900</td>\n",
       "      <td>153.40000</td>\n",
       "      <td>0.00640</td>\n",
       "      <td>0.04904</td>\n",
       "      <td>0.05373</td>\n",
       "      <td>0.01587</td>\n",
       "      <td>0.03003</td>\n",
       "      <td>0.00619</td>\n",
       "      <td>25.38000</td>\n",
       "      <td>17.33000</td>\n",
       "      <td>184.60000</td>\n",
       "      <td>2019.00000</td>\n",
       "      <td>0.16220</td>\n",
       "      <td>0.66560</td>\n",
       "      <td>0.71190</td>\n",
       "      <td>0.26540</td>\n",
       "      <td>0.46010</td>\n",
       "      <td>0.11890</td>\n",
       "    </tr>\n",
       "    <tr>\n",
       "      <th>1</th>\n",
       "      <td>842517</td>\n",
       "      <td>M</td>\n",
       "      <td>20.57000</td>\n",
       "      <td>17.77000</td>\n",
       "      <td>132.90000</td>\n",
       "      <td>1326.00000</td>\n",
       "      <td>0.08474</td>\n",
       "      <td>0.07864</td>\n",
       "      <td>0.08690</td>\n",
       "      <td>0.07017</td>\n",
       "      <td>0.18120</td>\n",
       "      <td>0.05667</td>\n",
       "      <td>0.54350</td>\n",
       "      <td>0.73390</td>\n",
       "      <td>3.39800</td>\n",
       "      <td>74.08000</td>\n",
       "      <td>0.00522</td>\n",
       "      <td>0.01308</td>\n",
       "      <td>0.01860</td>\n",
       "      <td>0.01340</td>\n",
       "      <td>0.01389</td>\n",
       "      <td>0.00353</td>\n",
       "      <td>24.99000</td>\n",
       "      <td>23.41000</td>\n",
       "      <td>158.80000</td>\n",
       "      <td>1956.00000</td>\n",
       "      <td>0.12380</td>\n",
       "      <td>0.18660</td>\n",
       "      <td>0.24160</td>\n",
       "      <td>0.18600</td>\n",
       "      <td>0.27500</td>\n",
       "      <td>0.08902</td>\n",
       "    </tr>\n",
       "    <tr>\n",
       "      <th>2</th>\n",
       "      <td>84300903</td>\n",
       "      <td>M</td>\n",
       "      <td>19.69000</td>\n",
       "      <td>21.25000</td>\n",
       "      <td>130.00000</td>\n",
       "      <td>1203.00000</td>\n",
       "      <td>0.10960</td>\n",
       "      <td>0.15990</td>\n",
       "      <td>0.19740</td>\n",
       "      <td>0.12790</td>\n",
       "      <td>0.20690</td>\n",
       "      <td>0.05999</td>\n",
       "      <td>0.74560</td>\n",
       "      <td>0.78690</td>\n",
       "      <td>4.58500</td>\n",
       "      <td>94.03000</td>\n",
       "      <td>0.00615</td>\n",
       "      <td>0.04006</td>\n",
       "      <td>0.03832</td>\n",
       "      <td>0.02058</td>\n",
       "      <td>0.02250</td>\n",
       "      <td>0.00457</td>\n",
       "      <td>23.57000</td>\n",
       "      <td>25.53000</td>\n",
       "      <td>152.50000</td>\n",
       "      <td>1709.00000</td>\n",
       "      <td>0.14440</td>\n",
       "      <td>0.42450</td>\n",
       "      <td>0.45040</td>\n",
       "      <td>0.24300</td>\n",
       "      <td>0.36130</td>\n",
       "      <td>0.08758</td>\n",
       "    </tr>\n",
       "    <tr>\n",
       "      <th>3</th>\n",
       "      <td>84348301</td>\n",
       "      <td>M</td>\n",
       "      <td>11.42000</td>\n",
       "      <td>20.38000</td>\n",
       "      <td>77.58000</td>\n",
       "      <td>386.10000</td>\n",
       "      <td>0.14250</td>\n",
       "      <td>0.28390</td>\n",
       "      <td>0.24140</td>\n",
       "      <td>0.10520</td>\n",
       "      <td>0.25970</td>\n",
       "      <td>0.09744</td>\n",
       "      <td>0.49560</td>\n",
       "      <td>1.15600</td>\n",
       "      <td>3.44500</td>\n",
       "      <td>27.23000</td>\n",
       "      <td>0.00911</td>\n",
       "      <td>0.07458</td>\n",
       "      <td>0.05661</td>\n",
       "      <td>0.01867</td>\n",
       "      <td>0.05963</td>\n",
       "      <td>0.00921</td>\n",
       "      <td>14.91000</td>\n",
       "      <td>26.50000</td>\n",
       "      <td>98.87000</td>\n",
       "      <td>567.70000</td>\n",
       "      <td>0.20980</td>\n",
       "      <td>0.86630</td>\n",
       "      <td>0.68690</td>\n",
       "      <td>0.25750</td>\n",
       "      <td>0.66380</td>\n",
       "      <td>0.17300</td>\n",
       "    </tr>\n",
       "    <tr>\n",
       "      <th>4</th>\n",
       "      <td>84358402</td>\n",
       "      <td>M</td>\n",
       "      <td>20.29000</td>\n",
       "      <td>14.34000</td>\n",
       "      <td>135.10000</td>\n",
       "      <td>1297.00000</td>\n",
       "      <td>0.10030</td>\n",
       "      <td>0.13280</td>\n",
       "      <td>0.19800</td>\n",
       "      <td>0.10430</td>\n",
       "      <td>0.18090</td>\n",
       "      <td>0.05883</td>\n",
       "      <td>0.75720</td>\n",
       "      <td>0.78130</td>\n",
       "      <td>5.43800</td>\n",
       "      <td>94.44000</td>\n",
       "      <td>0.01149</td>\n",
       "      <td>0.02461</td>\n",
       "      <td>0.05688</td>\n",
       "      <td>0.01885</td>\n",
       "      <td>0.01756</td>\n",
       "      <td>0.00511</td>\n",
       "      <td>22.54000</td>\n",
       "      <td>16.67000</td>\n",
       "      <td>152.20000</td>\n",
       "      <td>1575.00000</td>\n",
       "      <td>0.13740</td>\n",
       "      <td>0.20500</td>\n",
       "      <td>0.40000</td>\n",
       "      <td>0.16250</td>\n",
       "      <td>0.23640</td>\n",
       "      <td>0.07678</td>\n",
       "    </tr>\n",
       "  </tbody>\n",
       "</table>\n",
       "</div>"
      ],
      "text/plain": [
       "         id diagnosis  radius_mean  texture_mean  perimeter_mean  area_mean  \\\n",
       "0    842302         M     17.99000      10.38000       122.80000 1001.00000   \n",
       "1    842517         M     20.57000      17.77000       132.90000 1326.00000   \n",
       "2  84300903         M     19.69000      21.25000       130.00000 1203.00000   \n",
       "3  84348301         M     11.42000      20.38000        77.58000  386.10000   \n",
       "4  84358402         M     20.29000      14.34000       135.10000 1297.00000   \n",
       "\n",
       "   smoothness_mean  compactness_mean  concavity_mean  concave points_mean  \\\n",
       "0          0.11840           0.27760         0.30010              0.14710   \n",
       "1          0.08474           0.07864         0.08690              0.07017   \n",
       "2          0.10960           0.15990         0.19740              0.12790   \n",
       "3          0.14250           0.28390         0.24140              0.10520   \n",
       "4          0.10030           0.13280         0.19800              0.10430   \n",
       "\n",
       "   symmetry_mean  fractal_dimension_mean  radius_se  texture_se  perimeter_se  \\\n",
       "0        0.24190                 0.07871    1.09500     0.90530       8.58900   \n",
       "1        0.18120                 0.05667    0.54350     0.73390       3.39800   \n",
       "2        0.20690                 0.05999    0.74560     0.78690       4.58500   \n",
       "3        0.25970                 0.09744    0.49560     1.15600       3.44500   \n",
       "4        0.18090                 0.05883    0.75720     0.78130       5.43800   \n",
       "\n",
       "    area_se  smoothness_se  compactness_se  concavity_se  concave points_se  \\\n",
       "0 153.40000        0.00640         0.04904       0.05373            0.01587   \n",
       "1  74.08000        0.00522         0.01308       0.01860            0.01340   \n",
       "2  94.03000        0.00615         0.04006       0.03832            0.02058   \n",
       "3  27.23000        0.00911         0.07458       0.05661            0.01867   \n",
       "4  94.44000        0.01149         0.02461       0.05688            0.01885   \n",
       "\n",
       "   symmetry_se  fractal_dimension_se  radius_worst  texture_worst  \\\n",
       "0      0.03003               0.00619      25.38000       17.33000   \n",
       "1      0.01389               0.00353      24.99000       23.41000   \n",
       "2      0.02250               0.00457      23.57000       25.53000   \n",
       "3      0.05963               0.00921      14.91000       26.50000   \n",
       "4      0.01756               0.00511      22.54000       16.67000   \n",
       "\n",
       "   perimeter_worst  area_worst  smoothness_worst  compactness_worst  \\\n",
       "0        184.60000  2019.00000           0.16220            0.66560   \n",
       "1        158.80000  1956.00000           0.12380            0.18660   \n",
       "2        152.50000  1709.00000           0.14440            0.42450   \n",
       "3         98.87000   567.70000           0.20980            0.86630   \n",
       "4        152.20000  1575.00000           0.13740            0.20500   \n",
       "\n",
       "   concavity_worst  concave points_worst  symmetry_worst  \\\n",
       "0          0.71190               0.26540         0.46010   \n",
       "1          0.24160               0.18600         0.27500   \n",
       "2          0.45040               0.24300         0.36130   \n",
       "3          0.68690               0.25750         0.66380   \n",
       "4          0.40000               0.16250         0.23640   \n",
       "\n",
       "   fractal_dimension_worst  \n",
       "0                  0.11890  \n",
       "1                  0.08902  \n",
       "2                  0.08758  \n",
       "3                  0.17300  \n",
       "4                  0.07678  "
      ]
     },
     "execution_count": 9,
     "metadata": {},
     "output_type": "execute_result"
    }
   ],
   "source": [
    "delete_cancer(data=cancer)"
   ]
  },
  {
   "cell_type": "markdown",
   "metadata": {
    "id": "4mqQzRa1UTFI"
   },
   "source": [
    "**Observations:**\n",
    "\n",
    "- Since diagnosis has values **B (for Benign)** and **M (for Malignant)**, we will **convert** them into **binary** values so that we can use them for model building."
   ]
  },
  {
   "cell_type": "markdown",
   "metadata": {
    "id": "MmLDSEruPD_7"
   },
   "source": [
    "---\n",
    "**<h4>Question 2**: Write a function to convert the diagnosis feature values (B or M) into binary values (0 or 1) using the map method.</h4>\n",
    "\n",
    "---\n",
    "\n",
    "<details>\n",
    "\n",
    "**<summary>Hint:</summary>**\n",
    "\n",
    "- Convert M into 1 and B into 0 using `data['diagnosis'].map()` method\n",
    "\n",
    "</details>\n",
    "\n"
   ]
  },
  {
   "cell_type": "code",
   "execution_count": 10,
   "metadata": {
    "executionInfo": {
     "elapsed": 13,
     "status": "ok",
     "timestamp": 1687409641400,
     "user": {
      "displayName": "Yash Chauhan",
      "userId": "03194567605433747724"
     },
     "user_tz": -330
    },
    "id": "_FtmPEigOVO-"
   },
   "outputs": [],
   "source": [
    "def convert_diagnosis(data=None):\n",
    "    return data['diagnosis'].map(arg={'M':1, 'B': 0})"
   ]
  },
  {
   "cell_type": "code",
   "execution_count": 11,
   "metadata": {
    "colab": {
     "base_uri": "https://localhost:8080/",
     "height": 288
    },
    "executionInfo": {
     "elapsed": 13,
     "status": "ok",
     "timestamp": 1687409641400,
     "user": {
      "displayName": "Yash Chauhan",
      "userId": "03194567605433747724"
     },
     "user_tz": -330
    },
    "id": "Cx0WUyeJO7b6",
    "outputId": "8c2c42f9-e9ba-4073-878a-3057da9b61d5"
   },
   "outputs": [
    {
     "data": {
      "text/html": [
       "<div>\n",
       "<style scoped>\n",
       "    .dataframe tbody tr th:only-of-type {\n",
       "        vertical-align: middle;\n",
       "    }\n",
       "\n",
       "    .dataframe tbody tr th {\n",
       "        vertical-align: top;\n",
       "    }\n",
       "\n",
       "    .dataframe thead th {\n",
       "        text-align: right;\n",
       "    }\n",
       "</style>\n",
       "<table border=\"1\" class=\"dataframe\">\n",
       "  <thead>\n",
       "    <tr style=\"text-align: right;\">\n",
       "      <th></th>\n",
       "      <th>id</th>\n",
       "      <th>diagnosis</th>\n",
       "      <th>radius_mean</th>\n",
       "      <th>texture_mean</th>\n",
       "      <th>perimeter_mean</th>\n",
       "      <th>area_mean</th>\n",
       "      <th>smoothness_mean</th>\n",
       "      <th>compactness_mean</th>\n",
       "      <th>concavity_mean</th>\n",
       "      <th>concave points_mean</th>\n",
       "      <th>symmetry_mean</th>\n",
       "      <th>fractal_dimension_mean</th>\n",
       "      <th>radius_se</th>\n",
       "      <th>texture_se</th>\n",
       "      <th>perimeter_se</th>\n",
       "      <th>area_se</th>\n",
       "      <th>smoothness_se</th>\n",
       "      <th>compactness_se</th>\n",
       "      <th>concavity_se</th>\n",
       "      <th>concave points_se</th>\n",
       "      <th>symmetry_se</th>\n",
       "      <th>fractal_dimension_se</th>\n",
       "      <th>radius_worst</th>\n",
       "      <th>texture_worst</th>\n",
       "      <th>perimeter_worst</th>\n",
       "      <th>area_worst</th>\n",
       "      <th>smoothness_worst</th>\n",
       "      <th>compactness_worst</th>\n",
       "      <th>concavity_worst</th>\n",
       "      <th>concave points_worst</th>\n",
       "      <th>symmetry_worst</th>\n",
       "      <th>fractal_dimension_worst</th>\n",
       "    </tr>\n",
       "  </thead>\n",
       "  <tbody>\n",
       "    <tr>\n",
       "      <th>0</th>\n",
       "      <td>842302</td>\n",
       "      <td>1</td>\n",
       "      <td>17.99000</td>\n",
       "      <td>10.38000</td>\n",
       "      <td>122.80000</td>\n",
       "      <td>1001.00000</td>\n",
       "      <td>0.11840</td>\n",
       "      <td>0.27760</td>\n",
       "      <td>0.30010</td>\n",
       "      <td>0.14710</td>\n",
       "      <td>0.24190</td>\n",
       "      <td>0.07871</td>\n",
       "      <td>1.09500</td>\n",
       "      <td>0.90530</td>\n",
       "      <td>8.58900</td>\n",
       "      <td>153.40000</td>\n",
       "      <td>0.00640</td>\n",
       "      <td>0.04904</td>\n",
       "      <td>0.05373</td>\n",
       "      <td>0.01587</td>\n",
       "      <td>0.03003</td>\n",
       "      <td>0.00619</td>\n",
       "      <td>25.38000</td>\n",
       "      <td>17.33000</td>\n",
       "      <td>184.60000</td>\n",
       "      <td>2019.00000</td>\n",
       "      <td>0.16220</td>\n",
       "      <td>0.66560</td>\n",
       "      <td>0.71190</td>\n",
       "      <td>0.26540</td>\n",
       "      <td>0.46010</td>\n",
       "      <td>0.11890</td>\n",
       "    </tr>\n",
       "    <tr>\n",
       "      <th>1</th>\n",
       "      <td>842517</td>\n",
       "      <td>1</td>\n",
       "      <td>20.57000</td>\n",
       "      <td>17.77000</td>\n",
       "      <td>132.90000</td>\n",
       "      <td>1326.00000</td>\n",
       "      <td>0.08474</td>\n",
       "      <td>0.07864</td>\n",
       "      <td>0.08690</td>\n",
       "      <td>0.07017</td>\n",
       "      <td>0.18120</td>\n",
       "      <td>0.05667</td>\n",
       "      <td>0.54350</td>\n",
       "      <td>0.73390</td>\n",
       "      <td>3.39800</td>\n",
       "      <td>74.08000</td>\n",
       "      <td>0.00522</td>\n",
       "      <td>0.01308</td>\n",
       "      <td>0.01860</td>\n",
       "      <td>0.01340</td>\n",
       "      <td>0.01389</td>\n",
       "      <td>0.00353</td>\n",
       "      <td>24.99000</td>\n",
       "      <td>23.41000</td>\n",
       "      <td>158.80000</td>\n",
       "      <td>1956.00000</td>\n",
       "      <td>0.12380</td>\n",
       "      <td>0.18660</td>\n",
       "      <td>0.24160</td>\n",
       "      <td>0.18600</td>\n",
       "      <td>0.27500</td>\n",
       "      <td>0.08902</td>\n",
       "    </tr>\n",
       "    <tr>\n",
       "      <th>2</th>\n",
       "      <td>84300903</td>\n",
       "      <td>1</td>\n",
       "      <td>19.69000</td>\n",
       "      <td>21.25000</td>\n",
       "      <td>130.00000</td>\n",
       "      <td>1203.00000</td>\n",
       "      <td>0.10960</td>\n",
       "      <td>0.15990</td>\n",
       "      <td>0.19740</td>\n",
       "      <td>0.12790</td>\n",
       "      <td>0.20690</td>\n",
       "      <td>0.05999</td>\n",
       "      <td>0.74560</td>\n",
       "      <td>0.78690</td>\n",
       "      <td>4.58500</td>\n",
       "      <td>94.03000</td>\n",
       "      <td>0.00615</td>\n",
       "      <td>0.04006</td>\n",
       "      <td>0.03832</td>\n",
       "      <td>0.02058</td>\n",
       "      <td>0.02250</td>\n",
       "      <td>0.00457</td>\n",
       "      <td>23.57000</td>\n",
       "      <td>25.53000</td>\n",
       "      <td>152.50000</td>\n",
       "      <td>1709.00000</td>\n",
       "      <td>0.14440</td>\n",
       "      <td>0.42450</td>\n",
       "      <td>0.45040</td>\n",
       "      <td>0.24300</td>\n",
       "      <td>0.36130</td>\n",
       "      <td>0.08758</td>\n",
       "    </tr>\n",
       "    <tr>\n",
       "      <th>3</th>\n",
       "      <td>84348301</td>\n",
       "      <td>1</td>\n",
       "      <td>11.42000</td>\n",
       "      <td>20.38000</td>\n",
       "      <td>77.58000</td>\n",
       "      <td>386.10000</td>\n",
       "      <td>0.14250</td>\n",
       "      <td>0.28390</td>\n",
       "      <td>0.24140</td>\n",
       "      <td>0.10520</td>\n",
       "      <td>0.25970</td>\n",
       "      <td>0.09744</td>\n",
       "      <td>0.49560</td>\n",
       "      <td>1.15600</td>\n",
       "      <td>3.44500</td>\n",
       "      <td>27.23000</td>\n",
       "      <td>0.00911</td>\n",
       "      <td>0.07458</td>\n",
       "      <td>0.05661</td>\n",
       "      <td>0.01867</td>\n",
       "      <td>0.05963</td>\n",
       "      <td>0.00921</td>\n",
       "      <td>14.91000</td>\n",
       "      <td>26.50000</td>\n",
       "      <td>98.87000</td>\n",
       "      <td>567.70000</td>\n",
       "      <td>0.20980</td>\n",
       "      <td>0.86630</td>\n",
       "      <td>0.68690</td>\n",
       "      <td>0.25750</td>\n",
       "      <td>0.66380</td>\n",
       "      <td>0.17300</td>\n",
       "    </tr>\n",
       "    <tr>\n",
       "      <th>4</th>\n",
       "      <td>84358402</td>\n",
       "      <td>1</td>\n",
       "      <td>20.29000</td>\n",
       "      <td>14.34000</td>\n",
       "      <td>135.10000</td>\n",
       "      <td>1297.00000</td>\n",
       "      <td>0.10030</td>\n",
       "      <td>0.13280</td>\n",
       "      <td>0.19800</td>\n",
       "      <td>0.10430</td>\n",
       "      <td>0.18090</td>\n",
       "      <td>0.05883</td>\n",
       "      <td>0.75720</td>\n",
       "      <td>0.78130</td>\n",
       "      <td>5.43800</td>\n",
       "      <td>94.44000</td>\n",
       "      <td>0.01149</td>\n",
       "      <td>0.02461</td>\n",
       "      <td>0.05688</td>\n",
       "      <td>0.01885</td>\n",
       "      <td>0.01756</td>\n",
       "      <td>0.00511</td>\n",
       "      <td>22.54000</td>\n",
       "      <td>16.67000</td>\n",
       "      <td>152.20000</td>\n",
       "      <td>1575.00000</td>\n",
       "      <td>0.13740</td>\n",
       "      <td>0.20500</td>\n",
       "      <td>0.40000</td>\n",
       "      <td>0.16250</td>\n",
       "      <td>0.23640</td>\n",
       "      <td>0.07678</td>\n",
       "    </tr>\n",
       "  </tbody>\n",
       "</table>\n",
       "</div>"
      ],
      "text/plain": [
       "         id  diagnosis  radius_mean  texture_mean  perimeter_mean  area_mean  \\\n",
       "0    842302          1     17.99000      10.38000       122.80000 1001.00000   \n",
       "1    842517          1     20.57000      17.77000       132.90000 1326.00000   \n",
       "2  84300903          1     19.69000      21.25000       130.00000 1203.00000   \n",
       "3  84348301          1     11.42000      20.38000        77.58000  386.10000   \n",
       "4  84358402          1     20.29000      14.34000       135.10000 1297.00000   \n",
       "\n",
       "   smoothness_mean  compactness_mean  concavity_mean  concave points_mean  \\\n",
       "0          0.11840           0.27760         0.30010              0.14710   \n",
       "1          0.08474           0.07864         0.08690              0.07017   \n",
       "2          0.10960           0.15990         0.19740              0.12790   \n",
       "3          0.14250           0.28390         0.24140              0.10520   \n",
       "4          0.10030           0.13280         0.19800              0.10430   \n",
       "\n",
       "   symmetry_mean  fractal_dimension_mean  radius_se  texture_se  perimeter_se  \\\n",
       "0        0.24190                 0.07871    1.09500     0.90530       8.58900   \n",
       "1        0.18120                 0.05667    0.54350     0.73390       3.39800   \n",
       "2        0.20690                 0.05999    0.74560     0.78690       4.58500   \n",
       "3        0.25970                 0.09744    0.49560     1.15600       3.44500   \n",
       "4        0.18090                 0.05883    0.75720     0.78130       5.43800   \n",
       "\n",
       "    area_se  smoothness_se  compactness_se  concavity_se  concave points_se  \\\n",
       "0 153.40000        0.00640         0.04904       0.05373            0.01587   \n",
       "1  74.08000        0.00522         0.01308       0.01860            0.01340   \n",
       "2  94.03000        0.00615         0.04006       0.03832            0.02058   \n",
       "3  27.23000        0.00911         0.07458       0.05661            0.01867   \n",
       "4  94.44000        0.01149         0.02461       0.05688            0.01885   \n",
       "\n",
       "   symmetry_se  fractal_dimension_se  radius_worst  texture_worst  \\\n",
       "0      0.03003               0.00619      25.38000       17.33000   \n",
       "1      0.01389               0.00353      24.99000       23.41000   \n",
       "2      0.02250               0.00457      23.57000       25.53000   \n",
       "3      0.05963               0.00921      14.91000       26.50000   \n",
       "4      0.01756               0.00511      22.54000       16.67000   \n",
       "\n",
       "   perimeter_worst  area_worst  smoothness_worst  compactness_worst  \\\n",
       "0        184.60000  2019.00000           0.16220            0.66560   \n",
       "1        158.80000  1956.00000           0.12380            0.18660   \n",
       "2        152.50000  1709.00000           0.14440            0.42450   \n",
       "3         98.87000   567.70000           0.20980            0.86630   \n",
       "4        152.20000  1575.00000           0.13740            0.20500   \n",
       "\n",
       "   concavity_worst  concave points_worst  symmetry_worst  \\\n",
       "0          0.71190               0.26540         0.46010   \n",
       "1          0.24160               0.18600         0.27500   \n",
       "2          0.45040               0.24300         0.36130   \n",
       "3          0.68690               0.25750         0.66380   \n",
       "4          0.40000               0.16250         0.23640   \n",
       "\n",
       "   fractal_dimension_worst  \n",
       "0                  0.11890  \n",
       "1                  0.08902  \n",
       "2                  0.08758  \n",
       "3                  0.17300  \n",
       "4                  0.07678  "
      ]
     },
     "execution_count": 11,
     "metadata": {},
     "output_type": "execute_result"
    }
   ],
   "source": [
    "cancer['diagnosis'] = convert_diagnosis(data=cancer)\n",
    "cancer.head()"
   ]
  },
  {
   "cell_type": "markdown",
   "metadata": {
    "id": "miIEexuZQmH1"
   },
   "source": [
    "<a name = Section52></a>\n",
    "\n",
    "### **5.2 Data Post-Profiling**"
   ]
  },
  {
   "cell_type": "code",
   "execution_count": 12,
   "metadata": {
    "executionInfo": {
     "elapsed": 13,
     "status": "ok",
     "timestamp": 1687409641401,
     "user": {
      "displayName": "Yash Chauhan",
      "userId": "03194567605433747724"
     },
     "user_tz": -330
    },
    "id": "1sHiZ0HcQmH6"
   },
   "outputs": [
    {
     "data": {
      "application/vnd.jupyter.widget-view+json": {
       "model_id": "42987bd3ef8a49728765b7c83aac37fc",
       "version_major": 2,
       "version_minor": 0
      },
      "text/plain": [
       "Summarize dataset:   0%|          | 0/5 [00:00<?, ?it/s]"
      ]
     },
     "metadata": {},
     "output_type": "display_data"
    },
    {
     "data": {
      "application/vnd.jupyter.widget-view+json": {
       "model_id": "a7690ebc70ec4a3ca2aceb2ec55114b0",
       "version_major": 2,
       "version_minor": 0
      },
      "text/plain": [
       "Generate report structure:   0%|          | 0/1 [00:00<?, ?it/s]"
      ]
     },
     "metadata": {},
     "output_type": "display_data"
    },
    {
     "data": {
      "application/vnd.jupyter.widget-view+json": {
       "model_id": "cdf4c6195d3a429d858b49865dc84262",
       "version_major": 2,
       "version_minor": 0
      },
      "text/plain": [
       "Render HTML:   0%|          | 0/1 [00:00<?, ?it/s]"
      ]
     },
     "metadata": {},
     "output_type": "display_data"
    },
    {
     "data": {
      "application/vnd.jupyter.widget-view+json": {
       "model_id": "9454d24c59b64ec3957de44bc12f762e",
       "version_major": 2,
       "version_minor": 0
      },
      "text/plain": [
       "Export report to file:   0%|          | 0/1 [00:00<?, ?it/s]"
      ]
     },
     "metadata": {},
     "output_type": "display_data"
    },
    {
     "name": "stdout",
     "output_type": "stream",
     "text": [
      "Accomplished!\n"
     ]
    }
   ],
   "source": [
    "profile = ProfileReport(df=cancer)\n",
    "profile.to_file(output_file='Post_Profiling_Report.html')\n",
    "print('Accomplished!')"
   ]
  },
  {
   "cell_type": "markdown",
   "metadata": {
    "id": "ANjvqSc-Qvhv"
   },
   "source": [
    "**Observations**:\n",
    "\n",
    "- There are **32 features** and **569 observations** after pre-processing the data.\n",
    "\n",
    "- All features are **continuous** **except** the **diagnosis** feature which is **categorical**.\n",
    "\n",
    "- There are **no missing or duplicated values** present.\n",
    "\n",
    "- We can see **diagnosis** is **correlated** to **19 other features** according to the post profile report.\n",
    "\n",
    "- But there is a **significant** amount of **correlations** between **independent features** as well.\n",
    "\n",
    "- This causes redundancy in the classification. PCA will help us remove this redundancy."
   ]
  },
  {
   "cell_type": "markdown",
   "metadata": {
    "id": "BYKMQCO3QvzY"
   },
   "source": [
    "<a name = Section6></a>\n",
    "\n",
    "---\n",
    "# **6. Exploratory Data Analysis**\n",
    "---"
   ]
  },
  {
   "cell_type": "markdown",
   "metadata": {
    "id": "PIRsR_4pQ7uQ"
   },
   "source": [
    "---\n",
    "**<h4>Question 3**:Create a function that checks the count and proportion of the diagnosis feature.</h4>\n",
    "\n",
    "---\n",
    "\n",
    "<details>\n",
    "\n",
    "**<summary>Hint:</summary>**\n",
    "\n",
    "- Create a 10x7 inches figure.\n",
    "\n",
    "- Use `sns.countplot()` on the `'diagnosis'` feature.\n",
    "\n",
    "- Add proportion to the bars.\n",
    "\n",
    "- Add additional cosmetics like `grid` and `title`.\n",
    "\n",
    "- Set `fontsize` for ticks as 12, labels as 14 and title as 16.\n",
    "\n",
    "- Use `plt.show()` to properly display the plot.\n",
    "\n",
    "</details>"
   ]
  },
  {
   "cell_type": "code",
   "execution_count": 14,
   "metadata": {
    "executionInfo": {
     "elapsed": 477,
     "status": "ok",
     "timestamp": 1687409674255,
     "user": {
      "displayName": "Yash Chauhan",
      "userId": "03194567605433747724"
     },
     "user_tz": -330
    },
    "id": "pEPB3dZRQvzZ"
   },
   "outputs": [],
   "source": [
    "def diagnosis_checker(data=None):\n",
    "    # Create a 10 x 7 inches figure\n",
    "    fig, ax = plt.subplots(figsize=(10, 7))\n",
    "\n",
    "    # Plot a countplot for diagnosis feature\n",
    "    sns.countplot(y='diagnosis', data=data, palette='rocket', ax=ax)\n",
    "\n",
    "    # Adding percentages to the bars\n",
    "    total = data.shape[0]\n",
    "    for p in ax.patches:\n",
    "        percentage = '{:.2f}%'.format(100 * p.get_width() / total)\n",
    "        x = p.get_x() + p.get_width()\n",
    "        y = p.get_y() + p.get_height() / 2\n",
    "        ax.annotate(percentage, (x, y))\n",
    "\n",
    "        # Add cosmetics\n",
    "        plt.xticks(size=12)\n",
    "        plt.yticks(size=12)\n",
    "        plt.xlabel(xlabel='Count', size=14)\n",
    "        plt.ylabel(ylabel='Diagnosis', size=14)\n",
    "        plt.title(label='Diagnosis count and proportion', size=16)\n",
    "\n",
    "        # Display the figure\n",
    "        plt.show()"
   ]
  },
  {
   "cell_type": "code",
   "execution_count": 15,
   "metadata": {
    "colab": {
     "base_uri": "https://localhost:8080/",
     "height": 652
    },
    "executionInfo": {
     "elapsed": 731,
     "status": "ok",
     "timestamp": 1687409675513,
     "user": {
      "displayName": "Yash Chauhan",
      "userId": "03194567605433747724"
     },
     "user_tz": -330
    },
    "id": "rn5jvkoiSD9f",
    "outputId": "05b0298c-8690-4f59-8fcc-df159a149c10"
   },
   "outputs": [
    {
     "data": {
      "image/png": "[encoded data removed]",
      "text/plain": [
       "<Figure size 1000x700 with 1 Axes>"
      ]
     },
     "metadata": {},
     "output_type": "display_data"
    },
    {
     "data": {
      "image/png": "[encoded data removed]",
      "text/plain": [
       "<Figure size 640x480 with 1 Axes>"
      ]
     },
     "metadata": {},
     "output_type": "display_data"
    }
   ],
   "source": [
    "diagnosis_checker(data=cancer)"
   ]
  },
  {
   "cell_type": "markdown",
   "metadata": {
    "id": "wbiXMf6PPjnt"
   },
   "source": [
    "**Observations:**\n",
    "\n",
    "- **Majority** of the patients have **benign** nucleus.\n",
    "\n",
    "- There is no **need to oversample** since the class imbalance isn't very high.\n",
    "\n",
    "- All of our **independent** **features** are **continuous** and the **target** variable is **categorical**.\n",
    "\n",
    "- We can use this information to create functions that can plot distribution of any feature and also compare any two features."
   ]
  },
  {
   "cell_type": "markdown",
   "metadata": {
    "id": "p6atlci7kWPd"
   },
   "source": [
    "---\n",
    "**<h4>Question 4**: Create a function that plots a displot for any of the independent features concerning diagnosis.</h4>\n",
    "\n",
    "---\n",
    "\n",
    "<details>\n",
    "\n",
    "**<summary>Hint:</summary>**\n",
    "\n",
    "- Use `sns.displot()` with **x** parameter as any **feature name** and **hue** as **diagnosis** feature.\n",
    "\n",
    "- Keep `aspect` of the displot as 3.\n",
    "\n",
    "- Keep `kde=True`.\n",
    "\n",
    "- Add additional cosmetics like `grid` and `title`.\n",
    "\n",
    "- Set `fontsize` for ticks as 12, labels as 14 and title as 16.\n",
    "\n",
    "- Use `plt.show()` to properly display the plot.\n",
    "\n",
    "</details>\n",
    "\n"
   ]
  },
  {
   "cell_type": "code",
   "execution_count": 16,
   "metadata": {
    "executionInfo": {
     "elapsed": 496,
     "status": "ok",
     "timestamp": 1687409692237,
     "user": {
      "displayName": "Yash Chauhan",
      "userId": "03194567605433747724"
     },
     "user_tz": -330
    },
    "id": "eUm2jWXPcp9D"
   },
   "outputs": [],
   "source": [
    "def make_displot(data=None, column=None):\n",
    "\n",
    "    # Create a distplot with column name and keep hue as diagnosis\n",
    "    sns.displot(x=column,\n",
    "              hue='diagnosis',\n",
    "              kde=True,\n",
    "              data=data,\n",
    "              palette='hls',\n",
    "              aspect=3)\n",
    "\n",
    "    # Add cosmetics\n",
    "    plt.xticks(size=12)\n",
    "    plt.yticks(size=12)\n",
    "    plt.xlabel(xlabel=column, size=14)\n",
    "    plt.ylabel(ylabel='Count', size=14)\n",
    "    plt.title(label=('Diagnosis on basis of ' + column), size=16)\n",
    "\n",
    "    # Display the output\n",
    "    plt.show()"
   ]
  },
  {
   "cell_type": "code",
   "execution_count": 17,
   "metadata": {
    "colab": {
     "base_uri": "https://localhost:8080/",
     "height": 541
    },
    "executionInfo": {
     "elapsed": 1624,
     "status": "ok",
     "timestamp": 1687409694513,
     "user": {
      "displayName": "Yash Chauhan",
      "userId": "03194567605433747724"
     },
     "user_tz": -330
    },
    "id": "i4-XC8wWdOcz",
    "outputId": "2e559222-71a3-4d26-b14f-7642b01188e6"
   },
   "outputs": [
    {
     "data": {
      "image/png": "[encoded data removed]",
      "text/plain": [
       "<Figure size 1576.74x500 with 1 Axes>"
      ]
     },
     "metadata": {},
     "output_type": "display_data"
    }
   ],
   "source": [
    "make_displot(data=cancer, column='radius_worst')"
   ]
  },
  {
   "cell_type": "code",
   "execution_count": 18,
   "metadata": {
    "colab": {
     "base_uri": "https://localhost:8080/",
     "height": 541
    },
    "executionInfo": {
     "elapsed": 1014,
     "status": "ok",
     "timestamp": 1687409696155,
     "user": {
      "displayName": "Yash Chauhan",
      "userId": "03194567605433747724"
     },
     "user_tz": -330
    },
    "id": "94qSxWgNmNTh",
    "outputId": "65406837-935f-4253-f4ce-931b59b8175e"
   },
   "outputs": [
    {
     "data": {
      "image/png": "[encoded data removed]",
      "text/plain": [
       "<Figure size 1576.74x500 with 1 Axes>"
      ]
     },
     "metadata": {},
     "output_type": "display_data"
    }
   ],
   "source": [
    "make_displot(data=cancer, column='perimeter_se')"
   ]
  },
  {
   "cell_type": "markdown",
   "metadata": {
    "id": "02PMmfKIkw32"
   },
   "source": [
    "---\n",
    "**<h4>Question 5**: Create a function that plots a scatterplot between any two independent features concerning diagnosis feature.</h4>\n",
    "\n",
    "---\n",
    "\n",
    "<details>\n",
    "\n",
    "**<summary>Hint:</summary>**\n",
    "\n",
    "- Create a 10x10 inches figure.\n",
    "\n",
    "- Use `sns.scatterplot()` with **x** parameter as any **feature**, **y** parameter as any other **feature**, and **hue** as **diagnosis** feature.\n",
    "\n",
    "- Add additional cosmetics like `grid` and `title`.\n",
    "\n",
    "- Set `fontsize` for ticks as 12, labels as 14 and title as 16.\n",
    "\n",
    "- Use `plt.show()` to properly display the plot.\n",
    "\n",
    "</details>"
   ]
  },
  {
   "cell_type": "code",
   "execution_count": 19,
   "metadata": {
    "executionInfo": {
     "elapsed": 491,
     "status": "ok",
     "timestamp": 1687409701054,
     "user": {
      "displayName": "Yash Chauhan",
      "userId": "03194567605433747724"
     },
     "user_tz": -330
    },
    "id": "A0N_ofW-gtOf"
   },
   "outputs": [],
   "source": [
    "def make_scatter(data=None, column_x=None, column_y=None):\n",
    "    # Create a figure of size 10 x 10 inches\n",
    "    fig = plt.figure(figsize=(10, 10))\n",
    "\n",
    "    # Create a scatterplot with column names and keep hue as diagnosis\n",
    "    sns.scatterplot(x=column_x,\n",
    "                  y=column_y,\n",
    "                  hue='diagnosis',\n",
    "                  data=data,\n",
    "                  palette='Dark2',\n",
    "                  edgecolor='black')\n",
    "\n",
    "    # Add cosmetics\n",
    "    plt.xticks(size=12)\n",
    "    plt.yticks(size=12)\n",
    "    plt.xlabel(xlabel=column_x, size=14)\n",
    "    plt.ylabel(ylabel=column_y, size=14)\n",
    "    plt.title(label=(column_x + ' vs ' + column_y + ' with respect to diagnosis'), size=16)\n",
    "    plt.legend(labels=['Malignant', 'Benign'])\n",
    "\n",
    "    # Display the output\n",
    "    plt.show()"
   ]
  },
  {
   "cell_type": "code",
   "execution_count": 20,
   "metadata": {
    "colab": {
     "base_uri": "https://localhost:8080/",
     "height": 884
    },
    "executionInfo": {
     "elapsed": 1110,
     "status": "ok",
     "timestamp": 1687409702162,
     "user": {
      "displayName": "Yash Chauhan",
      "userId": "03194567605433747724"
     },
     "user_tz": -330
    },
    "id": "pOPCN8EciF5Z",
    "outputId": "0f891782-52c5-4ce9-d1b9-733eb295ec86"
   },
   "outputs": [
    {
     "data": {
      "image/png": "[encoded data removed]",
      "text/plain": [
       "<Figure size 1000x1000 with 1 Axes>"
      ]
     },
     "metadata": {},
     "output_type": "display_data"
    }
   ],
   "source": [
    "make_scatter(data=cancer, column_x='radius_mean', column_y='area_mean')"
   ]
  },
  {
   "cell_type": "markdown",
   "metadata": {
    "id": "Ey4nx5ArUAsg"
   },
   "source": [
    "**Observations:**\n",
    "\n",
    "- radius_mean and area_mean are **highly correlated** and thus we observe such a scatter plot."
   ]
  },
  {
   "cell_type": "code",
   "execution_count": 21,
   "metadata": {
    "colab": {
     "base_uri": "https://localhost:8080/",
     "height": 884
    },
    "executionInfo": {
     "elapsed": 3,
     "status": "ok",
     "timestamp": 1687409704621,
     "user": {
      "displayName": "Yash Chauhan",
      "userId": "03194567605433747724"
     },
     "user_tz": -330
    },
    "id": "lg7dzQEwmFYQ",
    "outputId": "8d7cc68e-f84d-4dc4-af14-bf90a2afacf6"
   },
   "outputs": [
    {
     "data": {
      "image/png": "[encoded data removed]",
      "text/plain": [
       "<Figure size 1000x1000 with 1 Axes>"
      ]
     },
     "metadata": {},
     "output_type": "display_data"
    }
   ],
   "source": [
    "make_scatter(data=cancer, column_x='smoothness_mean', column_y='texture_mean')"
   ]
  },
  {
   "cell_type": "markdown",
   "metadata": {
    "id": "BY6o-267USHS"
   },
   "source": [
    "**Observations:**\n",
    "\n",
    "- smoothness_mean and texture_mean are **not correlated** to each other and thus we observe such a scatter plot.\n",
    "\n",
    "- After checking some relations between the plethora of features, we can start with the model building phase."
   ]
  },
  {
   "cell_type": "markdown",
   "metadata": {
    "id": "AixaugCodU-n"
   },
   "source": [
    "<a name = Section7></a>\n",
    "\n",
    "---\n",
    "# **7. Data Post-Processing**\n",
    "---"
   ]
  },
  {
   "cell_type": "markdown",
   "metadata": {
    "id": "n5G0BF7_dOb3"
   },
   "source": [
    "<a name = Section71></a>\n",
    "\n",
    "### **7.1 Feature Scaling**\n",
    "\n",
    "- In this section, we will perform standard scaling over the input features."
   ]
  },
  {
   "cell_type": "markdown",
   "metadata": {
    "id": "Xg-1Lxo1nT0a"
   },
   "source": [
    "---\n",
    "**<h4>Question 6**: Create a function that extracts the dependent and the independent variables into dataframes X and y.</h4>\n",
    "\n",
    "---\n",
    "\n",
    "<details>\n",
    "\n",
    "**<summary>Hint:</summary>**\n",
    "\n",
    "- Create input dataframe X by dropping only \"diagnosis\" feature from axis 1.\n",
    "\n",
    "- Create target series by using \"diagnosis\" as value.\n",
    "\n",
    "</details>\n",
    "\n"
   ]
  },
  {
   "cell_type": "code",
   "execution_count": 22,
   "metadata": {
    "executionInfo": {
     "elapsed": 2,
     "status": "ok",
     "timestamp": 1687409706471,
     "user": {
      "displayName": "Yash Chauhan",
      "userId": "03194567605433747724"
     },
     "user_tz": -330
    },
    "id": "ATpAvrnynfkE"
   },
   "outputs": [],
   "source": [
    "def feature_extract(data=None):\n",
    "    X = data.drop(labels=['diagnosis'], axis=1)\n",
    "    y = data['diagnosis']\n",
    "    return X, y"
   ]
  },
  {
   "cell_type": "code",
   "execution_count": 23,
   "metadata": {
    "executionInfo": {
     "elapsed": 6,
     "status": "ok",
     "timestamp": 1687409707252,
     "user": {
      "displayName": "Yash Chauhan",
      "userId": "03194567605433747724"
     },
     "user_tz": -330
    },
    "id": "fHZl8NINn8cP"
   },
   "outputs": [],
   "source": [
    "X, y = feature_extract(data=cancer)"
   ]
  },
  {
   "cell_type": "markdown",
   "metadata": {
    "id": "K2LUe_xygRiR"
   },
   "source": [
    "\n",
    "---\n",
    "**<h4>Question 7**: Create a function that uses StandardScaler on X dataframe.</h4>\n",
    "\n",
    "---\n",
    "\n",
    "<details>\n",
    "\n",
    "**<summary>Hint:</summary>**\n",
    "\n",
    "- Instantiate a scaler object using StandardScaler().\n",
    "\n",
    "- Fit and transform input features (X) using `.fit_transform(X)` method.\n",
    "\n",
    "- Create a dataframe using the output from .fit_transform() along with the feature names of input dataframe (X).\n",
    "\n",
    "</details>\n",
    "\n",
    "\n"
   ]
  },
  {
   "cell_type": "code",
   "execution_count": 24,
   "metadata": {
    "executionInfo": {
     "elapsed": 6,
     "status": "ok",
     "timestamp": 1687409707252,
     "user": {
      "displayName": "Yash Chauhan",
      "userId": "03194567605433747724"
     },
     "user_tz": -330
    },
    "id": "a_BEqwvTgRiS"
   },
   "outputs": [],
   "source": [
    "def scale_data(X=None):\n",
    "    sc = StandardScaler()\n",
    "    scaled_data = sc.fit_transform(X)\n",
    "    scaled_X = pd.DataFrame(data=scaled_data, columns=X.columns)\n",
    "    return scaled_X"
   ]
  },
  {
   "cell_type": "code",
   "execution_count": 25,
   "metadata": {
    "colab": {
     "base_uri": "https://localhost:8080/",
     "height": 288
    },
    "executionInfo": {
     "elapsed": 7,
     "status": "ok",
     "timestamp": 1687409707253,
     "user": {
      "displayName": "Yash Chauhan",
      "userId": "03194567605433747724"
     },
     "user_tz": -330
    },
    "id": "PGSOQwFN7G_P",
    "outputId": "fe2b1369-4176-4cff-b95d-301e51b32668"
   },
   "outputs": [
    {
     "data": {
      "text/html": [
       "<div>\n",
       "<style scoped>\n",
       "    .dataframe tbody tr th:only-of-type {\n",
       "        vertical-align: middle;\n",
       "    }\n",
       "\n",
       "    .dataframe tbody tr th {\n",
       "        vertical-align: top;\n",
       "    }\n",
       "\n",
       "    .dataframe thead th {\n",
       "        text-align: right;\n",
       "    }\n",
       "</style>\n",
       "<table border=\"1\" class=\"dataframe\">\n",
       "  <thead>\n",
       "    <tr style=\"text-align: right;\">\n",
       "      <th></th>\n",
       "      <th>id</th>\n",
       "      <th>radius_mean</th>\n",
       "      <th>texture_mean</th>\n",
       "      <th>perimeter_mean</th>\n",
       "      <th>area_mean</th>\n",
       "      <th>smoothness_mean</th>\n",
       "      <th>compactness_mean</th>\n",
       "      <th>concavity_mean</th>\n",
       "      <th>concave points_mean</th>\n",
       "      <th>symmetry_mean</th>\n",
       "      <th>fractal_dimension_mean</th>\n",
       "      <th>radius_se</th>\n",
       "      <th>texture_se</th>\n",
       "      <th>perimeter_se</th>\n",
       "      <th>area_se</th>\n",
       "      <th>smoothness_se</th>\n",
       "      <th>compactness_se</th>\n",
       "      <th>concavity_se</th>\n",
       "      <th>concave points_se</th>\n",
       "      <th>symmetry_se</th>\n",
       "      <th>fractal_dimension_se</th>\n",
       "      <th>radius_worst</th>\n",
       "      <th>texture_worst</th>\n",
       "      <th>perimeter_worst</th>\n",
       "      <th>area_worst</th>\n",
       "      <th>smoothness_worst</th>\n",
       "      <th>compactness_worst</th>\n",
       "      <th>concavity_worst</th>\n",
       "      <th>concave points_worst</th>\n",
       "      <th>symmetry_worst</th>\n",
       "      <th>fractal_dimension_worst</th>\n",
       "    </tr>\n",
       "  </thead>\n",
       "  <tbody>\n",
       "    <tr>\n",
       "      <th>0</th>\n",
       "      <td>-0.23641</td>\n",
       "      <td>1.09706</td>\n",
       "      <td>-2.07334</td>\n",
       "      <td>1.26993</td>\n",
       "      <td>0.98437</td>\n",
       "      <td>1.56847</td>\n",
       "      <td>3.28351</td>\n",
       "      <td>2.65287</td>\n",
       "      <td>2.53248</td>\n",
       "      <td>2.21752</td>\n",
       "      <td>2.25575</td>\n",
       "      <td>2.48973</td>\n",
       "      <td>-0.56527</td>\n",
       "      <td>2.83303</td>\n",
       "      <td>2.48758</td>\n",
       "      <td>-0.21400</td>\n",
       "      <td>1.31686</td>\n",
       "      <td>0.72403</td>\n",
       "      <td>0.66082</td>\n",
       "      <td>1.14876</td>\n",
       "      <td>0.90708</td>\n",
       "      <td>1.88669</td>\n",
       "      <td>-1.35929</td>\n",
       "      <td>2.30360</td>\n",
       "      <td>2.00124</td>\n",
       "      <td>1.30769</td>\n",
       "      <td>2.61667</td>\n",
       "      <td>2.10953</td>\n",
       "      <td>2.29608</td>\n",
       "      <td>2.75062</td>\n",
       "      <td>1.93701</td>\n",
       "    </tr>\n",
       "    <tr>\n",
       "      <th>1</th>\n",
       "      <td>-0.23640</td>\n",
       "      <td>1.82982</td>\n",
       "      <td>-0.35363</td>\n",
       "      <td>1.68595</td>\n",
       "      <td>1.90871</td>\n",
       "      <td>-0.82696</td>\n",
       "      <td>-0.48707</td>\n",
       "      <td>-0.02385</td>\n",
       "      <td>0.54814</td>\n",
       "      <td>0.00139</td>\n",
       "      <td>-0.86865</td>\n",
       "      <td>0.49925</td>\n",
       "      <td>-0.87624</td>\n",
       "      <td>0.26333</td>\n",
       "      <td>0.74240</td>\n",
       "      <td>-0.60535</td>\n",
       "      <td>-0.69293</td>\n",
       "      <td>-0.44078</td>\n",
       "      <td>0.26016</td>\n",
       "      <td>-0.80545</td>\n",
       "      <td>-0.09944</td>\n",
       "      <td>1.80593</td>\n",
       "      <td>-0.36920</td>\n",
       "      <td>1.53513</td>\n",
       "      <td>1.89049</td>\n",
       "      <td>-0.37561</td>\n",
       "      <td>-0.43044</td>\n",
       "      <td>-0.14675</td>\n",
       "      <td>1.08708</td>\n",
       "      <td>-0.24389</td>\n",
       "      <td>0.28119</td>\n",
       "    </tr>\n",
       "    <tr>\n",
       "      <th>2</th>\n",
       "      <td>0.43174</td>\n",
       "      <td>1.57989</td>\n",
       "      <td>0.45619</td>\n",
       "      <td>1.56650</td>\n",
       "      <td>1.55888</td>\n",
       "      <td>0.94221</td>\n",
       "      <td>1.05293</td>\n",
       "      <td>1.36348</td>\n",
       "      <td>2.03723</td>\n",
       "      <td>0.93968</td>\n",
       "      <td>-0.39801</td>\n",
       "      <td>1.22868</td>\n",
       "      <td>-0.78008</td>\n",
       "      <td>0.85093</td>\n",
       "      <td>1.18134</td>\n",
       "      <td>-0.29701</td>\n",
       "      <td>0.81497</td>\n",
       "      <td>0.21308</td>\n",
       "      <td>1.42483</td>\n",
       "      <td>0.23704</td>\n",
       "      <td>0.29356</td>\n",
       "      <td>1.51187</td>\n",
       "      <td>-0.02397</td>\n",
       "      <td>1.34748</td>\n",
       "      <td>1.45628</td>\n",
       "      <td>0.52741</td>\n",
       "      <td>1.08293</td>\n",
       "      <td>0.85497</td>\n",
       "      <td>1.95500</td>\n",
       "      <td>1.15226</td>\n",
       "      <td>0.20139</td>\n",
       "    </tr>\n",
       "    <tr>\n",
       "      <th>3</th>\n",
       "      <td>0.43212</td>\n",
       "      <td>-0.76891</td>\n",
       "      <td>0.25373</td>\n",
       "      <td>-0.59269</td>\n",
       "      <td>-0.76446</td>\n",
       "      <td>3.28355</td>\n",
       "      <td>3.40291</td>\n",
       "      <td>1.91590</td>\n",
       "      <td>1.45171</td>\n",
       "      <td>2.86738</td>\n",
       "      <td>4.91092</td>\n",
       "      <td>0.32637</td>\n",
       "      <td>-0.11041</td>\n",
       "      <td>0.28659</td>\n",
       "      <td>-0.28838</td>\n",
       "      <td>0.68970</td>\n",
       "      <td>2.74428</td>\n",
       "      <td>0.81952</td>\n",
       "      <td>1.11501</td>\n",
       "      <td>4.73268</td>\n",
       "      <td>2.04751</td>\n",
       "      <td>-0.28146</td>\n",
       "      <td>0.13398</td>\n",
       "      <td>-0.24994</td>\n",
       "      <td>-0.55002</td>\n",
       "      <td>3.39427</td>\n",
       "      <td>3.89340</td>\n",
       "      <td>1.98959</td>\n",
       "      <td>2.17579</td>\n",
       "      <td>6.04604</td>\n",
       "      <td>4.93501</td>\n",
       "    </tr>\n",
       "    <tr>\n",
       "      <th>4</th>\n",
       "      <td>0.43220</td>\n",
       "      <td>1.75030</td>\n",
       "      <td>-1.15182</td>\n",
       "      <td>1.77657</td>\n",
       "      <td>1.82623</td>\n",
       "      <td>0.28037</td>\n",
       "      <td>0.53934</td>\n",
       "      <td>1.37101</td>\n",
       "      <td>1.42849</td>\n",
       "      <td>-0.00956</td>\n",
       "      <td>-0.56245</td>\n",
       "      <td>1.27054</td>\n",
       "      <td>-0.79024</td>\n",
       "      <td>1.27319</td>\n",
       "      <td>1.19036</td>\n",
       "      <td>1.48307</td>\n",
       "      <td>-0.04852</td>\n",
       "      <td>0.82847</td>\n",
       "      <td>1.14420</td>\n",
       "      <td>-0.36109</td>\n",
       "      <td>0.49933</td>\n",
       "      <td>1.29858</td>\n",
       "      <td>-1.46677</td>\n",
       "      <td>1.33854</td>\n",
       "      <td>1.22072</td>\n",
       "      <td>0.22056</td>\n",
       "      <td>-0.31339</td>\n",
       "      <td>0.61318</td>\n",
       "      <td>0.72926</td>\n",
       "      <td>-0.86835</td>\n",
       "      <td>-0.39710</td>\n",
       "    </tr>\n",
       "  </tbody>\n",
       "</table>\n",
       "</div>"
      ],
      "text/plain": [
       "        id  radius_mean  texture_mean  perimeter_mean  area_mean  \\\n",
       "0 -0.23641      1.09706      -2.07334         1.26993    0.98437   \n",
       "1 -0.23640      1.82982      -0.35363         1.68595    1.90871   \n",
       "2  0.43174      1.57989       0.45619         1.56650    1.55888   \n",
       "3  0.43212     -0.76891       0.25373        -0.59269   -0.76446   \n",
       "4  0.43220      1.75030      -1.15182         1.77657    1.82623   \n",
       "\n",
       "   smoothness_mean  compactness_mean  concavity_mean  concave points_mean  \\\n",
       "0          1.56847           3.28351         2.65287              2.53248   \n",
       "1         -0.82696          -0.48707        -0.02385              0.54814   \n",
       "2          0.94221           1.05293         1.36348              2.03723   \n",
       "3          3.28355           3.40291         1.91590              1.45171   \n",
       "4          0.28037           0.53934         1.37101              1.42849   \n",
       "\n",
       "   symmetry_mean  fractal_dimension_mean  radius_se  texture_se  perimeter_se  \\\n",
       "0        2.21752                 2.25575    2.48973    -0.56527       2.83303   \n",
       "1        0.00139                -0.86865    0.49925    -0.87624       0.26333   \n",
       "2        0.93968                -0.39801    1.22868    -0.78008       0.85093   \n",
       "3        2.86738                 4.91092    0.32637    -0.11041       0.28659   \n",
       "4       -0.00956                -0.56245    1.27054    -0.79024       1.27319   \n",
       "\n",
       "   area_se  smoothness_se  compactness_se  concavity_se  concave points_se  \\\n",
       "0  2.48758       -0.21400         1.31686       0.72403            0.66082   \n",
       "1  0.74240       -0.60535        -0.69293      -0.44078            0.26016   \n",
       "2  1.18134       -0.29701         0.81497       0.21308            1.42483   \n",
       "3 -0.28838        0.68970         2.74428       0.81952            1.11501   \n",
       "4  1.19036        1.48307        -0.04852       0.82847            1.14420   \n",
       "\n",
       "   symmetry_se  fractal_dimension_se  radius_worst  texture_worst  \\\n",
       "0      1.14876               0.90708       1.88669       -1.35929   \n",
       "1     -0.80545              -0.09944       1.80593       -0.36920   \n",
       "2      0.23704               0.29356       1.51187       -0.02397   \n",
       "3      4.73268               2.04751      -0.28146        0.13398   \n",
       "4     -0.36109               0.49933       1.29858       -1.46677   \n",
       "\n",
       "   perimeter_worst  area_worst  smoothness_worst  compactness_worst  \\\n",
       "0          2.30360     2.00124           1.30769            2.61667   \n",
       "1          1.53513     1.89049          -0.37561           -0.43044   \n",
       "2          1.34748     1.45628           0.52741            1.08293   \n",
       "3         -0.24994    -0.55002           3.39427            3.89340   \n",
       "4          1.33854     1.22072           0.22056           -0.31339   \n",
       "\n",
       "   concavity_worst  concave points_worst  symmetry_worst  \\\n",
       "0          2.10953               2.29608         2.75062   \n",
       "1         -0.14675               1.08708        -0.24389   \n",
       "2          0.85497               1.95500         1.15226   \n",
       "3          1.98959               2.17579         6.04604   \n",
       "4          0.61318               0.72926        -0.86835   \n",
       "\n",
       "   fractal_dimension_worst  \n",
       "0                  1.93701  \n",
       "1                  0.28119  \n",
       "2                  0.20139  \n",
       "3                  4.93501  \n",
       "4                 -0.39710  "
      ]
     },
     "execution_count": 25,
     "metadata": {},
     "output_type": "execute_result"
    }
   ],
   "source": [
    "scaled_X = scale_data(X=X)\n",
    "scaled_X.head()"
   ]
  },
  {
   "cell_type": "markdown",
   "metadata": {
    "id": "t0hQw53rdnvv"
   },
   "source": [
    "<a name = Section72></a>\n",
    "\n",
    "### **7.2 Data Preparation**\n",
    "\n",
    "- Now we will **split** our **data** in **training** and **testing** part for further development."
   ]
  },
  {
   "cell_type": "markdown",
   "metadata": {
    "id": "UZo2q50spg1A"
   },
   "source": [
    "---\n",
    "**<h4>Question 8**: Create a function that splits X and y into train and test dataset.</h4>\n",
    "\n",
    "---\n",
    "\n",
    "<details>\n",
    "\n",
    "**<summary>Hint:</summary>**\n",
    "\n",
    "- Use `.train_test_split()` method to split the dataset.\n",
    "\n",
    "- Use `test_size` = **0.25** and `random_state` = **42**.\n",
    "\n",
    "- **Stratify** the target variable.\n",
    "\n",
    "</details>\n",
    "\n",
    "\n"
   ]
  },
  {
   "cell_type": "code",
   "execution_count": 26,
   "metadata": {
    "executionInfo": {
     "elapsed": 6,
     "status": "ok",
     "timestamp": 1687409707253,
     "user": {
      "displayName": "Yash Chauhan",
      "userId": "03194567605433747724"
     },
     "user_tz": -330
    },
    "id": "qego7xSQp_Om"
   },
   "outputs": [],
   "source": [
    "def data_split(X=None, y=None):\n",
    "    X_train, X_test, y_train, y_test = train_test_split(X, y, test_size = 0.25, random_state = 42, stratify = y)\n",
    "\n",
    "    print('Training Data Shape:', X_train.shape, y_train.shape)\n",
    "    print('Testing Data Shape:', X_test.shape, y_test.shape)\n",
    "    return X_train, X_test, y_train, y_test"
   ]
  },
  {
   "cell_type": "code",
   "execution_count": 27,
   "metadata": {
    "colab": {
     "base_uri": "https://localhost:8080/"
    },
    "executionInfo": {
     "elapsed": 7,
     "status": "ok",
     "timestamp": 1687409707254,
     "user": {
      "displayName": "Yash Chauhan",
      "userId": "03194567605433747724"
     },
     "user_tz": -330
    },
    "id": "Dag-3v6-pZVM",
    "outputId": "da36366f-6a1c-49dc-d192-f10771cdd21b"
   },
   "outputs": [
    {
     "name": "stdout",
     "output_type": "stream",
     "text": [
      "Training Data Shape: (426, 31) (426,)\n",
      "Testing Data Shape: (143, 31) (143,)\n"
     ]
    }
   ],
   "source": [
    "X_train, X_test, y_train, y_test = data_split(X=scaled_X, y=y)"
   ]
  },
  {
   "cell_type": "markdown",
   "metadata": {
    "id": "Oz0wFNUEd_ox"
   },
   "source": [
    "<a name = Section8></a>\n",
    "\n",
    "---\n",
    "# **8. Modelling Development & Evaluation**\n",
    "---"
   ]
  },
  {
   "cell_type": "markdown",
   "metadata": {
    "id": "hzcIXXK6YQ6g"
   },
   "source": [
    "<a name = Section81></a>\n",
    "\n",
    "### **8.1 Modelling Development & Evaluation without PCA**\n",
    "\n",
    "- In this section, we will develop some baseline models using the train and test set."
   ]
  },
  {
   "cell_type": "markdown",
   "metadata": {
    "id": "Jqm0ograshoX"
   },
   "source": [
    "---\n",
    "**<h4>Question 9**: Write a function to instantiate a RandomForestClassifier and a LogisticRegression using scikit learn.</h4>\n",
    "\n",
    "---\n",
    "\n",
    "<details>\n",
    "\n",
    "**<summary>Hint:</summary>**\n",
    "\n",
    "- Use `RandomForestClassifier()` to instantiate a random forest model.\n",
    "\n",
    "- Use `LogisticRegression()` to instantiate a logistic regression model.\n",
    "\n",
    "- Use `random_state` equal to **0** for both the models.\n",
    "\n",
    "- Put both the models in a list and return the list.\n",
    "\n",
    "</details>\n"
   ]
  },
  {
   "cell_type": "code",
   "execution_count": 28,
   "metadata": {
    "executionInfo": {
     "elapsed": 4,
     "status": "ok",
     "timestamp": 1687409707910,
     "user": {
      "displayName": "Yash Chauhan",
      "userId": "03194567605433747724"
     },
     "user_tz": -330
    },
    "id": "miwY5F7ttBbj"
   },
   "outputs": [],
   "source": [
    "def models_initialize():\n",
    "    return [RandomForestClassifier(random_state=0), LogisticRegression(random_state=0)]"
   ]
  },
  {
   "cell_type": "code",
   "execution_count": 29,
   "metadata": {
    "colab": {
     "base_uri": "https://localhost:8080/"
    },
    "executionInfo": {
     "elapsed": 4,
     "status": "ok",
     "timestamp": 1687409707910,
     "user": {
      "displayName": "Yash Chauhan",
      "userId": "03194567605433747724"
     },
     "user_tz": -330
    },
    "id": "hbeFWYv3sGWG",
    "outputId": "60961f3e-29dd-4a80-e6f5-9663dbcea084"
   },
   "outputs": [
    {
     "data": {
      "text/plain": [
       "[RandomForestClassifier(random_state=0), LogisticRegression(random_state=0)]"
      ]
     },
     "execution_count": 29,
     "metadata": {},
     "output_type": "execute_result"
    }
   ],
   "source": [
    "clfs = models_initialize()\n",
    "clfs"
   ]
  },
  {
   "cell_type": "markdown",
   "metadata": {
    "id": "fgTTHJHP04eT"
   },
   "source": [
    "---\n",
    "**<h4>Question 10**: Fit and evaluate the models and calculate the time taken by each classifier to fit.</h4>\n",
    "\n",
    "---\n",
    "\n",
    "<details>\n",
    "\n",
    "**<summary>Hint:</summary>**\n",
    "\n",
    "- `Fit` both the models on training set.\n",
    "\n",
    "- `Predict` the values on the train set and the test set.\n",
    "\n",
    "- Evaluate them using the `accuracy_score` on the train set and the test set.\n",
    "\n",
    "</details>\n"
   ]
  },
  {
   "cell_type": "code",
   "execution_count": 30,
   "metadata": {
    "executionInfo": {
     "elapsed": 3,
     "status": "ok",
     "timestamp": 1687409707910,
     "user": {
      "displayName": "Yash Chauhan",
      "userId": "03194567605433747724"
     },
     "user_tz": -330
    },
    "id": "GCh5q4i6-63E"
   },
   "outputs": [],
   "source": [
    "import time\n",
    "\n",
    "def train_n_eval(clfs=None, X_train=None, y_train=None, X_test=None, y_test=None):\n",
    "\n",
    "    for clf in clfs:\n",
    "        # Extracting model name\n",
    "        model_name = type(clf).__name__\n",
    "        \n",
    "        # Calculate start time\n",
    "        start_time = time.time()\n",
    "\n",
    "        # Fit the model on train data\n",
    "        clf.fit(X_train, y_train)\n",
    "\n",
    "        # Make predictions using train data\n",
    "        y_pred_train = clf.predict(X_train)\n",
    "\n",
    "        # Calculate accuracy of the model\n",
    "        clf_train_accuracy = accuracy_score(y_train, y_pred_train)\n",
    "\n",
    "        # Make predictions using test data\n",
    "        y_pred = clf.predict(X_test)\n",
    "\n",
    "        # Calculate accuracy of the model\n",
    "        clf_accuracy = accuracy_score(y_test, y_pred)\n",
    "        \n",
    "        # Calculate evaluated time\n",
    "        elapsed_time = (time.time() - start_time)\n",
    "\n",
    "        # Display the accuracy of the model\n",
    "        print('----------------------------------------\\n')\n",
    "        print('Performance Metric of', model_name, ':')\n",
    "        print('[Train Accuracy]:', clf_train_accuracy)\n",
    "        print('[Test Accuracy]:', clf_accuracy)\n",
    "        print('[Processing time]:', elapsed_time)\n",
    "        print('----------------------------------------\\n')"
   ]
  },
  {
   "cell_type": "code",
   "execution_count": 31,
   "metadata": {
    "colab": {
     "base_uri": "https://localhost:8080/"
    },
    "executionInfo": {
     "elapsed": 538,
     "status": "ok",
     "timestamp": 1687409708445,
     "user": {
      "displayName": "Yash Chauhan",
      "userId": "03194567605433747724"
     },
     "user_tz": -330
    },
    "id": "DaXC5ir71m_1",
    "outputId": "d10c8b62-f223-48c7-a8ea-fe2c88eed159"
   },
   "outputs": [
    {
     "name": "stdout",
     "output_type": "stream",
     "text": [
      "----------------------------------------\n",
      "\n",
      "Performance Metric of RandomForestClassifier :\n",
      "[Train Accuracy]: 1.0\n",
      "[Test Accuracy]: 0.9790209790209791\n",
      "[Processing time]: 0.17597007751464844\n",
      "----------------------------------------\n",
      "\n",
      "----------------------------------------\n",
      "\n",
      "Performance Metric of LogisticRegression :\n",
      "[Train Accuracy]: 0.9882629107981221\n",
      "[Test Accuracy]: 0.965034965034965\n",
      "[Processing time]: 0.10927987098693848\n",
      "----------------------------------------\n",
      "\n"
     ]
    }
   ],
   "source": [
    "train_n_eval(clfs=clfs, X_train=X_train, y_train=y_train, X_test=X_test, y_test=y_test)"
   ]
  },
  {
   "cell_type": "markdown",
   "metadata": {
    "id": "qgRQZi34PJrB"
   },
   "source": [
    "**Observations:**\n",
    "\n",
    "- Both the models **fit well** on the data."
   ]
  },
  {
   "cell_type": "markdown",
   "metadata": {
    "id": "T_cnb0roCn7h"
   },
   "source": [
    "<a name = Section82></a>\n",
    "\n",
    "### **8.2 Dimensionality Reduction using PCA**\n",
    "\n",
    "- In this section, we will reduce the train and test set using Principal Component Analysis."
   ]
  },
  {
   "cell_type": "markdown",
   "metadata": {
    "id": "2vDSFtbKgRiV"
   },
   "source": [
    "---\n",
    "**<h4>Question 11**: Create a function that applies PCA to fit X and plot the variation of 95% of explained variance with number of features.</h4>\n",
    "\n",
    "---\n",
    "\n",
    "<details>\n",
    "\n",
    "**<summary>Hint:</summary>**\n",
    "\n",
    "- Instantiate PCA using `PCA()`\n",
    "\n",
    "- Use `random_state` = **0** and keep `n_components` = 0.95 in the PCA model.\n",
    "\n",
    "- Fit the PCA model on X_train dataframe.\n",
    "\n",
    "- Use `np.cumsum()` to calculate the **total variance** over the different number of principal components.\n",
    "\n",
    "- Plot the **variance** against the **number of principal components**.\n",
    "\n",
    "- Look at the plot and try to figure out the value of **number of principal components** explaining **95%** of variance.\n",
    "\n",
    "</details>\n"
   ]
  },
  {
   "cell_type": "code",
   "execution_count": 32,
   "metadata": {
    "executionInfo": {
     "elapsed": 8,
     "status": "ok",
     "timestamp": 1687409721977,
     "user": {
      "displayName": "Yash Chauhan",
      "userId": "03194567605433747724"
     },
     "user_tz": -330
    },
    "id": "H5tf9_6HgRiV"
   },
   "outputs": [],
   "source": [
    "def apply_pca():\n",
    "\n",
    "    pca = PCA(n_components=0.95, random_state=0)\n",
    "    pca.fit(X_train)\n",
    "\n",
    "    # Calculate the variance %\n",
    "    var = np.cumsum(a=np.round(a=pca.explained_variance_ratio_, decimals=3)*100)\n",
    "\n",
    "    print(str(len(pca.explained_variance_ratio_))+' components explain '+str(var[-1])+'% variance of the data')\n",
    "\n",
    "    # Create a 10 x 7 inches figure\n",
    "    fig = plt.figure(figsize=(10, 7))\n",
    "\n",
    "    # Plot the variance graph\n",
    "    plt.plot(var)\n",
    "\n",
    "    # Add some cosmetics\n",
    "    plt.ylabel(ylabel='% Variance Explained', size=14)\n",
    "    plt.xlabel(xlabel='Number of Features', size=14)\n",
    "    plt.title(label='PCA Analysis', size=16)\n",
    "    plt.xticks(size=12)\n",
    "    plt.yticks(size=12)\n",
    "    plt.ylim(bottom=30, top=100.5)\n",
    "\n",
    "    # Show the output\n",
    "    plt.show()"
   ]
  },
  {
   "cell_type": "code",
   "execution_count": 33,
   "metadata": {
    "colab": {
     "base_uri": "https://localhost:8080/",
     "height": 669
    },
    "executionInfo": {
     "elapsed": 8,
     "status": "ok",
     "timestamp": 1687409721977,
     "user": {
      "displayName": "Yash Chauhan",
      "userId": "03194567605433747724"
     },
     "user_tz": -330
    },
    "id": "SANzD12E6RZd",
    "outputId": "4f16d483-c27e-4fd9-f1f2-0084e3b55327"
   },
   "outputs": [
    {
     "name": "stdout",
     "output_type": "stream",
     "text": [
      "11 components explain 95.39999999999999% variance of the data\n"
     ]
    },
    {
     "data": {
      "image/png": "[encoded data removed]",
      "text/plain": [
       "<Figure size 1000x700 with 1 Axes>"
      ]
     },
     "metadata": {},
     "output_type": "display_data"
    }
   ],
   "source": [
    "apply_pca()"
   ]
  },
  {
   "cell_type": "markdown",
   "metadata": {
    "id": "yzbOjVbZLsu2"
   },
   "source": [
    "**Observations:**\n",
    "\n",
    "- **95% variance** can be **achieved** with only **11 principal components**.\n",
    "\n",
    "- We will run PCA again on **X_train** and **X_test** with **11 components** and build our model based on that data."
   ]
  },
  {
   "cell_type": "markdown",
   "metadata": {
    "id": "bpVpZGTQ-Fv7"
   },
   "source": [
    "---\n",
    "**<h4>Question 12**: Create a functioin to apply PCA on X with number of principal components = 11.</h4>\n",
    "\n",
    "---\n",
    "\n",
    "<details>\n",
    "\n",
    "**<summary>Hint:</summary>**\n",
    "\n",
    "- Keep `n_components` as value that explain **95% variance of data** (say 11).\n",
    "\n",
    "- Use `random_state` as **0** in the PCA model.\n",
    "\n",
    "- Fit and transform X_train using `.fit_transform()`.\n",
    "\n",
    "- Transform X_test using `.transform()`.\n",
    "\n",
    "</details>\n",
    "\n"
   ]
  },
  {
   "cell_type": "code",
   "execution_count": 34,
   "metadata": {
    "executionInfo": {
     "elapsed": 1,
     "status": "ok",
     "timestamp": 1687409722910,
     "user": {
      "displayName": "Yash Chauhan",
      "userId": "03194567605433747724"
     },
     "user_tz": -330
    },
    "id": "LK2uKmbE6VU_"
   },
   "outputs": [],
   "source": [
    "def generate_pca(X_train=None, X_test=None):\n",
    "    pca = PCA(n_components=11, random_state=0)\n",
    "    X_train = pca.fit_transform(X_train)\n",
    "    X_test = pca.transform(X_test)\n",
    "    print('Shape of train set after PCA reduction:', X_train.shape)\n",
    "    print('Shape of test set after PCA reduction:', X_test.shape)\n",
    "    return X_train, X_test"
   ]
  },
  {
   "cell_type": "code",
   "execution_count": 35,
   "metadata": {
    "colab": {
     "base_uri": "https://localhost:8080/"
    },
    "executionInfo": {
     "elapsed": 2,
     "status": "ok",
     "timestamp": 1687409723667,
     "user": {
      "displayName": "Yash Chauhan",
      "userId": "03194567605433747724"
     },
     "user_tz": -330
    },
    "id": "Kw63LhKJ6jL_",
    "outputId": "0a6c6958-5686-4f1c-eea0-bdba95e4ae7a"
   },
   "outputs": [
    {
     "name": "stdout",
     "output_type": "stream",
     "text": [
      "Shape of train set after PCA reduction: (426, 11)\n",
      "Shape of test set after PCA reduction: (143, 11)\n"
     ]
    }
   ],
   "source": [
    "X_train_pca, X_test_pca = generate_pca(X_train=X_train, X_test=X_test)"
   ]
  },
  {
   "cell_type": "markdown",
   "metadata": {
    "id": "A-X_fTW4ejGv"
   },
   "source": [
    "<a name = Section83></a>\n",
    "\n",
    "### **8.3 Modelling Development & Evaluation after PCA**\n",
    "\n",
    "- In this section, we will develop new models using the PCA reduced train and test set."
   ]
  },
  {
   "cell_type": "markdown",
   "metadata": {
    "id": "KBWobNq0_wW4"
   },
   "source": [
    "---\n",
    "**<h4>Question 13**: Use the previously generated functions to split the train-test data, train the model, make predictions on test-set and evaluate the model.</h4>\n",
    "\n",
    "---\n",
    "\n",
    "<details>\n",
    "\n",
    "**<summary>Hint:</summary>**\n",
    "\n",
    "- Use the previously generated functions - `models_initialize()` and `train_n_eval()` for model generation, training and evaluation on the reduced data.\n",
    "\n",
    "</details>\n",
    "\n"
   ]
  },
  {
   "cell_type": "code",
   "execution_count": 36,
   "metadata": {
    "colab": {
     "base_uri": "https://localhost:8080/"
    },
    "executionInfo": {
     "elapsed": 636,
     "status": "ok",
     "timestamp": 1687409724925,
     "user": {
      "displayName": "Yash Chauhan",
      "userId": "03194567605433747724"
     },
     "user_tz": -330
    },
    "id": "2e-kjmjfB7Nz",
    "outputId": "ed37afd5-b980-4ea4-b37b-07329eaffd7e"
   },
   "outputs": [
    {
     "name": "stdout",
     "output_type": "stream",
     "text": [
      "----------------------------------------\n",
      "\n",
      "Performance Metric of RandomForestClassifier :\n",
      "[Train Accuracy]: 1.0\n",
      "[Test Accuracy]: 0.951048951048951\n",
      "[Processing time]: 0.15411806106567383\n",
      "----------------------------------------\n",
      "\n",
      "----------------------------------------\n",
      "\n",
      "Performance Metric of LogisticRegression :\n",
      "[Train Accuracy]: 0.9882629107981221\n",
      "[Test Accuracy]: 0.972027972027972\n",
      "[Processing time]: 0.003668069839477539\n",
      "----------------------------------------\n",
      "\n"
     ]
    }
   ],
   "source": [
    "train_n_eval(clfs=models_initialize(), X_train=X_train_pca, y_train=y_train, X_test=X_test_pca, y_test=y_test)"
   ]
  },
  {
   "cell_type": "markdown",
   "metadata": {
    "id": "iQO28waQK7Gv"
   },
   "source": [
    "**Observations:**\n",
    "\n",
    "- We can see that the newly trained models have scored **similar accuracies**.\n",
    "\n",
    "- These models seem to be **fitted well** on the **reduced data**.\n",
    "\n",
    "- We observe a **comparable accuracy** even **after reducing** the features."
   ]
  },
  {
   "cell_type": "markdown",
   "metadata": {
    "id": "8r7Y8iWaJ5s6"
   },
   "source": [
    "<a name = Section9></a>\n",
    "\n",
    "---\n",
    "# **9. Conclusion**\n",
    "---\n",
    "\n",
    "- We can use the above two models to check their **performance** on some **undisclosed records**.\n",
    "\n",
    "- This will help us to get a **general idea** of their **real-time accuracy**.\n",
    "\n",
    "- The **achieved performance** then can be used to **compare** and **finalize** our model for breast cancer detection."
   ]
  }
 ],
 "metadata": {
  "colab": {
   "provenance": []
  },
  "kernelspec": {
   "display_name": "Python 3 (ipykernel)",
   "language": "python",
   "name": "python3"
  },
  "language_info": {
   "codemirror_mode": {
    "name": "ipython",
    "version": 3
   },
   "file_extension": ".py",
   "mimetype": "text/x-python",
   "name": "python",
   "nbconvert_exporter": "python",
   "pygments_lexer": "ipython3",
   "version": "3.9.13"
  }
 },
 "nbformat": 4,
 "nbformat_minor": 1
}
