{
 "cells": [
  {
   "cell_type": "markdown",
   "metadata": {
    "id": "x8ZZt9r618pJ"
   },
   "source": [
    "# <center>Cross Validation</center>"
   ]
  },
  {
   "cell_type": "markdown",
   "metadata": {
    "id": "Q3_cMoLq2FwB"
   },
   "source": [
    "---\n",
    "# **Table of Contents**\n",
    "---\n",
    "\n",
    "**1.** [**Introduction**](#Section1)<br>\n",
    "  - **1.1** [**Understanding Cross Validation**](#Section11)\n",
    "  - **1.2** [**Importance of Cross Validation**](#Section12)\n",
    "  - **1.3** [**Techniques of Cross Validation**](#Section13)\n",
    "\n",
    "**2.** [**Problem Statement**](#Section2)<br>\n",
    "**3.** [**Installing & Importing Libraries**](#Section3)<br>\n",
    "  - **3.1** [**Installing Libraries**](#Section31)\n",
    "  - **3.2** [**Importing Libraries**](#Section32)\n",
    "\n",
    "**4.** [**Data Acquisition & Description**](#Section4)<br>\n",
    "  - **4.1** [**Data Description**](#Section41)\n",
    "  - **4.2** [**Data Information**](#Section42)\n",
    "  - **4.3** [**Data Pre Profiling**](#Section43)\n",
    "\n",
    "**5.** [**Data Processing & Model Evaluation**](#Section5)<br>\n",
    "  - **5.1** [**Hold Out Cross Validation**](#Section51)<br>\n",
    "    - **5.1.1** [**Model Evaluation**](#Section511)<br>\n",
    "    - **5.1.2** [**Model Performance**](#Section512)<br>\n",
    "  - **5.2** [**K Fold Cross Validation**](#Section52)<br>  \n",
    "\n",
    "**6.** [**Conclusion**](#Section6)<br>\n",
    "\n"
   ]
  },
  {
   "cell_type": "markdown",
   "metadata": {
    "id": "HCEGDN1fev-D"
   },
   "source": [
    "---\n",
    "<a name = Section1></a>\n",
    "# **1. Introduction**\n",
    "---\n",
    "\n",
    "<br>\n"
   ]
  },
  {
   "cell_type": "markdown",
   "metadata": {
    "id": "CcFADp3o7Y7O"
   },
   "source": [
    "<center><img src =\"https://miro.medium.com/v2/resize:fit:842/1*SEBYJsfhpcYC43CutV1V5g.png\" height = \"500\" /></center>"
   ]
  },
  {
   "cell_type": "markdown",
   "metadata": {
    "id": "MOwBLpdP4GN2"
   },
   "source": [
    "<br>\n",
    "\n",
    "<a name = Section11></a>\n",
    "### **1.1 Understanding Cross Validation**\n",
    "\n",
    "- Cross-validation is a technique that **addresses** the challenge of **model** **evaluation** by **simulating** how a model would **perform** on new data.\n",
    "- It involves **partitioning** the dataset into **subsets** for training and testing, enabling **multiple rounds of model evaluation**.\n",
    "- The **primary** **goal** is to **estimate** the **model's performance metrics**, such as accuracy or mean squared error, on a more representative sample of data.\n",
    "\n"
   ]
  },
  {
   "cell_type": "markdown",
   "metadata": {
    "id": "VFVrXcfM7p1K"
   },
   "source": [
    "<center><img src =\"https://scikit-learn.org/stable/_images/grid_search_cross_validation.png\" height = \"500\" /></center>"
   ]
  },
  {
   "cell_type": "markdown",
   "metadata": {
    "id": "7l5ysOQA0PBr"
   },
   "source": [
    "<br>\n",
    "\n",
    "<a name = Section12></a>\n",
    "### **1.2 Importance of Cross Validation**\n",
    "\n",
    "- **Model Performance Assessment**: Cross-validation provides a **robust** and **unbiased** **estimate** of how well a model is expected to **perform** on new data. It **simulates** the **model's behavior on new data** by repeatedly training and validating it on different subsets of the dataset.\n",
    "\n",
    "- **Overfitting Detection and Prevention**: Cross-validation helps identify whether a model is overfitting by **evaluating its performance** on **multiple data subsets.**\n",
    "\n",
    "- **Model Selection**: Cross-validation helps in **comparing** the **performance** of **different models** on the **same dataset**. It helps in selecting the one that **performs the best on average** across different validation sets.\n",
    "\n",
    "- **Hyperparameter Tuning**: Many machine learning algorithms have parameters (**hyperparameters**) that **need to be set before training**. Cross-validation helps in **tuning** these hyperparameters effectively. By trying out different combinations of hyperparameters and evaluating their impact on performance across folds, one can find the **optimal configuration**.\n",
    "\n",
    "- **Bias-Variance Tradeoff**: Cross-validation **assists** in **understanding the trade-off** between bias and variance in a model. Cross-validation helps in maintaining the **right balance** between the two."
   ]
  },
  {
   "cell_type": "markdown",
   "metadata": {
    "id": "_kRAl3tb73Hk"
   },
   "source": [
    "<center><img src =\"https://miro.medium.com/v2/resize:fit:671/1*pIptNvUJHFiJ_lizQsxyOw.png\" height = 500 /></center>"
   ]
  },
  {
   "cell_type": "markdown",
   "metadata": {
    "id": "zYh7KIzh2UMm"
   },
   "source": [
    "<br>\n",
    "\n",
    "<a name = Section13></a>\n",
    "### **1.3 Techniques of Cross Validation**\n",
    "There are many techniques of cross validation. But, these are the most common methods:\n",
    "- **Holdout Validation**: This is the **simplest form** of cross-validation. It involves **splitting the dataset** into two parts: a training set and a validation set. The model is trained on the training set and evaluated on the validation set.\n",
    "  - Advantages:\n",
    "     - **Easy** to implement.\n",
    "     - **Quick** to **compute**.\n",
    "  - Disadvantages:\n",
    "     - **Variability** in performance due to small validation set.\n",
    "     - **Less reliable** performance estimation.\n",
    "<center><img src =\"https://miro.medium.com/v2/resize:fit:1400/1*0aJyXdHtRrEejuWUWFM07g.png\" /></center>\n",
    "\n",
    "- **K-Fold Cross-Validation**: In this technique, the dataset is divided into **k equally sized folds**. The model is **trained k times**, each time using **k-1 folds for training** and the remaining fold for validation. The **final** performance metric is the **average of the metrics** obtained in all iterations.\n",
    "  - Advantages:\n",
    "     - **More reliable** performance estimation.\n",
    "     - **Utilizes** the dataset more effectively.\n",
    "     - Helps in **detecting** model overfitting.\n",
    " - Disadvantages:\n",
    "     - Slightly **more computationally intensive** compared to holdout validation.\n",
    "<center><img src =\"https://www.konkconsulting.com/Content/images/articles/Article006/CrossValidation.gif\"\" /></center>     \n",
    "\n",
    "- **Stratified K-Fold Cross-Validation**: Particularly useful for **imbalanced datasets**, stratified K-Fold Cross-Validation **maintains the class distribution in each fold**.\n",
    "  - Advantages:\n",
    "   - Effective for **imbalanced datasets**.\n",
    "   - Provides **better representation** of class distributions.\n",
    "   - Improves **generalization** to different classes.\n",
    " - Disadvantages:\n",
    "    -  **Increased complexity** due to class balancing.\n",
    "<center><img src =\"https://d2mk45aasx86xg.cloudfront.net/image1_11zon_10bb3bd085.webp\" /></center>\n",
    "- **Leave-One-Out Cross-Validation (LOOCV)**: LOOCV takes **K-Fold Cross-Validation** to the **extreme**, where **each data point is used as a validation set** while the rest are used for training.\n",
    "  - Advantages:\n",
    "   - **Unbiased** performance estimate.\n",
    "   - **Best utilization** of available data.\n",
    "  - Disadvantages:\n",
    "    - Very **computationally intensive**, especially for **large datasets**.\n",
    "    - Prone to **high variance** due to limited training samples in each iteration.\n",
    "<center><img src =\"https://www.bijenpatel.com/content/images/2020/11/loocv.png\" /></center>    "
   ]
  },
  {
   "cell_type": "markdown",
   "metadata": {
    "id": "kBxgM5gY72CU"
   },
   "source": [
    "---\n",
    "<a name = Section2></a>\n",
    "# **2. Problem Statement**\n",
    "---\n"
   ]
  },
  {
   "cell_type": "markdown",
   "metadata": {
    "id": "IkdPxWTZyuS2"
   },
   "source": [
    "- The data used in this case study is **Melbourne Housing Snapshot dataset**.\n",
    "- The objective of this dataset is to to **predict Price** for houses based on some selected features.\n",
    "- Let's dive into this dataset, and find that **how can cross validation be helpful in analyzing the price of houses**.\n",
    "<center><img src =\"https://cdn.dribbble.com/users/1815739/screenshots/14259029/media/a2a57276c9dbdfeef8797c8fc024d839.gif\" /></center>\n"
   ]
  },
  {
   "cell_type": "markdown",
   "metadata": {
    "id": "vr8886hx73oV"
   },
   "source": [
    "---\n",
    "<a name = Section3></a>\n",
    "# **3. Installing & Importing Libraries**\n",
    "---"
   ]
  },
  {
   "cell_type": "markdown",
   "metadata": {
    "id": "fvgnHWrh783k"
   },
   "source": [
    "<a name = Section31></a>\n",
    "### **3.1 Installing Libraries**"
   ]
  },
  {
   "cell_type": "code",
   "execution_count": 1,
   "metadata": {
    "id": "LLn2K5javSep"
   },
   "outputs": [
    {
     "name": "stdout",
     "output_type": "stream",
     "text": [
      "Requirement already satisfied: fast_ml in /Users/harshalvibhandik/opt/anaconda3/lib/python3.9/site-packages (3.68)\n",
      "Requirement already satisfied: ydata-profiling in /Users/harshalvibhandik/opt/anaconda3/lib/python3.9/site-packages (4.6.3)\n",
      "Requirement already satisfied: numpy<1.26,>=1.16.0 in /Users/harshalvibhandik/opt/anaconda3/lib/python3.9/site-packages (from ydata-profiling) (1.23.5)\n",
      "Requirement already satisfied: htmlmin==0.1.12 in /Users/harshalvibhandik/opt/anaconda3/lib/python3.9/site-packages (from ydata-profiling) (0.1.12)\n",
      "Requirement already satisfied: tqdm<5,>=4.48.2 in /Users/harshalvibhandik/opt/anaconda3/lib/python3.9/site-packages (from ydata-profiling) (4.64.1)\n",
      "Requirement already satisfied: statsmodels<1,>=0.13.2 in /Users/harshalvibhandik/opt/anaconda3/lib/python3.9/site-packages (from ydata-profiling) (0.13.2)\n",
      "Requirement already satisfied: pydantic>=2 in /Users/harshalvibhandik/opt/anaconda3/lib/python3.9/site-packages (from ydata-profiling) (2.5.3)\n",
      "Requirement already satisfied: phik<0.13,>=0.11.1 in /Users/harshalvibhandik/opt/anaconda3/lib/python3.9/site-packages (from ydata-profiling) (0.12.3)\n",
      "Requirement already satisfied: typeguard<5,>=4.1.2 in /Users/harshalvibhandik/opt/anaconda3/lib/python3.9/site-packages (from ydata-profiling) (4.1.5)\n",
      "Requirement already satisfied: wordcloud>=1.9.1 in /Users/harshalvibhandik/opt/anaconda3/lib/python3.9/site-packages (from ydata-profiling) (1.9.2)\n",
      "Requirement already satisfied: imagehash==4.3.1 in /Users/harshalvibhandik/opt/anaconda3/lib/python3.9/site-packages (from ydata-profiling) (4.3.1)\n",
      "Requirement already satisfied: numba<0.59.0,>=0.56.0 in /Users/harshalvibhandik/opt/anaconda3/lib/python3.9/site-packages (from ydata-profiling) (0.58.1)\n",
      "Requirement already satisfied: seaborn<0.13,>=0.10.1 in /Users/harshalvibhandik/opt/anaconda3/lib/python3.9/site-packages (from ydata-profiling) (0.11.2)\n",
      "Requirement already satisfied: pandas!=1.4.0,<3,>1.1 in /Users/harshalvibhandik/opt/anaconda3/lib/python3.9/site-packages (from ydata-profiling) (1.4.4)\n",
      "Requirement already satisfied: visions[type_image_path]==0.7.5 in /Users/harshalvibhandik/opt/anaconda3/lib/python3.9/site-packages (from ydata-profiling) (0.7.5)\n",
      "Requirement already satisfied: PyYAML<6.1,>=5.0.0 in /Users/harshalvibhandik/opt/anaconda3/lib/python3.9/site-packages (from ydata-profiling) (6.0)\n",
      "Requirement already satisfied: scipy<1.12,>=1.4.1 in /Users/harshalvibhandik/opt/anaconda3/lib/python3.9/site-packages (from ydata-profiling) (1.9.1)\n",
      "Requirement already satisfied: matplotlib<3.9,>=3.2 in /Users/harshalvibhandik/opt/anaconda3/lib/python3.9/site-packages (from ydata-profiling) (3.5.2)\n",
      "Requirement already satisfied: requests<3,>=2.24.0 in /Users/harshalvibhandik/opt/anaconda3/lib/python3.9/site-packages (from ydata-profiling) (2.28.1)\n",
      "Requirement already satisfied: dacite>=1.8 in /Users/harshalvibhandik/opt/anaconda3/lib/python3.9/site-packages (from ydata-profiling) (1.8.1)\n",
      "Requirement already satisfied: multimethod<2,>=1.4 in /Users/harshalvibhandik/opt/anaconda3/lib/python3.9/site-packages (from ydata-profiling) (1.9.1)\n",
      "Requirement already satisfied: jinja2<3.2,>=2.11.1 in /Users/harshalvibhandik/opt/anaconda3/lib/python3.9/site-packages (from ydata-profiling) (3.0.3)\n",
      "Requirement already satisfied: PyWavelets in /Users/harshalvibhandik/opt/anaconda3/lib/python3.9/site-packages (from imagehash==4.3.1->ydata-profiling) (1.3.0)\n",
      "Requirement already satisfied: pillow in /Users/harshalvibhandik/opt/anaconda3/lib/python3.9/site-packages (from imagehash==4.3.1->ydata-profiling) (9.2.0)\n",
      "Requirement already satisfied: attrs>=19.3.0 in /Users/harshalvibhandik/opt/anaconda3/lib/python3.9/site-packages (from visions[type_image_path]==0.7.5->ydata-profiling) (21.4.0)\n",
      "Requirement already satisfied: networkx>=2.4 in /Users/harshalvibhandik/opt/anaconda3/lib/python3.9/site-packages (from visions[type_image_path]==0.7.5->ydata-profiling) (2.8.4)\n",
      "Requirement already satisfied: tangled-up-in-unicode>=0.0.4 in /Users/harshalvibhandik/opt/anaconda3/lib/python3.9/site-packages (from visions[type_image_path]==0.7.5->ydata-profiling) (0.2.0)\n",
      "Requirement already satisfied: MarkupSafe>=2.0 in /Users/harshalvibhandik/opt/anaconda3/lib/python3.9/site-packages (from jinja2<3.2,>=2.11.1->ydata-profiling) (2.1.3)\n",
      "Requirement already satisfied: python-dateutil>=2.7 in /Users/harshalvibhandik/opt/anaconda3/lib/python3.9/site-packages (from matplotlib<3.9,>=3.2->ydata-profiling) (2.8.2)\n",
      "Requirement already satisfied: fonttools>=4.22.0 in /Users/harshalvibhandik/opt/anaconda3/lib/python3.9/site-packages (from matplotlib<3.9,>=3.2->ydata-profiling) (4.25.0)\n",
      "Requirement already satisfied: cycler>=0.10 in /Users/harshalvibhandik/opt/anaconda3/lib/python3.9/site-packages (from matplotlib<3.9,>=3.2->ydata-profiling) (0.11.0)\n",
      "Requirement already satisfied: kiwisolver>=1.0.1 in /Users/harshalvibhandik/opt/anaconda3/lib/python3.9/site-packages (from matplotlib<3.9,>=3.2->ydata-profiling) (1.4.2)\n",
      "Requirement already satisfied: pyparsing>=2.2.1 in /Users/harshalvibhandik/opt/anaconda3/lib/python3.9/site-packages (from matplotlib<3.9,>=3.2->ydata-profiling) (3.0.9)\n",
      "Requirement already satisfied: packaging>=20.0 in /Users/harshalvibhandik/opt/anaconda3/lib/python3.9/site-packages (from matplotlib<3.9,>=3.2->ydata-profiling) (23.2)\n",
      "Requirement already satisfied: llvmlite<0.42,>=0.41.0dev0 in /Users/harshalvibhandik/opt/anaconda3/lib/python3.9/site-packages (from numba<0.59.0,>=0.56.0->ydata-profiling) (0.41.1)\n",
      "Requirement already satisfied: pytz>=2020.1 in /Users/harshalvibhandik/opt/anaconda3/lib/python3.9/site-packages (from pandas!=1.4.0,<3,>1.1->ydata-profiling) (2022.1)\n",
      "Requirement already satisfied: joblib>=0.14.1 in /Users/harshalvibhandik/opt/anaconda3/lib/python3.9/site-packages (from phik<0.13,>=0.11.1->ydata-profiling) (1.3.1)\n",
      "Requirement already satisfied: pydantic-core==2.14.6 in /Users/harshalvibhandik/opt/anaconda3/lib/python3.9/site-packages (from pydantic>=2->ydata-profiling) (2.14.6)\n",
      "Requirement already satisfied: annotated-types>=0.4.0 in /Users/harshalvibhandik/opt/anaconda3/lib/python3.9/site-packages (from pydantic>=2->ydata-profiling) (0.6.0)\n",
      "Requirement already satisfied: typing-extensions>=4.6.1 in /Users/harshalvibhandik/opt/anaconda3/lib/python3.9/site-packages (from pydantic>=2->ydata-profiling) (4.9.0)\n",
      "Requirement already satisfied: idna<4,>=2.5 in /Users/harshalvibhandik/opt/anaconda3/lib/python3.9/site-packages (from requests<3,>=2.24.0->ydata-profiling) (3.3)\n",
      "Requirement already satisfied: urllib3<1.27,>=1.21.1 in /Users/harshalvibhandik/opt/anaconda3/lib/python3.9/site-packages (from requests<3,>=2.24.0->ydata-profiling) (1.26.18)\n",
      "Requirement already satisfied: certifi>=2017.4.17 in /Users/harshalvibhandik/opt/anaconda3/lib/python3.9/site-packages (from requests<3,>=2.24.0->ydata-profiling) (2023.11.17)\n",
      "Requirement already satisfied: charset-normalizer<3,>=2 in /Users/harshalvibhandik/opt/anaconda3/lib/python3.9/site-packages (from requests<3,>=2.24.0->ydata-profiling) (2.1.1)\n",
      "Requirement already satisfied: patsy>=0.5.2 in /Users/harshalvibhandik/opt/anaconda3/lib/python3.9/site-packages (from statsmodels<1,>=0.13.2->ydata-profiling) (0.5.2)\n",
      "Requirement already satisfied: importlib-metadata>=3.6 in /Users/harshalvibhandik/opt/anaconda3/lib/python3.9/site-packages (from typeguard<5,>=4.1.2->ydata-profiling) (4.11.3)\n",
      "Requirement already satisfied: zipp>=0.5 in /Users/harshalvibhandik/opt/anaconda3/lib/python3.9/site-packages (from importlib-metadata>=3.6->typeguard<5,>=4.1.2->ydata-profiling) (3.8.0)\n",
      "Requirement already satisfied: six in /Users/harshalvibhandik/opt/anaconda3/lib/python3.9/site-packages (from patsy>=0.5.2->statsmodels<1,>=0.13.2->ydata-profiling) (1.16.0)\n",
      "Requirement already satisfied: yellowbrick in /Users/harshalvibhandik/opt/anaconda3/lib/python3.9/site-packages (1.5)\n",
      "Requirement already satisfied: scipy>=1.0.0 in /Users/harshalvibhandik/opt/anaconda3/lib/python3.9/site-packages (from yellowbrick) (1.9.1)\n",
      "Requirement already satisfied: cycler>=0.10.0 in /Users/harshalvibhandik/opt/anaconda3/lib/python3.9/site-packages (from yellowbrick) (0.11.0)\n",
      "Requirement already satisfied: matplotlib!=3.0.0,>=2.0.2 in /Users/harshalvibhandik/opt/anaconda3/lib/python3.9/site-packages (from yellowbrick) (3.5.2)\n",
      "Requirement already satisfied: scikit-learn>=1.0.0 in /Users/harshalvibhandik/opt/anaconda3/lib/python3.9/site-packages (from yellowbrick) (1.3.1)\n",
      "Requirement already satisfied: numpy>=1.16.0 in /Users/harshalvibhandik/opt/anaconda3/lib/python3.9/site-packages (from yellowbrick) (1.23.5)\n",
      "Requirement already satisfied: packaging>=20.0 in /Users/harshalvibhandik/opt/anaconda3/lib/python3.9/site-packages (from matplotlib!=3.0.0,>=2.0.2->yellowbrick) (23.2)\n",
      "Requirement already satisfied: kiwisolver>=1.0.1 in /Users/harshalvibhandik/opt/anaconda3/lib/python3.9/site-packages (from matplotlib!=3.0.0,>=2.0.2->yellowbrick) (1.4.2)\n",
      "Requirement already satisfied: pyparsing>=2.2.1 in /Users/harshalvibhandik/opt/anaconda3/lib/python3.9/site-packages (from matplotlib!=3.0.0,>=2.0.2->yellowbrick) (3.0.9)\n",
      "Requirement already satisfied: fonttools>=4.22.0 in /Users/harshalvibhandik/opt/anaconda3/lib/python3.9/site-packages (from matplotlib!=3.0.0,>=2.0.2->yellowbrick) (4.25.0)\n",
      "Requirement already satisfied: python-dateutil>=2.7 in /Users/harshalvibhandik/opt/anaconda3/lib/python3.9/site-packages (from matplotlib!=3.0.0,>=2.0.2->yellowbrick) (2.8.2)\n",
      "Requirement already satisfied: pillow>=6.2.0 in /Users/harshalvibhandik/opt/anaconda3/lib/python3.9/site-packages (from matplotlib!=3.0.0,>=2.0.2->yellowbrick) (9.2.0)\n"
     ]
    },
    {
     "name": "stdout",
     "output_type": "stream",
     "text": [
      "Requirement already satisfied: joblib>=1.1.1 in /Users/harshalvibhandik/opt/anaconda3/lib/python3.9/site-packages (from scikit-learn>=1.0.0->yellowbrick) (1.3.1)\r\n",
      "Requirement already satisfied: threadpoolctl>=2.0.0 in /Users/harshalvibhandik/opt/anaconda3/lib/python3.9/site-packages (from scikit-learn>=1.0.0->yellowbrick) (2.2.0)\r\n",
      "Requirement already satisfied: six>=1.5 in /Users/harshalvibhandik/opt/anaconda3/lib/python3.9/site-packages (from python-dateutil>=2.7->matplotlib!=3.0.0,>=2.0.2->yellowbrick) (1.16.0)\r\n"
     ]
    }
   ],
   "source": [
    "!pip install --upgrade fast_ml\n",
    "!pip install --upgrade ydata-profiling\n",
    "!pip install --upgrade yellowbrick"
   ]
  },
  {
   "cell_type": "markdown",
   "metadata": {
    "id": "ZWNjHn0b8LPG"
   },
   "source": [
    "<a name = Section32></a>\n",
    "### **3.2 Importing Libraries**"
   ]
  },
  {
   "cell_type": "code",
   "execution_count": 2,
   "metadata": {
    "id": "4-XEP9FNgYGD"
   },
   "outputs": [],
   "source": [
    "#-------------------------------------------------------------------------------------------------------------------------------\n",
    "import pandas as pd                                                 # Importing for panel data analysis\n",
    "from ydata_profiling import ProfileReport\n",
    "pd.set_option('display.max_columns', None)                          # Unfolding hidden features if the cardinality is high\n",
    "pd.set_option('display.max_colwidth', None)                         # Unfolding the max feature width for better clearity\n",
    "pd.set_option('display.max_rows', None)                             # Unfolding hidden data points if the cardinality is high\n",
    "pd.set_option('mode.chained_assignment', None)                      # Removing restriction over chained assignments operations\n",
    "pd.set_option('display.float_format', lambda x: '%.5f' % x)         # To suppress scientific notation over exponential values\n",
    "#-------------------------------------------------------------------------------------------------------------------------------\n",
    "import numpy as np                                                  # Importing package numpys (For Numerical Python)\n",
    "#-------------------------------------------------------------------------------------------------------------------------------\n",
    "import matplotlib.pyplot as plt                                     # Importing pyplot interface using matplotlib\n",
    "from matplotlib.pylab import rcParams                               # Backend used for rendering and GUI integration\n",
    "import yellowbrick\n",
    "from yellowbrick.model_selection import CVScores                    # To visualize Cross validation scores\n",
    "%matplotlib inline\n",
    "#-------------------------------------------------------------------------------------------------------------------------------\n",
    "from sklearn.metrics import r2_score                                # To measure the coefficient of determination for checking testing accuracy\n",
    "from sklearn.metrics import mean_squared_error                      # To calculate mean squared error\n",
    "from sklearn.metrics import mean_absolute_error                     # To calculate mean absolute error\n",
    "from sklearn.model_selection import cross_val_score                 # For cross-validation scoring\n",
    "from sklearn.model_selection import KFold                           # For K-fold cross-validation\n",
    "#-------------------------------------------------------------------------------------------------------------------------------\n",
    "from fast_ml.model_development import train_valid_test_split        # To split the data in training, validation, and testing part\n",
    "from sklearn.linear_model import LinearRegression                   # To create a linear regression model using algorithm\n",
    "from sklearn.tree import DecisionTreeRegressor                      # To create a decision tree regression model using algorithm\n",
    "from sklearn.ensemble import RandomForestRegressor                  # To create a random forest regression model using algorithm\n",
    "from xgboost import XGBRegressor                                    # To create a xg boost regression model using algorithm\n",
    "#-------------------------------------------------------------------------------------------------------------------------------\n",
    "import warnings                                                     # Importing warning to disable runtime warnings\n",
    "warnings.filterwarnings(\"ignore\")                                   # Warnings will appear only once"
   ]
  },
  {
   "cell_type": "markdown",
   "metadata": {
    "id": "E6UeMxkBMtl6"
   },
   "source": [
    "---\n",
    "<a name = Section4></a>\n",
    "# **4. Data Acquisition & Description**\n",
    "---\n",
    "- The Melbourne Housing Snapshot dataset contains information related to **real estate properties** in Melbourne, Australia.\n",
    "- This dataset is valuable for understanding various factors that **influence property prices** and is often used for **predicting property prices** or making **informed decisions in the real estate market**.\n",
    "\n",
    "\n",
    "| Records | Features | Dataset Size |\n",
    "| :-- | :-- | :-- |\n",
    "| 13580 | 21 | 461 Kb|\n",
    "\n",
    "<br>\n",
    "\n",
    "| Id | Features | Description |\n",
    "| :-- | :--| :--|\n",
    "|01| **Suburb** |The name of the suburb where the property is located.\n",
    "|02| **Address** | The address of the property.|\n",
    "|03|**Rooms**|  The number of rooms in the property, such as bedrooms and living areas. |\n",
    "|04|**Type**| The type of the property, which can be a house, townhouse, or apartment. |\n",
    "|05|**Price**| The price of the property, which serves as the target variable for price prediction. |\n",
    "|06|**Method**| The method of selling the property, including auctions and private sales.|\n",
    "|07| **SellerG** | The name of the real estate agency or seller.|\n",
    "|08| **Date**| The date of the property sale.|\n",
    "|09| **Distance**| The distance from the property to the Melbourne Central Business District (CBD).|\n",
    "|10| **Postcode** | The postal code of the property location.|\n",
    "|11| **Bedroom2**| The number of bedrooms in the property, a supplementary feature.|\n",
    "|12| **Bathroom**| The number of bathrooms in the property.|\n",
    "|13| **Car**| The number of parking spaces or car spots.|\n",
    "|14| **Landsize**| The size of the land associated with the property in square meters.|\n",
    "|15| **BuildingArea**| The size of the building in square meters.|\n",
    "|16| **YearBuilt**| The year the property was built.|\n",
    "|17| **CouncilArea**| The local council area where the property is located.|\n",
    "|18| **Lattitude**| The latitude coordinate of the property's location.|\n",
    "|19| **Longtitude**| The longitude coordinate of the property's location.|\n",
    "|20| **Regionname**| The region name or description of the property's location|\n",
    "|21| **PropertyCount**| The number of properties in the suburb.|\n",
    "\n"
   ]
  },
  {
   "cell_type": "code",
   "execution_count": null,
   "metadata": {
    "colab": {
     "base_uri": "https://localhost:8080/"
    },
    "executionInfo": {
     "elapsed": 3338,
     "status": "ok",
     "timestamp": 1698994384497,
     "user": {
      "displayName": "Akriti Upadhyay",
      "userId": "03451849857657033821"
     },
     "user_tz": -330
    },
    "id": "qh2NoVt8wDgF",
    "outputId": "ccb8f8d1-070c-4284-8979-50c35d477e04"
   },
   "outputs": [
    {
     "name": "stdout",
     "output_type": "stream",
     "text": [
      "Drive already mounted at /content/drive; to attempt to forcibly remount, call drive.mount(\"/content/drive\", force_remount=True).\n"
     ]
    }
   ],
   "source": [
    "# from google.colab import drive\n",
    "# drive.mount('/content/drive')"
   ]
  },
  {
   "cell_type": "code",
   "execution_count": 3,
   "metadata": {
    "id": "XHZ9hHizvgPr"
   },
   "outputs": [
    {
     "data": {
      "text/html": [
       "<div>\n",
       "<style scoped>\n",
       "    .dataframe tbody tr th:only-of-type {\n",
       "        vertical-align: middle;\n",
       "    }\n",
       "\n",
       "    .dataframe tbody tr th {\n",
       "        vertical-align: top;\n",
       "    }\n",
       "\n",
       "    .dataframe thead th {\n",
       "        text-align: right;\n",
       "    }\n",
       "</style>\n",
       "<table border=\"1\" class=\"dataframe\">\n",
       "  <thead>\n",
       "    <tr style=\"text-align: right;\">\n",
       "      <th></th>\n",
       "      <th>Suburb</th>\n",
       "      <th>Address</th>\n",
       "      <th>Rooms</th>\n",
       "      <th>Type</th>\n",
       "      <th>Price</th>\n",
       "      <th>Method</th>\n",
       "      <th>SellerG</th>\n",
       "      <th>Date</th>\n",
       "      <th>Distance</th>\n",
       "      <th>Postcode</th>\n",
       "      <th>Bedroom2</th>\n",
       "      <th>Bathroom</th>\n",
       "      <th>Car</th>\n",
       "      <th>Landsize</th>\n",
       "      <th>BuildingArea</th>\n",
       "      <th>YearBuilt</th>\n",
       "      <th>CouncilArea</th>\n",
       "      <th>Lattitude</th>\n",
       "      <th>Longtitude</th>\n",
       "      <th>Regionname</th>\n",
       "      <th>Propertycount</th>\n",
       "    </tr>\n",
       "  </thead>\n",
       "  <tbody>\n",
       "    <tr>\n",
       "      <th>0</th>\n",
       "      <td>Abbotsford</td>\n",
       "      <td>85 Turner St</td>\n",
       "      <td>2</td>\n",
       "      <td>h</td>\n",
       "      <td>1480000.00000</td>\n",
       "      <td>S</td>\n",
       "      <td>Biggin</td>\n",
       "      <td>3/12/2016</td>\n",
       "      <td>2.50000</td>\n",
       "      <td>3067.00000</td>\n",
       "      <td>2.00000</td>\n",
       "      <td>1.00000</td>\n",
       "      <td>1.00000</td>\n",
       "      <td>202.00000</td>\n",
       "      <td>NaN</td>\n",
       "      <td>NaN</td>\n",
       "      <td>Yarra</td>\n",
       "      <td>-37.79960</td>\n",
       "      <td>144.99840</td>\n",
       "      <td>Northern Metropolitan</td>\n",
       "      <td>4019.00000</td>\n",
       "    </tr>\n",
       "    <tr>\n",
       "      <th>1</th>\n",
       "      <td>Abbotsford</td>\n",
       "      <td>25 Bloomburg St</td>\n",
       "      <td>2</td>\n",
       "      <td>h</td>\n",
       "      <td>1035000.00000</td>\n",
       "      <td>S</td>\n",
       "      <td>Biggin</td>\n",
       "      <td>4/02/2016</td>\n",
       "      <td>2.50000</td>\n",
       "      <td>3067.00000</td>\n",
       "      <td>2.00000</td>\n",
       "      <td>1.00000</td>\n",
       "      <td>0.00000</td>\n",
       "      <td>156.00000</td>\n",
       "      <td>79.00000</td>\n",
       "      <td>1900.00000</td>\n",
       "      <td>Yarra</td>\n",
       "      <td>-37.80790</td>\n",
       "      <td>144.99340</td>\n",
       "      <td>Northern Metropolitan</td>\n",
       "      <td>4019.00000</td>\n",
       "    </tr>\n",
       "    <tr>\n",
       "      <th>2</th>\n",
       "      <td>Abbotsford</td>\n",
       "      <td>5 Charles St</td>\n",
       "      <td>3</td>\n",
       "      <td>h</td>\n",
       "      <td>1465000.00000</td>\n",
       "      <td>SP</td>\n",
       "      <td>Biggin</td>\n",
       "      <td>4/03/2017</td>\n",
       "      <td>2.50000</td>\n",
       "      <td>3067.00000</td>\n",
       "      <td>3.00000</td>\n",
       "      <td>2.00000</td>\n",
       "      <td>0.00000</td>\n",
       "      <td>134.00000</td>\n",
       "      <td>150.00000</td>\n",
       "      <td>1900.00000</td>\n",
       "      <td>Yarra</td>\n",
       "      <td>-37.80930</td>\n",
       "      <td>144.99440</td>\n",
       "      <td>Northern Metropolitan</td>\n",
       "      <td>4019.00000</td>\n",
       "    </tr>\n",
       "    <tr>\n",
       "      <th>3</th>\n",
       "      <td>Abbotsford</td>\n",
       "      <td>40 Federation La</td>\n",
       "      <td>3</td>\n",
       "      <td>h</td>\n",
       "      <td>850000.00000</td>\n",
       "      <td>PI</td>\n",
       "      <td>Biggin</td>\n",
       "      <td>4/03/2017</td>\n",
       "      <td>2.50000</td>\n",
       "      <td>3067.00000</td>\n",
       "      <td>3.00000</td>\n",
       "      <td>2.00000</td>\n",
       "      <td>1.00000</td>\n",
       "      <td>94.00000</td>\n",
       "      <td>NaN</td>\n",
       "      <td>NaN</td>\n",
       "      <td>Yarra</td>\n",
       "      <td>-37.79690</td>\n",
       "      <td>144.99690</td>\n",
       "      <td>Northern Metropolitan</td>\n",
       "      <td>4019.00000</td>\n",
       "    </tr>\n",
       "    <tr>\n",
       "      <th>4</th>\n",
       "      <td>Abbotsford</td>\n",
       "      <td>55a Park St</td>\n",
       "      <td>4</td>\n",
       "      <td>h</td>\n",
       "      <td>1600000.00000</td>\n",
       "      <td>VB</td>\n",
       "      <td>Nelson</td>\n",
       "      <td>4/06/2016</td>\n",
       "      <td>2.50000</td>\n",
       "      <td>3067.00000</td>\n",
       "      <td>3.00000</td>\n",
       "      <td>1.00000</td>\n",
       "      <td>2.00000</td>\n",
       "      <td>120.00000</td>\n",
       "      <td>142.00000</td>\n",
       "      <td>2014.00000</td>\n",
       "      <td>Yarra</td>\n",
       "      <td>-37.80720</td>\n",
       "      <td>144.99410</td>\n",
       "      <td>Northern Metropolitan</td>\n",
       "      <td>4019.00000</td>\n",
       "    </tr>\n",
       "  </tbody>\n",
       "</table>\n",
       "</div>"
      ],
      "text/plain": [
       "       Suburb           Address  Rooms Type         Price Method SellerG  \\\n",
       "0  Abbotsford      85 Turner St      2    h 1480000.00000      S  Biggin   \n",
       "1  Abbotsford   25 Bloomburg St      2    h 1035000.00000      S  Biggin   \n",
       "2  Abbotsford      5 Charles St      3    h 1465000.00000     SP  Biggin   \n",
       "3  Abbotsford  40 Federation La      3    h  850000.00000     PI  Biggin   \n",
       "4  Abbotsford       55a Park St      4    h 1600000.00000     VB  Nelson   \n",
       "\n",
       "        Date  Distance   Postcode  Bedroom2  Bathroom     Car  Landsize  \\\n",
       "0  3/12/2016   2.50000 3067.00000   2.00000   1.00000 1.00000 202.00000   \n",
       "1  4/02/2016   2.50000 3067.00000   2.00000   1.00000 0.00000 156.00000   \n",
       "2  4/03/2017   2.50000 3067.00000   3.00000   2.00000 0.00000 134.00000   \n",
       "3  4/03/2017   2.50000 3067.00000   3.00000   2.00000 1.00000  94.00000   \n",
       "4  4/06/2016   2.50000 3067.00000   3.00000   1.00000 2.00000 120.00000   \n",
       "\n",
       "   BuildingArea  YearBuilt CouncilArea  Lattitude  Longtitude  \\\n",
       "0           NaN        NaN       Yarra  -37.79960   144.99840   \n",
       "1      79.00000 1900.00000       Yarra  -37.80790   144.99340   \n",
       "2     150.00000 1900.00000       Yarra  -37.80930   144.99440   \n",
       "3           NaN        NaN       Yarra  -37.79690   144.99690   \n",
       "4     142.00000 2014.00000       Yarra  -37.80720   144.99410   \n",
       "\n",
       "              Regionname  Propertycount  \n",
       "0  Northern Metropolitan     4019.00000  \n",
       "1  Northern Metropolitan     4019.00000  \n",
       "2  Northern Metropolitan     4019.00000  \n",
       "3  Northern Metropolitan     4019.00000  \n",
       "4  Northern Metropolitan     4019.00000  "
      ]
     },
     "execution_count": 3,
     "metadata": {},
     "output_type": "execute_result"
    }
   ],
   "source": [
    "data = pd.read_csv(\"melb_data.csv\")\n",
    "data.head()"
   ]
  },
  {
   "cell_type": "markdown",
   "metadata": {
    "id": "MDJIiiXu8RZq"
   },
   "source": [
    "<a name = Section41></a>\n",
    "### **4.1 Data Description**\n",
    "\n",
    "- In this section we will get **information about the data** and see some observations.\n"
   ]
  },
  {
   "cell_type": "code",
   "execution_count": 4,
   "metadata": {},
   "outputs": [
    {
     "data": {
      "text/html": [
       "<div>\n",
       "<style scoped>\n",
       "    .dataframe tbody tr th:only-of-type {\n",
       "        vertical-align: middle;\n",
       "    }\n",
       "\n",
       "    .dataframe tbody tr th {\n",
       "        vertical-align: top;\n",
       "    }\n",
       "\n",
       "    .dataframe thead th {\n",
       "        text-align: right;\n",
       "    }\n",
       "</style>\n",
       "<table border=\"1\" class=\"dataframe\">\n",
       "  <thead>\n",
       "    <tr style=\"text-align: right;\">\n",
       "      <th></th>\n",
       "      <th>Rooms</th>\n",
       "      <th>Price</th>\n",
       "      <th>Distance</th>\n",
       "      <th>Postcode</th>\n",
       "      <th>Bedroom2</th>\n",
       "      <th>Bathroom</th>\n",
       "      <th>Car</th>\n",
       "      <th>Landsize</th>\n",
       "      <th>BuildingArea</th>\n",
       "      <th>YearBuilt</th>\n",
       "      <th>Lattitude</th>\n",
       "      <th>Longtitude</th>\n",
       "      <th>Propertycount</th>\n",
       "    </tr>\n",
       "  </thead>\n",
       "  <tbody>\n",
       "    <tr>\n",
       "      <th>count</th>\n",
       "      <td>13580.00000</td>\n",
       "      <td>13580.00000</td>\n",
       "      <td>13580.00000</td>\n",
       "      <td>13580.00000</td>\n",
       "      <td>13580.00000</td>\n",
       "      <td>13580.00000</td>\n",
       "      <td>13518.00000</td>\n",
       "      <td>13580.00000</td>\n",
       "      <td>7130.00000</td>\n",
       "      <td>8205.00000</td>\n",
       "      <td>13580.00000</td>\n",
       "      <td>13580.00000</td>\n",
       "      <td>13580.00000</td>\n",
       "    </tr>\n",
       "    <tr>\n",
       "      <th>mean</th>\n",
       "      <td>2.93800</td>\n",
       "      <td>1075684.07946</td>\n",
       "      <td>10.13778</td>\n",
       "      <td>3105.30191</td>\n",
       "      <td>2.91473</td>\n",
       "      <td>1.53424</td>\n",
       "      <td>1.61008</td>\n",
       "      <td>558.41613</td>\n",
       "      <td>151.96765</td>\n",
       "      <td>1964.68422</td>\n",
       "      <td>-37.80920</td>\n",
       "      <td>144.99522</td>\n",
       "      <td>7454.41738</td>\n",
       "    </tr>\n",
       "    <tr>\n",
       "      <th>std</th>\n",
       "      <td>0.95575</td>\n",
       "      <td>639310.72430</td>\n",
       "      <td>5.86872</td>\n",
       "      <td>90.67696</td>\n",
       "      <td>0.96592</td>\n",
       "      <td>0.69171</td>\n",
       "      <td>0.96263</td>\n",
       "      <td>3990.66924</td>\n",
       "      <td>541.01454</td>\n",
       "      <td>37.27376</td>\n",
       "      <td>0.07926</td>\n",
       "      <td>0.10392</td>\n",
       "      <td>4378.58177</td>\n",
       "    </tr>\n",
       "    <tr>\n",
       "      <th>min</th>\n",
       "      <td>1.00000</td>\n",
       "      <td>85000.00000</td>\n",
       "      <td>0.00000</td>\n",
       "      <td>3000.00000</td>\n",
       "      <td>0.00000</td>\n",
       "      <td>0.00000</td>\n",
       "      <td>0.00000</td>\n",
       "      <td>0.00000</td>\n",
       "      <td>0.00000</td>\n",
       "      <td>1196.00000</td>\n",
       "      <td>-38.18255</td>\n",
       "      <td>144.43181</td>\n",
       "      <td>249.00000</td>\n",
       "    </tr>\n",
       "    <tr>\n",
       "      <th>25%</th>\n",
       "      <td>2.00000</td>\n",
       "      <td>650000.00000</td>\n",
       "      <td>6.10000</td>\n",
       "      <td>3044.00000</td>\n",
       "      <td>2.00000</td>\n",
       "      <td>1.00000</td>\n",
       "      <td>1.00000</td>\n",
       "      <td>177.00000</td>\n",
       "      <td>93.00000</td>\n",
       "      <td>1940.00000</td>\n",
       "      <td>-37.85682</td>\n",
       "      <td>144.92960</td>\n",
       "      <td>4380.00000</td>\n",
       "    </tr>\n",
       "    <tr>\n",
       "      <th>50%</th>\n",
       "      <td>3.00000</td>\n",
       "      <td>903000.00000</td>\n",
       "      <td>9.20000</td>\n",
       "      <td>3084.00000</td>\n",
       "      <td>3.00000</td>\n",
       "      <td>1.00000</td>\n",
       "      <td>2.00000</td>\n",
       "      <td>440.00000</td>\n",
       "      <td>126.00000</td>\n",
       "      <td>1970.00000</td>\n",
       "      <td>-37.80235</td>\n",
       "      <td>145.00010</td>\n",
       "      <td>6555.00000</td>\n",
       "    </tr>\n",
       "    <tr>\n",
       "      <th>75%</th>\n",
       "      <td>3.00000</td>\n",
       "      <td>1330000.00000</td>\n",
       "      <td>13.00000</td>\n",
       "      <td>3148.00000</td>\n",
       "      <td>3.00000</td>\n",
       "      <td>2.00000</td>\n",
       "      <td>2.00000</td>\n",
       "      <td>651.00000</td>\n",
       "      <td>174.00000</td>\n",
       "      <td>1999.00000</td>\n",
       "      <td>-37.75640</td>\n",
       "      <td>145.05831</td>\n",
       "      <td>10331.00000</td>\n",
       "    </tr>\n",
       "    <tr>\n",
       "      <th>max</th>\n",
       "      <td>10.00000</td>\n",
       "      <td>9000000.00000</td>\n",
       "      <td>48.10000</td>\n",
       "      <td>3977.00000</td>\n",
       "      <td>20.00000</td>\n",
       "      <td>8.00000</td>\n",
       "      <td>10.00000</td>\n",
       "      <td>433014.00000</td>\n",
       "      <td>44515.00000</td>\n",
       "      <td>2018.00000</td>\n",
       "      <td>-37.40853</td>\n",
       "      <td>145.52635</td>\n",
       "      <td>21650.00000</td>\n",
       "    </tr>\n",
       "  </tbody>\n",
       "</table>\n",
       "</div>"
      ],
      "text/plain": [
       "            Rooms         Price    Distance    Postcode    Bedroom2  \\\n",
       "count 13580.00000   13580.00000 13580.00000 13580.00000 13580.00000   \n",
       "mean      2.93800 1075684.07946    10.13778  3105.30191     2.91473   \n",
       "std       0.95575  639310.72430     5.86872    90.67696     0.96592   \n",
       "min       1.00000   85000.00000     0.00000  3000.00000     0.00000   \n",
       "25%       2.00000  650000.00000     6.10000  3044.00000     2.00000   \n",
       "50%       3.00000  903000.00000     9.20000  3084.00000     3.00000   \n",
       "75%       3.00000 1330000.00000    13.00000  3148.00000     3.00000   \n",
       "max      10.00000 9000000.00000    48.10000  3977.00000    20.00000   \n",
       "\n",
       "         Bathroom         Car     Landsize  BuildingArea  YearBuilt  \\\n",
       "count 13580.00000 13518.00000  13580.00000    7130.00000 8205.00000   \n",
       "mean      1.53424     1.61008    558.41613     151.96765 1964.68422   \n",
       "std       0.69171     0.96263   3990.66924     541.01454   37.27376   \n",
       "min       0.00000     0.00000      0.00000       0.00000 1196.00000   \n",
       "25%       1.00000     1.00000    177.00000      93.00000 1940.00000   \n",
       "50%       1.00000     2.00000    440.00000     126.00000 1970.00000   \n",
       "75%       2.00000     2.00000    651.00000     174.00000 1999.00000   \n",
       "max       8.00000    10.00000 433014.00000   44515.00000 2018.00000   \n",
       "\n",
       "        Lattitude  Longtitude  Propertycount  \n",
       "count 13580.00000 13580.00000    13580.00000  \n",
       "mean    -37.80920   144.99522     7454.41738  \n",
       "std       0.07926     0.10392     4378.58177  \n",
       "min     -38.18255   144.43181      249.00000  \n",
       "25%     -37.85682   144.92960     4380.00000  \n",
       "50%     -37.80235   145.00010     6555.00000  \n",
       "75%     -37.75640   145.05831    10331.00000  \n",
       "max     -37.40853   145.52635    21650.00000  "
      ]
     },
     "execution_count": 4,
     "metadata": {},
     "output_type": "execute_result"
    }
   ],
   "source": [
    "data.describe()"
   ]
  },
  {
   "cell_type": "markdown",
   "metadata": {
    "id": "7bv83cmD2uAd"
   },
   "source": [
    "**Observations:**\n",
    "\n",
    "- The **minimum** number of **rooms** in a property is 1, while the **maximum** is **10**.\n",
    "- Prices range from a **minimum of 85,000** to a **maximum of 9,000,000**.\n",
    "- The **average distance** from the properties to Melbourne CBD is approximately **10.14 kilometers**.\n",
    "- The minimum number of **bedrooms** is 0, and the **maximum** is **20**.\n",
    "- The minimum number of **bathrooms** is 0, and the **maximum** is **8**.\n",
    "- The minimum number of **car spaces** is 0, and the **maximum** is **10**.\n",
    "\n",
    "- The **average land size** associated with properties is about **558.42 square meters**.\n",
    "- The **average building area** is approximately **151.97 square meters**.\n",
    "- The **year** of construction spans from **1196 to 2018**.\n",
    "\n"
   ]
  },
  {
   "cell_type": "markdown",
   "metadata": {
    "id": "FeYRLPBg8b1i"
   },
   "source": [
    "<a name = Section42></a>\n",
    "### **4.2 Data Information**\n",
    "\n",
    "- In this section we will see the **information about the types of features**.\n"
   ]
  },
  {
   "cell_type": "code",
   "execution_count": 5,
   "metadata": {},
   "outputs": [
    {
     "name": "stdout",
     "output_type": "stream",
     "text": [
      "<class 'pandas.core.frame.DataFrame'>\n",
      "RangeIndex: 13580 entries, 0 to 13579\n",
      "Data columns (total 21 columns):\n",
      " #   Column         Non-Null Count  Dtype  \n",
      "---  ------         --------------  -----  \n",
      " 0   Suburb         13580 non-null  object \n",
      " 1   Address        13580 non-null  object \n",
      " 2   Rooms          13580 non-null  int64  \n",
      " 3   Type           13580 non-null  object \n",
      " 4   Price          13580 non-null  float64\n",
      " 5   Method         13580 non-null  object \n",
      " 6   SellerG        13580 non-null  object \n",
      " 7   Date           13580 non-null  object \n",
      " 8   Distance       13580 non-null  float64\n",
      " 9   Postcode       13580 non-null  float64\n",
      " 10  Bedroom2       13580 non-null  float64\n",
      " 11  Bathroom       13580 non-null  float64\n",
      " 12  Car            13518 non-null  float64\n",
      " 13  Landsize       13580 non-null  float64\n",
      " 14  BuildingArea   7130 non-null   float64\n",
      " 15  YearBuilt      8205 non-null   float64\n",
      " 16  CouncilArea    12211 non-null  object \n",
      " 17  Lattitude      13580 non-null  float64\n",
      " 18  Longtitude     13580 non-null  float64\n",
      " 19  Regionname     13580 non-null  object \n",
      " 20  Propertycount  13580 non-null  float64\n",
      "dtypes: float64(12), int64(1), object(8)\n",
      "memory usage: 2.2+ MB\n"
     ]
    }
   ],
   "source": [
    "data.info()"
   ]
  },
  {
   "cell_type": "code",
   "execution_count": 6,
   "metadata": {
    "colab": {
     "base_uri": "https://localhost:8080/"
    },
    "executionInfo": {
     "elapsed": 3,
     "status": "ok",
     "timestamp": 1699007511313,
     "user": {
      "displayName": "Akriti Upadhyay",
      "userId": "03451849857657033821"
     },
     "user_tz": -330
    },
    "id": "OwDw2rAswjB_",
    "outputId": "5dd2ab0d-7f20-44f2-87e9-f8890013ea27"
   },
   "outputs": [
    {
     "data": {
      "text/plain": [
       "(13580, 21)"
      ]
     },
     "execution_count": 6,
     "metadata": {},
     "output_type": "execute_result"
    }
   ],
   "source": [
    "data.shape"
   ]
  },
  {
   "cell_type": "code",
   "execution_count": 7,
   "metadata": {
    "colab": {
     "base_uri": "https://localhost:8080/"
    },
    "executionInfo": {
     "elapsed": 4,
     "status": "ok",
     "timestamp": 1699007512158,
     "user": {
      "displayName": "Akriti Upadhyay",
      "userId": "03451849857657033821"
     },
     "user_tz": -330
    },
    "id": "dbrDrHVRwm4a",
    "outputId": "01ba4be3-a1f1-4373-eafd-6ab23a64fb94"
   },
   "outputs": [
    {
     "data": {
      "text/plain": [
       "Car               62\n",
       "BuildingArea    6450\n",
       "YearBuilt       5375\n",
       "CouncilArea     1369\n",
       "dtype: int64"
      ]
     },
     "execution_count": 7,
     "metadata": {},
     "output_type": "execute_result"
    }
   ],
   "source": [
    "#Checking null data\n",
    "nulldata = data.isnull().sum()\n",
    "nulldata[nulldata>0]"
   ]
  },
  {
   "cell_type": "code",
   "execution_count": 8,
   "metadata": {
    "colab": {
     "base_uri": "https://localhost:8080/"
    },
    "executionInfo": {
     "elapsed": 3,
     "status": "ok",
     "timestamp": 1699007513600,
     "user": {
      "displayName": "Akriti Upadhyay",
      "userId": "03451849857657033821"
     },
     "user_tz": -330
    },
    "id": "xo42dL4yJozg",
    "outputId": "2e9e6238-77ec-43ff-c664-321b952c724b"
   },
   "outputs": [
    {
     "data": {
      "text/plain": [
       "Series([], dtype: int64)"
      ]
     },
     "execution_count": 8,
     "metadata": {},
     "output_type": "execute_result"
    }
   ],
   "source": [
    "# Filing null data using forward fill and backward fill\n",
    "data = data.fillna(method=\"ffill\")\n",
    "data = data.fillna(method=\"bfill\")\n",
    "nulldata = data.isnull().sum()\n",
    "nulldata[nulldata>0]"
   ]
  },
  {
   "cell_type": "code",
   "execution_count": 9,
   "metadata": {
    "colab": {
     "base_uri": "https://localhost:8080/"
    },
    "executionInfo": {
     "elapsed": 3,
     "status": "ok",
     "timestamp": 1699007514264,
     "user": {
      "displayName": "Akriti Upadhyay",
      "userId": "03451849857657033821"
     },
     "user_tz": -330
    },
    "id": "Xb1cz9jQwpVT",
    "outputId": "c7065ca8-4dbb-4cac-f438-ad26c2d18dbc"
   },
   "outputs": [
    {
     "data": {
      "text/plain": [
       "Series([], dtype: bool)"
      ]
     },
     "execution_count": 9,
     "metadata": {},
     "output_type": "execute_result"
    }
   ],
   "source": [
    "# Checking duplicates\n",
    "duplicates = data.duplicated()\n",
    "duplicates[duplicates==True]"
   ]
  },
  {
   "cell_type": "code",
   "execution_count": 10,
   "metadata": {
    "id": "r71aGDclKe1F"
   },
   "outputs": [],
   "source": [
    "# Selecting columns\n",
    "cols_to_use = ['Rooms', 'Distance', 'Landsize', 'BuildingArea', 'YearBuilt','Price']"
   ]
  },
  {
   "cell_type": "code",
   "execution_count": 11,
   "metadata": {
    "colab": {
     "base_uri": "https://localhost:8080/",
     "height": 206
    },
    "executionInfo": {
     "elapsed": 7,
     "status": "ok",
     "timestamp": 1699007516052,
     "user": {
      "displayName": "Akriti Upadhyay",
      "userId": "03451849857657033821"
     },
     "user_tz": -330
    },
    "id": "vF-nDrcWLeBo",
    "outputId": "5f8dd2e5-1a11-43b1-b154-9b2182598174"
   },
   "outputs": [
    {
     "data": {
      "text/html": [
       "<div>\n",
       "<style scoped>\n",
       "    .dataframe tbody tr th:only-of-type {\n",
       "        vertical-align: middle;\n",
       "    }\n",
       "\n",
       "    .dataframe tbody tr th {\n",
       "        vertical-align: top;\n",
       "    }\n",
       "\n",
       "    .dataframe thead th {\n",
       "        text-align: right;\n",
       "    }\n",
       "</style>\n",
       "<table border=\"1\" class=\"dataframe\">\n",
       "  <thead>\n",
       "    <tr style=\"text-align: right;\">\n",
       "      <th></th>\n",
       "      <th>Rooms</th>\n",
       "      <th>Distance</th>\n",
       "      <th>Landsize</th>\n",
       "      <th>BuildingArea</th>\n",
       "      <th>YearBuilt</th>\n",
       "      <th>Price</th>\n",
       "    </tr>\n",
       "  </thead>\n",
       "  <tbody>\n",
       "    <tr>\n",
       "      <th>0</th>\n",
       "      <td>2</td>\n",
       "      <td>2.50000</td>\n",
       "      <td>202.00000</td>\n",
       "      <td>79.00000</td>\n",
       "      <td>1900.00000</td>\n",
       "      <td>1480000.00000</td>\n",
       "    </tr>\n",
       "    <tr>\n",
       "      <th>1</th>\n",
       "      <td>2</td>\n",
       "      <td>2.50000</td>\n",
       "      <td>156.00000</td>\n",
       "      <td>79.00000</td>\n",
       "      <td>1900.00000</td>\n",
       "      <td>1035000.00000</td>\n",
       "    </tr>\n",
       "    <tr>\n",
       "      <th>2</th>\n",
       "      <td>3</td>\n",
       "      <td>2.50000</td>\n",
       "      <td>134.00000</td>\n",
       "      <td>150.00000</td>\n",
       "      <td>1900.00000</td>\n",
       "      <td>1465000.00000</td>\n",
       "    </tr>\n",
       "    <tr>\n",
       "      <th>3</th>\n",
       "      <td>3</td>\n",
       "      <td>2.50000</td>\n",
       "      <td>94.00000</td>\n",
       "      <td>150.00000</td>\n",
       "      <td>1900.00000</td>\n",
       "      <td>850000.00000</td>\n",
       "    </tr>\n",
       "    <tr>\n",
       "      <th>4</th>\n",
       "      <td>4</td>\n",
       "      <td>2.50000</td>\n",
       "      <td>120.00000</td>\n",
       "      <td>142.00000</td>\n",
       "      <td>2014.00000</td>\n",
       "      <td>1600000.00000</td>\n",
       "    </tr>\n",
       "  </tbody>\n",
       "</table>\n",
       "</div>"
      ],
      "text/plain": [
       "   Rooms  Distance  Landsize  BuildingArea  YearBuilt         Price\n",
       "0      2   2.50000 202.00000      79.00000 1900.00000 1480000.00000\n",
       "1      2   2.50000 156.00000      79.00000 1900.00000 1035000.00000\n",
       "2      3   2.50000 134.00000     150.00000 1900.00000 1465000.00000\n",
       "3      3   2.50000  94.00000     150.00000 1900.00000  850000.00000\n",
       "4      4   2.50000 120.00000     142.00000 2014.00000 1600000.00000"
      ]
     },
     "execution_count": 11,
     "metadata": {},
     "output_type": "execute_result"
    }
   ],
   "source": [
    "data = data[cols_to_use]\n",
    "data.head()"
   ]
  },
  {
   "cell_type": "markdown",
   "metadata": {
    "id": "YqtEJx7f36Cz"
   },
   "source": [
    "**Observations:**\n",
    "\n",
    "- There were some **null data** which were **forward** and **backward** filled.\n",
    "- There were **no** duplicates.\n",
    "- For the analysis of this dataset, some **useful columns** were selected."
   ]
  },
  {
   "cell_type": "markdown",
   "metadata": {
    "id": "FbW5V8Mq81m0"
   },
   "source": [
    "<a name = Section43></a>\n",
    "### **4.3 Data Pre Profiling**\n",
    "- To get a quick and comprehensive **overview** of the dataset's characteristics and statistics, **```ProfileReport```** from **```ydata-profiling```** is used.\n",
    "- It helps in making **informed decisions** during the **data analysis and preprocessing stages**.\n",
    "\n"
   ]
  },
  {
   "cell_type": "code",
   "execution_count": 12,
   "metadata": {
    "colab": {
     "base_uri": "https://localhost:8080/",
     "height": 917,
     "output_embedded_package_id": "1CF3Hlvewn_BwPOzmsaGf9TYbVDeGaeeb",
     "referenced_widgets": [
      "2b3d1426f3fa4b51a5c18548217f864f",
      "e64286677f9a4630901362e7dc362204",
      "42d3fef5178e4185b314d085f985a9f2",
      "6954567972314493bcb8e645dfc61a34",
      "e7606e7973bb4a8f88e968f53fd58861",
      "4b187fd0f1eb472aad77fca0f9a84bfb",
      "d4aec014f0b64890b8601178d59ac9b9",
      "717fdd2b36bb419f8cd90947f4b165c3",
      "f82e913e9f5048fc9c2a117f67ff9a9b",
      "5ddccad9d1b943acb2b1e3e5264849e0",
      "deca65e1a1584a41b052b4d6aa764a0e",
      "a9774a36945645b49ad69c19b651e7ea",
      "b1896d649b114d15a70a3bbba202faee",
      "fe4b3f05f03d4978a946ccfb1449a799",
      "bd3dbfdfcd4b4f1a9a654590ebcab5a4",
      "a6529be854284ecc9c2de91a269a7139",
      "557055a081ea4739bdb074cb39377ca9",
      "6b8973b920824985aad97ed22b13f554",
      "0b54d1cec45f452a845a1e46995b7d2d",
      "7be3282573f6444faa7228f5447b77c6",
      "b4ef707581fe4cb09d676615afbea450",
      "a19613a807dc4c2d98650442ab3a0490",
      "23402666825646eebb24ad31ff6a1337",
      "ac640cea0faa4ddabe5e74774125c78b",
      "537425e7ccdc4c198391fa4ee3d38b05",
      "dde3bd2f46da4f1183788c21ea80abf5",
      "219c893935a249c7bd7ac80fb51d38cb",
      "59ec6da96c8a4974951a9a606045415e",
      "0fed4f7a20dc413c8d63b5bc64461064",
      "81c872ae2ffd45d4a703afbf47fe3a05",
      "85c57bbfbe154ad7badf8a400f591f63",
      "863eabf44de94ebd9ed6ef6d48cc4357",
      "8a077e755f8843f4b2d4409a916d3a61"
     ]
    },
    "executionInfo": {
     "elapsed": 20437,
     "status": "ok",
     "timestamp": 1699007557999,
     "user": {
      "displayName": "Akriti Upadhyay",
      "userId": "03451849857657033821"
     },
     "user_tz": -330
    },
    "id": "rli-sGLmvV83",
    "outputId": "cf71b060-3242-4caa-b693-2b214cd0c770"
   },
   "outputs": [
    {
     "data": {
      "application/vnd.jupyter.widget-view+json": {
       "model_id": "104ce7ea8cb049eca2a0d562a0bf166c",
       "version_major": 2,
       "version_minor": 0
      },
      "text/plain": [
       "Summarize dataset:   0%|          | 0/5 [00:00<?, ?it/s]"
      ]
     },
     "metadata": {},
     "output_type": "display_data"
    },
    {
     "data": {
      "application/vnd.jupyter.widget-view+json": {
       "model_id": "2fcb4e038af2458a9afc4a481ce45d7f",
       "version_major": 2,
       "version_minor": 0
      },
      "text/plain": [
       "Generate report structure:   0%|          | 0/1 [00:00<?, ?it/s]"
      ]
     },
     "metadata": {},
     "output_type": "display_data"
    },
    {
     "data": {
      "application/vnd.jupyter.widget-view+json": {
       "model_id": "8d2fc2a20a11428a8d155bd10bbdb2ff",
       "version_major": 2,
       "version_minor": 0
      },
      "text/plain": [
       "Render HTML:   0%|          | 0/1 [00:00<?, ?it/s]"
      ]
     },
     "metadata": {},
     "output_type": "display_data"
    },
    {
     "data": {
      "application/vnd.jupyter.widget-view+json": {
       "model_id": "87e70af0d0a84da4a68822e8d551f01e",
       "version_major": 2,
       "version_minor": 0
      },
      "text/plain": [
       "Export report to file:   0%|          | 0/1 [00:00<?, ?it/s]"
      ]
     },
     "metadata": {},
     "output_type": "display_data"
    },
    {
     "name": "stdout",
     "output_type": "stream",
     "text": [
      "Pre-Profiling Report Ready to Download!\n"
     ]
    }
   ],
   "source": [
    "profile = ProfileReport(df=data)\n",
    "profile.to_file(output_file=\"Pandas_Profiling_Report.html\")\n",
    "print('Pre-Profiling Report Ready to Download!')"
   ]
  },
  {
   "cell_type": "markdown",
   "metadata": {
    "id": "sf38Q_in50fH"
   },
   "source": [
    "**Observations:**\n",
    "\n",
    "- **Rooms** and **Price** are highly correlated.\n",
    "- The distribution is **skewed**.\n",
    "- There are **6 numeric** variables\n"
   ]
  },
  {
   "cell_type": "markdown",
   "metadata": {
    "id": "A6gv-7CE9NWa"
   },
   "source": [
    "<a name = Section7></a>\n",
    "\n",
    "---\n",
    "# **5. Data Processing and Model Evaluation**\n",
    "---"
   ]
  },
  {
   "cell_type": "markdown",
   "metadata": {
    "id": "UVQIfGsbDUZm"
   },
   "source": [
    "<a name = Section51></a>\n",
    "### **5.1 Hold out Cross Validation**\n",
    "\n"
   ]
  },
  {
   "cell_type": "code",
   "execution_count": 13,
   "metadata": {
    "id": "Qwq3o4kNw-lw"
   },
   "outputs": [],
   "source": [
    "# Splitting the data into training, validation, and test sets using a custom function.\n",
    "# The data and target variable \"Price\" are passed as inputs.\n",
    "\n",
    "# x_train, y_train: Training data and corresponding target variable.\n",
    "# x_valid, y_valid: Validation data and corresponding target variable.\n",
    "# x_test, y_test: Test data and corresponding target variable.\n",
    "\n",
    "x_train, y_train, x_valid, y_valid, x_test, y_test = train_valid_test_split(\n",
    "    data,             # The dataset containing features.\n",
    "    target=\"Price\",   # The target variable to predict, which is \"Price.\"\n",
    "    train_size=0.8,   # The proportion of data for the training set (80% of the data).\n",
    "    valid_size=0.1,   # The proportion of data for the validation set (10% of the data).\n",
    "    test_size=0.1,    # The proportion of data for the test set (10% of the data).\n",
    "    random_state=42   # A random seed for reproducibility (setting the random state).\n",
    ")"
   ]
  },
  {
   "cell_type": "code",
   "execution_count": 14,
   "metadata": {
    "id": "cQh1RmDyxgcc"
   },
   "outputs": [
    {
     "name": "stdout",
     "output_type": "stream",
     "text": [
      "The shape of training features is (10864, 5)\n",
      "\n",
      "The shape of training target is (10864,)\n",
      "\n",
      "The shape of validation features is (1358, 5)\n",
      "\n",
      "The shape of validation target is (1358,)\n",
      "\n",
      "The shape of testing features is (1358, 5)\n",
      "\n",
      "The shape of testing target is (1358,)\n"
     ]
    }
   ],
   "source": [
    "# Iterate through a list of dataframes and series: x_train, y_train, x_valid, y_valid, x_test, y_test\n",
    "for i in [x_train, y_train, x_valid, y_valid, x_test, y_test]:\n",
    "    # Reset the index of the dataframe or series, dropping the existing index\n",
    "    i.reset_index(drop=True, inplace=True)\n",
    "\n",
    "print(f'The shape of training features is {x_train.shape}\\n')\n",
    "print(f'The shape of training target is {y_train.shape}\\n')\n",
    "print(f'The shape of validation features is {x_valid.shape}\\n')\n",
    "print(f'The shape of validation target is {y_valid.shape}\\n')\n",
    "print(f'The shape of testing features is {x_test.shape}\\n')\n",
    "print(f'The shape of testing target is {y_test.shape}')"
   ]
  },
  {
   "cell_type": "code",
   "execution_count": 15,
   "metadata": {
    "id": "w7lSzkzGMbAI"
   },
   "outputs": [],
   "source": [
    "# Creating a Linear Regression model instance\n",
    "linreg = LinearRegression()\n",
    "\n",
    "# Creating a Decision Tree Regressor model instance\n",
    "dtree = DecisionTreeRegressor()\n",
    "\n",
    "# Creating a Random Forest Regressor model instance\n",
    "rforest = RandomForestRegressor()\n",
    "\n",
    "# Creating an XGBoost Regressor model instance\n",
    "xgb = XGBRegressor()"
   ]
  },
  {
   "cell_type": "markdown",
   "metadata": {
    "id": "hnLcCX9V6oPP"
   },
   "source": [
    "<a name = Section511></a>\n",
    "### **5.1.1 Model Evaluation**\n",
    "\n"
   ]
  },
  {
   "cell_type": "code",
   "execution_count": 16,
   "metadata": {
    "id": "RSKC5Yt8QkUd"
   },
   "outputs": [],
   "source": [
    "def model_evaluation(model):\n",
    "    # Fit the model on the training data\n",
    "    model.fit(x_train, y_train)\n",
    "\n",
    "    # Predict the target variable on the validation data\n",
    "    y_pred_valid = model.predict(x_valid)\n",
    "\n",
    "    # Print the R-squared (coefficient of determination) for validation data\n",
    "    print(f\"Validation Score = {r2_score(y_valid, y_pred_valid)}\\n\")\n",
    "\n",
    "    # Print the model's score (often the R-squared) on the training data\n",
    "    print(f\"Train Score = {model.score(x_train, y_train)}\\n\")\n",
    "\n",
    "    # Return a dictionary with training and validation scores for further analysis\n",
    "    return {\n",
    "        \"Training Score\": model.score(x_train, y_train),\n",
    "        \"Validation Score\": r2_score(y_valid, y_pred_valid)\n",
    "    }"
   ]
  },
  {
   "cell_type": "code",
   "execution_count": 17,
   "metadata": {
    "id": "U49Vx5uAQ7_N"
   },
   "outputs": [],
   "source": [
    "results = {}"
   ]
  },
  {
   "cell_type": "code",
   "execution_count": 18,
   "metadata": {
    "colab": {
     "base_uri": "https://localhost:8080/"
    },
    "executionInfo": {
     "elapsed": 2,
     "status": "ok",
     "timestamp": 1699007605582,
     "user": {
      "displayName": "Akriti Upadhyay",
      "userId": "03451849857657033821"
     },
     "user_tz": -330
    },
    "id": "Iq3mWfWYQ90T",
    "outputId": "8a9ac617-6184-4418-b12d-6b800235023e"
   },
   "outputs": [
    {
     "name": "stdout",
     "output_type": "stream",
     "text": [
      "Validation Score = 0.4145496127337748\n",
      "\n",
      "Train Score = 0.3706718473109215\n",
      "\n"
     ]
    }
   ],
   "source": [
    "results['Linear Regression'] = model_evaluation(linreg)"
   ]
  },
  {
   "cell_type": "code",
   "execution_count": 19,
   "metadata": {
    "colab": {
     "base_uri": "https://localhost:8080/"
    },
    "executionInfo": {
     "elapsed": 7,
     "status": "ok",
     "timestamp": 1699007606845,
     "user": {
      "displayName": "Akriti Upadhyay",
      "userId": "03451849857657033821"
     },
     "user_tz": -330
    },
    "id": "VDOWOHIGRFDn",
    "outputId": "e656eb86-cd21-4ca6-d431-27a2d6a9de72"
   },
   "outputs": [
    {
     "name": "stdout",
     "output_type": "stream",
     "text": [
      "Validation Score = 0.2452408662933694\n",
      "\n",
      "Train Score = 0.9988357421920117\n",
      "\n"
     ]
    }
   ],
   "source": [
    "results['Decision Tree'] = model_evaluation(dtree)"
   ]
  },
  {
   "cell_type": "code",
   "execution_count": 20,
   "metadata": {
    "colab": {
     "base_uri": "https://localhost:8080/"
    },
    "executionInfo": {
     "elapsed": 4074,
     "status": "ok",
     "timestamp": 1699007611546,
     "user": {
      "displayName": "Akriti Upadhyay",
      "userId": "03451849857657033821"
     },
     "user_tz": -330
    },
    "id": "3gOc3JZoRNZp",
    "outputId": "46d5b8eb-86cd-4516-9f19-b6602aeae621"
   },
   "outputs": [
    {
     "name": "stdout",
     "output_type": "stream",
     "text": [
      "Validation Score = 0.6159963137763782\n",
      "\n",
      "Train Score = 0.9434842800376099\n",
      "\n"
     ]
    }
   ],
   "source": [
    "results['Random Forest'] = model_evaluation(rforest)"
   ]
  },
  {
   "cell_type": "code",
   "execution_count": 21,
   "metadata": {
    "colab": {
     "base_uri": "https://localhost:8080/"
    },
    "executionInfo": {
     "elapsed": 3,
     "status": "ok",
     "timestamp": 1699007611546,
     "user": {
      "displayName": "Akriti Upadhyay",
      "userId": "03451849857657033821"
     },
     "user_tz": -330
    },
    "id": "WhHIRVNaRVh7",
    "outputId": "87dc3daa-88d7-49fa-84e0-b54018d3b3d7"
   },
   "outputs": [
    {
     "name": "stdout",
     "output_type": "stream",
     "text": [
      "Validation Score = 0.6618879971774609\n",
      "\n",
      "Train Score = 0.8675104341252062\n",
      "\n"
     ]
    }
   ],
   "source": [
    "results['XGB'] = model_evaluation(xgb)"
   ]
  },
  {
   "cell_type": "code",
   "execution_count": 22,
   "metadata": {
    "colab": {
     "base_uri": "https://localhost:8080/",
     "height": 112
    },
    "executionInfo": {
     "elapsed": 6,
     "status": "ok",
     "timestamp": 1699007612225,
     "user": {
      "displayName": "Akriti Upadhyay",
      "userId": "03451849857657033821"
     },
     "user_tz": -330
    },
    "id": "dyssxbDwSfe_",
    "outputId": "c8e7983b-94df-4ded-c192-edbaf92a42a4"
   },
   "outputs": [
    {
     "data": {
      "text/html": [
       "<div>\n",
       "<style scoped>\n",
       "    .dataframe tbody tr th:only-of-type {\n",
       "        vertical-align: middle;\n",
       "    }\n",
       "\n",
       "    .dataframe tbody tr th {\n",
       "        vertical-align: top;\n",
       "    }\n",
       "\n",
       "    .dataframe thead th {\n",
       "        text-align: right;\n",
       "    }\n",
       "</style>\n",
       "<table border=\"1\" class=\"dataframe\">\n",
       "  <thead>\n",
       "    <tr style=\"text-align: right;\">\n",
       "      <th></th>\n",
       "      <th>Linear Regression</th>\n",
       "      <th>Decision Tree</th>\n",
       "      <th>Random Forest</th>\n",
       "      <th>XGB</th>\n",
       "    </tr>\n",
       "  </thead>\n",
       "  <tbody>\n",
       "    <tr>\n",
       "      <th>Training Score</th>\n",
       "      <td>0.37067</td>\n",
       "      <td>0.99884</td>\n",
       "      <td>0.94348</td>\n",
       "      <td>0.86751</td>\n",
       "    </tr>\n",
       "    <tr>\n",
       "      <th>Validation Score</th>\n",
       "      <td>0.41455</td>\n",
       "      <td>0.24524</td>\n",
       "      <td>0.61600</td>\n",
       "      <td>0.66189</td>\n",
       "    </tr>\n",
       "  </tbody>\n",
       "</table>\n",
       "</div>"
      ],
      "text/plain": [
       "                  Linear Regression  Decision Tree  Random Forest     XGB\n",
       "Training Score              0.37067        0.99884        0.94348 0.86751\n",
       "Validation Score            0.41455        0.24524        0.61600 0.66189"
      ]
     },
     "execution_count": 22,
     "metadata": {},
     "output_type": "execute_result"
    }
   ],
   "source": [
    "resultsdf = pd.DataFrame(results)\n",
    "resultsdf"
   ]
  },
  {
   "cell_type": "markdown",
   "metadata": {
    "id": "LHc7TrZn7FGp"
   },
   "source": [
    "**Observations:**\n",
    "- Based on the difference between training and validation score of model, **XGB Regressor** should be selected for **testing the model performance**."
   ]
  },
  {
   "cell_type": "markdown",
   "metadata": {
    "id": "Pu6VSwdL63br"
   },
   "source": [
    "<a name = Section512></a>\n",
    "### **5.1.2 Model Performance**\n",
    "\n"
   ]
  },
  {
   "cell_type": "code",
   "execution_count": 23,
   "metadata": {
    "id": "4o8XGlRtTCz-"
   },
   "outputs": [],
   "source": [
    "def model_performance(model):\n",
    "    # Fit the model using the training data\n",
    "    model.fit(x_train, y_train)\n",
    "\n",
    "    # Make predictions on the test data\n",
    "    y_pred_test = model.predict(x_test)\n",
    "\n",
    "    # Print the test score (R-squared) to evaluate the model's performance on the test data\n",
    "    print(f\"Test Score = {r2_score(y_test, y_pred_test)}\\n\")\n",
    "\n",
    "    # Print the training score to assess the model's performance on the training data\n",
    "    print(f\"Train Score = {model.score(x_train, y_train)}\\n\")\n",
    "\n",
    "    # Calculate and print the Mean Squared Error (MSE) to quantify prediction errors\n",
    "    print(f\"Mean Squared Error = {mean_squared_error(y_test, y_pred_test)}\\n\")\n",
    "\n",
    "    # Calculate and print the Root Mean Squared Error (RMSE), which is the square root of MSE\n",
    "    print(f\"Root Mean Squared Error = {np.sqrt(mean_squared_error(y_test, y_pred_test))}\\n\")\n",
    "\n",
    "    # Calculate and print the Mean Absolute Error (MAE), which measures the average absolute errors\n",
    "    print(f\"Mean Absolute Error = {mean_absolute_error(y_test, y_pred_test)}\")\n",
    "\n",
    "    # Return a dictionary containing various performance metrics for the model\n",
    "    return {\n",
    "        \"Training Score\": model.score(x_train, y_train),\n",
    "        \"Test Score\": r2_score(y_test, y_pred_test),\n",
    "        \"MSE\": mean_squared_error(y_test, y_pred_test),\n",
    "        \"RMSE\": np.sqrt(mean_squared_error(y_test, y_pred_test)),\n",
    "        \"MAE\": mean_absolute_error(y_test, y_pred_test)\n",
    "    }"
   ]
  },
  {
   "cell_type": "code",
   "execution_count": 24,
   "metadata": {
    "id": "WaTPX-r2UH8v"
   },
   "outputs": [],
   "source": [
    "performance = {}"
   ]
  },
  {
   "cell_type": "code",
   "execution_count": 25,
   "metadata": {
    "colab": {
     "base_uri": "https://localhost:8080/"
    },
    "executionInfo": {
     "elapsed": 395,
     "status": "ok",
     "timestamp": 1699007625392,
     "user": {
      "displayName": "Akriti Upadhyay",
      "userId": "03451849857657033821"
     },
     "user_tz": -330
    },
    "id": "v9Qyv7VsULJI",
    "outputId": "fa74585d-005c-489b-90ff-80ee567d66ce"
   },
   "outputs": [
    {
     "name": "stdout",
     "output_type": "stream",
     "text": [
      "Test Score = 0.6630551991161251\n",
      "\n",
      "Train Score = 0.8675104341252062\n",
      "\n",
      "Mean Squared Error = 130402795724.13625\n",
      "\n",
      "Root Mean Squared Error = 361113.2727055823\n",
      "\n",
      "Mean Absolute Error = 230883.95477609537\n"
     ]
    }
   ],
   "source": [
    "performance['XGB'] = model_performance(xgb)"
   ]
  },
  {
   "cell_type": "markdown",
   "metadata": {
    "id": "QIrMS6Fz7RaT"
   },
   "source": [
    "**Observations**:\n",
    "- The model performance is **not quite good** with the **hold out cross validation**.\n",
    "- The **Test Score is low**, also the **residual error** is **high**.\n",
    "- Next, trying **K Fold Cross Validation** could help."
   ]
  },
  {
   "cell_type": "markdown",
   "metadata": {
    "id": "i-qOSDybUWeL"
   },
   "source": [
    "<a name = Section52></a>\n",
    "### **5.2 K Fold Cross Validation**\n",
    "\n"
   ]
  },
  {
   "cell_type": "code",
   "execution_count": 26,
   "metadata": {
    "id": "T_ecrZHiU0uu"
   },
   "outputs": [],
   "source": [
    "x = data.drop(columns = 'Price')\n",
    "y = data[['Price']]"
   ]
  },
  {
   "cell_type": "code",
   "execution_count": 32,
   "metadata": {
    "id": "bRJ8uqb6rses"
   },
   "outputs": [],
   "source": [
    "def k_fold(model):\n",
    "    # Create a 10-fold cross-validation iterator with shuffling and a random seed for reproducibility.\n",
    "    kf = KFold(n_splits=10, shuffle=True, random_state=1)\n",
    "    mse_values = []              # Initialize a list to store mean squared error values for each fold.\n",
    "    scores = []                  # Initialize a list to store R-squared scores for each fold.\n",
    "    n = 0                        # Initialize a counter for the number of folds.\n",
    "\n",
    "    # Iterate over the training and test indices for each fold.\n",
    "    for train_index, test_index in kf.split(x):\n",
    "        # Fit the model to the training data for the current fold.\n",
    "        model_fit = model.fit(x.iloc[train_index], y.iloc[train_index])\n",
    "\n",
    "        # Calculate and store the mean squared error for the test data of the current fold.\n",
    "        mse_values.append(mean_squared_error(y.iloc[test_index], model_fit.predict(x.iloc[test_index])))\n",
    "\n",
    "        # Calculate and store the R-squared score for the entire dataset based on the model fit.\n",
    "        scores.append(model_fit.score(x, y))\n",
    "\n",
    "        n += 1  # Increment the fold counter.\n",
    "\n",
    "    # Perform cross-validation with the model and print the results.\n",
    "    cross_score = cross_val_score(model, x, y, cv=kf)\n",
    "    print(\"Cross Validation Scores are {}\".format(cross_score))\n",
    "    print(\"Average Cross Validation score :{}\".format(cross_score.mean()))\n",
    "\n",
    "    # Print the average mean squared error and R-squared values across all folds.\n",
    "    print(f'Average MSE across {n} folds: {np.mean(mse_values)}')\n",
    "    print(f'Average R2 across {n} folds: {np.mean(scores)}')\n",
    "\n",
    "    # Create a visualizer to visualize the cross-validation R-squared scores.\n",
    "    visualizer = CVScores(model, cv=kf, scoring='r2')\n",
    "    visualizer.fit(x, y)\n",
    "    visualizer.show()\n",
    "\n",
    "    # Return a dictionary with the average cross-validation score and average R-squared score.\n",
    "    return {\"Avg Cross Validation Score\" : cross_score.mean(),\n",
    "          \"Average R2 score\" : np.mean(scores)}\n"
   ]
  },
  {
   "cell_type": "code",
   "execution_count": 33,
   "metadata": {
    "id": "7xg1ZHAgVqff"
   },
   "outputs": [],
   "source": [
    "k_fold_results = {}"
   ]
  },
  {
   "cell_type": "code",
   "execution_count": 34,
   "metadata": {
    "colab": {
     "base_uri": "https://localhost:8080/",
     "height": 611
    },
    "executionInfo": {
     "elapsed": 1042,
     "status": "ok",
     "timestamp": 1699007663880,
     "user": {
      "displayName": "Akriti Upadhyay",
      "userId": "03451849857657033821"
     },
     "user_tz": -330
    },
    "id": "ylU78W1aVtv8",
    "outputId": "58c47af3-e503-499f-92c2-806aa1576df8"
   },
   "outputs": [
    {
     "name": "stdout",
     "output_type": "stream",
     "text": [
      "Cross Validation Scores are [ 0.40290797  0.35264063 -1.36790632  0.33800364  0.37647689  0.37350909\n",
      "  0.37359836  0.40223888  0.36517087  0.36293528]\n",
      "Average Cross Validation score :0.19795752793716928\n",
      "Average MSE across 10 folds: 327190294250.9061\n",
      "Average R2 across 10 folds: 0.35702220972054877\n"
     ]
    },
    {
     "data": {
      "image/png": "[encoded data removed]",
      "text/plain": [
       "<Figure size 800x550 with 1 Axes>"
      ]
     },
     "metadata": {},
     "output_type": "display_data"
    }
   ],
   "source": [
    "k_fold_results['Linear Regression'] = k_fold(linreg)"
   ]
  },
  {
   "cell_type": "code",
   "execution_count": 35,
   "metadata": {
    "colab": {
     "base_uri": "https://localhost:8080/",
     "height": 611
    },
    "executionInfo": {
     "elapsed": 3884,
     "status": "ok",
     "timestamp": 1699007668260,
     "user": {
      "displayName": "Akriti Upadhyay",
      "userId": "03451849857657033821"
     },
     "user_tz": -330
    },
    "id": "N-OuNYzZVzXG",
    "outputId": "fac771b3-0fb1-4333-a0a4-dc071ba74dc6"
   },
   "outputs": [
    {
     "name": "stdout",
     "output_type": "stream",
     "text": [
      "Cross Validation Scores are [0.21339438 0.12779882 0.33030057 0.20700505 0.21005281 0.37089848\n",
      " 0.22840727 0.30643696 0.34648381 0.30780845]\n",
      "Average Cross Validation score :0.2648586602948545\n",
      "Average MSE across 10 folds: 302760583707.1451\n",
      "Average R2 across 10 folds: 0.924819102283006\n"
     ]
    },
    {
     "data": {
      "image/png": "[encoded data removed]",
      "text/plain": [
       "<Figure size 800x550 with 1 Axes>"
      ]
     },
     "metadata": {},
     "output_type": "display_data"
    }
   ],
   "source": [
    "k_fold_results['Decision Tree'] = k_fold(dtree)"
   ]
  },
  {
   "cell_type": "code",
   "execution_count": 36,
   "metadata": {
    "colab": {
     "base_uri": "https://localhost:8080/",
     "height": 611
    },
    "executionInfo": {
     "elapsed": 143724,
     "status": "ok",
     "timestamp": 1699007817554,
     "user": {
      "displayName": "Akriti Upadhyay",
      "userId": "03451849857657033821"
     },
     "user_tz": -330
    },
    "id": "u0LQMqoEV86s",
    "outputId": "d8ec693a-0f5f-485c-f062-a4b4b8aaab70"
   },
   "outputs": [
    {
     "name": "stdout",
     "output_type": "stream",
     "text": [
      "Cross Validation Scores are [0.63468566 0.6003796  0.6147803  0.55652702 0.61143351 0.62377845\n",
      " 0.61965997 0.63385444 0.66750327 0.59666391]\n",
      "Average Cross Validation score :0.6159266127456255\n",
      "Average MSE across 10 folds: 157413430086.35538\n",
      "Average R2 across 10 folds: 0.9122334587215434\n"
     ]
    },
    {
     "data": {
      "image/png": "[encoded data removed]",
      "text/plain": [
       "<Figure size 800x550 with 1 Axes>"
      ]
     },
     "metadata": {},
     "output_type": "display_data"
    }
   ],
   "source": [
    "k_fold_results['Random Forest'] = k_fold(rforest)"
   ]
  },
  {
   "cell_type": "code",
   "execution_count": 37,
   "metadata": {
    "colab": {
     "base_uri": "https://localhost:8080/",
     "height": 611
    },
    "executionInfo": {
     "elapsed": 9657,
     "status": "ok",
     "timestamp": 1699007827207,
     "user": {
      "displayName": "Akriti Upadhyay",
      "userId": "03451849857657033821"
     },
     "user_tz": -330
    },
    "id": "S7utbmyjWCMT",
    "outputId": "29e58b0e-e7b0-434a-cbe1-02beae1cbd02"
   },
   "outputs": [
    {
     "name": "stdout",
     "output_type": "stream",
     "text": [
      "Cross Validation Scores are [0.63602797 0.64730645 0.6486332  0.57936383 0.66679542 0.67321163\n",
      " 0.64356654 0.66160914 0.6932972  0.6250631 ]\n",
      "Average Cross Validation score :0.6474874503277627\n",
      "Average MSE across 10 folds: 143823032602.0235\n",
      "Average R2 across 10 folds: 0.8426117216212686\n"
     ]
    },
    {
     "data": {
      "image/png": "[encoded data removed]",
      "text/plain": [
       "<Figure size 800x550 with 1 Axes>"
      ]
     },
     "metadata": {},
     "output_type": "display_data"
    }
   ],
   "source": [
    "k_fold_results['XGB'] = k_fold(xgb)"
   ]
  },
  {
   "cell_type": "code",
   "execution_count": 38,
   "metadata": {
    "colab": {
     "base_uri": "https://localhost:8080/",
     "height": 112
    },
    "executionInfo": {
     "elapsed": 12,
     "status": "ok",
     "timestamp": 1699007827208,
     "user": {
      "displayName": "Akriti Upadhyay",
      "userId": "03451849857657033821"
     },
     "user_tz": -330
    },
    "id": "J6ZERt6ntCHc",
    "outputId": "67ff92d4-9266-473d-e6a0-78c627afb5f8"
   },
   "outputs": [
    {
     "data": {
      "text/html": [
       "<div>\n",
       "<style scoped>\n",
       "    .dataframe tbody tr th:only-of-type {\n",
       "        vertical-align: middle;\n",
       "    }\n",
       "\n",
       "    .dataframe tbody tr th {\n",
       "        vertical-align: top;\n",
       "    }\n",
       "\n",
       "    .dataframe thead th {\n",
       "        text-align: right;\n",
       "    }\n",
       "</style>\n",
       "<table border=\"1\" class=\"dataframe\">\n",
       "  <thead>\n",
       "    <tr style=\"text-align: right;\">\n",
       "      <th></th>\n",
       "      <th>Linear Regression</th>\n",
       "      <th>Decision Tree</th>\n",
       "      <th>Random Forest</th>\n",
       "      <th>XGB</th>\n",
       "    </tr>\n",
       "  </thead>\n",
       "  <tbody>\n",
       "    <tr>\n",
       "      <th>Avg Cross Validation Score</th>\n",
       "      <td>0.19796</td>\n",
       "      <td>0.26486</td>\n",
       "      <td>0.61593</td>\n",
       "      <td>0.64749</td>\n",
       "    </tr>\n",
       "    <tr>\n",
       "      <th>Average R2 score</th>\n",
       "      <td>0.35702</td>\n",
       "      <td>0.92482</td>\n",
       "      <td>0.91223</td>\n",
       "      <td>0.84261</td>\n",
       "    </tr>\n",
       "  </tbody>\n",
       "</table>\n",
       "</div>"
      ],
      "text/plain": [
       "                            Linear Regression  Decision Tree  Random Forest  \\\n",
       "Avg Cross Validation Score            0.19796        0.26486        0.61593   \n",
       "Average R2 score                      0.35702        0.92482        0.91223   \n",
       "\n",
       "                               XGB  \n",
       "Avg Cross Validation Score 0.64749  \n",
       "Average R2 score           0.84261  "
      ]
     },
     "execution_count": 38,
     "metadata": {},
     "output_type": "execute_result"
    }
   ],
   "source": [
    "kfold_df = pd.DataFrame(k_fold_results)\n",
    "kfold_df"
   ]
  },
  {
   "cell_type": "markdown",
   "metadata": {
    "id": "OUFcYqH678v6"
   },
   "source": [
    "**Observations:**\n",
    "\n",
    "- With K fold cross validation, the **best cross validation score** is good with **XGB Regressor**.\n",
    "- Also, with this cross validation, there is an **increase** in **R2 score**."
   ]
  },
  {
   "cell_type": "markdown",
   "metadata": {
    "id": "9sgbYstRRXqT"
   },
   "source": [
    "<a name = Section6></a>\n",
    "\n",
    "---\n",
    "# **6. Conclusion**\n",
    "---\n",
    "- The cross validation tells us the **best way of splitting the data** to overthrow the **bias variance tradeoff**.\n",
    "- With this dataset, we were able to saw **overfitting**, which was reduced by **K fold cross validation** to certain level.\n",
    "- Now, the model has been selected, it's time to **tune** the **hyperparameters** of the regression model to **overthrow overfitting properly**."
   ]
  }
 ],
 "metadata": {
  "colab": {
   "provenance": [
    {
     "file_id": "1xhIE4dTKin3wj4siXss3T2smuOUdAOAq",
     "timestamp": 1691565072378
    },
    {
     "file_id": "1gOR5sZvhH7sRsJGebNEgQg3WKuSTwkqC",
     "timestamp": 1690453348015
    }
   ]
  },
  "kernelspec": {
   "display_name": "Python 3 (ipykernel)",
   "language": "python",
   "name": "python3"
  },
  "language_info": {
   "codemirror_mode": {
    "name": "ipython",
    "version": 3
   },
   "file_extension": ".py",
   "mimetype": "text/x-python",
   "name": "python",
   "nbconvert_exporter": "python",
   "pygments_lexer": "ipython3",
   "version": "3.9.13"
  },
  "widgets": {
   "application/vnd.jupyter.widget-state+json": {
    "0b54d1cec45f452a845a1e46995b7d2d": {
     "model_module": "@jupyter-widgets/base",
     "model_module_version": "1.2.0",
     "model_name": "LayoutModel",
     "state": {
      "_model_module": "@jupyter-widgets/base",
      "_model_module_version": "1.2.0",
      "_model_name": "LayoutModel",
      "_view_count": null,
      "_view_module": "@jupyter-widgets/base",
      "_view_module_version": "1.2.0",
      "_view_name": "LayoutView",
      "align_content": null,
      "align_items": null,
      "align_self": null,
      "border": null,
      "bottom": null,
      "display": null,
      "flex": null,
      "flex_flow": null,
      "grid_area": null,
      "grid_auto_columns": null,
      "grid_auto_flow": null,
      "grid_auto_rows": null,
      "grid_column": null,
      "grid_gap": null,
      "grid_row": null,
      "grid_template_areas": null,
      "grid_template_columns": null,
      "grid_template_rows": null,
      "height": null,
      "justify_content": null,
      "justify_items": null,
      "left": null,
      "margin": null,
      "max_height": null,
      "max_width": null,
      "min_height": null,
      "min_width": null,
      "object_fit": null,
      "object_position": null,
      "order": null,
      "overflow": null,
      "overflow_x": null,
      "overflow_y": null,
      "padding": null,
      "right": null,
      "top": null,
      "visibility": null,
      "width": null
     }
    },
    "0fed4f7a20dc413c8d63b5bc64461064": {
     "model_module": "@jupyter-widgets/controls",
     "model_module_version": "1.5.0",
     "model_name": "DescriptionStyleModel",
     "state": {
      "_model_module": "@jupyter-widgets/controls",
      "_model_module_version": "1.5.0",
      "_model_name": "DescriptionStyleModel",
      "_view_count": null,
      "_view_module": "@jupyter-widgets/base",
      "_view_module_version": "1.2.0",
      "_view_name": "StyleView",
      "description_width": ""
     }
    },
    "219c893935a249c7bd7ac80fb51d38cb": {
     "model_module": "@jupyter-widgets/base",
     "model_module_version": "1.2.0",
     "model_name": "LayoutModel",
     "state": {
      "_model_module": "@jupyter-widgets/base",
      "_model_module_version": "1.2.0",
      "_model_name": "LayoutModel",
      "_view_count": null,
      "_view_module": "@jupyter-widgets/base",
      "_view_module_version": "1.2.0",
      "_view_name": "LayoutView",
      "align_content": null,
      "align_items": null,
      "align_self": null,
      "border": null,
      "bottom": null,
      "display": null,
      "flex": null,
      "flex_flow": null,
      "grid_area": null,
      "grid_auto_columns": null,
      "grid_auto_flow": null,
      "grid_auto_rows": null,
      "grid_column": null,
      "grid_gap": null,
      "grid_row": null,
      "grid_template_areas": null,
      "grid_template_columns": null,
      "grid_template_rows": null,
      "height": null,
      "justify_content": null,
      "justify_items": null,
      "left": null,
      "margin": null,
      "max_height": null,
      "max_width": null,
      "min_height": null,
      "min_width": null,
      "object_fit": null,
      "object_position": null,
      "order": null,
      "overflow": null,
      "overflow_x": null,
      "overflow_y": null,
      "padding": null,
      "right": null,
      "top": null,
      "visibility": null,
      "width": null
     }
    },
    "23402666825646eebb24ad31ff6a1337": {
     "model_module": "@jupyter-widgets/controls",
     "model_module_version": "1.5.0",
     "model_name": "HBoxModel",
     "state": {
      "_dom_classes": [],
      "_model_module": "@jupyter-widgets/controls",
      "_model_module_version": "1.5.0",
      "_model_name": "HBoxModel",
      "_view_count": null,
      "_view_module": "@jupyter-widgets/controls",
      "_view_module_version": "1.5.0",
      "_view_name": "HBoxView",
      "box_style": "",
      "children": [
       "IPY_MODEL_ac640cea0faa4ddabe5e74774125c78b",
       "IPY_MODEL_537425e7ccdc4c198391fa4ee3d38b05",
       "IPY_MODEL_dde3bd2f46da4f1183788c21ea80abf5"
      ],
      "layout": "IPY_MODEL_219c893935a249c7bd7ac80fb51d38cb"
     }
    },
    "2b3d1426f3fa4b51a5c18548217f864f": {
     "model_module": "@jupyter-widgets/controls",
     "model_module_version": "1.5.0",
     "model_name": "HBoxModel",
     "state": {
      "_dom_classes": [],
      "_model_module": "@jupyter-widgets/controls",
      "_model_module_version": "1.5.0",
      "_model_name": "HBoxModel",
      "_view_count": null,
      "_view_module": "@jupyter-widgets/controls",
      "_view_module_version": "1.5.0",
      "_view_name": "HBoxView",
      "box_style": "",
      "children": [
       "IPY_MODEL_e64286677f9a4630901362e7dc362204",
       "IPY_MODEL_42d3fef5178e4185b314d085f985a9f2",
       "IPY_MODEL_6954567972314493bcb8e645dfc61a34"
      ],
      "layout": "IPY_MODEL_e7606e7973bb4a8f88e968f53fd58861"
     }
    },
    "42d3fef5178e4185b314d085f985a9f2": {
     "model_module": "@jupyter-widgets/controls",
     "model_module_version": "1.5.0",
     "model_name": "FloatProgressModel",
     "state": {
      "_dom_classes": [],
      "_model_module": "@jupyter-widgets/controls",
      "_model_module_version": "1.5.0",
      "_model_name": "FloatProgressModel",
      "_view_count": null,
      "_view_module": "@jupyter-widgets/controls",
      "_view_module_version": "1.5.0",
      "_view_name": "ProgressView",
      "bar_style": "success",
      "description": "",
      "description_tooltip": null,
      "layout": "IPY_MODEL_717fdd2b36bb419f8cd90947f4b165c3",
      "max": 5,
      "min": 0,
      "orientation": "horizontal",
      "style": "IPY_MODEL_f82e913e9f5048fc9c2a117f67ff9a9b",
      "value": 5
     }
    },
    "4b187fd0f1eb472aad77fca0f9a84bfb": {
     "model_module": "@jupyter-widgets/base",
     "model_module_version": "1.2.0",
     "model_name": "LayoutModel",
     "state": {
      "_model_module": "@jupyter-widgets/base",
      "_model_module_version": "1.2.0",
      "_model_name": "LayoutModel",
      "_view_count": null,
      "_view_module": "@jupyter-widgets/base",
      "_view_module_version": "1.2.0",
      "_view_name": "LayoutView",
      "align_content": null,
      "align_items": null,
      "align_self": null,
      "border": null,
      "bottom": null,
      "display": null,
      "flex": null,
      "flex_flow": null,
      "grid_area": null,
      "grid_auto_columns": null,
      "grid_auto_flow": null,
      "grid_auto_rows": null,
      "grid_column": null,
      "grid_gap": null,
      "grid_row": null,
      "grid_template_areas": null,
      "grid_template_columns": null,
      "grid_template_rows": null,
      "height": null,
      "justify_content": null,
      "justify_items": null,
      "left": null,
      "margin": null,
      "max_height": null,
      "max_width": null,
      "min_height": null,
      "min_width": null,
      "object_fit": null,
      "object_position": null,
      "order": null,
      "overflow": null,
      "overflow_x": null,
      "overflow_y": null,
      "padding": null,
      "right": null,
      "top": null,
      "visibility": null,
      "width": null
     }
    },
    "537425e7ccdc4c198391fa4ee3d38b05": {
     "model_module": "@jupyter-widgets/controls",
     "model_module_version": "1.5.0",
     "model_name": "FloatProgressModel",
     "state": {
      "_dom_classes": [],
      "_model_module": "@jupyter-widgets/controls",
      "_model_module_version": "1.5.0",
      "_model_name": "FloatProgressModel",
      "_view_count": null,
      "_view_module": "@jupyter-widgets/controls",
      "_view_module_version": "1.5.0",
      "_view_name": "ProgressView",
      "bar_style": "success",
      "description": "",
      "description_tooltip": null,
      "layout": "IPY_MODEL_81c872ae2ffd45d4a703afbf47fe3a05",
      "max": 1,
      "min": 0,
      "orientation": "horizontal",
      "style": "IPY_MODEL_85c57bbfbe154ad7badf8a400f591f63",
      "value": 1
     }
    },
    "557055a081ea4739bdb074cb39377ca9": {
     "model_module": "@jupyter-widgets/base",
     "model_module_version": "1.2.0",
     "model_name": "LayoutModel",
     "state": {
      "_model_module": "@jupyter-widgets/base",
      "_model_module_version": "1.2.0",
      "_model_name": "LayoutModel",
      "_view_count": null,
      "_view_module": "@jupyter-widgets/base",
      "_view_module_version": "1.2.0",
      "_view_name": "LayoutView",
      "align_content": null,
      "align_items": null,
      "align_self": null,
      "border": null,
      "bottom": null,
      "display": null,
      "flex": null,
      "flex_flow": null,
      "grid_area": null,
      "grid_auto_columns": null,
      "grid_auto_flow": null,
      "grid_auto_rows": null,
      "grid_column": null,
      "grid_gap": null,
      "grid_row": null,
      "grid_template_areas": null,
      "grid_template_columns": null,
      "grid_template_rows": null,
      "height": null,
      "justify_content": null,
      "justify_items": null,
      "left": null,
      "margin": null,
      "max_height": null,
      "max_width": null,
      "min_height": null,
      "min_width": null,
      "object_fit": null,
      "object_position": null,
      "order": null,
      "overflow": null,
      "overflow_x": null,
      "overflow_y": null,
      "padding": null,
      "right": null,
      "top": null,
      "visibility": null,
      "width": null
     }
    },
    "59ec6da96c8a4974951a9a606045415e": {
     "model_module": "@jupyter-widgets/base",
     "model_module_version": "1.2.0",
     "model_name": "LayoutModel",
     "state": {
      "_model_module": "@jupyter-widgets/base",
      "_model_module_version": "1.2.0",
      "_model_name": "LayoutModel",
      "_view_count": null,
      "_view_module": "@jupyter-widgets/base",
      "_view_module_version": "1.2.0",
      "_view_name": "LayoutView",
      "align_content": null,
      "align_items": null,
      "align_self": null,
      "border": null,
      "bottom": null,
      "display": null,
      "flex": null,
      "flex_flow": null,
      "grid_area": null,
      "grid_auto_columns": null,
      "grid_auto_flow": null,
      "grid_auto_rows": null,
      "grid_column": null,
      "grid_gap": null,
      "grid_row": null,
      "grid_template_areas": null,
      "grid_template_columns": null,
      "grid_template_rows": null,
      "height": null,
      "justify_content": null,
      "justify_items": null,
      "left": null,
      "margin": null,
      "max_height": null,
      "max_width": null,
      "min_height": null,
      "min_width": null,
      "object_fit": null,
      "object_position": null,
      "order": null,
      "overflow": null,
      "overflow_x": null,
      "overflow_y": null,
      "padding": null,
      "right": null,
      "top": null,
      "visibility": null,
      "width": null
     }
    },
    "5ddccad9d1b943acb2b1e3e5264849e0": {
     "model_module": "@jupyter-widgets/base",
     "model_module_version": "1.2.0",
     "model_name": "LayoutModel",
     "state": {
      "_model_module": "@jupyter-widgets/base",
      "_model_module_version": "1.2.0",
      "_model_name": "LayoutModel",
      "_view_count": null,
      "_view_module": "@jupyter-widgets/base",
      "_view_module_version": "1.2.0",
      "_view_name": "LayoutView",
      "align_content": null,
      "align_items": null,
      "align_self": null,
      "border": null,
      "bottom": null,
      "display": null,
      "flex": null,
      "flex_flow": null,
      "grid_area": null,
      "grid_auto_columns": null,
      "grid_auto_flow": null,
      "grid_auto_rows": null,
      "grid_column": null,
      "grid_gap": null,
      "grid_row": null,
      "grid_template_areas": null,
      "grid_template_columns": null,
      "grid_template_rows": null,
      "height": null,
      "justify_content": null,
      "justify_items": null,
      "left": null,
      "margin": null,
      "max_height": null,
      "max_width": null,
      "min_height": null,
      "min_width": null,
      "object_fit": null,
      "object_position": null,
      "order": null,
      "overflow": null,
      "overflow_x": null,
      "overflow_y": null,
      "padding": null,
      "right": null,
      "top": null,
      "visibility": null,
      "width": null
     }
    },
    "6954567972314493bcb8e645dfc61a34": {
     "model_module": "@jupyter-widgets/controls",
     "model_module_version": "1.5.0",
     "model_name": "HTMLModel",
     "state": {
      "_dom_classes": [],
      "_model_module": "@jupyter-widgets/controls",
      "_model_module_version": "1.5.0",
      "_model_name": "HTMLModel",
      "_view_count": null,
      "_view_module": "@jupyter-widgets/controls",
      "_view_module_version": "1.5.0",
      "_view_name": "HTMLView",
      "description": "",
      "description_tooltip": null,
      "layout": "IPY_MODEL_5ddccad9d1b943acb2b1e3e5264849e0",
      "placeholder": "​",
      "style": "IPY_MODEL_deca65e1a1584a41b052b4d6aa764a0e",
      "value": " 51/51 [00:11&lt;00:00,  2.31it/s, Completed]"
     }
    },
    "6b8973b920824985aad97ed22b13f554": {
     "model_module": "@jupyter-widgets/controls",
     "model_module_version": "1.5.0",
     "model_name": "DescriptionStyleModel",
     "state": {
      "_model_module": "@jupyter-widgets/controls",
      "_model_module_version": "1.5.0",
      "_model_name": "DescriptionStyleModel",
      "_view_count": null,
      "_view_module": "@jupyter-widgets/base",
      "_view_module_version": "1.2.0",
      "_view_name": "StyleView",
      "description_width": ""
     }
    },
    "717fdd2b36bb419f8cd90947f4b165c3": {
     "model_module": "@jupyter-widgets/base",
     "model_module_version": "1.2.0",
     "model_name": "LayoutModel",
     "state": {
      "_model_module": "@jupyter-widgets/base",
      "_model_module_version": "1.2.0",
      "_model_name": "LayoutModel",
      "_view_count": null,
      "_view_module": "@jupyter-widgets/base",
      "_view_module_version": "1.2.0",
      "_view_name": "LayoutView",
      "align_content": null,
      "align_items": null,
      "align_self": null,
      "border": null,
      "bottom": null,
      "display": null,
      "flex": null,
      "flex_flow": null,
      "grid_area": null,
      "grid_auto_columns": null,
      "grid_auto_flow": null,
      "grid_auto_rows": null,
      "grid_column": null,
      "grid_gap": null,
      "grid_row": null,
      "grid_template_areas": null,
      "grid_template_columns": null,
      "grid_template_rows": null,
      "height": null,
      "justify_content": null,
      "justify_items": null,
      "left": null,
      "margin": null,
      "max_height": null,
      "max_width": null,
      "min_height": null,
      "min_width": null,
      "object_fit": null,
      "object_position": null,
      "order": null,
      "overflow": null,
      "overflow_x": null,
      "overflow_y": null,
      "padding": null,
      "right": null,
      "top": null,
      "visibility": null,
      "width": null
     }
    },
    "7be3282573f6444faa7228f5447b77c6": {
     "model_module": "@jupyter-widgets/controls",
     "model_module_version": "1.5.0",
     "model_name": "ProgressStyleModel",
     "state": {
      "_model_module": "@jupyter-widgets/controls",
      "_model_module_version": "1.5.0",
      "_model_name": "ProgressStyleModel",
      "_view_count": null,
      "_view_module": "@jupyter-widgets/base",
      "_view_module_version": "1.2.0",
      "_view_name": "StyleView",
      "bar_color": null,
      "description_width": ""
     }
    },
    "81c872ae2ffd45d4a703afbf47fe3a05": {
     "model_module": "@jupyter-widgets/base",
     "model_module_version": "1.2.0",
     "model_name": "LayoutModel",
     "state": {
      "_model_module": "@jupyter-widgets/base",
      "_model_module_version": "1.2.0",
      "_model_name": "LayoutModel",
      "_view_count": null,
      "_view_module": "@jupyter-widgets/base",
      "_view_module_version": "1.2.0",
      "_view_name": "LayoutView",
      "align_content": null,
      "align_items": null,
      "align_self": null,
      "border": null,
      "bottom": null,
      "display": null,
      "flex": null,
      "flex_flow": null,
      "grid_area": null,
      "grid_auto_columns": null,
      "grid_auto_flow": null,
      "grid_auto_rows": null,
      "grid_column": null,
      "grid_gap": null,
      "grid_row": null,
      "grid_template_areas": null,
      "grid_template_columns": null,
      "grid_template_rows": null,
      "height": null,
      "justify_content": null,
      "justify_items": null,
      "left": null,
      "margin": null,
      "max_height": null,
      "max_width": null,
      "min_height": null,
      "min_width": null,
      "object_fit": null,
      "object_position": null,
      "order": null,
      "overflow": null,
      "overflow_x": null,
      "overflow_y": null,
      "padding": null,
      "right": null,
      "top": null,
      "visibility": null,
      "width": null
     }
    },
    "85c57bbfbe154ad7badf8a400f591f63": {
     "model_module": "@jupyter-widgets/controls",
     "model_module_version": "1.5.0",
     "model_name": "ProgressStyleModel",
     "state": {
      "_model_module": "@jupyter-widgets/controls",
      "_model_module_version": "1.5.0",
      "_model_name": "ProgressStyleModel",
      "_view_count": null,
      "_view_module": "@jupyter-widgets/base",
      "_view_module_version": "1.2.0",
      "_view_name": "StyleView",
      "bar_color": null,
      "description_width": ""
     }
    },
    "863eabf44de94ebd9ed6ef6d48cc4357": {
     "model_module": "@jupyter-widgets/base",
     "model_module_version": "1.2.0",
     "model_name": "LayoutModel",
     "state": {
      "_model_module": "@jupyter-widgets/base",
      "_model_module_version": "1.2.0",
      "_model_name": "LayoutModel",
      "_view_count": null,
      "_view_module": "@jupyter-widgets/base",
      "_view_module_version": "1.2.0",
      "_view_name": "LayoutView",
      "align_content": null,
      "align_items": null,
      "align_self": null,
      "border": null,
      "bottom": null,
      "display": null,
      "flex": null,
      "flex_flow": null,
      "grid_area": null,
      "grid_auto_columns": null,
      "grid_auto_flow": null,
      "grid_auto_rows": null,
      "grid_column": null,
      "grid_gap": null,
      "grid_row": null,
      "grid_template_areas": null,
      "grid_template_columns": null,
      "grid_template_rows": null,
      "height": null,
      "justify_content": null,
      "justify_items": null,
      "left": null,
      "margin": null,
      "max_height": null,
      "max_width": null,
      "min_height": null,
      "min_width": null,
      "object_fit": null,
      "object_position": null,
      "order": null,
      "overflow": null,
      "overflow_x": null,
      "overflow_y": null,
      "padding": null,
      "right": null,
      "top": null,
      "visibility": null,
      "width": null
     }
    },
    "8a077e755f8843f4b2d4409a916d3a61": {
     "model_module": "@jupyter-widgets/controls",
     "model_module_version": "1.5.0",
     "model_name": "DescriptionStyleModel",
     "state": {
      "_model_module": "@jupyter-widgets/controls",
      "_model_module_version": "1.5.0",
      "_model_name": "DescriptionStyleModel",
      "_view_count": null,
      "_view_module": "@jupyter-widgets/base",
      "_view_module_version": "1.2.0",
      "_view_name": "StyleView",
      "description_width": ""
     }
    },
    "a19613a807dc4c2d98650442ab3a0490": {
     "model_module": "@jupyter-widgets/controls",
     "model_module_version": "1.5.0",
     "model_name": "DescriptionStyleModel",
     "state": {
      "_model_module": "@jupyter-widgets/controls",
      "_model_module_version": "1.5.0",
      "_model_name": "DescriptionStyleModel",
      "_view_count": null,
      "_view_module": "@jupyter-widgets/base",
      "_view_module_version": "1.2.0",
      "_view_name": "StyleView",
      "description_width": ""
     }
    },
    "a6529be854284ecc9c2de91a269a7139": {
     "model_module": "@jupyter-widgets/base",
     "model_module_version": "1.2.0",
     "model_name": "LayoutModel",
     "state": {
      "_model_module": "@jupyter-widgets/base",
      "_model_module_version": "1.2.0",
      "_model_name": "LayoutModel",
      "_view_count": null,
      "_view_module": "@jupyter-widgets/base",
      "_view_module_version": "1.2.0",
      "_view_name": "LayoutView",
      "align_content": null,
      "align_items": null,
      "align_self": null,
      "border": null,
      "bottom": null,
      "display": null,
      "flex": null,
      "flex_flow": null,
      "grid_area": null,
      "grid_auto_columns": null,
      "grid_auto_flow": null,
      "grid_auto_rows": null,
      "grid_column": null,
      "grid_gap": null,
      "grid_row": null,
      "grid_template_areas": null,
      "grid_template_columns": null,
      "grid_template_rows": null,
      "height": null,
      "justify_content": null,
      "justify_items": null,
      "left": null,
      "margin": null,
      "max_height": null,
      "max_width": null,
      "min_height": null,
      "min_width": null,
      "object_fit": null,
      "object_position": null,
      "order": null,
      "overflow": null,
      "overflow_x": null,
      "overflow_y": null,
      "padding": null,
      "right": null,
      "top": null,
      "visibility": null,
      "width": null
     }
    },
    "a9774a36945645b49ad69c19b651e7ea": {
     "model_module": "@jupyter-widgets/controls",
     "model_module_version": "1.5.0",
     "model_name": "HBoxModel",
     "state": {
      "_dom_classes": [],
      "_model_module": "@jupyter-widgets/controls",
      "_model_module_version": "1.5.0",
      "_model_name": "HBoxModel",
      "_view_count": null,
      "_view_module": "@jupyter-widgets/controls",
      "_view_module_version": "1.5.0",
      "_view_name": "HBoxView",
      "box_style": "",
      "children": [
       "IPY_MODEL_b1896d649b114d15a70a3bbba202faee",
       "IPY_MODEL_fe4b3f05f03d4978a946ccfb1449a799",
       "IPY_MODEL_bd3dbfdfcd4b4f1a9a654590ebcab5a4"
      ],
      "layout": "IPY_MODEL_a6529be854284ecc9c2de91a269a7139"
     }
    },
    "ac640cea0faa4ddabe5e74774125c78b": {
     "model_module": "@jupyter-widgets/controls",
     "model_module_version": "1.5.0",
     "model_name": "HTMLModel",
     "state": {
      "_dom_classes": [],
      "_model_module": "@jupyter-widgets/controls",
      "_model_module_version": "1.5.0",
      "_model_name": "HTMLModel",
      "_view_count": null,
      "_view_module": "@jupyter-widgets/controls",
      "_view_module_version": "1.5.0",
      "_view_name": "HTMLView",
      "description": "",
      "description_tooltip": null,
      "layout": "IPY_MODEL_59ec6da96c8a4974951a9a606045415e",
      "placeholder": "​",
      "style": "IPY_MODEL_0fed4f7a20dc413c8d63b5bc64461064",
      "value": "Render HTML: 100%"
     }
    },
    "b1896d649b114d15a70a3bbba202faee": {
     "model_module": "@jupyter-widgets/controls",
     "model_module_version": "1.5.0",
     "model_name": "HTMLModel",
     "state": {
      "_dom_classes": [],
      "_model_module": "@jupyter-widgets/controls",
      "_model_module_version": "1.5.0",
      "_model_name": "HTMLModel",
      "_view_count": null,
      "_view_module": "@jupyter-widgets/controls",
      "_view_module_version": "1.5.0",
      "_view_name": "HTMLView",
      "description": "",
      "description_tooltip": null,
      "layout": "IPY_MODEL_557055a081ea4739bdb074cb39377ca9",
      "placeholder": "​",
      "style": "IPY_MODEL_6b8973b920824985aad97ed22b13f554",
      "value": "Generate report structure: 100%"
     }
    },
    "b4ef707581fe4cb09d676615afbea450": {
     "model_module": "@jupyter-widgets/base",
     "model_module_version": "1.2.0",
     "model_name": "LayoutModel",
     "state": {
      "_model_module": "@jupyter-widgets/base",
      "_model_module_version": "1.2.0",
      "_model_name": "LayoutModel",
      "_view_count": null,
      "_view_module": "@jupyter-widgets/base",
      "_view_module_version": "1.2.0",
      "_view_name": "LayoutView",
      "align_content": null,
      "align_items": null,
      "align_self": null,
      "border": null,
      "bottom": null,
      "display": null,
      "flex": null,
      "flex_flow": null,
      "grid_area": null,
      "grid_auto_columns": null,
      "grid_auto_flow": null,
      "grid_auto_rows": null,
      "grid_column": null,
      "grid_gap": null,
      "grid_row": null,
      "grid_template_areas": null,
      "grid_template_columns": null,
      "grid_template_rows": null,
      "height": null,
      "justify_content": null,
      "justify_items": null,
      "left": null,
      "margin": null,
      "max_height": null,
      "max_width": null,
      "min_height": null,
      "min_width": null,
      "object_fit": null,
      "object_position": null,
      "order": null,
      "overflow": null,
      "overflow_x": null,
      "overflow_y": null,
      "padding": null,
      "right": null,
      "top": null,
      "visibility": null,
      "width": null
     }
    },
    "bd3dbfdfcd4b4f1a9a654590ebcab5a4": {
     "model_module": "@jupyter-widgets/controls",
     "model_module_version": "1.5.0",
     "model_name": "HTMLModel",
     "state": {
      "_dom_classes": [],
      "_model_module": "@jupyter-widgets/controls",
      "_model_module_version": "1.5.0",
      "_model_name": "HTMLModel",
      "_view_count": null,
      "_view_module": "@jupyter-widgets/controls",
      "_view_module_version": "1.5.0",
      "_view_name": "HTMLView",
      "description": "",
      "description_tooltip": null,
      "layout": "IPY_MODEL_b4ef707581fe4cb09d676615afbea450",
      "placeholder": "​",
      "style": "IPY_MODEL_a19613a807dc4c2d98650442ab3a0490",
      "value": " 1/1 [00:05&lt;00:00,  5.05s/it]"
     }
    },
    "d4aec014f0b64890b8601178d59ac9b9": {
     "model_module": "@jupyter-widgets/controls",
     "model_module_version": "1.5.0",
     "model_name": "DescriptionStyleModel",
     "state": {
      "_model_module": "@jupyter-widgets/controls",
      "_model_module_version": "1.5.0",
      "_model_name": "DescriptionStyleModel",
      "_view_count": null,
      "_view_module": "@jupyter-widgets/base",
      "_view_module_version": "1.2.0",
      "_view_name": "StyleView",
      "description_width": ""
     }
    },
    "dde3bd2f46da4f1183788c21ea80abf5": {
     "model_module": "@jupyter-widgets/controls",
     "model_module_version": "1.5.0",
     "model_name": "HTMLModel",
     "state": {
      "_dom_classes": [],
      "_model_module": "@jupyter-widgets/controls",
      "_model_module_version": "1.5.0",
      "_model_name": "HTMLModel",
      "_view_count": null,
      "_view_module": "@jupyter-widgets/controls",
      "_view_module_version": "1.5.0",
      "_view_name": "HTMLView",
      "description": "",
      "description_tooltip": null,
      "layout": "IPY_MODEL_863eabf44de94ebd9ed6ef6d48cc4357",
      "placeholder": "​",
      "style": "IPY_MODEL_8a077e755f8843f4b2d4409a916d3a61",
      "value": " 1/1 [00:01&lt;00:00,  1.85s/it]"
     }
    },
    "deca65e1a1584a41b052b4d6aa764a0e": {
     "model_module": "@jupyter-widgets/controls",
     "model_module_version": "1.5.0",
     "model_name": "DescriptionStyleModel",
     "state": {
      "_model_module": "@jupyter-widgets/controls",
      "_model_module_version": "1.5.0",
      "_model_name": "DescriptionStyleModel",
      "_view_count": null,
      "_view_module": "@jupyter-widgets/base",
      "_view_module_version": "1.2.0",
      "_view_name": "StyleView",
      "description_width": ""
     }
    },
    "e64286677f9a4630901362e7dc362204": {
     "model_module": "@jupyter-widgets/controls",
     "model_module_version": "1.5.0",
     "model_name": "HTMLModel",
     "state": {
      "_dom_classes": [],
      "_model_module": "@jupyter-widgets/controls",
      "_model_module_version": "1.5.0",
      "_model_name": "HTMLModel",
      "_view_count": null,
      "_view_module": "@jupyter-widgets/controls",
      "_view_module_version": "1.5.0",
      "_view_name": "HTMLView",
      "description": "",
      "description_tooltip": null,
      "layout": "IPY_MODEL_4b187fd0f1eb472aad77fca0f9a84bfb",
      "placeholder": "​",
      "style": "IPY_MODEL_d4aec014f0b64890b8601178d59ac9b9",
      "value": "Summarize dataset: 100%"
     }
    },
    "e7606e7973bb4a8f88e968f53fd58861": {
     "model_module": "@jupyter-widgets/base",
     "model_module_version": "1.2.0",
     "model_name": "LayoutModel",
     "state": {
      "_model_module": "@jupyter-widgets/base",
      "_model_module_version": "1.2.0",
      "_model_name": "LayoutModel",
      "_view_count": null,
      "_view_module": "@jupyter-widgets/base",
      "_view_module_version": "1.2.0",
      "_view_name": "LayoutView",
      "align_content": null,
      "align_items": null,
      "align_self": null,
      "border": null,
      "bottom": null,
      "display": null,
      "flex": null,
      "flex_flow": null,
      "grid_area": null,
      "grid_auto_columns": null,
      "grid_auto_flow": null,
      "grid_auto_rows": null,
      "grid_column": null,
      "grid_gap": null,
      "grid_row": null,
      "grid_template_areas": null,
      "grid_template_columns": null,
      "grid_template_rows": null,
      "height": null,
      "justify_content": null,
      "justify_items": null,
      "left": null,
      "margin": null,
      "max_height": null,
      "max_width": null,
      "min_height": null,
      "min_width": null,
      "object_fit": null,
      "object_position": null,
      "order": null,
      "overflow": null,
      "overflow_x": null,
      "overflow_y": null,
      "padding": null,
      "right": null,
      "top": null,
      "visibility": null,
      "width": null
     }
    },
    "f82e913e9f5048fc9c2a117f67ff9a9b": {
     "model_module": "@jupyter-widgets/controls",
     "model_module_version": "1.5.0",
     "model_name": "ProgressStyleModel",
     "state": {
      "_model_module": "@jupyter-widgets/controls",
      "_model_module_version": "1.5.0",
      "_model_name": "ProgressStyleModel",
      "_view_count": null,
      "_view_module": "@jupyter-widgets/base",
      "_view_module_version": "1.2.0",
      "_view_name": "StyleView",
      "bar_color": null,
      "description_width": ""
     }
    },
    "fe4b3f05f03d4978a946ccfb1449a799": {
     "model_module": "@jupyter-widgets/controls",
     "model_module_version": "1.5.0",
     "model_name": "FloatProgressModel",
     "state": {
      "_dom_classes": [],
      "_model_module": "@jupyter-widgets/controls",
      "_model_module_version": "1.5.0",
      "_model_name": "FloatProgressModel",
      "_view_count": null,
      "_view_module": "@jupyter-widgets/controls",
      "_view_module_version": "1.5.0",
      "_view_name": "ProgressView",
      "bar_style": "success",
      "description": "",
      "description_tooltip": null,
      "layout": "IPY_MODEL_0b54d1cec45f452a845a1e46995b7d2d",
      "max": 1,
      "min": 0,
      "orientation": "horizontal",
      "style": "IPY_MODEL_7be3282573f6444faa7228f5447b77c6",
      "value": 1
     }
    }
   }
  }
 },
 "nbformat": 4,
 "nbformat_minor": 1
}
